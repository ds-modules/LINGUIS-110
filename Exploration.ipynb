{
 "cells": [
  {
   "cell_type": "code",
   "execution_count": 1,
   "metadata": {},
   "outputs": [],
   "source": [
    "import pandas as pd\n",
    "%matplotlib inline\n",
    "import seaborn as sns"
   ]
  },
  {
   "cell_type": "markdown",
   "metadata": {},
   "source": [
    "### VOT Section"
   ]
  },
  {
   "cell_type": "code",
   "execution_count": 2,
   "metadata": {},
   "outputs": [
    {
     "data": {
      "text/html": [
       "<div>\n",
       "<table border=\"1\" class=\"dataframe\">\n",
       "  <thead>\n",
       "    <tr style=\"text-align: right;\">\n",
       "      <th></th>\n",
       "      <th>language</th>\n",
       "      <th>gender</th>\n",
       "      <th>height</th>\n",
       "      <th>closure</th>\n",
       "      <th>vot</th>\n",
       "      <th>pclo</th>\n",
       "      <th>tclo</th>\n",
       "      <th>kclo</th>\n",
       "      <th>pvot</th>\n",
       "      <th>tvot</th>\n",
       "      <th>kvot</th>\n",
       "    </tr>\n",
       "  </thead>\n",
       "  <tbody>\n",
       "    <tr>\n",
       "      <th>0</th>\n",
       "      <td>English</td>\n",
       "      <td>Female</td>\n",
       "      <td>162.50</td>\n",
       "      <td>0.022967</td>\n",
       "      <td>0.088828</td>\n",
       "      <td>0.022</td>\n",
       "      <td>0.0207</td>\n",
       "      <td>0.0262</td>\n",
       "      <td>0.086985</td>\n",
       "      <td>0.087877</td>\n",
       "      <td>0.091621</td>\n",
       "    </tr>\n",
       "    <tr>\n",
       "      <th>1</th>\n",
       "      <td>English</td>\n",
       "      <td>Male</td>\n",
       "      <td>177.00</td>\n",
       "      <td>0.050667</td>\n",
       "      <td>0.054667</td>\n",
       "      <td>0.081</td>\n",
       "      <td>0.0320</td>\n",
       "      <td>0.0390</td>\n",
       "      <td>0.072000</td>\n",
       "      <td>0.049000</td>\n",
       "      <td>0.043000</td>\n",
       "    </tr>\n",
       "    <tr>\n",
       "      <th>2</th>\n",
       "      <td>English</td>\n",
       "      <td>Female</td>\n",
       "      <td>170.18</td>\n",
       "      <td>0.070000</td>\n",
       "      <td>0.166667</td>\n",
       "      <td>0.070</td>\n",
       "      <td>0.0700</td>\n",
       "      <td>0.0700</td>\n",
       "      <td>0.150000</td>\n",
       "      <td>0.230000</td>\n",
       "      <td>0.120000</td>\n",
       "    </tr>\n",
       "    <tr>\n",
       "      <th>3</th>\n",
       "      <td>English</td>\n",
       "      <td>Male</td>\n",
       "      <td>178.00</td>\n",
       "      <td>0.039667</td>\n",
       "      <td>0.145667</td>\n",
       "      <td>0.034</td>\n",
       "      <td>0.0560</td>\n",
       "      <td>0.0290</td>\n",
       "      <td>0.170000</td>\n",
       "      <td>0.190000</td>\n",
       "      <td>0.077000</td>\n",
       "    </tr>\n",
       "    <tr>\n",
       "      <th>4</th>\n",
       "      <td>English</td>\n",
       "      <td>Female</td>\n",
       "      <td>177.80</td>\n",
       "      <td>0.100333</td>\n",
       "      <td>0.154000</td>\n",
       "      <td>0.144</td>\n",
       "      <td>0.0940</td>\n",
       "      <td>0.0630</td>\n",
       "      <td>0.132000</td>\n",
       "      <td>0.153000</td>\n",
       "      <td>0.177000</td>\n",
       "    </tr>\n",
       "  </tbody>\n",
       "</table>\n",
       "</div>"
      ],
      "text/plain": [
       "  language  gender  height   closure       vot   pclo    tclo    kclo  \\\n",
       "0  English  Female  162.50  0.022967  0.088828  0.022  0.0207  0.0262   \n",
       "1  English    Male  177.00  0.050667  0.054667  0.081  0.0320  0.0390   \n",
       "2  English  Female  170.18  0.070000  0.166667  0.070  0.0700  0.0700   \n",
       "3  English    Male  178.00  0.039667  0.145667  0.034  0.0560  0.0290   \n",
       "4  English  Female  177.80  0.100333  0.154000  0.144  0.0940  0.0630   \n",
       "\n",
       "       pvot      tvot      kvot  \n",
       "0  0.086985  0.087877  0.091621  \n",
       "1  0.072000  0.049000  0.043000  \n",
       "2  0.150000  0.230000  0.120000  \n",
       "3  0.170000  0.190000  0.077000  \n",
       "4  0.132000  0.153000  0.177000  "
      ]
     },
     "execution_count": 2,
     "metadata": {},
     "output_type": "execute_result"
    }
   ],
   "source": [
    "vot = pd.read_csv('data/vots.csv')\n",
    "vot.head()"
   ]
  },
  {
   "cell_type": "markdown",
   "metadata": {},
   "source": [
    "Types of plots:"
   ]
  },
  {
   "cell_type": "code",
   "execution_count": 3,
   "metadata": {},
   "outputs": [
    {
     "data": {
      "text/plain": [
       "<seaborn.axisgrid.FacetGrid at 0x114e505f8>"
      ]
     },
     "execution_count": 3,
     "metadata": {},
     "output_type": "execute_result"
    },
    {
     "data": {
      "image/png": "[encoded data removed]",
      "text/plain": [
       "<matplotlib.figure.Figure at 0x114e50d30>"
      ]
     },
     "metadata": {},
     "output_type": "display_data"
    }
   ],
   "source": [
    "sns.lmplot('pclo', 'tclo', data=vot, fit_reg=False, hue=\"gender\")"
   ]
  },
  {
   "cell_type": "code",
   "execution_count": 4,
   "metadata": {},
   "outputs": [
    {
     "data": {
      "text/plain": [
       "<matplotlib.axes._subplots.AxesSubplot at 0x114f6aa20>"
      ]
     },
     "execution_count": 4,
     "metadata": {},
     "output_type": "execute_result"
    },
    {
     "data": {
      "image/png": "[encoded data removed]",
      "text/plain": [
       "<matplotlib.figure.Figure at 0x114faf438>"
      ]
     },
     "metadata": {},
     "output_type": "display_data"
    }
   ],
   "source": [
    "sns.heatmap(vot.corr())"
   ]
  },
  {
   "cell_type": "code",
   "execution_count": 5,
   "metadata": {
    "scrolled": true
   },
   "outputs": [
    {
     "data": {
      "image/png": "[encoded data removed]",
      "text/plain": [
       "<matplotlib.figure.Figure at 0x11523da58>"
      ]
     },
     "metadata": {},
     "output_type": "display_data"
    },
    {
     "data": {
      "image/png": "[encoded data removed]",
      "text/plain": [
       "<matplotlib.figure.Figure at 0x114fc2160>"
      ]
     },
     "metadata": {},
     "output_type": "display_data"
    },
    {
     "data": {
      "image/png": "[encoded data removed]",
      "text/plain": [
       "<matplotlib.figure.Figure at 0x1152a02e8>"
      ]
     },
     "metadata": {},
     "output_type": "display_data"
    },
    {
     "data": {
      "image/png": "[encoded data removed]",
      "text/plain": [
       "<matplotlib.figure.Figure at 0x11529d3c8>"
      ]
     },
     "metadata": {},
     "output_type": "display_data"
    },
    {
     "data": {
      "image/png": "[encoded data removed]",
      "text/plain": [
       "<matplotlib.figure.Figure at 0x1155eeef0>"
      ]
     },
     "metadata": {},
     "output_type": "display_data"
    },
    {
     "data": {
      "image/png": "[encoded data removed]",
      "text/plain": [
       "<matplotlib.figure.Figure at 0x1155f30b8>"
      ]
     },
     "metadata": {},
     "output_type": "display_data"
    },
    {
     "data": {
      "image/png": "[encoded data removed]",
      "text/plain": [
       "<matplotlib.figure.Figure at 0x115669160>"
      ]
     },
     "metadata": {},
     "output_type": "display_data"
    },
    {
     "data": {
      "image/png": "[encoded data removed]",
      "text/plain": [
       "<matplotlib.figure.Figure at 0x1156c7080>"
      ]
     },
     "metadata": {},
     "output_type": "display_data"
    },
    {
     "data": {
      "image/png": "[encoded data removed]",
      "text/plain": [
       "<matplotlib.figure.Figure at 0x11584e898>"
      ]
     },
     "metadata": {},
     "output_type": "display_data"
    }
   ],
   "source": [
    "for column in vot.columns[2:]:\n",
    "    vot.hist(column)"
   ]
  },
  {
   "cell_type": "code",
   "execution_count": 6,
   "metadata": {},
   "outputs": [
    {
     "data": {
      "image/png": "[encoded data removed]",
      "text/plain": [
       "<matplotlib.figure.Figure at 0x116411b70>"
      ]
     },
     "metadata": {},
     "output_type": "display_data"
    }
   ],
   "source": [
    "maleTable = vot.loc[vot['gender'] == \"Male\"].hist(4)"
   ]
  },
  {
   "cell_type": "code",
   "execution_count": 7,
   "metadata": {},
   "outputs": [
    {
     "data": {
      "text/plain": [
       "array([[<matplotlib.axes._subplots.AxesSubplot object at 0x11666e160>]], dtype=object)"
      ]
     },
     "execution_count": 7,
     "metadata": {},
     "output_type": "execute_result"
    },
    {
     "data": {
      "image/png": "[encoded data removed]",
      "text/plain": [
       "<matplotlib.figure.Figure at 0x115a51588>"
      ]
     },
     "metadata": {},
     "output_type": "display_data"
    }
   ],
   "source": [
    "vot.loc[vot['gender'] == \"Female\"].hist(4)"
   ]
  },
  {
   "cell_type": "code",
   "execution_count": 8,
   "metadata": {},
   "outputs": [
    {
     "data": {
      "text/plain": [
       "<matplotlib.axes._subplots.AxesSubplot at 0x1161afb70>"
      ]
     },
     "execution_count": 8,
     "metadata": {},
     "output_type": "execute_result"
    },
    {
     "data": {
      "image/png": "[encoded data removed]",
      "text/plain": [
       "<matplotlib.figure.Figure at 0x116782748>"
      ]
     },
     "metadata": {},
     "output_type": "display_data"
    }
   ],
   "source": [
    "vot.plot.scatter(\"height\",  \"vot\")"
   ]
  },
  {
   "cell_type": "markdown",
   "metadata": {},
   "source": [
    "### Timit Section"
   ]
  },
  {
   "cell_type": "code",
   "execution_count": 9,
   "metadata": {},
   "outputs": [
    {
     "data": {
      "text/html": [
       "<div>\n",
       "<table border=\"1\" class=\"dataframe\">\n",
       "  <thead>\n",
       "    <tr style=\"text-align: right;\">\n",
       "      <th></th>\n",
       "      <th>speaker</th>\n",
       "      <th>gender</th>\n",
       "      <th>file</th>\n",
       "      <th>t</th>\n",
       "      <th>word</th>\n",
       "      <th>vowel</th>\n",
       "      <th>stress</th>\n",
       "      <th>duration</th>\n",
       "      <th>f1</th>\n",
       "      <th>f2</th>\n",
       "      <th>f3</th>\n",
       "      <th>f0</th>\n",
       "    </tr>\n",
       "  </thead>\n",
       "  <tbody>\n",
       "    <tr>\n",
       "      <th>0</th>\n",
       "      <td>fcjf0</td>\n",
       "      <td>female</td>\n",
       "      <td>sa1</td>\n",
       "      <td>0.3225</td>\n",
       "      <td>SHE</td>\n",
       "      <td>IY</td>\n",
       "      <td>1</td>\n",
       "      <td>0.08</td>\n",
       "      <td>486.2</td>\n",
       "      <td>2467.9</td>\n",
       "      <td>3185.1</td>\n",
       "      <td>244.9</td>\n",
       "    </tr>\n",
       "    <tr>\n",
       "      <th>1</th>\n",
       "      <td>fcjf0</td>\n",
       "      <td>female</td>\n",
       "      <td>sa1</td>\n",
       "      <td>0.5025</td>\n",
       "      <td>HAD</td>\n",
       "      <td>AE</td>\n",
       "      <td>1</td>\n",
       "      <td>0.10</td>\n",
       "      <td>595.1</td>\n",
       "      <td>2067.0</td>\n",
       "      <td>2976.7</td>\n",
       "      <td>241.6</td>\n",
       "    </tr>\n",
       "    <tr>\n",
       "      <th>2</th>\n",
       "      <td>fcjf0</td>\n",
       "      <td>female</td>\n",
       "      <td>sa1</td>\n",
       "      <td>0.6825</td>\n",
       "      <td>YOUR</td>\n",
       "      <td>UH</td>\n",
       "      <td>1</td>\n",
       "      <td>0.04</td>\n",
       "      <td>468.7</td>\n",
       "      <td>1956.1</td>\n",
       "      <td>3061.4</td>\n",
       "      <td>201.9</td>\n",
       "    </tr>\n",
       "    <tr>\n",
       "      <th>3</th>\n",
       "      <td>fcjf0</td>\n",
       "      <td>female</td>\n",
       "      <td>sa1</td>\n",
       "      <td>0.8525</td>\n",
       "      <td>DARK</td>\n",
       "      <td>AA</td>\n",
       "      <td>1</td>\n",
       "      <td>0.10</td>\n",
       "      <td>740.4</td>\n",
       "      <td>1674.1</td>\n",
       "      <td>2767.3</td>\n",
       "      <td>221.5</td>\n",
       "    </tr>\n",
       "    <tr>\n",
       "      <th>4</th>\n",
       "      <td>fcjf0</td>\n",
       "      <td>female</td>\n",
       "      <td>sa1</td>\n",
       "      <td>1.1975</td>\n",
       "      <td>SUIT</td>\n",
       "      <td>UW</td>\n",
       "      <td>1</td>\n",
       "      <td>0.17</td>\n",
       "      <td>464.0</td>\n",
       "      <td>1698.0</td>\n",
       "      <td>2904.9</td>\n",
       "      <td>232.6</td>\n",
       "    </tr>\n",
       "    <tr>\n",
       "      <th>5</th>\n",
       "      <td>fcjf0</td>\n",
       "      <td>female</td>\n",
       "      <td>sa1</td>\n",
       "      <td>1.3275</td>\n",
       "      <td>IN</td>\n",
       "      <td>AH</td>\n",
       "      <td>0</td>\n",
       "      <td>0.03</td>\n",
       "      <td>501.4</td>\n",
       "      <td>1929.1</td>\n",
       "      <td>2874.8</td>\n",
       "      <td>269.0</td>\n",
       "    </tr>\n",
       "    <tr>\n",
       "      <th>6</th>\n",
       "      <td>fcjf0</td>\n",
       "      <td>female</td>\n",
       "      <td>sa1</td>\n",
       "      <td>1.5525</td>\n",
       "      <td>GREASY</td>\n",
       "      <td>IY</td>\n",
       "      <td>1</td>\n",
       "      <td>0.04</td>\n",
       "      <td>431.5</td>\n",
       "      <td>2186.3</td>\n",
       "      <td>2858.7</td>\n",
       "      <td>207.8</td>\n",
       "    </tr>\n",
       "    <tr>\n",
       "      <th>7</th>\n",
       "      <td>fcjf0</td>\n",
       "      <td>female</td>\n",
       "      <td>sa1</td>\n",
       "      <td>1.7325</td>\n",
       "      <td>GREASY</td>\n",
       "      <td>IY</td>\n",
       "      <td>0</td>\n",
       "      <td>0.06</td>\n",
       "      <td>431.1</td>\n",
       "      <td>1368.3</td>\n",
       "      <td>2896.4</td>\n",
       "      <td>223.5</td>\n",
       "    </tr>\n",
       "    <tr>\n",
       "      <th>8</th>\n",
       "      <td>fcjf0</td>\n",
       "      <td>female</td>\n",
       "      <td>sa1</td>\n",
       "      <td>1.9175</td>\n",
       "      <td>WASH</td>\n",
       "      <td>AA</td>\n",
       "      <td>1</td>\n",
       "      <td>0.11</td>\n",
       "      <td>687.4</td>\n",
       "      <td>1309.6</td>\n",
       "      <td>2681.4</td>\n",
       "      <td>191.7</td>\n",
       "    </tr>\n",
       "    <tr>\n",
       "      <th>9</th>\n",
       "      <td>fcjf0</td>\n",
       "      <td>female</td>\n",
       "      <td>sa1</td>\n",
       "      <td>2.1775</td>\n",
       "      <td>WATER</td>\n",
       "      <td>AO</td>\n",
       "      <td>1</td>\n",
       "      <td>0.09</td>\n",
       "      <td>568.0</td>\n",
       "      <td>1105.9</td>\n",
       "      <td>2852.3</td>\n",
       "      <td>182.3</td>\n",
       "    </tr>\n",
       "    <tr>\n",
       "      <th>10</th>\n",
       "      <td>fcjf0</td>\n",
       "      <td>female</td>\n",
       "      <td>sa1</td>\n",
       "      <td>2.2925</td>\n",
       "      <td>WATER</td>\n",
       "      <td>ER</td>\n",
       "      <td>0</td>\n",
       "      <td>0.08</td>\n",
       "      <td>548.6</td>\n",
       "      <td>1430.6</td>\n",
       "      <td>2196.6</td>\n",
       "      <td>175.8</td>\n",
       "    </tr>\n",
       "    <tr>\n",
       "      <th>11</th>\n",
       "      <td>fcjf0</td>\n",
       "      <td>female</td>\n",
       "      <td>sa1</td>\n",
       "      <td>2.3675</td>\n",
       "      <td>ALL</td>\n",
       "      <td>AO</td>\n",
       "      <td>1</td>\n",
       "      <td>0.07</td>\n",
       "      <td>622.7</td>\n",
       "      <td>1170.0</td>\n",
       "      <td>2721.4</td>\n",
       "      <td>176.4</td>\n",
       "    </tr>\n",
       "    <tr>\n",
       "      <th>12</th>\n",
       "      <td>fcjf0</td>\n",
       "      <td>female</td>\n",
       "      <td>sa1</td>\n",
       "      <td>2.7075</td>\n",
       "      <td>YEAR</td>\n",
       "      <td>IH</td>\n",
       "      <td>1</td>\n",
       "      <td>0.03</td>\n",
       "      <td>513.5</td>\n",
       "      <td>1955.0</td>\n",
       "      <td>2451.2</td>\n",
       "      <td>165.0</td>\n",
       "    </tr>\n",
       "    <tr>\n",
       "      <th>13</th>\n",
       "      <td>fcjf0</td>\n",
       "      <td>female</td>\n",
       "      <td>sa2</td>\n",
       "      <td>0.2075</td>\n",
       "      <td>DON'T</td>\n",
       "      <td>OW</td>\n",
       "      <td>1</td>\n",
       "      <td>0.07</td>\n",
       "      <td>683.8</td>\n",
       "      <td>1682.7</td>\n",
       "      <td>2894.6</td>\n",
       "      <td>208.5</td>\n",
       "    </tr>\n",
       "    <tr>\n",
       "      <th>14</th>\n",
       "      <td>fcjf0</td>\n",
       "      <td>female</td>\n",
       "      <td>sa2</td>\n",
       "      <td>0.3525</td>\n",
       "      <td>ASK</td>\n",
       "      <td>AE</td>\n",
       "      <td>1</td>\n",
       "      <td>0.10</td>\n",
       "      <td>746.6</td>\n",
       "      <td>1927.7</td>\n",
       "      <td>3058.6</td>\n",
       "      <td>231.8</td>\n",
       "    </tr>\n",
       "    <tr>\n",
       "      <th>15</th>\n",
       "      <td>fcjf0</td>\n",
       "      <td>female</td>\n",
       "      <td>sa2</td>\n",
       "      <td>0.5775</td>\n",
       "      <td>ME</td>\n",
       "      <td>IY</td>\n",
       "      <td>1</td>\n",
       "      <td>0.03</td>\n",
       "      <td>593.1</td>\n",
       "      <td>1908.7</td>\n",
       "      <td>2971.8</td>\n",
       "      <td>230.4</td>\n",
       "    </tr>\n",
       "    <tr>\n",
       "      <th>16</th>\n",
       "      <td>fcjf0</td>\n",
       "      <td>female</td>\n",
       "      <td>sa2</td>\n",
       "      <td>0.6525</td>\n",
       "      <td>TO</td>\n",
       "      <td>IH</td>\n",
       "      <td>0</td>\n",
       "      <td>0.04</td>\n",
       "      <td>410.6</td>\n",
       "      <td>2340.8</td>\n",
       "      <td>2963.6</td>\n",
       "      <td>207.4</td>\n",
       "    </tr>\n",
       "    <tr>\n",
       "      <th>17</th>\n",
       "      <td>fcjf0</td>\n",
       "      <td>female</td>\n",
       "      <td>sa2</td>\n",
       "      <td>0.8225</td>\n",
       "      <td>CARRY</td>\n",
       "      <td>AE</td>\n",
       "      <td>1</td>\n",
       "      <td>0.08</td>\n",
       "      <td>651.8</td>\n",
       "      <td>1874.7</td>\n",
       "      <td>2420.6</td>\n",
       "      <td>214.1</td>\n",
       "    </tr>\n",
       "    <tr>\n",
       "      <th>18</th>\n",
       "      <td>fcjf0</td>\n",
       "      <td>female</td>\n",
       "      <td>sa2</td>\n",
       "      <td>0.9375</td>\n",
       "      <td>CARRY</td>\n",
       "      <td>IY</td>\n",
       "      <td>0</td>\n",
       "      <td>0.03</td>\n",
       "      <td>559.1</td>\n",
       "      <td>2041.9</td>\n",
       "      <td>2632.7</td>\n",
       "      <td>200.7</td>\n",
       "    </tr>\n",
       "    <tr>\n",
       "      <th>19</th>\n",
       "      <td>fcjf0</td>\n",
       "      <td>female</td>\n",
       "      <td>sa2</td>\n",
       "      <td>0.9675</td>\n",
       "      <td>AN</td>\n",
       "      <td>AH</td>\n",
       "      <td>0</td>\n",
       "      <td>0.03</td>\n",
       "      <td>556.1</td>\n",
       "      <td>1990.3</td>\n",
       "      <td>2856.5</td>\n",
       "      <td>192.9</td>\n",
       "    </tr>\n",
       "  </tbody>\n",
       "</table>\n",
       "</div>"
      ],
      "text/plain": [
       "   speaker  gender file       t    word vowel  stress  duration     f1  \\\n",
       "0    fcjf0  female  sa1  0.3225     SHE    IY       1      0.08  486.2   \n",
       "1    fcjf0  female  sa1  0.5025     HAD    AE       1      0.10  595.1   \n",
       "2    fcjf0  female  sa1  0.6825    YOUR    UH       1      0.04  468.7   \n",
       "3    fcjf0  female  sa1  0.8525    DARK    AA       1      0.10  740.4   \n",
       "4    fcjf0  female  sa1  1.1975    SUIT    UW       1      0.17  464.0   \n",
       "5    fcjf0  female  sa1  1.3275      IN    AH       0      0.03  501.4   \n",
       "6    fcjf0  female  sa1  1.5525  GREASY    IY       1      0.04  431.5   \n",
       "7    fcjf0  female  sa1  1.7325  GREASY    IY       0      0.06  431.1   \n",
       "8    fcjf0  female  sa1  1.9175    WASH    AA       1      0.11  687.4   \n",
       "9    fcjf0  female  sa1  2.1775   WATER    AO       1      0.09  568.0   \n",
       "10   fcjf0  female  sa1  2.2925   WATER    ER       0      0.08  548.6   \n",
       "11   fcjf0  female  sa1  2.3675     ALL    AO       1      0.07  622.7   \n",
       "12   fcjf0  female  sa1  2.7075    YEAR    IH       1      0.03  513.5   \n",
       "13   fcjf0  female  sa2  0.2075   DON'T    OW       1      0.07  683.8   \n",
       "14   fcjf0  female  sa2  0.3525     ASK    AE       1      0.10  746.6   \n",
       "15   fcjf0  female  sa2  0.5775      ME    IY       1      0.03  593.1   \n",
       "16   fcjf0  female  sa2  0.6525      TO    IH       0      0.04  410.6   \n",
       "17   fcjf0  female  sa2  0.8225   CARRY    AE       1      0.08  651.8   \n",
       "18   fcjf0  female  sa2  0.9375   CARRY    IY       0      0.03  559.1   \n",
       "19   fcjf0  female  sa2  0.9675      AN    AH       0      0.03  556.1   \n",
       "\n",
       "        f2      f3     f0  \n",
       "0   2467.9  3185.1  244.9  \n",
       "1   2067.0  2976.7  241.6  \n",
       "2   1956.1  3061.4  201.9  \n",
       "3   1674.1  2767.3  221.5  \n",
       "4   1698.0  2904.9  232.6  \n",
       "5   1929.1  2874.8  269.0  \n",
       "6   2186.3  2858.7  207.8  \n",
       "7   1368.3  2896.4  223.5  \n",
       "8   1309.6  2681.4  191.7  \n",
       "9   1105.9  2852.3  182.3  \n",
       "10  1430.6  2196.6  175.8  \n",
       "11  1170.0  2721.4  176.4  \n",
       "12  1955.0  2451.2  165.0  \n",
       "13  1682.7  2894.6  208.5  \n",
       "14  1927.7  3058.6  231.8  \n",
       "15  1908.7  2971.8  230.4  \n",
       "16  2340.8  2963.6  207.4  \n",
       "17  1874.7  2420.6  214.1  \n",
       "18  2041.9  2632.7  200.7  \n",
       "19  1990.3  2856.5  192.9  "
      ]
     },
     "execution_count": 9,
     "metadata": {},
     "output_type": "execute_result"
    }
   ],
   "source": [
    "files = ['data/vowel_midpoints_dr' + str(ind) + '.txt' for ind in range(1,9)]\n",
    "timit = pd.concat([pd.read_csv(file, sep='\\t') for file in files]).reset_index(drop=True)\n",
    "timit.head(20)"
   ]
  },
  {
   "cell_type": "code",
   "execution_count": 10,
   "metadata": {},
   "outputs": [
    {
     "data": {
      "text/plain": [
       "<matplotlib.axes._subplots.AxesSubplot at 0x116407320>"
      ]
     },
     "execution_count": 10,
     "metadata": {},
     "output_type": "execute_result"
    },
    {
     "data": {
      "image/png": "[encoded data removed]",
      "text/plain": [
       "<matplotlib.figure.Figure at 0x11678cb70>"
      ]
     },
     "metadata": {},
     "output_type": "display_data"
    }
   ],
   "source": [
    "sns.distplot(timit['f3'])"
   ]
  },
  {
   "cell_type": "code",
   "execution_count": 11,
   "metadata": {},
   "outputs": [
    {
     "data": {
      "text/plain": [
       "array([<matplotlib.axes._subplots.AxesSubplot object at 0x11567bb70>,\n",
       "       <matplotlib.axes._subplots.AxesSubplot object at 0x1155a4e10>], dtype=object)"
      ]
     },
     "execution_count": 11,
     "metadata": {},
     "output_type": "execute_result"
    },
    {
     "data": {
      "image/png": "[encoded data removed]",
      "text/plain": [
       "<matplotlib.figure.Figure at 0x115f39b38>"
      ]
     },
     "metadata": {},
     "output_type": "display_data"
    }
   ],
   "source": [
    "timit['f3'].hist(by=timit['gender'])"
   ]
  },
  {
   "cell_type": "code",
   "execution_count": 12,
   "metadata": {},
   "outputs": [
    {
     "data": {
      "image/png": "[encoded data removed]",
      "text/plain": [
       "<matplotlib.figure.Figure at 0x1158b3278>"
      ]
     },
     "metadata": {},
     "output_type": "display_data"
    }
   ],
   "source": [
    "import datascience as ds\n",
    "\n",
    "table = ds.Table.from_df(timit)\n",
    "table.select(['f3', 'gender']).hist(group='gender', bins=range(1300, 4400, 100))"
   ]
  },
  {
   "cell_type": "code",
   "execution_count": 13,
   "metadata": {},
   "outputs": [
    {
     "data": {
      "image/png": "[encoded data removed]",
      "text/plain": [
       "<matplotlib.figure.Figure at 0x11568a320>"
      ]
     },
     "metadata": {},
     "output_type": "display_data"
    }
   ],
   "source": [
    "table.select(['f0', 'gender']).hist(group='gender', bins=range(0, 550, 10))"
   ]
  },
  {
   "cell_type": "code",
   "execution_count": 14,
   "metadata": {},
   "outputs": [
    {
     "data": {
      "text/html": [
       "<div>\n",
       "<table border=\"1\" class=\"dataframe\">\n",
       "  <thead>\n",
       "    <tr style=\"text-align: right;\">\n",
       "      <th></th>\n",
       "      <th>speaker</th>\n",
       "      <th>gender</th>\n",
       "      <th>file</th>\n",
       "      <th>t</th>\n",
       "      <th>word</th>\n",
       "      <th>stress</th>\n",
       "      <th>duration</th>\n",
       "      <th>f1</th>\n",
       "      <th>f2</th>\n",
       "      <th>f3</th>\n",
       "      <th>f0</th>\n",
       "    </tr>\n",
       "    <tr>\n",
       "      <th>vowel</th>\n",
       "      <th></th>\n",
       "      <th></th>\n",
       "      <th></th>\n",
       "      <th></th>\n",
       "      <th></th>\n",
       "      <th></th>\n",
       "      <th></th>\n",
       "      <th></th>\n",
       "      <th></th>\n",
       "      <th></th>\n",
       "      <th></th>\n",
       "    </tr>\n",
       "  </thead>\n",
       "  <tbody>\n",
       "    <tr>\n",
       "      <th>AA</th>\n",
       "      <td>3281</td>\n",
       "      <td>3281</td>\n",
       "      <td>3281</td>\n",
       "      <td>3281</td>\n",
       "      <td>3281</td>\n",
       "      <td>3281</td>\n",
       "      <td>3281</td>\n",
       "      <td>3281</td>\n",
       "      <td>3281</td>\n",
       "      <td>3281</td>\n",
       "      <td>3281</td>\n",
       "    </tr>\n",
       "    <tr>\n",
       "      <th>AE</th>\n",
       "      <td>5247</td>\n",
       "      <td>5247</td>\n",
       "      <td>5247</td>\n",
       "      <td>5247</td>\n",
       "      <td>5247</td>\n",
       "      <td>5247</td>\n",
       "      <td>5247</td>\n",
       "      <td>5247</td>\n",
       "      <td>5247</td>\n",
       "      <td>5247</td>\n",
       "      <td>5247</td>\n",
       "    </tr>\n",
       "    <tr>\n",
       "      <th>AH</th>\n",
       "      <td>13569</td>\n",
       "      <td>13569</td>\n",
       "      <td>13569</td>\n",
       "      <td>13569</td>\n",
       "      <td>13569</td>\n",
       "      <td>13569</td>\n",
       "      <td>13569</td>\n",
       "      <td>13569</td>\n",
       "      <td>13569</td>\n",
       "      <td>13569</td>\n",
       "      <td>13569</td>\n",
       "    </tr>\n",
       "    <tr>\n",
       "      <th>AO</th>\n",
       "      <td>2590</td>\n",
       "      <td>2590</td>\n",
       "      <td>2590</td>\n",
       "      <td>2590</td>\n",
       "      <td>2590</td>\n",
       "      <td>2590</td>\n",
       "      <td>2590</td>\n",
       "      <td>2590</td>\n",
       "      <td>2590</td>\n",
       "      <td>2590</td>\n",
       "      <td>2590</td>\n",
       "    </tr>\n",
       "    <tr>\n",
       "      <th>AW</th>\n",
       "      <td>744</td>\n",
       "      <td>744</td>\n",
       "      <td>744</td>\n",
       "      <td>744</td>\n",
       "      <td>744</td>\n",
       "      <td>744</td>\n",
       "      <td>744</td>\n",
       "      <td>744</td>\n",
       "      <td>744</td>\n",
       "      <td>744</td>\n",
       "      <td>744</td>\n",
       "    </tr>\n",
       "    <tr>\n",
       "      <th>AY</th>\n",
       "      <td>2474</td>\n",
       "      <td>2474</td>\n",
       "      <td>2474</td>\n",
       "      <td>2474</td>\n",
       "      <td>2474</td>\n",
       "      <td>2474</td>\n",
       "      <td>2474</td>\n",
       "      <td>2474</td>\n",
       "      <td>2474</td>\n",
       "      <td>2474</td>\n",
       "      <td>2474</td>\n",
       "    </tr>\n",
       "    <tr>\n",
       "      <th>EH</th>\n",
       "      <td>3015</td>\n",
       "      <td>3015</td>\n",
       "      <td>3015</td>\n",
       "      <td>3015</td>\n",
       "      <td>3015</td>\n",
       "      <td>3015</td>\n",
       "      <td>3015</td>\n",
       "      <td>3015</td>\n",
       "      <td>3015</td>\n",
       "      <td>3015</td>\n",
       "      <td>3015</td>\n",
       "    </tr>\n",
       "    <tr>\n",
       "      <th>ER</th>\n",
       "      <td>4007</td>\n",
       "      <td>4007</td>\n",
       "      <td>4007</td>\n",
       "      <td>4007</td>\n",
       "      <td>4007</td>\n",
       "      <td>4007</td>\n",
       "      <td>4007</td>\n",
       "      <td>4007</td>\n",
       "      <td>4007</td>\n",
       "      <td>4007</td>\n",
       "      <td>4007</td>\n",
       "    </tr>\n",
       "    <tr>\n",
       "      <th>EY</th>\n",
       "      <td>2239</td>\n",
       "      <td>2239</td>\n",
       "      <td>2239</td>\n",
       "      <td>2239</td>\n",
       "      <td>2239</td>\n",
       "      <td>2239</td>\n",
       "      <td>2239</td>\n",
       "      <td>2239</td>\n",
       "      <td>2239</td>\n",
       "      <td>2239</td>\n",
       "      <td>2239</td>\n",
       "    </tr>\n",
       "    <tr>\n",
       "      <th>IH</th>\n",
       "      <td>6922</td>\n",
       "      <td>6922</td>\n",
       "      <td>6922</td>\n",
       "      <td>6922</td>\n",
       "      <td>6922</td>\n",
       "      <td>6922</td>\n",
       "      <td>6922</td>\n",
       "      <td>6922</td>\n",
       "      <td>6922</td>\n",
       "      <td>6922</td>\n",
       "      <td>6922</td>\n",
       "    </tr>\n",
       "    <tr>\n",
       "      <th>IY</th>\n",
       "      <td>7537</td>\n",
       "      <td>7537</td>\n",
       "      <td>7537</td>\n",
       "      <td>7537</td>\n",
       "      <td>7537</td>\n",
       "      <td>7537</td>\n",
       "      <td>7537</td>\n",
       "      <td>7537</td>\n",
       "      <td>7537</td>\n",
       "      <td>7537</td>\n",
       "      <td>7537</td>\n",
       "    </tr>\n",
       "    <tr>\n",
       "      <th>OW</th>\n",
       "      <td>2135</td>\n",
       "      <td>2135</td>\n",
       "      <td>2135</td>\n",
       "      <td>2135</td>\n",
       "      <td>2135</td>\n",
       "      <td>2135</td>\n",
       "      <td>2135</td>\n",
       "      <td>2135</td>\n",
       "      <td>2135</td>\n",
       "      <td>2135</td>\n",
       "      <td>2135</td>\n",
       "    </tr>\n",
       "    <tr>\n",
       "      <th>OY</th>\n",
       "      <td>759</td>\n",
       "      <td>759</td>\n",
       "      <td>759</td>\n",
       "      <td>759</td>\n",
       "      <td>759</td>\n",
       "      <td>759</td>\n",
       "      <td>759</td>\n",
       "      <td>759</td>\n",
       "      <td>759</td>\n",
       "      <td>759</td>\n",
       "      <td>759</td>\n",
       "    </tr>\n",
       "    <tr>\n",
       "      <th>UH</th>\n",
       "      <td>1077</td>\n",
       "      <td>1077</td>\n",
       "      <td>1077</td>\n",
       "      <td>1077</td>\n",
       "      <td>1077</td>\n",
       "      <td>1077</td>\n",
       "      <td>1077</td>\n",
       "      <td>1077</td>\n",
       "      <td>1077</td>\n",
       "      <td>1077</td>\n",
       "      <td>1077</td>\n",
       "    </tr>\n",
       "    <tr>\n",
       "      <th>UW</th>\n",
       "      <td>2470</td>\n",
       "      <td>2470</td>\n",
       "      <td>2470</td>\n",
       "      <td>2470</td>\n",
       "      <td>2470</td>\n",
       "      <td>2470</td>\n",
       "      <td>2470</td>\n",
       "      <td>2470</td>\n",
       "      <td>2470</td>\n",
       "      <td>2470</td>\n",
       "      <td>2470</td>\n",
       "    </tr>\n",
       "  </tbody>\n",
       "</table>\n",
       "</div>"
      ],
      "text/plain": [
       "       speaker  gender   file      t   word  stress  duration     f1     f2  \\\n",
       "vowel                                                                         \n",
       "AA        3281    3281   3281   3281   3281    3281      3281   3281   3281   \n",
       "AE        5247    5247   5247   5247   5247    5247      5247   5247   5247   \n",
       "AH       13569   13569  13569  13569  13569   13569     13569  13569  13569   \n",
       "AO        2590    2590   2590   2590   2590    2590      2590   2590   2590   \n",
       "AW         744     744    744    744    744     744       744    744    744   \n",
       "AY        2474    2474   2474   2474   2474    2474      2474   2474   2474   \n",
       "EH        3015    3015   3015   3015   3015    3015      3015   3015   3015   \n",
       "ER        4007    4007   4007   4007   4007    4007      4007   4007   4007   \n",
       "EY        2239    2239   2239   2239   2239    2239      2239   2239   2239   \n",
       "IH        6922    6922   6922   6922   6922    6922      6922   6922   6922   \n",
       "IY        7537    7537   7537   7537   7537    7537      7537   7537   7537   \n",
       "OW        2135    2135   2135   2135   2135    2135      2135   2135   2135   \n",
       "OY         759     759    759    759    759     759       759    759    759   \n",
       "UH        1077    1077   1077   1077   1077    1077      1077   1077   1077   \n",
       "UW        2470    2470   2470   2470   2470    2470      2470   2470   2470   \n",
       "\n",
       "          f3     f0  \n",
       "vowel                \n",
       "AA      3281   3281  \n",
       "AE      5247   5247  \n",
       "AH     13569  13569  \n",
       "AO      2590   2590  \n",
       "AW       744    744  \n",
       "AY      2474   2474  \n",
       "EH      3015   3015  \n",
       "ER      4007   4007  \n",
       "EY      2239   2239  \n",
       "IH      6922   6922  \n",
       "IY      7537   7537  \n",
       "OW      2135   2135  \n",
       "OY       759    759  \n",
       "UH      1077   1077  \n",
       "UW      2470   2470  "
      ]
     },
     "execution_count": 14,
     "metadata": {},
     "output_type": "execute_result"
    }
   ],
   "source": [
    "# the above can be futher broken down by each vowel sound\n",
    "timit.groupby('vowel').count()"
   ]
  },
  {
   "cell_type": "code",
   "execution_count": 15,
   "metadata": {},
   "outputs": [
    {
     "data": {
      "text/html": [
       "<div>\n",
       "<table border=\"1\" class=\"dataframe\">\n",
       "  <thead>\n",
       "    <tr style=\"text-align: right;\">\n",
       "      <th></th>\n",
       "      <th>speaker</th>\n",
       "      <th>gender</th>\n",
       "      <th>file</th>\n",
       "      <th>t</th>\n",
       "      <th>vowel</th>\n",
       "      <th>stress</th>\n",
       "      <th>duration</th>\n",
       "      <th>f1</th>\n",
       "      <th>f2</th>\n",
       "      <th>f3</th>\n",
       "      <th>f0</th>\n",
       "    </tr>\n",
       "    <tr>\n",
       "      <th>word</th>\n",
       "      <th></th>\n",
       "      <th></th>\n",
       "      <th></th>\n",
       "      <th></th>\n",
       "      <th></th>\n",
       "      <th></th>\n",
       "      <th></th>\n",
       "      <th></th>\n",
       "      <th></th>\n",
       "      <th></th>\n",
       "      <th></th>\n",
       "    </tr>\n",
       "  </thead>\n",
       "  <tbody>\n",
       "    <tr>\n",
       "      <th>A</th>\n",
       "      <td>859</td>\n",
       "      <td>859</td>\n",
       "      <td>859</td>\n",
       "      <td>859</td>\n",
       "      <td>859</td>\n",
       "      <td>859</td>\n",
       "      <td>859</td>\n",
       "      <td>859</td>\n",
       "      <td>859</td>\n",
       "      <td>859</td>\n",
       "      <td>859</td>\n",
       "    </tr>\n",
       "    <tr>\n",
       "      <th>ABBREVIATE</th>\n",
       "      <td>28</td>\n",
       "      <td>28</td>\n",
       "      <td>28</td>\n",
       "      <td>28</td>\n",
       "      <td>28</td>\n",
       "      <td>28</td>\n",
       "      <td>28</td>\n",
       "      <td>28</td>\n",
       "      <td>28</td>\n",
       "      <td>28</td>\n",
       "      <td>28</td>\n",
       "    </tr>\n",
       "    <tr>\n",
       "      <th>ABIDES</th>\n",
       "      <td>2</td>\n",
       "      <td>2</td>\n",
       "      <td>2</td>\n",
       "      <td>2</td>\n",
       "      <td>2</td>\n",
       "      <td>2</td>\n",
       "      <td>2</td>\n",
       "      <td>2</td>\n",
       "      <td>2</td>\n",
       "      <td>2</td>\n",
       "      <td>2</td>\n",
       "    </tr>\n",
       "    <tr>\n",
       "      <th>ABILITY</th>\n",
       "      <td>8</td>\n",
       "      <td>8</td>\n",
       "      <td>8</td>\n",
       "      <td>8</td>\n",
       "      <td>8</td>\n",
       "      <td>8</td>\n",
       "      <td>8</td>\n",
       "      <td>8</td>\n",
       "      <td>8</td>\n",
       "      <td>8</td>\n",
       "      <td>8</td>\n",
       "    </tr>\n",
       "    <tr>\n",
       "      <th>ABLE</th>\n",
       "      <td>6</td>\n",
       "      <td>6</td>\n",
       "      <td>6</td>\n",
       "      <td>6</td>\n",
       "      <td>6</td>\n",
       "      <td>6</td>\n",
       "      <td>6</td>\n",
       "      <td>6</td>\n",
       "      <td>6</td>\n",
       "      <td>6</td>\n",
       "      <td>6</td>\n",
       "    </tr>\n",
       "  </tbody>\n",
       "</table>\n",
       "</div>"
      ],
      "text/plain": [
       "            speaker  gender  file    t  vowel  stress  duration   f1   f2  \\\n",
       "word                                                                        \n",
       "A               859     859   859  859    859     859       859  859  859   \n",
       "ABBREVIATE       28      28    28   28     28      28        28   28   28   \n",
       "ABIDES            2       2     2    2      2       2         2    2    2   \n",
       "ABILITY           8       8     8    8      8       8         8    8    8   \n",
       "ABLE              6       6     6    6      6       6         6    6    6   \n",
       "\n",
       "             f3   f0  \n",
       "word                  \n",
       "A           859  859  \n",
       "ABBREVIATE   28   28  \n",
       "ABIDES        2    2  \n",
       "ABILITY       8    8  \n",
       "ABLE          6    6  "
      ]
     },
     "execution_count": 15,
     "metadata": {},
     "output_type": "execute_result"
    }
   ],
   "source": [
    "timit.groupby('word').count().head()"
   ]
  },
  {
   "cell_type": "code",
   "execution_count": 16,
   "metadata": {
    "collapsed": true
   },
   "outputs": [],
   "source": [
    "# TODO: a speaking profile for one individual (focus on corner vowels)"
   ]
  }
 ],
 "metadata": {
  "anaconda-cloud": {},
  "kernelspec": {
   "display_name": "Python [Root]",
   "language": "python",
   "name": "Python [Root]"
  },
  "language_info": {
   "codemirror_mode": {
    "name": "ipython",
    "version": 3
   },
   "file_extension": ".py",
   "mimetype": "text/x-python",
   "name": "python",
   "nbconvert_exporter": "python",
   "pygments_lexer": "ipython3",
   "version": "3.5.2"
  }
 },
 "nbformat": 4,
 "nbformat_minor": 1
}
