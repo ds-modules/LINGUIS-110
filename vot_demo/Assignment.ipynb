{
 "cells": [
  {
   "cell_type": "code",
   "execution_count": 85,
   "metadata": {
    "collapsed": true
   },
   "outputs": [],
   "source": [
    "# imports -- just run this cell\n",
    "import scipy\n",
    "import numpy as np\n",
    "import pandas as pd\n",
    "import seaborn as sns\n",
    "from scipy.stats import mode\n",
    "import matplotlib.pyplot as plt\n",
    "%matplotlib inline\n",
    "\n",
    "import warnings\n",
    "warnings.filterwarnings('ignore')"
   ]
  },
  {
   "cell_type": "markdown",
   "metadata": {},
   "source": [
    "# Closure and Voice-Onset Time\n",
    "\n",
    "In this notebook, we will be exploring the relations between the data the class submit, your data, and the data of a past class. "
   ]
  },
  {
   "cell_type": "markdown",
   "metadata": {},
   "source": [
    "## 1. Explore your own data\n",
    "We will start by familiarizing ourselves with the data.\n",
    "\n",
    "To visualize the data, we need to load the file first. In the line where we we assign `file_name` to equal the name of our dataset, which is a compilation of the results from the homework you completed last week.\n",
    "\n",
    "Note that we have `data/` in front of the file name, which means that are file `example_data.csv` is in the `data` directory (folder)."
   ]
  },
  {
   "cell_type": "code",
   "execution_count": 67,
   "metadata": {},
   "outputs": [
    {
     "data": {
      "text/html": [
       "<div>\n",
       "<table border=\"1\" class=\"dataframe\">\n",
       "  <thead>\n",
       "    <tr style=\"text-align: right;\">\n",
       "      <th></th>\n",
       "      <th>language</th>\n",
       "      <th>height</th>\n",
       "      <th>pclo</th>\n",
       "      <th>tclo</th>\n",
       "      <th>kclo</th>\n",
       "      <th>pvot</th>\n",
       "      <th>tvot</th>\n",
       "      <th>kvot</th>\n",
       "      <th>bclo</th>\n",
       "      <th>dclo</th>\n",
       "      <th>gclo</th>\n",
       "      <th>bvot</th>\n",
       "      <th>dvot</th>\n",
       "      <th>gvot</th>\n",
       "    </tr>\n",
       "  </thead>\n",
       "  <tbody>\n",
       "    <tr>\n",
       "      <th>0</th>\n",
       "      <td>English</td>\n",
       "      <td>162.50</td>\n",
       "      <td>0.022</td>\n",
       "      <td>0.0207</td>\n",
       "      <td>0.0262</td>\n",
       "      <td>0.086985</td>\n",
       "      <td>0.087877</td>\n",
       "      <td>0.091621</td>\n",
       "      <td>-0.078</td>\n",
       "      <td>-0.0793</td>\n",
       "      <td>-0.0738</td>\n",
       "      <td>-0.013015</td>\n",
       "      <td>-0.012123</td>\n",
       "      <td>-0.008379</td>\n",
       "    </tr>\n",
       "    <tr>\n",
       "      <th>1</th>\n",
       "      <td>English</td>\n",
       "      <td>177.00</td>\n",
       "      <td>0.081</td>\n",
       "      <td>0.0320</td>\n",
       "      <td>0.0390</td>\n",
       "      <td>0.072000</td>\n",
       "      <td>0.049000</td>\n",
       "      <td>0.043000</td>\n",
       "      <td>-0.019</td>\n",
       "      <td>-0.0680</td>\n",
       "      <td>-0.0610</td>\n",
       "      <td>-0.028000</td>\n",
       "      <td>-0.051000</td>\n",
       "      <td>-0.057000</td>\n",
       "    </tr>\n",
       "    <tr>\n",
       "      <th>2</th>\n",
       "      <td>English</td>\n",
       "      <td>170.18</td>\n",
       "      <td>0.070</td>\n",
       "      <td>0.0700</td>\n",
       "      <td>0.0700</td>\n",
       "      <td>0.150000</td>\n",
       "      <td>0.230000</td>\n",
       "      <td>0.120000</td>\n",
       "      <td>-0.030</td>\n",
       "      <td>-0.0300</td>\n",
       "      <td>-0.0300</td>\n",
       "      <td>0.050000</td>\n",
       "      <td>0.130000</td>\n",
       "      <td>0.020000</td>\n",
       "    </tr>\n",
       "    <tr>\n",
       "      <th>3</th>\n",
       "      <td>English</td>\n",
       "      <td>178.00</td>\n",
       "      <td>0.034</td>\n",
       "      <td>0.0560</td>\n",
       "      <td>0.0290</td>\n",
       "      <td>0.170000</td>\n",
       "      <td>0.190000</td>\n",
       "      <td>0.077000</td>\n",
       "      <td>-0.066</td>\n",
       "      <td>-0.0440</td>\n",
       "      <td>-0.0710</td>\n",
       "      <td>0.070000</td>\n",
       "      <td>0.090000</td>\n",
       "      <td>-0.023000</td>\n",
       "    </tr>\n",
       "    <tr>\n",
       "      <th>4</th>\n",
       "      <td>English</td>\n",
       "      <td>177.80</td>\n",
       "      <td>0.144</td>\n",
       "      <td>0.0940</td>\n",
       "      <td>0.0630</td>\n",
       "      <td>0.132000</td>\n",
       "      <td>0.153000</td>\n",
       "      <td>0.177000</td>\n",
       "      <td>0.044</td>\n",
       "      <td>-0.0060</td>\n",
       "      <td>-0.0370</td>\n",
       "      <td>0.032000</td>\n",
       "      <td>0.053000</td>\n",
       "      <td>0.077000</td>\n",
       "    </tr>\n",
       "  </tbody>\n",
       "</table>\n",
       "</div>"
      ],
      "text/plain": [
       "  language  height   pclo    tclo    kclo      pvot      tvot      kvot  \\\n",
       "0  English  162.50  0.022  0.0207  0.0262  0.086985  0.087877  0.091621   \n",
       "1  English  177.00  0.081  0.0320  0.0390  0.072000  0.049000  0.043000   \n",
       "2  English  170.18  0.070  0.0700  0.0700  0.150000  0.230000  0.120000   \n",
       "3  English  178.00  0.034  0.0560  0.0290  0.170000  0.190000  0.077000   \n",
       "4  English  177.80  0.144  0.0940  0.0630  0.132000  0.153000  0.177000   \n",
       "\n",
       "    bclo    dclo    gclo      bvot      dvot      gvot  \n",
       "0 -0.078 -0.0793 -0.0738 -0.013015 -0.012123 -0.008379  \n",
       "1 -0.019 -0.0680 -0.0610 -0.028000 -0.051000 -0.057000  \n",
       "2 -0.030 -0.0300 -0.0300  0.050000  0.130000  0.020000  \n",
       "3 -0.066 -0.0440 -0.0710  0.070000  0.090000 -0.023000  \n",
       "4  0.044 -0.0060 -0.0370  0.032000  0.053000  0.077000  "
      ]
     },
     "execution_count": 67,
     "metadata": {},
     "output_type": "execute_result"
    }
   ],
   "source": [
    "file_name = 'data/example_data.csv'\n",
    "data = pd.read_csv(file_name)\n",
    "data.head()"
   ]
  },
  {
   "cell_type": "markdown",
   "metadata": {},
   "source": [
    "### Adding features from our data"
   ]
  },
  {
   "cell_type": "markdown",
   "metadata": {},
   "source": [
    "We are going to add several columns to our dataframe. A column for each of the following:\n",
    "+ The semester of this class (called `class`)\n",
    "+ Average of all closure/vot for each individual (called `clo`/`vot`)\n",
    "+ Average voiced closure/vot for each individual (called `vclo`/`vvot`)\n",
    "+ Average voiceless closure/vot for each individual (called `vlclo`/`vlvot`)"
   ]
  },
  {
   "cell_type": "markdown",
   "metadata": {},
   "source": [
    "First we are just going to add the column `class`. We will set it to be equal to `Fall 2017` for each row."
   ]
  },
  {
   "cell_type": "code",
   "execution_count": 69,
   "metadata": {},
   "outputs": [
    {
     "data": {
      "text/html": [
       "<div>\n",
       "<table border=\"1\" class=\"dataframe\">\n",
       "  <thead>\n",
       "    <tr style=\"text-align: right;\">\n",
       "      <th></th>\n",
       "      <th>language</th>\n",
       "      <th>height</th>\n",
       "      <th>pclo</th>\n",
       "      <th>tclo</th>\n",
       "      <th>kclo</th>\n",
       "      <th>pvot</th>\n",
       "      <th>tvot</th>\n",
       "      <th>kvot</th>\n",
       "      <th>bclo</th>\n",
       "      <th>dclo</th>\n",
       "      <th>gclo</th>\n",
       "      <th>bvot</th>\n",
       "      <th>dvot</th>\n",
       "      <th>gvot</th>\n",
       "      <th>class</th>\n",
       "    </tr>\n",
       "  </thead>\n",
       "  <tbody>\n",
       "    <tr>\n",
       "      <th>0</th>\n",
       "      <td>English</td>\n",
       "      <td>162.50</td>\n",
       "      <td>0.022</td>\n",
       "      <td>0.0207</td>\n",
       "      <td>0.0262</td>\n",
       "      <td>0.086985</td>\n",
       "      <td>0.087877</td>\n",
       "      <td>0.091621</td>\n",
       "      <td>-0.078</td>\n",
       "      <td>-0.0793</td>\n",
       "      <td>-0.0738</td>\n",
       "      <td>-0.013015</td>\n",
       "      <td>-0.012123</td>\n",
       "      <td>-0.008379</td>\n",
       "      <td>Fall 2017</td>\n",
       "    </tr>\n",
       "    <tr>\n",
       "      <th>1</th>\n",
       "      <td>English</td>\n",
       "      <td>177.00</td>\n",
       "      <td>0.081</td>\n",
       "      <td>0.0320</td>\n",
       "      <td>0.0390</td>\n",
       "      <td>0.072000</td>\n",
       "      <td>0.049000</td>\n",
       "      <td>0.043000</td>\n",
       "      <td>-0.019</td>\n",
       "      <td>-0.0680</td>\n",
       "      <td>-0.0610</td>\n",
       "      <td>-0.028000</td>\n",
       "      <td>-0.051000</td>\n",
       "      <td>-0.057000</td>\n",
       "      <td>Fall 2017</td>\n",
       "    </tr>\n",
       "    <tr>\n",
       "      <th>2</th>\n",
       "      <td>English</td>\n",
       "      <td>170.18</td>\n",
       "      <td>0.070</td>\n",
       "      <td>0.0700</td>\n",
       "      <td>0.0700</td>\n",
       "      <td>0.150000</td>\n",
       "      <td>0.230000</td>\n",
       "      <td>0.120000</td>\n",
       "      <td>-0.030</td>\n",
       "      <td>-0.0300</td>\n",
       "      <td>-0.0300</td>\n",
       "      <td>0.050000</td>\n",
       "      <td>0.130000</td>\n",
       "      <td>0.020000</td>\n",
       "      <td>Fall 2017</td>\n",
       "    </tr>\n",
       "    <tr>\n",
       "      <th>3</th>\n",
       "      <td>English</td>\n",
       "      <td>178.00</td>\n",
       "      <td>0.034</td>\n",
       "      <td>0.0560</td>\n",
       "      <td>0.0290</td>\n",
       "      <td>0.170000</td>\n",
       "      <td>0.190000</td>\n",
       "      <td>0.077000</td>\n",
       "      <td>-0.066</td>\n",
       "      <td>-0.0440</td>\n",
       "      <td>-0.0710</td>\n",
       "      <td>0.070000</td>\n",
       "      <td>0.090000</td>\n",
       "      <td>-0.023000</td>\n",
       "      <td>Fall 2017</td>\n",
       "    </tr>\n",
       "    <tr>\n",
       "      <th>4</th>\n",
       "      <td>English</td>\n",
       "      <td>177.80</td>\n",
       "      <td>0.144</td>\n",
       "      <td>0.0940</td>\n",
       "      <td>0.0630</td>\n",
       "      <td>0.132000</td>\n",
       "      <td>0.153000</td>\n",
       "      <td>0.177000</td>\n",
       "      <td>0.044</td>\n",
       "      <td>-0.0060</td>\n",
       "      <td>-0.0370</td>\n",
       "      <td>0.032000</td>\n",
       "      <td>0.053000</td>\n",
       "      <td>0.077000</td>\n",
       "      <td>Fall 2017</td>\n",
       "    </tr>\n",
       "  </tbody>\n",
       "</table>\n",
       "</div>"
      ],
      "text/plain": [
       "  language  height   pclo    tclo    kclo      pvot      tvot      kvot  \\\n",
       "0  English  162.50  0.022  0.0207  0.0262  0.086985  0.087877  0.091621   \n",
       "1  English  177.00  0.081  0.0320  0.0390  0.072000  0.049000  0.043000   \n",
       "2  English  170.18  0.070  0.0700  0.0700  0.150000  0.230000  0.120000   \n",
       "3  English  178.00  0.034  0.0560  0.0290  0.170000  0.190000  0.077000   \n",
       "4  English  177.80  0.144  0.0940  0.0630  0.132000  0.153000  0.177000   \n",
       "\n",
       "    bclo    dclo    gclo      bvot      dvot      gvot      class  \n",
       "0 -0.078 -0.0793 -0.0738 -0.013015 -0.012123 -0.008379  Fall 2017  \n",
       "1 -0.019 -0.0680 -0.0610 -0.028000 -0.051000 -0.057000  Fall 2017  \n",
       "2 -0.030 -0.0300 -0.0300  0.050000  0.130000  0.020000  Fall 2017  \n",
       "3 -0.066 -0.0440 -0.0710  0.070000  0.090000 -0.023000  Fall 2017  \n",
       "4  0.044 -0.0060 -0.0370  0.032000  0.053000  0.077000  Fall 2017  "
      ]
     },
     "execution_count": 69,
     "metadata": {},
     "output_type": "execute_result"
    }
   ],
   "source": [
    "data['class'] = 'Fall 2017'\n",
    "data.head()"
   ]
  },
  {
   "cell_type": "markdown",
   "metadata": {},
   "source": [
    "Next we will add the column for the average of all of the closures for each row. First we will pull out just the columns that we want to take the average of."
   ]
  },
  {
   "cell_type": "code",
   "execution_count": 73,
   "metadata": {},
   "outputs": [
    {
     "data": {
      "text/html": [
       "<div>\n",
       "<table border=\"1\" class=\"dataframe\">\n",
       "  <thead>\n",
       "    <tr style=\"text-align: right;\">\n",
       "      <th></th>\n",
       "      <th>pclo</th>\n",
       "      <th>tclo</th>\n",
       "      <th>kclo</th>\n",
       "      <th>bclo</th>\n",
       "      <th>dclo</th>\n",
       "      <th>gclo</th>\n",
       "    </tr>\n",
       "  </thead>\n",
       "  <tbody>\n",
       "    <tr>\n",
       "      <th>0</th>\n",
       "      <td>0.022</td>\n",
       "      <td>0.0207</td>\n",
       "      <td>0.0262</td>\n",
       "      <td>-0.078</td>\n",
       "      <td>-0.0793</td>\n",
       "      <td>-0.0738</td>\n",
       "    </tr>\n",
       "    <tr>\n",
       "      <th>1</th>\n",
       "      <td>0.081</td>\n",
       "      <td>0.0320</td>\n",
       "      <td>0.0390</td>\n",
       "      <td>-0.019</td>\n",
       "      <td>-0.0680</td>\n",
       "      <td>-0.0610</td>\n",
       "    </tr>\n",
       "    <tr>\n",
       "      <th>2</th>\n",
       "      <td>0.070</td>\n",
       "      <td>0.0700</td>\n",
       "      <td>0.0700</td>\n",
       "      <td>-0.030</td>\n",
       "      <td>-0.0300</td>\n",
       "      <td>-0.0300</td>\n",
       "    </tr>\n",
       "    <tr>\n",
       "      <th>3</th>\n",
       "      <td>0.034</td>\n",
       "      <td>0.0560</td>\n",
       "      <td>0.0290</td>\n",
       "      <td>-0.066</td>\n",
       "      <td>-0.0440</td>\n",
       "      <td>-0.0710</td>\n",
       "    </tr>\n",
       "    <tr>\n",
       "      <th>4</th>\n",
       "      <td>0.144</td>\n",
       "      <td>0.0940</td>\n",
       "      <td>0.0630</td>\n",
       "      <td>0.044</td>\n",
       "      <td>-0.0060</td>\n",
       "      <td>-0.0370</td>\n",
       "    </tr>\n",
       "  </tbody>\n",
       "</table>\n",
       "</div>"
      ],
      "text/plain": [
       "    pclo    tclo    kclo   bclo    dclo    gclo\n",
       "0  0.022  0.0207  0.0262 -0.078 -0.0793 -0.0738\n",
       "1  0.081  0.0320  0.0390 -0.019 -0.0680 -0.0610\n",
       "2  0.070  0.0700  0.0700 -0.030 -0.0300 -0.0300\n",
       "3  0.034  0.0560  0.0290 -0.066 -0.0440 -0.0710\n",
       "4  0.144  0.0940  0.0630  0.044 -0.0060 -0.0370"
      ]
     },
     "execution_count": 73,
     "metadata": {},
     "output_type": "execute_result"
    }
   ],
   "source": [
    "subset = data[['pclo', 'tclo', 'kclo', 'bclo', 'dclo', 'gclo']]\n",
    "subset.head()"
   ]
  },
  {
   "cell_type": "markdown",
   "metadata": {},
   "source": [
    "Then we will take the average across those rows."
   ]
  },
  {
   "cell_type": "code",
   "execution_count": 75,
   "metadata": {
    "scrolled": true
   },
   "outputs": [
    {
     "data": {
      "text/plain": [
       "0    -0.027033\n",
       "1     0.000667\n",
       "2     0.020000\n",
       "3    -0.010333\n",
       "4     0.050333\n",
       "5     0.105667\n",
       "6     0.082664\n",
       "7     0.048000\n",
       "8     0.022115\n",
       "9     0.072333\n",
       "10    0.063333\n",
       "11    0.073667\n",
       "12    0.011000\n",
       "13    0.071667\n",
       "14    0.020000\n",
       "15    0.005185\n",
       "16    0.013633\n",
       "17    0.033000\n",
       "18    0.151000\n",
       "19    0.007667\n",
       "20    0.015333\n",
       "21    0.028172\n",
       "22    0.035000\n",
       "23    0.072293\n",
       "24   -0.032992\n",
       "25    0.135900\n",
       "26    0.093600\n",
       "27    0.033067\n",
       "28    0.094817\n",
       "29    0.048361\n",
       "        ...   \n",
       "57    0.050733\n",
       "58   -0.008000\n",
       "59    0.028000\n",
       "60   -0.024667\n",
       "61    0.047156\n",
       "62    0.023667\n",
       "63   -0.011167\n",
       "64   -0.042640\n",
       "65    0.020143\n",
       "66    0.009248\n",
       "67    0.013000\n",
       "68    0.088483\n",
       "69    0.061667\n",
       "70   -0.012767\n",
       "71    0.026000\n",
       "72    0.041035\n",
       "73    0.037219\n",
       "74    0.006860\n",
       "75    0.068000\n",
       "76   -0.004000\n",
       "77    0.010000\n",
       "78    0.023103\n",
       "79    0.056350\n",
       "80    0.040333\n",
       "81    0.024403\n",
       "82    0.009533\n",
       "83   -0.021998\n",
       "84    0.023667\n",
       "85    0.005493\n",
       "86   -0.019333\n",
       "dtype: float64"
      ]
     },
     "execution_count": 75,
     "metadata": {},
     "output_type": "execute_result"
    }
   ],
   "source": [
    "clo_avg = subset.mean(axis=1)\n",
    "clo_avg"
   ]
  },
  {
   "cell_type": "markdown",
   "metadata": {},
   "source": [
    "And finally, we will append those values to our dataframe as a column called `clo`."
   ]
  },
  {
   "cell_type": "code",
   "execution_count": 80,
   "metadata": {},
   "outputs": [
    {
     "data": {
      "text/html": [
       "<div>\n",
       "<table border=\"1\" class=\"dataframe\">\n",
       "  <thead>\n",
       "    <tr style=\"text-align: right;\">\n",
       "      <th></th>\n",
       "      <th>language</th>\n",
       "      <th>height</th>\n",
       "      <th>pclo</th>\n",
       "      <th>tclo</th>\n",
       "      <th>kclo</th>\n",
       "      <th>pvot</th>\n",
       "      <th>tvot</th>\n",
       "      <th>kvot</th>\n",
       "      <th>bclo</th>\n",
       "      <th>dclo</th>\n",
       "      <th>gclo</th>\n",
       "      <th>bvot</th>\n",
       "      <th>dvot</th>\n",
       "      <th>gvot</th>\n",
       "      <th>class</th>\n",
       "      <th>clo</th>\n",
       "    </tr>\n",
       "  </thead>\n",
       "  <tbody>\n",
       "    <tr>\n",
       "      <th>0</th>\n",
       "      <td>English</td>\n",
       "      <td>162.50</td>\n",
       "      <td>0.022</td>\n",
       "      <td>0.0207</td>\n",
       "      <td>0.0262</td>\n",
       "      <td>0.086985</td>\n",
       "      <td>0.087877</td>\n",
       "      <td>0.091621</td>\n",
       "      <td>-0.078</td>\n",
       "      <td>-0.0793</td>\n",
       "      <td>-0.0738</td>\n",
       "      <td>-0.013015</td>\n",
       "      <td>-0.012123</td>\n",
       "      <td>-0.008379</td>\n",
       "      <td>Fall 2017</td>\n",
       "      <td>-0.027033</td>\n",
       "    </tr>\n",
       "    <tr>\n",
       "      <th>1</th>\n",
       "      <td>English</td>\n",
       "      <td>177.00</td>\n",
       "      <td>0.081</td>\n",
       "      <td>0.0320</td>\n",
       "      <td>0.0390</td>\n",
       "      <td>0.072000</td>\n",
       "      <td>0.049000</td>\n",
       "      <td>0.043000</td>\n",
       "      <td>-0.019</td>\n",
       "      <td>-0.0680</td>\n",
       "      <td>-0.0610</td>\n",
       "      <td>-0.028000</td>\n",
       "      <td>-0.051000</td>\n",
       "      <td>-0.057000</td>\n",
       "      <td>Fall 2017</td>\n",
       "      <td>0.000667</td>\n",
       "    </tr>\n",
       "    <tr>\n",
       "      <th>2</th>\n",
       "      <td>English</td>\n",
       "      <td>170.18</td>\n",
       "      <td>0.070</td>\n",
       "      <td>0.0700</td>\n",
       "      <td>0.0700</td>\n",
       "      <td>0.150000</td>\n",
       "      <td>0.230000</td>\n",
       "      <td>0.120000</td>\n",
       "      <td>-0.030</td>\n",
       "      <td>-0.0300</td>\n",
       "      <td>-0.0300</td>\n",
       "      <td>0.050000</td>\n",
       "      <td>0.130000</td>\n",
       "      <td>0.020000</td>\n",
       "      <td>Fall 2017</td>\n",
       "      <td>0.020000</td>\n",
       "    </tr>\n",
       "    <tr>\n",
       "      <th>3</th>\n",
       "      <td>English</td>\n",
       "      <td>178.00</td>\n",
       "      <td>0.034</td>\n",
       "      <td>0.0560</td>\n",
       "      <td>0.0290</td>\n",
       "      <td>0.170000</td>\n",
       "      <td>0.190000</td>\n",
       "      <td>0.077000</td>\n",
       "      <td>-0.066</td>\n",
       "      <td>-0.0440</td>\n",
       "      <td>-0.0710</td>\n",
       "      <td>0.070000</td>\n",
       "      <td>0.090000</td>\n",
       "      <td>-0.023000</td>\n",
       "      <td>Fall 2017</td>\n",
       "      <td>-0.010333</td>\n",
       "    </tr>\n",
       "    <tr>\n",
       "      <th>4</th>\n",
       "      <td>English</td>\n",
       "      <td>177.80</td>\n",
       "      <td>0.144</td>\n",
       "      <td>0.0940</td>\n",
       "      <td>0.0630</td>\n",
       "      <td>0.132000</td>\n",
       "      <td>0.153000</td>\n",
       "      <td>0.177000</td>\n",
       "      <td>0.044</td>\n",
       "      <td>-0.0060</td>\n",
       "      <td>-0.0370</td>\n",
       "      <td>0.032000</td>\n",
       "      <td>0.053000</td>\n",
       "      <td>0.077000</td>\n",
       "      <td>Fall 2017</td>\n",
       "      <td>0.050333</td>\n",
       "    </tr>\n",
       "  </tbody>\n",
       "</table>\n",
       "</div>"
      ],
      "text/plain": [
       "  language  height   pclo    tclo    kclo      pvot      tvot      kvot  \\\n",
       "0  English  162.50  0.022  0.0207  0.0262  0.086985  0.087877  0.091621   \n",
       "1  English  177.00  0.081  0.0320  0.0390  0.072000  0.049000  0.043000   \n",
       "2  English  170.18  0.070  0.0700  0.0700  0.150000  0.230000  0.120000   \n",
       "3  English  178.00  0.034  0.0560  0.0290  0.170000  0.190000  0.077000   \n",
       "4  English  177.80  0.144  0.0940  0.0630  0.132000  0.153000  0.177000   \n",
       "\n",
       "    bclo    dclo    gclo      bvot      dvot      gvot      class       clo  \n",
       "0 -0.078 -0.0793 -0.0738 -0.013015 -0.012123 -0.008379  Fall 2017 -0.027033  \n",
       "1 -0.019 -0.0680 -0.0610 -0.028000 -0.051000 -0.057000  Fall 2017  0.000667  \n",
       "2 -0.030 -0.0300 -0.0300  0.050000  0.130000  0.020000  Fall 2017  0.020000  \n",
       "3 -0.066 -0.0440 -0.0710  0.070000  0.090000 -0.023000  Fall 2017 -0.010333  \n",
       "4  0.044 -0.0060 -0.0370  0.032000  0.053000  0.077000  Fall 2017  0.050333  "
      ]
     },
     "execution_count": 80,
     "metadata": {},
     "output_type": "execute_result"
    }
   ],
   "source": [
    "data['clo'] = clo_avg\n",
    "data.head()"
   ]
  },
  {
   "cell_type": "markdown",
   "metadata": {},
   "source": [
    "We then repeat this process for all of the other columns that we want to create."
   ]
  },
  {
   "cell_type": "code",
   "execution_count": 81,
   "metadata": {},
   "outputs": [
    {
     "data": {
      "text/html": [
       "<div>\n",
       "<table border=\"1\" class=\"dataframe\">\n",
       "  <thead>\n",
       "    <tr style=\"text-align: right;\">\n",
       "      <th></th>\n",
       "      <th>language</th>\n",
       "      <th>height</th>\n",
       "      <th>pclo</th>\n",
       "      <th>tclo</th>\n",
       "      <th>kclo</th>\n",
       "      <th>pvot</th>\n",
       "      <th>tvot</th>\n",
       "      <th>kvot</th>\n",
       "      <th>bclo</th>\n",
       "      <th>dclo</th>\n",
       "      <th>...</th>\n",
       "      <th>bvot</th>\n",
       "      <th>dvot</th>\n",
       "      <th>gvot</th>\n",
       "      <th>class</th>\n",
       "      <th>clo</th>\n",
       "      <th>vot</th>\n",
       "      <th>vclo</th>\n",
       "      <th>vvot</th>\n",
       "      <th>vlclo</th>\n",
       "      <th>vlvot</th>\n",
       "    </tr>\n",
       "  </thead>\n",
       "  <tbody>\n",
       "    <tr>\n",
       "      <th>0</th>\n",
       "      <td>English</td>\n",
       "      <td>162.50</td>\n",
       "      <td>0.022</td>\n",
       "      <td>0.0207</td>\n",
       "      <td>0.0262</td>\n",
       "      <td>0.086985</td>\n",
       "      <td>0.087877</td>\n",
       "      <td>0.091621</td>\n",
       "      <td>-0.078</td>\n",
       "      <td>-0.0793</td>\n",
       "      <td>...</td>\n",
       "      <td>-0.013015</td>\n",
       "      <td>-0.012123</td>\n",
       "      <td>-0.008379</td>\n",
       "      <td>Fall 2017</td>\n",
       "      <td>-0.027033</td>\n",
       "      <td>0.038828</td>\n",
       "      <td>0.022967</td>\n",
       "      <td>0.088828</td>\n",
       "      <td>-0.077033</td>\n",
       "      <td>-0.011172</td>\n",
       "    </tr>\n",
       "    <tr>\n",
       "      <th>1</th>\n",
       "      <td>English</td>\n",
       "      <td>177.00</td>\n",
       "      <td>0.081</td>\n",
       "      <td>0.0320</td>\n",
       "      <td>0.0390</td>\n",
       "      <td>0.072000</td>\n",
       "      <td>0.049000</td>\n",
       "      <td>0.043000</td>\n",
       "      <td>-0.019</td>\n",
       "      <td>-0.0680</td>\n",
       "      <td>...</td>\n",
       "      <td>-0.028000</td>\n",
       "      <td>-0.051000</td>\n",
       "      <td>-0.057000</td>\n",
       "      <td>Fall 2017</td>\n",
       "      <td>0.000667</td>\n",
       "      <td>0.004667</td>\n",
       "      <td>0.050667</td>\n",
       "      <td>0.054667</td>\n",
       "      <td>-0.049333</td>\n",
       "      <td>-0.045333</td>\n",
       "    </tr>\n",
       "    <tr>\n",
       "      <th>2</th>\n",
       "      <td>English</td>\n",
       "      <td>170.18</td>\n",
       "      <td>0.070</td>\n",
       "      <td>0.0700</td>\n",
       "      <td>0.0700</td>\n",
       "      <td>0.150000</td>\n",
       "      <td>0.230000</td>\n",
       "      <td>0.120000</td>\n",
       "      <td>-0.030</td>\n",
       "      <td>-0.0300</td>\n",
       "      <td>...</td>\n",
       "      <td>0.050000</td>\n",
       "      <td>0.130000</td>\n",
       "      <td>0.020000</td>\n",
       "      <td>Fall 2017</td>\n",
       "      <td>0.020000</td>\n",
       "      <td>0.116667</td>\n",
       "      <td>0.070000</td>\n",
       "      <td>0.166667</td>\n",
       "      <td>-0.030000</td>\n",
       "      <td>0.066667</td>\n",
       "    </tr>\n",
       "    <tr>\n",
       "      <th>3</th>\n",
       "      <td>English</td>\n",
       "      <td>178.00</td>\n",
       "      <td>0.034</td>\n",
       "      <td>0.0560</td>\n",
       "      <td>0.0290</td>\n",
       "      <td>0.170000</td>\n",
       "      <td>0.190000</td>\n",
       "      <td>0.077000</td>\n",
       "      <td>-0.066</td>\n",
       "      <td>-0.0440</td>\n",
       "      <td>...</td>\n",
       "      <td>0.070000</td>\n",
       "      <td>0.090000</td>\n",
       "      <td>-0.023000</td>\n",
       "      <td>Fall 2017</td>\n",
       "      <td>-0.010333</td>\n",
       "      <td>0.095667</td>\n",
       "      <td>0.039667</td>\n",
       "      <td>0.145667</td>\n",
       "      <td>-0.060333</td>\n",
       "      <td>0.045667</td>\n",
       "    </tr>\n",
       "    <tr>\n",
       "      <th>4</th>\n",
       "      <td>English</td>\n",
       "      <td>177.80</td>\n",
       "      <td>0.144</td>\n",
       "      <td>0.0940</td>\n",
       "      <td>0.0630</td>\n",
       "      <td>0.132000</td>\n",
       "      <td>0.153000</td>\n",
       "      <td>0.177000</td>\n",
       "      <td>0.044</td>\n",
       "      <td>-0.0060</td>\n",
       "      <td>...</td>\n",
       "      <td>0.032000</td>\n",
       "      <td>0.053000</td>\n",
       "      <td>0.077000</td>\n",
       "      <td>Fall 2017</td>\n",
       "      <td>0.050333</td>\n",
       "      <td>0.104000</td>\n",
       "      <td>0.100333</td>\n",
       "      <td>0.154000</td>\n",
       "      <td>0.000333</td>\n",
       "      <td>0.054000</td>\n",
       "    </tr>\n",
       "  </tbody>\n",
       "</table>\n",
       "<p>5 rows × 21 columns</p>\n",
       "</div>"
      ],
      "text/plain": [
       "  language  height   pclo    tclo    kclo      pvot      tvot      kvot  \\\n",
       "0  English  162.50  0.022  0.0207  0.0262  0.086985  0.087877  0.091621   \n",
       "1  English  177.00  0.081  0.0320  0.0390  0.072000  0.049000  0.043000   \n",
       "2  English  170.18  0.070  0.0700  0.0700  0.150000  0.230000  0.120000   \n",
       "3  English  178.00  0.034  0.0560  0.0290  0.170000  0.190000  0.077000   \n",
       "4  English  177.80  0.144  0.0940  0.0630  0.132000  0.153000  0.177000   \n",
       "\n",
       "    bclo    dclo    ...         bvot      dvot      gvot      class       clo  \\\n",
       "0 -0.078 -0.0793    ...    -0.013015 -0.012123 -0.008379  Fall 2017 -0.027033   \n",
       "1 -0.019 -0.0680    ...    -0.028000 -0.051000 -0.057000  Fall 2017  0.000667   \n",
       "2 -0.030 -0.0300    ...     0.050000  0.130000  0.020000  Fall 2017  0.020000   \n",
       "3 -0.066 -0.0440    ...     0.070000  0.090000 -0.023000  Fall 2017 -0.010333   \n",
       "4  0.044 -0.0060    ...     0.032000  0.053000  0.077000  Fall 2017  0.050333   \n",
       "\n",
       "        vot      vclo      vvot     vlclo     vlvot  \n",
       "0  0.038828  0.022967  0.088828 -0.077033 -0.011172  \n",
       "1  0.004667  0.050667  0.054667 -0.049333 -0.045333  \n",
       "2  0.116667  0.070000  0.166667 -0.030000  0.066667  \n",
       "3  0.095667  0.039667  0.145667 -0.060333  0.045667  \n",
       "4  0.104000  0.100333  0.154000  0.000333  0.054000  \n",
       "\n",
       "[5 rows x 21 columns]"
      ]
     },
     "execution_count": 81,
     "metadata": {},
     "output_type": "execute_result"
    }
   ],
   "source": [
    "data['vot'] = data[['pvot', 'tvot', 'kvot', 'bvot', 'dvot', 'gvot']].mean(axis=1)\n",
    "data['vclo'] = data[['pclo', 'tclo', 'kclo']].mean(axis=1)\n",
    "data['vvot'] = data[['pvot', 'tvot', 'kvot']].mean(axis=1)\n",
    "data['vlclo'] = data[['bclo', 'dclo', 'gclo']].mean(axis=1)\n",
    "data['vlvot'] = data[['bvot', 'dvot', 'gvot']].mean(axis=1)\n",
    "data.head()"
   ]
  },
  {
   "cell_type": "markdown",
   "metadata": {},
   "source": [
    "### 1.1 Data Visualization\n",
    "Now that we have our data in order, let's get a picture of the data with some plots."
   ]
  },
  {
   "cell_type": "markdown",
   "metadata": {},
   "source": [
    "#### COUNT: \n",
    "Below, we will see the number of people who speak each language."
   ]
  },
  {
   "cell_type": "code",
   "execution_count": 58,
   "metadata": {},
   "outputs": [
    {
     "data": {
      "text/plain": [
       "<matplotlib.axes._subplots.AxesSubplot at 0x1154a1470>"
      ]
     },
     "execution_count": 58,
     "metadata": {},
     "output_type": "execute_result"
    },
    {
     "data": {
      "image/png": "[encoded data removed]",
      "text/plain": [
       "<matplotlib.figure.Figure at 0x1154adb38>"
      ]
     },
     "metadata": {},
     "output_type": "display_data"
    }
   ],
   "source": [
    "sns.countplot(y=\"language\", data=data)"
   ]
  },
  {
   "cell_type": "markdown",
   "metadata": {},
   "source": [
    "Below, we have a the distribution of height."
   ]
  },
  {
   "cell_type": "code",
   "execution_count": 59,
   "metadata": {},
   "outputs": [
    {
     "data": {
      "text/plain": [
       "<matplotlib.axes._subplots.AxesSubplot at 0x1155a7c88>"
      ]
     },
     "execution_count": 59,
     "metadata": {},
     "output_type": "execute_result"
    },
    {
     "data": {
      "image/png": "[encoded data removed]",
      "text/plain": [
       "<matplotlib.figure.Figure at 0x115565828>"
      ]
     },
     "metadata": {},
     "output_type": "display_data"
    }
   ],
   "source": [
    "sns.distplot(data['height'])"
   ]
  },
  {
   "cell_type": "markdown",
   "metadata": {},
   "source": [
    "### 1.2 Descriptive Statistics\n",
    "Below we compute the some basic properties about the column `clo`."
   ]
  },
  {
   "cell_type": "code",
   "execution_count": 89,
   "metadata": {},
   "outputs": [
    {
     "name": "stdout",
     "output_type": "stream",
     "text": [
      "Mode:  -0.0426404333333\n"
     ]
    },
    {
     "data": {
      "text/plain": [
       "count    87.000000\n",
       "mean      0.034279\n",
       "std       0.037605\n",
       "min      -0.042640\n",
       "25%       0.009391\n",
       "50%       0.028172\n",
       "75%       0.056342\n",
       "max       0.151000\n",
       "Name: clo, dtype: float64"
      ]
     },
     "execution_count": 89,
     "metadata": {},
     "output_type": "execute_result"
    }
   ],
   "source": [
    "closure_mode = mode(data.clo)[0][0]\n",
    "print('Mode: ', closure_mode)\n",
    "\n",
    "data.clo.describe()"
   ]
  },
  {
   "cell_type": "markdown",
   "metadata": {},
   "source": [
    "# 2. Explore relationships to metadata\n",
    "Now let's explore relationships between closure and different characteristics of the persons who delivered those stats, specifically at language, gender, and height. We'll draw scatter plots to see whether there are linear relationships between them."
   ]
  },
  {
   "cell_type": "markdown",
   "metadata": {},
   "source": [
    "### 2.1 Language\n",
    "Here, each dot is a person and you can see what language they speak and their respective closure measurement."
   ]
  },
  {
   "cell_type": "markdown",
   "metadata": {},
   "source": [
    "We can see that the majority speak English.\n",
    "Question: if we try to come up with conclusion about people who speak Tagalog/Dutch, would the conclusions be reliable and why? (Type your answer below)"
   ]
  },
  {
   "cell_type": "markdown",
   "metadata": {},
   "source": [
    "**Answer**:"
   ]
  },
  {
   "cell_type": "markdown",
   "metadata": {},
   "source": [
    "Below, we take the graph above and visualize the mean of the closures of people who speak each language."
   ]
  },
  {
   "cell_type": "code",
   "execution_count": 93,
   "metadata": {},
   "outputs": [
    {
     "data": {
      "image/png": "[encoded data removed]",
      "text/plain": [
       "<matplotlib.figure.Figure at 0x115971a90>"
      ]
     },
     "metadata": {},
     "output_type": "display_data"
    }
   ],
   "source": [
    "sns.violinplot(x=\"clo\", y=\"language\", data=data);"
   ]
  },
  {
   "cell_type": "markdown",
   "metadata": {},
   "source": [
    "Compare the means. What do they tell you?"
   ]
  },
  {
   "cell_type": "markdown",
   "metadata": {},
   "source": [
    "**Answer**:"
   ]
  },
  {
   "cell_type": "markdown",
   "metadata": {},
   "source": [
    "### 2.2 Gender"
   ]
  },
  {
   "cell_type": "markdown",
   "metadata": {},
   "source": [
    "In this section, we will dig into the relationship between closure and gender."
   ]
  },
  {
   "cell_type": "code",
   "execution_count": null,
   "metadata": {
    "collapsed": true
   },
   "outputs": [],
   "source": [
    "sns.barplot(x=\"gender\", y=\"closure\", data=data)"
   ]
  },
  {
   "cell_type": "markdown",
   "metadata": {},
   "source": [
    "What's the graph above showing? Can you analyze it? Type your answer below."
   ]
  },
  {
   "cell_type": "markdown",
   "metadata": {},
   "source": [
    "**Answer**:"
   ]
  },
  {
   "cell_type": "markdown",
   "metadata": {},
   "source": [
    "Below, each dot is defined by gender on the y-axis and closure on the x-axis."
   ]
  },
  {
   "cell_type": "code",
   "execution_count": null,
   "metadata": {
    "collapsed": true
   },
   "outputs": [],
   "source": [
    "sns.stripplot(x=\"closure\", y=\"gender\", data=data, jitter=True);"
   ]
  },
  {
   "cell_type": "markdown",
   "metadata": {},
   "source": [
    "How does men's average closure compare with women's? Does your conclusion fron this scatter plot agree with the bar chart we presented before? Type your answer below."
   ]
  },
  {
   "cell_type": "markdown",
   "metadata": {},
   "source": [
    "**Answer**:"
   ]
  },
  {
   "cell_type": "markdown",
   "metadata": {},
   "source": [
    "### 2.3 Height"
   ]
  },
  {
   "cell_type": "markdown",
   "metadata": {},
   "source": [
    "Now we'll look at how height influences closure."
   ]
  },
  {
   "cell_type": "code",
   "execution_count": null,
   "metadata": {
    "collapsed": true
   },
   "outputs": [],
   "source": [
    "sns.lmplot('closure', 'height', data=data, fit_reg=False)"
   ]
  },
  {
   "cell_type": "markdown",
   "metadata": {},
   "source": [
    "In the scatter plot above, each dot is defined by closure and height. Change \"fit_reg\" to \"True\" in the code above to see the regression line.\n",
    "\n",
    "What does this graph tell about the relationship between height and closure? Type your answer below."
   ]
  },
  {
   "cell_type": "markdown",
   "metadata": {},
   "source": [
    "**Answer**:"
   ]
  },
  {
   "cell_type": "markdown",
   "metadata": {},
   "source": [
    "### Visualizing Multiple Features"
   ]
  },
  {
   "cell_type": "markdown",
   "metadata": {},
   "source": [
    "So far, we've been presenting two kinds of information in one plot (eg. language vs. closure). Would presenting more than two at once help us at analyzing? Let's try it."
   ]
  },
  {
   "cell_type": "code",
   "execution_count": null,
   "metadata": {
    "collapsed": true,
    "scrolled": false
   },
   "outputs": [],
   "source": [
    "sns.lmplot(fit_reg=False, x=\"closure\", y=\"height\", hue=\"gender\", palette=\"Set1\", data=data)"
   ]
  },
  {
   "cell_type": "markdown",
   "metadata": {},
   "source": [
    "Describe in your own words what each dot in the scatter plot above represents. Do you see some general patterns here? Type your answer below."
   ]
  },
  {
   "cell_type": "markdown",
   "metadata": {},
   "source": [
    "**Answer**:"
   ]
  },
  {
   "cell_type": "markdown",
   "metadata": {},
   "source": [
    "Now, change the code `fit_reg=False` to fit_`reg=True` to see the regression line.\n",
    "\n",
    "\n",
    "Regression lines generally describe a general trend of the data. What conclusions can you make by comparing the two regression lines? Type your answer below."
   ]
  },
  {
   "cell_type": "markdown",
   "metadata": {},
   "source": [
    "**Answer**:"
   ]
  },
  {
   "cell_type": "markdown",
   "metadata": {},
   "source": [
    "Below, the color of the dots will depend on the language that person speaks rather than its gender."
   ]
  },
  {
   "cell_type": "code",
   "execution_count": null,
   "metadata": {
    "collapsed": true
   },
   "outputs": [],
   "source": [
    "sns.lmplot('closure', 'height', data=data, fit_reg=False, hue=\"language\")"
   ]
  },
  {
   "cell_type": "markdown",
   "metadata": {},
   "source": [
    "What conclusions can you make from the graph above? Is it easier to analyze this plot than the plot before? Why? Type your answer below."
   ]
  },
  {
   "cell_type": "markdown",
   "metadata": {},
   "source": [
    "**Answer**:"
   ]
  },
  {
   "cell_type": "markdown",
   "metadata": {},
   "source": [
    "# 3. Compare data of entire class"
   ]
  },
  {
   "cell_type": "markdown",
   "metadata": {},
   "source": [
    "### 3.1 Compare individual CLOSURE with the rest of class"
   ]
  },
  {
   "cell_type": "markdown",
   "metadata": {},
   "source": [
    "Let's see where your own data stands in relation with the rest of the class. Change \"myRowNumber\" to the number of the row in the table that contains your data and run the cell."
   ]
  },
  {
   "cell_type": "code",
   "execution_count": null,
   "metadata": {
    "collapsed": true
   },
   "outputs": [],
   "source": [
    "myRowNumber = 7 #CHANGE TO ELLIPSIS IN ORIGINAL NOTEBOOK"
   ]
  },
  {
   "cell_type": "code",
   "execution_count": null,
   "metadata": {
    "collapsed": true
   },
   "outputs": [],
   "source": [
    "xAxis = data['height'].tolist()\n",
    "yAxis = data['closure'].tolist()\n",
    "\n",
    "myHeight = xAxis.pop(myRowNumber)\n",
    "myClosure = yAxis.pop(myRowNumber)\n",
    "\n",
    "plt.plot(xAxis, yAxis, 'co')\n",
    "plt.plot(myHeight, myClosure, \"ro\")\n",
    "\n",
    "plt.show()"
   ]
  },
  {
   "cell_type": "markdown",
   "metadata": {},
   "source": [
    "### 3.2 Compare our data with data from last semester"
   ]
  },
  {
   "cell_type": "markdown",
   "metadata": {},
   "source": [
    "It's often useful to compare current data with past data. Below, we'll explore class data collected from last semester."
   ]
  },
  {
   "cell_type": "code",
   "execution_count": null,
   "metadata": {
    "collapsed": true
   },
   "outputs": [],
   "source": [
    "spring2017_file = 'data/vots.csv'\n",
    "sp17 = pd.read_csv(spring2017_file)\n",
    "sp17['Class'] = ['spring 2017'] * len (sp17)\n",
    "\n",
    "sp17data = sp17.append(data)\n",
    "sp17data.head()"
   ]
  },
  {
   "cell_type": "markdown",
   "metadata": {},
   "source": [
    "As before, we'll calculate the mean, mode, median, and range of last semester's closure and compare to ours."
   ]
  },
  {
   "cell_type": "code",
   "execution_count": null,
   "metadata": {
    "collapsed": true
   },
   "outputs": [],
   "source": [
    "data_closure_mean = np.mean(data.closure)\n",
    "data_closure_mode = scipy.stats.mode(data.closure)[0][0]\n",
    "data_closure_median = np.median(data.closure)\n",
    "data_closure_range = [min(data.closure), max(data.closure)]\n",
    "\n",
    "sp17_closure_mean = np.mean(sp17.closure)\n",
    "sp17_closure_mode = scipy.stats.mode(sp17.closure)[0][0]\n",
    "sp17_closure_median = np.median(sp17.closure)\n",
    "sp17_closure_range = [min(sp17.closure), max(sp17.closure)]\n",
    "\n",
    "df = pd.DataFrame()\n",
    "df['Closure'] = ['mean', 'mode', 'median', 'range']\n",
    "df['Spring 2017'] = [sp17_closure_mean, sp17_closure_mode, sp17_closure_median, sp17_closure_range]\n",
    "df['Fall 2017'] = [data_closure_mean, data_closure_mode, data_closure_median, data_closure_range]\n",
    "df"
   ]
  },
  {
   "cell_type": "markdown",
   "metadata": {},
   "source": [
    "Let's check the closure mean by **gender** of last semester's class and compare to our class."
   ]
  },
  {
   "cell_type": "code",
   "execution_count": null,
   "metadata": {
    "collapsed": true
   },
   "outputs": [],
   "source": [
    "fig, ax = plt.subplots(1,2)\n",
    "fig.set_size_inches(10, 8)\n",
    "sns.barplot(x=\"gender\", y=\"closure\", data=sp17, ax=ax[0])\n",
    "sns.barplot(x=\"gender\", y=\"closure\", data=data, ax=ax[1])"
   ]
  },
  {
   "cell_type": "code",
   "execution_count": null,
   "metadata": {
    "collapsed": true
   },
   "outputs": [],
   "source": [
    "fig, ax = plt.subplots(1,2)\n",
    "fig.set_size_inches(10, 4)\n",
    "sns.stripplot(x=\"closure\", y=\"gender\", data=sp17[sp17['gender'] != \"Other / prefer not to answer\"], jitter=True, ax=ax[0]).set_ylabel('')\n",
    "sns.stripplot(x=\"closure\", y=\"gender\", data=data[sp17['gender'] != \"Other / prefer not to answer\"], jitter=True, ax=ax[1]).set_ylabel('')"
   ]
  },
  {
   "cell_type": "markdown",
   "metadata": {},
   "source": [
    "Now let's look at their language and closure and compare to ours."
   ]
  },
  {
   "cell_type": "code",
   "execution_count": null,
   "metadata": {
    "collapsed": true
   },
   "outputs": [],
   "source": [
    "fig, ax = plt.subplots(1,2)\n",
    "fig.set_size_inches(10, 4)\n",
    "sns.violinplot(x=\"closure\", y=\"language\", data=data, ax=ax[0])\n",
    "sns.violinplot(x=\"closure\", y=\"language\", data=sp17, ax=ax[1]).set_ylabel('')"
   ]
  },
  {
   "cell_type": "markdown",
   "metadata": {},
   "source": [
    "Very interesting. How about the **height**?"
   ]
  },
  {
   "cell_type": "code",
   "execution_count": null,
   "metadata": {
    "collapsed": true,
    "scrolled": false
   },
   "outputs": [],
   "source": [
    "sns.lmplot('closure', 'height', data=sp17data, fit_reg=False, hue='Class')"
   ]
  },
  {
   "cell_type": "markdown",
   "metadata": {},
   "source": [
    "Lastly, let's look at the relationship between **height, gender, and closure** and compare."
   ]
  },
  {
   "cell_type": "code",
   "execution_count": null,
   "metadata": {
    "collapsed": true
   },
   "outputs": [],
   "source": [
    "sns.lmplot(x=\"closure\", y=\"height\",hue='gender', col=\"Class\", data=sp17data[sp17data['gender'] != 'Other / prefer not to answer'])"
   ]
  },
  {
   "cell_type": "markdown",
   "metadata": {},
   "source": [
    "Overall, how does our class data comprare with last semester's? Type your answer below."
   ]
  },
  {
   "cell_type": "markdown",
   "metadata": {},
   "source": [
    "**Answer**:"
   ]
  },
  {
   "cell_type": "markdown",
   "metadata": {},
   "source": [
    "# 4. Place of Articulation"
   ]
  },
  {
   "cell_type": "markdown",
   "metadata": {},
   "source": [
    "## 4.1 Closure"
   ]
  },
  {
   "cell_type": "markdown",
   "metadata": {},
   "source": [
    "Let's see if we can find relationships between closure and places of articulation"
   ]
  },
  {
   "cell_type": "markdown",
   "metadata": {},
   "source": [
    "First, we'll look at the **histogram** of closure, pclo, tclo, and kclo."
   ]
  },
  {
   "cell_type": "code",
   "execution_count": null,
   "metadata": {
    "collapsed": true,
    "scrolled": false
   },
   "outputs": [],
   "source": [
    "data.hist('closure', bins=np.arange(0, .225, .025))"
   ]
  },
  {
   "cell_type": "markdown",
   "metadata": {},
   "source": [
    "Let's first visualize the places of articulation below."
   ]
  },
  {
   "cell_type": "code",
   "execution_count": null,
   "metadata": {
    "collapsed": true
   },
   "outputs": [],
   "source": [
    "data.hist('pclo', bins=np.arange(0, .25, .025))"
   ]
  },
  {
   "cell_type": "code",
   "execution_count": null,
   "metadata": {
    "collapsed": true
   },
   "outputs": [],
   "source": [
    "data.hist('tclo', bins=np.arange(0, .2, .025))"
   ]
  },
  {
   "cell_type": "code",
   "execution_count": null,
   "metadata": {
    "collapsed": true
   },
   "outputs": [],
   "source": [
    "data.hist('kclo', bins=np.arange(0, .225, .025))"
   ]
  },
  {
   "cell_type": "markdown",
   "metadata": {},
   "source": [
    "Now we have an idea of the distributions of the data we are exploring. Let's plot and compare each of the places of articulation."
   ]
  },
  {
   "cell_type": "markdown",
   "metadata": {},
   "source": [
    "**tclo and pclo:**"
   ]
  },
  {
   "cell_type": "code",
   "execution_count": null,
   "metadata": {
    "collapsed": true
   },
   "outputs": [],
   "source": [
    "sns.lmplot('pclo', 'tclo', data=data)"
   ]
  },
  {
   "cell_type": "markdown",
   "metadata": {},
   "source": [
    "**kclo and pclo:**"
   ]
  },
  {
   "cell_type": "code",
   "execution_count": null,
   "metadata": {
    "collapsed": true
   },
   "outputs": [],
   "source": [
    "sns.lmplot('pclo', 'kclo', data=data)"
   ]
  },
  {
   "cell_type": "markdown",
   "metadata": {},
   "source": [
    "**kclo and tclo:**"
   ]
  },
  {
   "cell_type": "code",
   "execution_count": null,
   "metadata": {
    "collapsed": true
   },
   "outputs": [],
   "source": [
    "sns.lmplot('tclo', 'kclo', data=data)"
   ]
  },
  {
   "cell_type": "markdown",
   "metadata": {
    "collapsed": true
   },
   "source": [
    "Do you see any interesting relationships? Type your observation below."
   ]
  },
  {
   "cell_type": "markdown",
   "metadata": {},
   "source": [
    "**Answer**:"
   ]
  },
  {
   "cell_type": "markdown",
   "metadata": {},
   "source": [
    "Here's one plot that that has all pclo, tclo, and kclo plotted against height."
   ]
  },
  {
   "cell_type": "code",
   "execution_count": null,
   "metadata": {
    "collapsed": true
   },
   "outputs": [],
   "source": [
    "height_3x = data.height.append(data.height).append(data.height)\n",
    "ptk_closure = data.pclo.append(data.tclo).append(data.kclo)\n",
    "closure_type = ['pclo'] * 87 + ['tclo'] * 87 + ['kclo'] * 87\n",
    "\n",
    "c = {'height': height_3x, 'p/t/k Closure': ptk_closure, 'Closure type' : closure_type}\n",
    "closure = pd.DataFrame(data=c)\n",
    "#closure.head()\n",
    "\n",
    "sns.lmplot('p/t/k Closure', 'height', data=closure, fit_reg=False, hue=\"Closure type\")"
   ]
  },
  {
   "cell_type": "markdown",
   "metadata": {},
   "source": [
    "## 4.2 VOT"
   ]
  },
  {
   "cell_type": "markdown",
   "metadata": {},
   "source": [
    "Let's first check out the numerical distribution of VOT."
   ]
  },
  {
   "cell_type": "code",
   "execution_count": null,
   "metadata": {
    "collapsed": true,
    "scrolled": true
   },
   "outputs": [],
   "source": [
    "data.hist('vot', bins=np.arange(0, .3, .05))"
   ]
  },
  {
   "cell_type": "markdown",
   "metadata": {},
   "source": [
    "Let's plot out the distributions of each articulation as well."
   ]
  },
  {
   "cell_type": "code",
   "execution_count": null,
   "metadata": {
    "collapsed": true
   },
   "outputs": [],
   "source": [
    "data.hist('pvot', bins=np.arange(0, .2, .025))"
   ]
  },
  {
   "cell_type": "code",
   "execution_count": null,
   "metadata": {
    "collapsed": true
   },
   "outputs": [],
   "source": [
    "data.hist('tvot', bins=np.arange(0, .3, .025))"
   ]
  },
  {
   "cell_type": "code",
   "execution_count": null,
   "metadata": {
    "collapsed": true
   },
   "outputs": [],
   "source": [
    "data.hist('kvot', bins=np.arange(0, .7, .025))"
   ]
  },
  {
   "cell_type": "markdown",
   "metadata": {},
   "source": [
    "Now we have an idea of the distributions of the data we are exploring. Let's plot and compare each of the places of articulation."
   ]
  },
  {
   "cell_type": "markdown",
   "metadata": {},
   "source": [
    "**tvot and pvot:**"
   ]
  },
  {
   "cell_type": "code",
   "execution_count": null,
   "metadata": {
    "collapsed": true
   },
   "outputs": [],
   "source": [
    "sns.lmplot('pvot', 'tvot', data=data)"
   ]
  },
  {
   "cell_type": "markdown",
   "metadata": {},
   "source": [
    "**kvot and pvot:**"
   ]
  },
  {
   "cell_type": "code",
   "execution_count": null,
   "metadata": {
    "collapsed": true
   },
   "outputs": [],
   "source": [
    "sns.lmplot('pvot', 'kvot', data=data)"
   ]
  },
  {
   "cell_type": "markdown",
   "metadata": {},
   "source": [
    "**kvot and tvot:**"
   ]
  },
  {
   "cell_type": "code",
   "execution_count": null,
   "metadata": {
    "collapsed": true
   },
   "outputs": [],
   "source": [
    "sns.lmplot('tvot', 'kvot', data=data)"
   ]
  },
  {
   "cell_type": "markdown",
   "metadata": {
    "collapsed": true
   },
   "source": [
    "Do you see any interesting relationships? Type your observation below."
   ]
  },
  {
   "cell_type": "markdown",
   "metadata": {},
   "source": [
    "**Answer**:"
   ]
  },
  {
   "cell_type": "markdown",
   "metadata": {},
   "source": [
    "(Optional) If you're interested, here's a scatter plot of height against each of the place of articulation."
   ]
  },
  {
   "cell_type": "code",
   "execution_count": null,
   "metadata": {
    "collapsed": true
   },
   "outputs": [],
   "source": [
    "ptk_vot = data.pvot.append(data.tvot).append(data.kvot)\n",
    "vot_type = ['pvot'] * 87 + ['tvot'] * 87 + ['kvot'] * 87\n",
    "\n",
    "v = {'height': height_3x, 'p/t/k VOT': ptk_vot, 'VOT type' : vot_type}\n",
    "vot = pd.DataFrame(data=v)\n",
    "\n",
    "sns.lmplot('p/t/k VOT', 'height', data=vot, fit_reg=False, hue=\"VOT type\")"
   ]
  },
  {
   "cell_type": "markdown",
   "metadata": {},
   "source": [
    "# 5. Voiced stops (bvot, dvot, gvot)"
   ]
  },
  {
   "cell_type": "code",
   "execution_count": null,
   "metadata": {
    "collapsed": true,
    "scrolled": true
   },
   "outputs": [],
   "source": [
    "# SIMULATING VOICED (bdg) VALUES FROM VOICELESS (ptk)\n",
    "# SHOULD NOT BE PART OF THE NOTEBOOK\n",
    "data['bvot'] = data.pvot + 0.05\n",
    "data['dvot'] = data.tvot + 0.05\n",
    "data['gvot'] = data.kvot + 0.05"
   ]
  },
  {
   "cell_type": "markdown",
   "metadata": {},
   "source": [
    "We will begin by adding a column for average voiced and average voiceless for each person in our table:"
   ]
  },
  {
   "cell_type": "code",
   "execution_count": null,
   "metadata": {
    "collapsed": true
   },
   "outputs": [],
   "source": [
    "data.rename(columns={'vot':'vot (ptk)'}, inplace=True)\n",
    "data['vot (bdg)'] = data[['bvot', 'dvot', 'gvot']].mean(numeric_only=True, axis=1)\n",
    "data.head()"
   ]
  },
  {
   "cell_type": "markdown",
   "metadata": {},
   "source": [
    "Now, we will compare our data. First, let's look at the relationship between the average of the voiced (bdg) and the voiceless (ptk) place of articulation:"
   ]
  },
  {
   "cell_type": "code",
   "execution_count": null,
   "metadata": {
    "collapsed": true
   },
   "outputs": [],
   "source": [
    "sns.lmplot('vot (ptk)', 'vot (bdg)', data=data, fit_reg=False)"
   ]
  },
  {
   "cell_type": "code",
   "execution_count": null,
   "metadata": {
    "collapsed": true
   },
   "outputs": [],
   "source": [
    "sns.lmplot('vot (ptk)', 'height', data=data, fit_reg=False)"
   ]
  },
  {
   "cell_type": "code",
   "execution_count": null,
   "metadata": {
    "collapsed": true
   },
   "outputs": [],
   "source": [
    "sns.lmplot('vot (bdg)', 'height', data=data, fit_reg=False)"
   ]
  },
  {
   "cell_type": "markdown",
   "metadata": {},
   "source": [
    "What are some interesting relationships do you observe? Type your answer below:"
   ]
  },
  {
   "cell_type": "markdown",
   "metadata": {},
   "source": [
    "**Answer**: "
   ]
  },
  {
   "cell_type": "markdown",
   "metadata": {},
   "source": [
    "# 6. Overall Observation"
   ]
  },
  {
   "cell_type": "markdown",
   "metadata": {},
   "source": [
    "Share three interesting relationship you observed (ie. the relationship between closure and height, etc.). Explain the significance of each."
   ]
  },
  {
   "cell_type": "markdown",
   "metadata": {},
   "source": [
    "**First observation**:"
   ]
  },
  {
   "cell_type": "markdown",
   "metadata": {},
   "source": [
    "**Second observation**:"
   ]
  },
  {
   "cell_type": "markdown",
   "metadata": {},
   "source": [
    "**Third observation**:"
   ]
  }
 ],
 "metadata": {
  "anaconda-cloud": {},
  "kernelspec": {
   "display_name": "Python [Root]",
   "language": "python",
   "name": "Python [Root]"
  },
  "language_info": {
   "codemirror_mode": {
    "name": "ipython",
    "version": 3
   },
   "file_extension": ".py",
   "mimetype": "text/x-python",
   "name": "python",
   "nbconvert_exporter": "python",
   "pygments_lexer": "ipython3",
   "version": "3.5.2"
  }
 },
 "nbformat": 4,
 "nbformat_minor": 1
}
