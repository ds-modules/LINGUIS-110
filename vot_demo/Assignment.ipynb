{
 "cells": [
  {
   "cell_type": "markdown",
   "metadata": {},
   "source": [
    "# Linguistics 110: Closure and Voice-Onset Time\n",
    "\n",
    "### Professor Susan Lin\n",
    "\n",
    "This notebook will familiarize you with some of the basic strategies for data analysis that can be useful not only in this course, but possibly for the rest of your time at Cal. We will cover an overview of our computing environment, and then will explore the data on closure and VOT that you submit. \n",
    "\n",
    "If you want a more in-depth introduction to Python, click <a href='http://datahub.berkeley.edu/user-redirect/interact?account=ds-modules&repo=LINGUIS-110&branch=master&path=Intro'>here</a> to explore that notebook. You should be able to get through this entire notebook without that tutorial, it is there if you want to dive deeper into what is going on in the code.\n",
    "\n",
    "## Table of Contents\n",
    "\n",
    "1 - [Computing Environment](#computing environment)\n",
    "\n",
    "2 - [Creating our Dataframe](#dataframe)\n",
    "\n",
    "3 - [Exploring the Data](#exploring data)\n",
    "\n",
    "4 - [Relationships between Closures](#closures)\n",
    "\n",
    "5 - [Exploring Metadata](#metadata)\n",
    "\n",
    "6 - [Comparing to Others](#to class)"
   ]
  },
  {
   "cell_type": "markdown",
   "metadata": {},
   "source": [
    "## 1. Our Computing Environment, Jupyter notebooks  <a id='computing environment'></a>\n",
    "\n",
    "This webpage is called a Jupyter notebook. A notebook is a place to write programs and view their results. \n",
    "\n",
    "### Text cells\n",
    "In a notebook, each rectangle containing text or code is called a *cell*.\n",
    "\n",
    "Text cells (like this one) can be edited by double-clicking on them. They're written in a simple format called [Markdown](http://daringfireball.net/projects/markdown/syntax) to add formatting and section headings.  You don't need to learn Markdown, but you might want to.\n",
    "\n",
    "After you edit a text cell, click the \"run cell\" button at the top that looks like ▶| to confirm any changes. (Try not to delete the instructions of the lab.)"
   ]
  },
  {
   "cell_type": "markdown",
   "metadata": {},
   "source": [
    "**Understanding Check 1** This paragraph is in its own text cell.  Try editing it so that this sentence is the last sentence in the paragraph, and then click the \"run cell\" ▶| button .  This sentence, for example, should be deleted.  So should this one."
   ]
  },
  {
   "cell_type": "markdown",
   "metadata": {},
   "source": [
    "A programming language is a vocabulary and set of grammatical rules for instructing a computer or computing device to perform specific tasks."
   ]
  },
  {
   "cell_type": "markdown",
   "metadata": {},
   "source": [
    "### Code cells\n",
    "Other cells contain code in the Python 3 language. Just like natural human languages, it has rules -- Python is a programming language, which means that it is a set of grammatical rules and vocabulary for instructing a computer to perform tasks. It differs from natural language in two important ways:\n",
    "1. The rules are *simple*.  You can learn most of them in a few weeks and gain reasonable proficiency with the language in a semester.\n",
    "2. The rules are *rigid*.  If you're proficient in a natural language, you can understand a non-proficient speaker, glossing over small mistakes.  A computer running Python code is not smart enough to do that.\n",
    "\n",
    "There's a lot of terminology in programming languages, but you don't need to know it all in order to program effectively. From time to time, you'll see a cryptic message, but you can often get by without deciphering it, by utilizing appropriate resources (sometimes it's as simple as a Google search).\n",
    "\n",
    "Running a code cell will execute all of the code it contains. \n",
    "\n",
    "To run the code in a code cell, first click on that cell to activate it.  It'll be highlighted with a little green or blue rectangle.  Next, either press ▶| or hold down the `shift` key and press `return` or `enter`.\n",
    "\n",
    "Try running this cell:"
   ]
  },
  {
   "cell_type": "code",
   "execution_count": 4,
   "metadata": {},
   "outputs": [
    {
     "name": "stdout",
     "output_type": "stream",
     "text": [
      "Hello, World!\n"
     ]
    }
   ],
   "source": [
    "print(\"Hello, World!\")"
   ]
  },
  {
   "cell_type": "markdown",
   "metadata": {},
   "source": [
    "The fundamental building block of Python code is an expression. Cells can contain multiple lines with multiple expressions. When you run a cell, the lines of code are executed in the order in which they appear. Every `print` expression prints a line. Run the next cell and notice the order of the output."
   ]
  },
  {
   "cell_type": "code",
   "execution_count": 5,
   "metadata": {},
   "outputs": [
    {
     "name": "stdout",
     "output_type": "stream",
     "text": [
      "First this line is printed,\n",
      "and then this one.\n"
     ]
    }
   ],
   "source": [
    "print(\"First this line is printed,\")\n",
    "print(\"and then this one.\")"
   ]
  },
  {
   "cell_type": "markdown",
   "metadata": {},
   "source": [
    "### Writing Jupyter notebooks\n",
    "You can use Jupyter notebooks for your own projects or documents.  When you make your own notebook, you'll need to create your own cells for text and code.\n",
    "\n",
    "To add a cell, click the + button in the menu bar.  It'll start out as a text cell.  You can change it to a code cell by clicking inside it so it's highlighted, clicking the drop-down box next to the restart (⟳) button in the menu bar, and choosing \"Code\"."
   ]
  },
  {
   "cell_type": "markdown",
   "metadata": {},
   "source": [
    "### Other important things to know about the notebook\n",
    "+ Click `File > Save and Checkpoint` to save the notebook.\n",
    "+ This page runs on remote servers, meaning that when you run a cell, the code is sent somewhere else to be interpreted, then sends the results back to you to be displayed. So if you notice that it doesn't seem to be running anymore, try steps in this order:\n",
    "    1. Click `Kernel > Interrupt`, then try running the cell again.\n",
    "    2. Click `Kernel > Restart`, then run through all of the cells.\n",
    "    3. Close and reopen DataHub.\n",
    "+ Plots created in the notebook can be copied and pasted by right-clicking and selecting copy.\n",
    "+ If you want to run all of the cells at once, click `Cell > Run All`.\n",
    "\n",
    "Run the cell below so that we can get started on our module! These are our import statements (and a few other things). Because of the size of the Python community, if there is a function that you want to use, there is a good chance that someone has written one already and been kind enough to share their work in the form of packages. We can start using those packages by writing `import` and then the package name."
   ]
  },
  {
   "cell_type": "code",
   "execution_count": 6,
   "metadata": {
    "collapsed": true
   },
   "outputs": [],
   "source": [
    "# imports -- just run this cell\n",
    "import scipy\n",
    "import numpy as np\n",
    "import pandas as pd\n",
    "import seaborn as sns\n",
    "from scipy.stats import mode\n",
    "from ipywidgets import interact\n",
    "import matplotlib.pyplot as plt\n",
    "from matplotlib.colors import ListedColormap\n",
    "import warnings\n",
    "\n",
    "warnings.filterwarnings('ignore')\n",
    "sns.set_style('darkgrid')\n",
    "%matplotlib inline"
   ]
  },
  {
   "cell_type": "markdown",
   "metadata": {},
   "source": [
    "## 2. Creating our Dataframe <a id='dataframe'></a>\n",
    "We will start by familiarizing ourselves with the data.\n",
    "\n",
    "To visualize the data, we need to load the file first. In the line where we we assign `file_name` to equal the name of our dataset, which is a compilation of the results from the homework you completed last week.\n",
    "\n",
    "Note that we have `data/` in front of the file name, which means that are file `example_data.csv` is in the `data` directory (folder)."
   ]
  },
  {
   "cell_type": "code",
   "execution_count": 7,
   "metadata": {},
   "outputs": [
    {
     "data": {
      "text/html": [
       "<div>\n",
       "<table border=\"1\" class=\"dataframe\">\n",
       "  <thead>\n",
       "    <tr style=\"text-align: right;\">\n",
       "      <th></th>\n",
       "      <th>language</th>\n",
       "      <th>height</th>\n",
       "      <th>pclo</th>\n",
       "      <th>tclo</th>\n",
       "      <th>kclo</th>\n",
       "      <th>pvot</th>\n",
       "      <th>tvot</th>\n",
       "      <th>kvot</th>\n",
       "      <th>bclo</th>\n",
       "      <th>dclo</th>\n",
       "      <th>gclo</th>\n",
       "      <th>bvot</th>\n",
       "      <th>dvot</th>\n",
       "      <th>gvot</th>\n",
       "    </tr>\n",
       "  </thead>\n",
       "  <tbody>\n",
       "    <tr>\n",
       "      <th>0</th>\n",
       "      <td>English</td>\n",
       "      <td>162.50</td>\n",
       "      <td>0.022</td>\n",
       "      <td>0.0207</td>\n",
       "      <td>0.0262</td>\n",
       "      <td>0.086985</td>\n",
       "      <td>0.087877</td>\n",
       "      <td>0.091621</td>\n",
       "      <td>-0.078</td>\n",
       "      <td>-0.0793</td>\n",
       "      <td>-0.0738</td>\n",
       "      <td>-0.013015</td>\n",
       "      <td>-0.012123</td>\n",
       "      <td>-0.008379</td>\n",
       "    </tr>\n",
       "    <tr>\n",
       "      <th>1</th>\n",
       "      <td>English</td>\n",
       "      <td>177.00</td>\n",
       "      <td>0.081</td>\n",
       "      <td>0.0320</td>\n",
       "      <td>0.0390</td>\n",
       "      <td>0.072000</td>\n",
       "      <td>0.049000</td>\n",
       "      <td>0.043000</td>\n",
       "      <td>-0.019</td>\n",
       "      <td>-0.0680</td>\n",
       "      <td>-0.0610</td>\n",
       "      <td>-0.028000</td>\n",
       "      <td>-0.051000</td>\n",
       "      <td>-0.057000</td>\n",
       "    </tr>\n",
       "    <tr>\n",
       "      <th>2</th>\n",
       "      <td>English</td>\n",
       "      <td>170.18</td>\n",
       "      <td>0.070</td>\n",
       "      <td>0.0700</td>\n",
       "      <td>0.0700</td>\n",
       "      <td>0.150000</td>\n",
       "      <td>0.230000</td>\n",
       "      <td>0.120000</td>\n",
       "      <td>-0.030</td>\n",
       "      <td>-0.0300</td>\n",
       "      <td>-0.0300</td>\n",
       "      <td>0.050000</td>\n",
       "      <td>0.130000</td>\n",
       "      <td>0.020000</td>\n",
       "    </tr>\n",
       "    <tr>\n",
       "      <th>3</th>\n",
       "      <td>English</td>\n",
       "      <td>178.00</td>\n",
       "      <td>0.034</td>\n",
       "      <td>0.0560</td>\n",
       "      <td>0.0290</td>\n",
       "      <td>0.170000</td>\n",
       "      <td>0.190000</td>\n",
       "      <td>0.077000</td>\n",
       "      <td>-0.066</td>\n",
       "      <td>-0.0440</td>\n",
       "      <td>-0.0710</td>\n",
       "      <td>0.070000</td>\n",
       "      <td>0.090000</td>\n",
       "      <td>-0.023000</td>\n",
       "    </tr>\n",
       "    <tr>\n",
       "      <th>4</th>\n",
       "      <td>English</td>\n",
       "      <td>177.80</td>\n",
       "      <td>0.144</td>\n",
       "      <td>0.0940</td>\n",
       "      <td>0.0630</td>\n",
       "      <td>0.132000</td>\n",
       "      <td>0.153000</td>\n",
       "      <td>0.177000</td>\n",
       "      <td>0.044</td>\n",
       "      <td>-0.0060</td>\n",
       "      <td>-0.0370</td>\n",
       "      <td>0.032000</td>\n",
       "      <td>0.053000</td>\n",
       "      <td>0.077000</td>\n",
       "    </tr>\n",
       "  </tbody>\n",
       "</table>\n",
       "</div>"
      ],
      "text/plain": [
       "  language  height   pclo    tclo    kclo      pvot      tvot      kvot  \\\n",
       "0  English  162.50  0.022  0.0207  0.0262  0.086985  0.087877  0.091621   \n",
       "1  English  177.00  0.081  0.0320  0.0390  0.072000  0.049000  0.043000   \n",
       "2  English  170.18  0.070  0.0700  0.0700  0.150000  0.230000  0.120000   \n",
       "3  English  178.00  0.034  0.0560  0.0290  0.170000  0.190000  0.077000   \n",
       "4  English  177.80  0.144  0.0940  0.0630  0.132000  0.153000  0.177000   \n",
       "\n",
       "    bclo    dclo    gclo      bvot      dvot      gvot  \n",
       "0 -0.078 -0.0793 -0.0738 -0.013015 -0.012123 -0.008379  \n",
       "1 -0.019 -0.0680 -0.0610 -0.028000 -0.051000 -0.057000  \n",
       "2 -0.030 -0.0300 -0.0300  0.050000  0.130000  0.020000  \n",
       "3 -0.066 -0.0440 -0.0710  0.070000  0.090000 -0.023000  \n",
       "4  0.044 -0.0060 -0.0370  0.032000  0.053000  0.077000  "
      ]
     },
     "execution_count": 7,
     "metadata": {},
     "output_type": "execute_result"
    }
   ],
   "source": [
    "file_name = 'data/example_data.csv'\n",
    "data = pd.read_csv(file_name)\n",
    "data.head()"
   ]
  },
  {
   "cell_type": "markdown",
   "metadata": {},
   "source": [
    "### 2.1 Adding features from our data"
   ]
  },
  {
   "cell_type": "markdown",
   "metadata": {},
   "source": [
    "We are going to add several columns to our dataframe. A column for each of the following:\n",
    "+ The semester of this class (called `class`)\n",
    "+ Average of all closure/vot for each individual (called `clo`/`vot`)\n",
    "+ Average voiced closure/vot for each individual (called `vclo`/`vvot`)\n",
    "+ Average voiceless closure/vot for each individual (called `vlclo`/`vlvot`)"
   ]
  },
  {
   "cell_type": "markdown",
   "metadata": {},
   "source": [
    "First we are just going to add the column `class`. We will set it to be equal to `Fall 2017` for each row."
   ]
  },
  {
   "cell_type": "code",
   "execution_count": 8,
   "metadata": {},
   "outputs": [
    {
     "data": {
      "text/html": [
       "<div>\n",
       "<table border=\"1\" class=\"dataframe\">\n",
       "  <thead>\n",
       "    <tr style=\"text-align: right;\">\n",
       "      <th></th>\n",
       "      <th>language</th>\n",
       "      <th>height</th>\n",
       "      <th>pclo</th>\n",
       "      <th>tclo</th>\n",
       "      <th>kclo</th>\n",
       "      <th>pvot</th>\n",
       "      <th>tvot</th>\n",
       "      <th>kvot</th>\n",
       "      <th>bclo</th>\n",
       "      <th>dclo</th>\n",
       "      <th>gclo</th>\n",
       "      <th>bvot</th>\n",
       "      <th>dvot</th>\n",
       "      <th>gvot</th>\n",
       "      <th>class</th>\n",
       "    </tr>\n",
       "  </thead>\n",
       "  <tbody>\n",
       "    <tr>\n",
       "      <th>0</th>\n",
       "      <td>English</td>\n",
       "      <td>162.50</td>\n",
       "      <td>0.022</td>\n",
       "      <td>0.0207</td>\n",
       "      <td>0.0262</td>\n",
       "      <td>0.086985</td>\n",
       "      <td>0.087877</td>\n",
       "      <td>0.091621</td>\n",
       "      <td>-0.078</td>\n",
       "      <td>-0.0793</td>\n",
       "      <td>-0.0738</td>\n",
       "      <td>-0.013015</td>\n",
       "      <td>-0.012123</td>\n",
       "      <td>-0.008379</td>\n",
       "      <td>Fall 2017</td>\n",
       "    </tr>\n",
       "    <tr>\n",
       "      <th>1</th>\n",
       "      <td>English</td>\n",
       "      <td>177.00</td>\n",
       "      <td>0.081</td>\n",
       "      <td>0.0320</td>\n",
       "      <td>0.0390</td>\n",
       "      <td>0.072000</td>\n",
       "      <td>0.049000</td>\n",
       "      <td>0.043000</td>\n",
       "      <td>-0.019</td>\n",
       "      <td>-0.0680</td>\n",
       "      <td>-0.0610</td>\n",
       "      <td>-0.028000</td>\n",
       "      <td>-0.051000</td>\n",
       "      <td>-0.057000</td>\n",
       "      <td>Fall 2017</td>\n",
       "    </tr>\n",
       "    <tr>\n",
       "      <th>2</th>\n",
       "      <td>English</td>\n",
       "      <td>170.18</td>\n",
       "      <td>0.070</td>\n",
       "      <td>0.0700</td>\n",
       "      <td>0.0700</td>\n",
       "      <td>0.150000</td>\n",
       "      <td>0.230000</td>\n",
       "      <td>0.120000</td>\n",
       "      <td>-0.030</td>\n",
       "      <td>-0.0300</td>\n",
       "      <td>-0.0300</td>\n",
       "      <td>0.050000</td>\n",
       "      <td>0.130000</td>\n",
       "      <td>0.020000</td>\n",
       "      <td>Fall 2017</td>\n",
       "    </tr>\n",
       "    <tr>\n",
       "      <th>3</th>\n",
       "      <td>English</td>\n",
       "      <td>178.00</td>\n",
       "      <td>0.034</td>\n",
       "      <td>0.0560</td>\n",
       "      <td>0.0290</td>\n",
       "      <td>0.170000</td>\n",
       "      <td>0.190000</td>\n",
       "      <td>0.077000</td>\n",
       "      <td>-0.066</td>\n",
       "      <td>-0.0440</td>\n",
       "      <td>-0.0710</td>\n",
       "      <td>0.070000</td>\n",
       "      <td>0.090000</td>\n",
       "      <td>-0.023000</td>\n",
       "      <td>Fall 2017</td>\n",
       "    </tr>\n",
       "    <tr>\n",
       "      <th>4</th>\n",
       "      <td>English</td>\n",
       "      <td>177.80</td>\n",
       "      <td>0.144</td>\n",
       "      <td>0.0940</td>\n",
       "      <td>0.0630</td>\n",
       "      <td>0.132000</td>\n",
       "      <td>0.153000</td>\n",
       "      <td>0.177000</td>\n",
       "      <td>0.044</td>\n",
       "      <td>-0.0060</td>\n",
       "      <td>-0.0370</td>\n",
       "      <td>0.032000</td>\n",
       "      <td>0.053000</td>\n",
       "      <td>0.077000</td>\n",
       "      <td>Fall 2017</td>\n",
       "    </tr>\n",
       "  </tbody>\n",
       "</table>\n",
       "</div>"
      ],
      "text/plain": [
       "  language  height   pclo    tclo    kclo      pvot      tvot      kvot  \\\n",
       "0  English  162.50  0.022  0.0207  0.0262  0.086985  0.087877  0.091621   \n",
       "1  English  177.00  0.081  0.0320  0.0390  0.072000  0.049000  0.043000   \n",
       "2  English  170.18  0.070  0.0700  0.0700  0.150000  0.230000  0.120000   \n",
       "3  English  178.00  0.034  0.0560  0.0290  0.170000  0.190000  0.077000   \n",
       "4  English  177.80  0.144  0.0940  0.0630  0.132000  0.153000  0.177000   \n",
       "\n",
       "    bclo    dclo    gclo      bvot      dvot      gvot      class  \n",
       "0 -0.078 -0.0793 -0.0738 -0.013015 -0.012123 -0.008379  Fall 2017  \n",
       "1 -0.019 -0.0680 -0.0610 -0.028000 -0.051000 -0.057000  Fall 2017  \n",
       "2 -0.030 -0.0300 -0.0300  0.050000  0.130000  0.020000  Fall 2017  \n",
       "3 -0.066 -0.0440 -0.0710  0.070000  0.090000 -0.023000  Fall 2017  \n",
       "4  0.044 -0.0060 -0.0370  0.032000  0.053000  0.077000  Fall 2017  "
      ]
     },
     "execution_count": 8,
     "metadata": {},
     "output_type": "execute_result"
    }
   ],
   "source": [
    "data['class'] = 'Fall 2017'\n",
    "data.head()"
   ]
  },
  {
   "cell_type": "markdown",
   "metadata": {},
   "source": [
    "Next we will add the column for the average of all of the closures for each row. First we will pull out just the columns that we want to take the average of."
   ]
  },
  {
   "cell_type": "code",
   "execution_count": 9,
   "metadata": {},
   "outputs": [
    {
     "data": {
      "text/html": [
       "<div>\n",
       "<table border=\"1\" class=\"dataframe\">\n",
       "  <thead>\n",
       "    <tr style=\"text-align: right;\">\n",
       "      <th></th>\n",
       "      <th>pclo</th>\n",
       "      <th>tclo</th>\n",
       "      <th>kclo</th>\n",
       "      <th>bclo</th>\n",
       "      <th>dclo</th>\n",
       "      <th>gclo</th>\n",
       "    </tr>\n",
       "  </thead>\n",
       "  <tbody>\n",
       "    <tr>\n",
       "      <th>0</th>\n",
       "      <td>0.022</td>\n",
       "      <td>0.0207</td>\n",
       "      <td>0.0262</td>\n",
       "      <td>-0.078</td>\n",
       "      <td>-0.0793</td>\n",
       "      <td>-0.0738</td>\n",
       "    </tr>\n",
       "    <tr>\n",
       "      <th>1</th>\n",
       "      <td>0.081</td>\n",
       "      <td>0.0320</td>\n",
       "      <td>0.0390</td>\n",
       "      <td>-0.019</td>\n",
       "      <td>-0.0680</td>\n",
       "      <td>-0.0610</td>\n",
       "    </tr>\n",
       "    <tr>\n",
       "      <th>2</th>\n",
       "      <td>0.070</td>\n",
       "      <td>0.0700</td>\n",
       "      <td>0.0700</td>\n",
       "      <td>-0.030</td>\n",
       "      <td>-0.0300</td>\n",
       "      <td>-0.0300</td>\n",
       "    </tr>\n",
       "    <tr>\n",
       "      <th>3</th>\n",
       "      <td>0.034</td>\n",
       "      <td>0.0560</td>\n",
       "      <td>0.0290</td>\n",
       "      <td>-0.066</td>\n",
       "      <td>-0.0440</td>\n",
       "      <td>-0.0710</td>\n",
       "    </tr>\n",
       "    <tr>\n",
       "      <th>4</th>\n",
       "      <td>0.144</td>\n",
       "      <td>0.0940</td>\n",
       "      <td>0.0630</td>\n",
       "      <td>0.044</td>\n",
       "      <td>-0.0060</td>\n",
       "      <td>-0.0370</td>\n",
       "    </tr>\n",
       "  </tbody>\n",
       "</table>\n",
       "</div>"
      ],
      "text/plain": [
       "    pclo    tclo    kclo   bclo    dclo    gclo\n",
       "0  0.022  0.0207  0.0262 -0.078 -0.0793 -0.0738\n",
       "1  0.081  0.0320  0.0390 -0.019 -0.0680 -0.0610\n",
       "2  0.070  0.0700  0.0700 -0.030 -0.0300 -0.0300\n",
       "3  0.034  0.0560  0.0290 -0.066 -0.0440 -0.0710\n",
       "4  0.144  0.0940  0.0630  0.044 -0.0060 -0.0370"
      ]
     },
     "execution_count": 9,
     "metadata": {},
     "output_type": "execute_result"
    }
   ],
   "source": [
    "subset = data[['pclo', 'tclo', 'kclo', 'bclo', 'dclo', 'gclo']]\n",
    "subset.head()"
   ]
  },
  {
   "cell_type": "markdown",
   "metadata": {},
   "source": [
    "Then we will take the average across those rows."
   ]
  },
  {
   "cell_type": "code",
   "execution_count": 10,
   "metadata": {
    "scrolled": true
   },
   "outputs": [
    {
     "data": {
      "text/plain": [
       "0    -0.027033\n",
       "1     0.000667\n",
       "2     0.020000\n",
       "3    -0.010333\n",
       "4     0.050333\n",
       "5     0.105667\n",
       "6     0.082664\n",
       "7     0.048000\n",
       "8     0.022115\n",
       "9     0.072333\n",
       "10    0.063333\n",
       "11    0.073667\n",
       "12    0.011000\n",
       "13    0.071667\n",
       "14    0.020000\n",
       "15    0.005185\n",
       "16    0.013633\n",
       "17    0.033000\n",
       "18    0.151000\n",
       "19    0.007667\n",
       "20    0.015333\n",
       "21    0.028172\n",
       "22    0.035000\n",
       "23    0.072293\n",
       "24   -0.032992\n",
       "25    0.135900\n",
       "26    0.093600\n",
       "27    0.033067\n",
       "28    0.094817\n",
       "29    0.048361\n",
       "        ...   \n",
       "57    0.050733\n",
       "58   -0.008000\n",
       "59    0.028000\n",
       "60   -0.024667\n",
       "61    0.047156\n",
       "62    0.023667\n",
       "63   -0.011167\n",
       "64   -0.042640\n",
       "65    0.020143\n",
       "66    0.009248\n",
       "67    0.013000\n",
       "68    0.088483\n",
       "69    0.061667\n",
       "70   -0.012767\n",
       "71    0.026000\n",
       "72    0.041035\n",
       "73    0.037219\n",
       "74    0.006860\n",
       "75    0.068000\n",
       "76   -0.004000\n",
       "77    0.010000\n",
       "78    0.023103\n",
       "79    0.056350\n",
       "80    0.040333\n",
       "81    0.024403\n",
       "82    0.009533\n",
       "83   -0.021998\n",
       "84    0.023667\n",
       "85    0.005493\n",
       "86   -0.019333\n",
       "dtype: float64"
      ]
     },
     "execution_count": 10,
     "metadata": {},
     "output_type": "execute_result"
    }
   ],
   "source": [
    "clo_avg = subset.mean(axis=1)\n",
    "clo_avg"
   ]
  },
  {
   "cell_type": "markdown",
   "metadata": {},
   "source": [
    "And finally, we will append those values to our dataframe as a column called `clo`."
   ]
  },
  {
   "cell_type": "code",
   "execution_count": 11,
   "metadata": {},
   "outputs": [
    {
     "data": {
      "text/html": [
       "<div>\n",
       "<table border=\"1\" class=\"dataframe\">\n",
       "  <thead>\n",
       "    <tr style=\"text-align: right;\">\n",
       "      <th></th>\n",
       "      <th>language</th>\n",
       "      <th>height</th>\n",
       "      <th>pclo</th>\n",
       "      <th>tclo</th>\n",
       "      <th>kclo</th>\n",
       "      <th>pvot</th>\n",
       "      <th>tvot</th>\n",
       "      <th>kvot</th>\n",
       "      <th>bclo</th>\n",
       "      <th>dclo</th>\n",
       "      <th>gclo</th>\n",
       "      <th>bvot</th>\n",
       "      <th>dvot</th>\n",
       "      <th>gvot</th>\n",
       "      <th>class</th>\n",
       "      <th>clo</th>\n",
       "    </tr>\n",
       "  </thead>\n",
       "  <tbody>\n",
       "    <tr>\n",
       "      <th>0</th>\n",
       "      <td>English</td>\n",
       "      <td>162.50</td>\n",
       "      <td>0.022</td>\n",
       "      <td>0.0207</td>\n",
       "      <td>0.0262</td>\n",
       "      <td>0.086985</td>\n",
       "      <td>0.087877</td>\n",
       "      <td>0.091621</td>\n",
       "      <td>-0.078</td>\n",
       "      <td>-0.0793</td>\n",
       "      <td>-0.0738</td>\n",
       "      <td>-0.013015</td>\n",
       "      <td>-0.012123</td>\n",
       "      <td>-0.008379</td>\n",
       "      <td>Fall 2017</td>\n",
       "      <td>-0.027033</td>\n",
       "    </tr>\n",
       "    <tr>\n",
       "      <th>1</th>\n",
       "      <td>English</td>\n",
       "      <td>177.00</td>\n",
       "      <td>0.081</td>\n",
       "      <td>0.0320</td>\n",
       "      <td>0.0390</td>\n",
       "      <td>0.072000</td>\n",
       "      <td>0.049000</td>\n",
       "      <td>0.043000</td>\n",
       "      <td>-0.019</td>\n",
       "      <td>-0.0680</td>\n",
       "      <td>-0.0610</td>\n",
       "      <td>-0.028000</td>\n",
       "      <td>-0.051000</td>\n",
       "      <td>-0.057000</td>\n",
       "      <td>Fall 2017</td>\n",
       "      <td>0.000667</td>\n",
       "    </tr>\n",
       "    <tr>\n",
       "      <th>2</th>\n",
       "      <td>English</td>\n",
       "      <td>170.18</td>\n",
       "      <td>0.070</td>\n",
       "      <td>0.0700</td>\n",
       "      <td>0.0700</td>\n",
       "      <td>0.150000</td>\n",
       "      <td>0.230000</td>\n",
       "      <td>0.120000</td>\n",
       "      <td>-0.030</td>\n",
       "      <td>-0.0300</td>\n",
       "      <td>-0.0300</td>\n",
       "      <td>0.050000</td>\n",
       "      <td>0.130000</td>\n",
       "      <td>0.020000</td>\n",
       "      <td>Fall 2017</td>\n",
       "      <td>0.020000</td>\n",
       "    </tr>\n",
       "    <tr>\n",
       "      <th>3</th>\n",
       "      <td>English</td>\n",
       "      <td>178.00</td>\n",
       "      <td>0.034</td>\n",
       "      <td>0.0560</td>\n",
       "      <td>0.0290</td>\n",
       "      <td>0.170000</td>\n",
       "      <td>0.190000</td>\n",
       "      <td>0.077000</td>\n",
       "      <td>-0.066</td>\n",
       "      <td>-0.0440</td>\n",
       "      <td>-0.0710</td>\n",
       "      <td>0.070000</td>\n",
       "      <td>0.090000</td>\n",
       "      <td>-0.023000</td>\n",
       "      <td>Fall 2017</td>\n",
       "      <td>-0.010333</td>\n",
       "    </tr>\n",
       "    <tr>\n",
       "      <th>4</th>\n",
       "      <td>English</td>\n",
       "      <td>177.80</td>\n",
       "      <td>0.144</td>\n",
       "      <td>0.0940</td>\n",
       "      <td>0.0630</td>\n",
       "      <td>0.132000</td>\n",
       "      <td>0.153000</td>\n",
       "      <td>0.177000</td>\n",
       "      <td>0.044</td>\n",
       "      <td>-0.0060</td>\n",
       "      <td>-0.0370</td>\n",
       "      <td>0.032000</td>\n",
       "      <td>0.053000</td>\n",
       "      <td>0.077000</td>\n",
       "      <td>Fall 2017</td>\n",
       "      <td>0.050333</td>\n",
       "    </tr>\n",
       "  </tbody>\n",
       "</table>\n",
       "</div>"
      ],
      "text/plain": [
       "  language  height   pclo    tclo    kclo      pvot      tvot      kvot  \\\n",
       "0  English  162.50  0.022  0.0207  0.0262  0.086985  0.087877  0.091621   \n",
       "1  English  177.00  0.081  0.0320  0.0390  0.072000  0.049000  0.043000   \n",
       "2  English  170.18  0.070  0.0700  0.0700  0.150000  0.230000  0.120000   \n",
       "3  English  178.00  0.034  0.0560  0.0290  0.170000  0.190000  0.077000   \n",
       "4  English  177.80  0.144  0.0940  0.0630  0.132000  0.153000  0.177000   \n",
       "\n",
       "    bclo    dclo    gclo      bvot      dvot      gvot      class       clo  \n",
       "0 -0.078 -0.0793 -0.0738 -0.013015 -0.012123 -0.008379  Fall 2017 -0.027033  \n",
       "1 -0.019 -0.0680 -0.0610 -0.028000 -0.051000 -0.057000  Fall 2017  0.000667  \n",
       "2 -0.030 -0.0300 -0.0300  0.050000  0.130000  0.020000  Fall 2017  0.020000  \n",
       "3 -0.066 -0.0440 -0.0710  0.070000  0.090000 -0.023000  Fall 2017 -0.010333  \n",
       "4  0.044 -0.0060 -0.0370  0.032000  0.053000  0.077000  Fall 2017  0.050333  "
      ]
     },
     "execution_count": 11,
     "metadata": {},
     "output_type": "execute_result"
    }
   ],
   "source": [
    "data['clo'] = clo_avg\n",
    "data.head()"
   ]
  },
  {
   "cell_type": "markdown",
   "metadata": {},
   "source": [
    "We then repeat this process for all of the other columns that we want to create."
   ]
  },
  {
   "cell_type": "code",
   "execution_count": 12,
   "metadata": {
    "scrolled": true
   },
   "outputs": [
    {
     "data": {
      "text/html": [
       "<div>\n",
       "<table border=\"1\" class=\"dataframe\">\n",
       "  <thead>\n",
       "    <tr style=\"text-align: right;\">\n",
       "      <th></th>\n",
       "      <th>language</th>\n",
       "      <th>height</th>\n",
       "      <th>pclo</th>\n",
       "      <th>tclo</th>\n",
       "      <th>kclo</th>\n",
       "      <th>pvot</th>\n",
       "      <th>tvot</th>\n",
       "      <th>kvot</th>\n",
       "      <th>bclo</th>\n",
       "      <th>dclo</th>\n",
       "      <th>...</th>\n",
       "      <th>bvot</th>\n",
       "      <th>dvot</th>\n",
       "      <th>gvot</th>\n",
       "      <th>class</th>\n",
       "      <th>clo</th>\n",
       "      <th>vot</th>\n",
       "      <th>vclo</th>\n",
       "      <th>vvot</th>\n",
       "      <th>vlclo</th>\n",
       "      <th>vlvot</th>\n",
       "    </tr>\n",
       "  </thead>\n",
       "  <tbody>\n",
       "    <tr>\n",
       "      <th>0</th>\n",
       "      <td>English</td>\n",
       "      <td>162.50</td>\n",
       "      <td>0.022</td>\n",
       "      <td>0.0207</td>\n",
       "      <td>0.0262</td>\n",
       "      <td>0.086985</td>\n",
       "      <td>0.087877</td>\n",
       "      <td>0.091621</td>\n",
       "      <td>-0.078</td>\n",
       "      <td>-0.0793</td>\n",
       "      <td>...</td>\n",
       "      <td>-0.013015</td>\n",
       "      <td>-0.012123</td>\n",
       "      <td>-0.008379</td>\n",
       "      <td>Fall 2017</td>\n",
       "      <td>-0.027033</td>\n",
       "      <td>0.038828</td>\n",
       "      <td>0.022967</td>\n",
       "      <td>0.088828</td>\n",
       "      <td>-0.077033</td>\n",
       "      <td>-0.011172</td>\n",
       "    </tr>\n",
       "    <tr>\n",
       "      <th>1</th>\n",
       "      <td>English</td>\n",
       "      <td>177.00</td>\n",
       "      <td>0.081</td>\n",
       "      <td>0.0320</td>\n",
       "      <td>0.0390</td>\n",
       "      <td>0.072000</td>\n",
       "      <td>0.049000</td>\n",
       "      <td>0.043000</td>\n",
       "      <td>-0.019</td>\n",
       "      <td>-0.0680</td>\n",
       "      <td>...</td>\n",
       "      <td>-0.028000</td>\n",
       "      <td>-0.051000</td>\n",
       "      <td>-0.057000</td>\n",
       "      <td>Fall 2017</td>\n",
       "      <td>0.000667</td>\n",
       "      <td>0.004667</td>\n",
       "      <td>0.050667</td>\n",
       "      <td>0.054667</td>\n",
       "      <td>-0.049333</td>\n",
       "      <td>-0.045333</td>\n",
       "    </tr>\n",
       "    <tr>\n",
       "      <th>2</th>\n",
       "      <td>English</td>\n",
       "      <td>170.18</td>\n",
       "      <td>0.070</td>\n",
       "      <td>0.0700</td>\n",
       "      <td>0.0700</td>\n",
       "      <td>0.150000</td>\n",
       "      <td>0.230000</td>\n",
       "      <td>0.120000</td>\n",
       "      <td>-0.030</td>\n",
       "      <td>-0.0300</td>\n",
       "      <td>...</td>\n",
       "      <td>0.050000</td>\n",
       "      <td>0.130000</td>\n",
       "      <td>0.020000</td>\n",
       "      <td>Fall 2017</td>\n",
       "      <td>0.020000</td>\n",
       "      <td>0.116667</td>\n",
       "      <td>0.070000</td>\n",
       "      <td>0.166667</td>\n",
       "      <td>-0.030000</td>\n",
       "      <td>0.066667</td>\n",
       "    </tr>\n",
       "    <tr>\n",
       "      <th>3</th>\n",
       "      <td>English</td>\n",
       "      <td>178.00</td>\n",
       "      <td>0.034</td>\n",
       "      <td>0.0560</td>\n",
       "      <td>0.0290</td>\n",
       "      <td>0.170000</td>\n",
       "      <td>0.190000</td>\n",
       "      <td>0.077000</td>\n",
       "      <td>-0.066</td>\n",
       "      <td>-0.0440</td>\n",
       "      <td>...</td>\n",
       "      <td>0.070000</td>\n",
       "      <td>0.090000</td>\n",
       "      <td>-0.023000</td>\n",
       "      <td>Fall 2017</td>\n",
       "      <td>-0.010333</td>\n",
       "      <td>0.095667</td>\n",
       "      <td>0.039667</td>\n",
       "      <td>0.145667</td>\n",
       "      <td>-0.060333</td>\n",
       "      <td>0.045667</td>\n",
       "    </tr>\n",
       "    <tr>\n",
       "      <th>4</th>\n",
       "      <td>English</td>\n",
       "      <td>177.80</td>\n",
       "      <td>0.144</td>\n",
       "      <td>0.0940</td>\n",
       "      <td>0.0630</td>\n",
       "      <td>0.132000</td>\n",
       "      <td>0.153000</td>\n",
       "      <td>0.177000</td>\n",
       "      <td>0.044</td>\n",
       "      <td>-0.0060</td>\n",
       "      <td>...</td>\n",
       "      <td>0.032000</td>\n",
       "      <td>0.053000</td>\n",
       "      <td>0.077000</td>\n",
       "      <td>Fall 2017</td>\n",
       "      <td>0.050333</td>\n",
       "      <td>0.104000</td>\n",
       "      <td>0.100333</td>\n",
       "      <td>0.154000</td>\n",
       "      <td>0.000333</td>\n",
       "      <td>0.054000</td>\n",
       "    </tr>\n",
       "  </tbody>\n",
       "</table>\n",
       "<p>5 rows × 21 columns</p>\n",
       "</div>"
      ],
      "text/plain": [
       "  language  height   pclo    tclo    kclo      pvot      tvot      kvot  \\\n",
       "0  English  162.50  0.022  0.0207  0.0262  0.086985  0.087877  0.091621   \n",
       "1  English  177.00  0.081  0.0320  0.0390  0.072000  0.049000  0.043000   \n",
       "2  English  170.18  0.070  0.0700  0.0700  0.150000  0.230000  0.120000   \n",
       "3  English  178.00  0.034  0.0560  0.0290  0.170000  0.190000  0.077000   \n",
       "4  English  177.80  0.144  0.0940  0.0630  0.132000  0.153000  0.177000   \n",
       "\n",
       "    bclo    dclo    ...         bvot      dvot      gvot      class       clo  \\\n",
       "0 -0.078 -0.0793    ...    -0.013015 -0.012123 -0.008379  Fall 2017 -0.027033   \n",
       "1 -0.019 -0.0680    ...    -0.028000 -0.051000 -0.057000  Fall 2017  0.000667   \n",
       "2 -0.030 -0.0300    ...     0.050000  0.130000  0.020000  Fall 2017  0.020000   \n",
       "3 -0.066 -0.0440    ...     0.070000  0.090000 -0.023000  Fall 2017 -0.010333   \n",
       "4  0.044 -0.0060    ...     0.032000  0.053000  0.077000  Fall 2017  0.050333   \n",
       "\n",
       "        vot      vclo      vvot     vlclo     vlvot  \n",
       "0  0.038828  0.022967  0.088828 -0.077033 -0.011172  \n",
       "1  0.004667  0.050667  0.054667 -0.049333 -0.045333  \n",
       "2  0.116667  0.070000  0.166667 -0.030000  0.066667  \n",
       "3  0.095667  0.039667  0.145667 -0.060333  0.045667  \n",
       "4  0.104000  0.100333  0.154000  0.000333  0.054000  \n",
       "\n",
       "[5 rows x 21 columns]"
      ]
     },
     "execution_count": 12,
     "metadata": {},
     "output_type": "execute_result"
    }
   ],
   "source": [
    "data['vot'] = data[['pvot', 'tvot', 'kvot', 'bvot', 'dvot', 'gvot']].mean(axis=1)\n",
    "data['vclo'] = data[['pclo', 'tclo', 'kclo']].mean(axis=1)\n",
    "data['vvot'] = data[['pvot', 'tvot', 'kvot']].mean(axis=1)\n",
    "data['vlclo'] = data[['bclo', 'dclo', 'gclo']].mean(axis=1)\n",
    "data['vlvot'] = data[['bvot', 'dvot', 'gvot']].mean(axis=1)\n",
    "data.head()"
   ]
  },
  {
   "cell_type": "markdown",
   "metadata": {},
   "source": [
    "# 3. Exploring the Data <a id='exploring data'></a>"
   ]
  },
  {
   "cell_type": "markdown",
   "metadata": {},
   "source": [
    "### 3.1 Descriptive Statistics\n",
    "Below we compute the some basic properties about the column `clo`."
   ]
  },
  {
   "cell_type": "code",
   "execution_count": 13,
   "metadata": {},
   "outputs": [
    {
     "name": "stdout",
     "output_type": "stream",
     "text": [
      "Mode:  -0.0426404333333\n"
     ]
    },
    {
     "data": {
      "text/plain": [
       "count    87.000000\n",
       "mean      0.034279\n",
       "std       0.037605\n",
       "min      -0.042640\n",
       "25%       0.009391\n",
       "50%       0.028172\n",
       "75%       0.056342\n",
       "max       0.151000\n",
       "Name: clo, dtype: float64"
      ]
     },
     "execution_count": 13,
     "metadata": {},
     "output_type": "execute_result"
    }
   ],
   "source": [
    "closure_mode = mode(data.clo)[0][0]\n",
    "print('Mode: ', closure_mode)\n",
    "\n",
    "data.clo.describe()"
   ]
  },
  {
   "cell_type": "markdown",
   "metadata": {},
   "source": [
    "We can calculate all of the above statistics for the entire table with one line."
   ]
  },
  {
   "cell_type": "code",
   "execution_count": 14,
   "metadata": {},
   "outputs": [
    {
     "data": {
      "text/html": [
       "<div>\n",
       "<table border=\"1\" class=\"dataframe\">\n",
       "  <thead>\n",
       "    <tr style=\"text-align: right;\">\n",
       "      <th></th>\n",
       "      <th>height</th>\n",
       "      <th>pclo</th>\n",
       "      <th>tclo</th>\n",
       "      <th>kclo</th>\n",
       "      <th>pvot</th>\n",
       "      <th>tvot</th>\n",
       "      <th>kvot</th>\n",
       "      <th>bclo</th>\n",
       "      <th>dclo</th>\n",
       "      <th>gclo</th>\n",
       "      <th>bvot</th>\n",
       "      <th>dvot</th>\n",
       "      <th>gvot</th>\n",
       "      <th>clo</th>\n",
       "      <th>vot</th>\n",
       "      <th>vclo</th>\n",
       "      <th>vvot</th>\n",
       "      <th>vlclo</th>\n",
       "      <th>vlvot</th>\n",
       "    </tr>\n",
       "  </thead>\n",
       "  <tbody>\n",
       "    <tr>\n",
       "      <th>count</th>\n",
       "      <td>87.000000</td>\n",
       "      <td>87.000000</td>\n",
       "      <td>87.000000</td>\n",
       "      <td>87.000000</td>\n",
       "      <td>87.000000</td>\n",
       "      <td>87.000000</td>\n",
       "      <td>87.000000</td>\n",
       "      <td>87.000000</td>\n",
       "      <td>87.000000</td>\n",
       "      <td>87.000000</td>\n",
       "      <td>87.000000</td>\n",
       "      <td>87.000000</td>\n",
       "      <td>87.000000</td>\n",
       "      <td>87.000000</td>\n",
       "      <td>87.000000</td>\n",
       "      <td>87.000000</td>\n",
       "      <td>87.000000</td>\n",
       "      <td>87.000000</td>\n",
       "      <td>87.000000</td>\n",
       "    </tr>\n",
       "    <tr>\n",
       "      <th>mean</th>\n",
       "      <td>168.091609</td>\n",
       "      <td>0.091137</td>\n",
       "      <td>0.083097</td>\n",
       "      <td>0.078603</td>\n",
       "      <td>0.081617</td>\n",
       "      <td>0.091156</td>\n",
       "      <td>0.095466</td>\n",
       "      <td>-0.008863</td>\n",
       "      <td>-0.016903</td>\n",
       "      <td>-0.021397</td>\n",
       "      <td>-0.018383</td>\n",
       "      <td>-0.008844</td>\n",
       "      <td>-0.004534</td>\n",
       "      <td>0.034279</td>\n",
       "      <td>0.039413</td>\n",
       "      <td>0.084279</td>\n",
       "      <td>0.089413</td>\n",
       "      <td>-0.015721</td>\n",
       "      <td>-0.010587</td>\n",
       "    </tr>\n",
       "    <tr>\n",
       "      <th>std</th>\n",
       "      <td>9.909155</td>\n",
       "      <td>0.043835</td>\n",
       "      <td>0.039368</td>\n",
       "      <td>0.037421</td>\n",
       "      <td>0.028761</td>\n",
       "      <td>0.034135</td>\n",
       "      <td>0.069755</td>\n",
       "      <td>0.043835</td>\n",
       "      <td>0.039368</td>\n",
       "      <td>0.037421</td>\n",
       "      <td>0.028761</td>\n",
       "      <td>0.034135</td>\n",
       "      <td>0.069755</td>\n",
       "      <td>0.037605</td>\n",
       "      <td>0.031818</td>\n",
       "      <td>0.037605</td>\n",
       "      <td>0.031818</td>\n",
       "      <td>0.037605</td>\n",
       "      <td>0.031818</td>\n",
       "    </tr>\n",
       "    <tr>\n",
       "      <th>min</th>\n",
       "      <td>132.000000</td>\n",
       "      <td>0.007953</td>\n",
       "      <td>0.006938</td>\n",
       "      <td>0.007188</td>\n",
       "      <td>0.016649</td>\n",
       "      <td>0.007000</td>\n",
       "      <td>0.009497</td>\n",
       "      <td>-0.092047</td>\n",
       "      <td>-0.093062</td>\n",
       "      <td>-0.092812</td>\n",
       "      <td>-0.083351</td>\n",
       "      <td>-0.093000</td>\n",
       "      <td>-0.090503</td>\n",
       "      <td>-0.042640</td>\n",
       "      <td>-0.031000</td>\n",
       "      <td>0.007360</td>\n",
       "      <td>0.019000</td>\n",
       "      <td>-0.092640</td>\n",
       "      <td>-0.081000</td>\n",
       "    </tr>\n",
       "    <tr>\n",
       "      <th>25%</th>\n",
       "      <td>162.000000</td>\n",
       "      <td>0.068500</td>\n",
       "      <td>0.056000</td>\n",
       "      <td>0.051089</td>\n",
       "      <td>0.059875</td>\n",
       "      <td>0.072994</td>\n",
       "      <td>0.074500</td>\n",
       "      <td>-0.031500</td>\n",
       "      <td>-0.044000</td>\n",
       "      <td>-0.048911</td>\n",
       "      <td>-0.040125</td>\n",
       "      <td>-0.027006</td>\n",
       "      <td>-0.025500</td>\n",
       "      <td>0.009391</td>\n",
       "      <td>0.022667</td>\n",
       "      <td>0.059391</td>\n",
       "      <td>0.072667</td>\n",
       "      <td>-0.040609</td>\n",
       "      <td>-0.027333</td>\n",
       "    </tr>\n",
       "    <tr>\n",
       "      <th>50%</th>\n",
       "      <td>167.640000</td>\n",
       "      <td>0.084000</td>\n",
       "      <td>0.075000</td>\n",
       "      <td>0.073000</td>\n",
       "      <td>0.081000</td>\n",
       "      <td>0.092763</td>\n",
       "      <td>0.088521</td>\n",
       "      <td>-0.016000</td>\n",
       "      <td>-0.025000</td>\n",
       "      <td>-0.027000</td>\n",
       "      <td>-0.019000</td>\n",
       "      <td>-0.007237</td>\n",
       "      <td>-0.011479</td>\n",
       "      <td>0.028172</td>\n",
       "      <td>0.036333</td>\n",
       "      <td>0.078172</td>\n",
       "      <td>0.086333</td>\n",
       "      <td>-0.021828</td>\n",
       "      <td>-0.013667</td>\n",
       "    </tr>\n",
       "    <tr>\n",
       "      <th>75%</th>\n",
       "      <td>176.130000</td>\n",
       "      <td>0.122672</td>\n",
       "      <td>0.112329</td>\n",
       "      <td>0.100968</td>\n",
       "      <td>0.099845</td>\n",
       "      <td>0.105190</td>\n",
       "      <td>0.105250</td>\n",
       "      <td>0.022672</td>\n",
       "      <td>0.012329</td>\n",
       "      <td>0.000967</td>\n",
       "      <td>-0.000155</td>\n",
       "      <td>0.005189</td>\n",
       "      <td>0.005250</td>\n",
       "      <td>0.056342</td>\n",
       "      <td>0.051473</td>\n",
       "      <td>0.106342</td>\n",
       "      <td>0.101473</td>\n",
       "      <td>0.006342</td>\n",
       "      <td>0.001472</td>\n",
       "    </tr>\n",
       "    <tr>\n",
       "      <th>max</th>\n",
       "      <td>185.420000</td>\n",
       "      <td>0.245000</td>\n",
       "      <td>0.179170</td>\n",
       "      <td>0.204000</td>\n",
       "      <td>0.170000</td>\n",
       "      <td>0.230000</td>\n",
       "      <td>0.672280</td>\n",
       "      <td>0.145000</td>\n",
       "      <td>0.079170</td>\n",
       "      <td>0.104000</td>\n",
       "      <td>0.070000</td>\n",
       "      <td>0.130000</td>\n",
       "      <td>0.572280</td>\n",
       "      <td>0.151000</td>\n",
       "      <td>0.211897</td>\n",
       "      <td>0.201000</td>\n",
       "      <td>0.261897</td>\n",
       "      <td>0.101000</td>\n",
       "      <td>0.161897</td>\n",
       "    </tr>\n",
       "  </tbody>\n",
       "</table>\n",
       "</div>"
      ],
      "text/plain": [
       "           height       pclo       tclo       kclo       pvot       tvot  \\\n",
       "count   87.000000  87.000000  87.000000  87.000000  87.000000  87.000000   \n",
       "mean   168.091609   0.091137   0.083097   0.078603   0.081617   0.091156   \n",
       "std      9.909155   0.043835   0.039368   0.037421   0.028761   0.034135   \n",
       "min    132.000000   0.007953   0.006938   0.007188   0.016649   0.007000   \n",
       "25%    162.000000   0.068500   0.056000   0.051089   0.059875   0.072994   \n",
       "50%    167.640000   0.084000   0.075000   0.073000   0.081000   0.092763   \n",
       "75%    176.130000   0.122672   0.112329   0.100968   0.099845   0.105190   \n",
       "max    185.420000   0.245000   0.179170   0.204000   0.170000   0.230000   \n",
       "\n",
       "            kvot       bclo       dclo       gclo       bvot       dvot  \\\n",
       "count  87.000000  87.000000  87.000000  87.000000  87.000000  87.000000   \n",
       "mean    0.095466  -0.008863  -0.016903  -0.021397  -0.018383  -0.008844   \n",
       "std     0.069755   0.043835   0.039368   0.037421   0.028761   0.034135   \n",
       "min     0.009497  -0.092047  -0.093062  -0.092812  -0.083351  -0.093000   \n",
       "25%     0.074500  -0.031500  -0.044000  -0.048911  -0.040125  -0.027006   \n",
       "50%     0.088521  -0.016000  -0.025000  -0.027000  -0.019000  -0.007237   \n",
       "75%     0.105250   0.022672   0.012329   0.000967  -0.000155   0.005189   \n",
       "max     0.672280   0.145000   0.079170   0.104000   0.070000   0.130000   \n",
       "\n",
       "            gvot        clo        vot       vclo       vvot      vlclo  \\\n",
       "count  87.000000  87.000000  87.000000  87.000000  87.000000  87.000000   \n",
       "mean   -0.004534   0.034279   0.039413   0.084279   0.089413  -0.015721   \n",
       "std     0.069755   0.037605   0.031818   0.037605   0.031818   0.037605   \n",
       "min    -0.090503  -0.042640  -0.031000   0.007360   0.019000  -0.092640   \n",
       "25%    -0.025500   0.009391   0.022667   0.059391   0.072667  -0.040609   \n",
       "50%    -0.011479   0.028172   0.036333   0.078172   0.086333  -0.021828   \n",
       "75%     0.005250   0.056342   0.051473   0.106342   0.101473   0.006342   \n",
       "max     0.572280   0.151000   0.211897   0.201000   0.261897   0.101000   \n",
       "\n",
       "           vlvot  \n",
       "count  87.000000  \n",
       "mean   -0.010587  \n",
       "std     0.031818  \n",
       "min    -0.081000  \n",
       "25%    -0.027333  \n",
       "50%    -0.013667  \n",
       "75%     0.001472  \n",
       "max     0.161897  "
      ]
     },
     "execution_count": 14,
     "metadata": {},
     "output_type": "execute_result"
    }
   ],
   "source": [
    "data.describe()"
   ]
  },
  {
   "cell_type": "markdown",
   "metadata": {},
   "source": [
    "### 3.2 Data Visualization\n",
    "Now that we have our data in order, let's get a picture of the data with some plots."
   ]
  },
  {
   "cell_type": "markdown",
   "metadata": {},
   "source": [
    "Let's start by visualizing the distribution of `vot` with a histogram."
   ]
  },
  {
   "cell_type": "code",
   "execution_count": 15,
   "metadata": {},
   "outputs": [
    {
     "data": {
      "text/plain": [
       "<matplotlib.axes._subplots.AxesSubplot at 0x114e7f400>"
      ]
     },
     "execution_count": 15,
     "metadata": {},
     "output_type": "execute_result"
    },
    {
     "data": {
      "image/png": "[encoded data removed]",
      "text/plain": [
       "<matplotlib.figure.Figure at 0x114e76e80>"
      ]
     },
     "metadata": {},
     "output_type": "display_data"
    }
   ],
   "source": [
    "sns.distplot(data['vot'], kde_kws={\"label\": \"vot\"})"
   ]
  },
  {
   "cell_type": "markdown",
   "metadata": {},
   "source": [
    "Next, we'll compare the distributions of the voiced and voiceless voice-onset times."
   ]
  },
  {
   "cell_type": "code",
   "execution_count": 16,
   "metadata": {},
   "outputs": [
    {
     "data": {
      "text/plain": [
       "<matplotlib.text.Text at 0x1150acf60>"
      ]
     },
     "execution_count": 16,
     "metadata": {},
     "output_type": "execute_result"
    },
    {
     "data": {
      "image/png": "[encoded data removed]",
      "text/plain": [
       "<matplotlib.figure.Figure at 0x114e76518>"
      ]
     },
     "metadata": {},
     "output_type": "display_data"
    }
   ],
   "source": [
    "sns.distplot(data['vvot'], kde_kws={\"label\": \"voiced vot\"})\n",
    "sns.distplot(data['vlvot'], kde_kws={\"label\": \"voiceless vot\"})\n",
    "plt.xlabel('ms')"
   ]
  },
  {
   "cell_type": "markdown",
   "metadata": {},
   "source": [
    "The distributions of the three voiced stops are below."
   ]
  },
  {
   "cell_type": "code",
   "execution_count": 17,
   "metadata": {},
   "outputs": [
    {
     "data": {
      "text/plain": [
       "<matplotlib.text.Text at 0x115352a58>"
      ]
     },
     "execution_count": 17,
     "metadata": {},
     "output_type": "execute_result"
    },
    {
     "data": {
      "image/png": "[encoded data removed]",
      "text/plain": [
       "<matplotlib.figure.Figure at 0x11538b400>"
      ]
     },
     "metadata": {},
     "output_type": "display_data"
    }
   ],
   "source": [
    "# change back the third line before release (outlier was making it look )\n",
    "sns.distplot(data['pvot'], kde_kws={\"label\": \"pvot\"})\n",
    "sns.distplot(data['tvot'], kde_kws={\"label\": \"tvot\"})\n",
    "sns.distplot(sorted(list(data['kvot']))[:-1], kde_kws={\"label\": \"kvot\"})\n",
    "\n",
    "plt.xlabel('ms')\n",
    "plt.ylabel('proportion per ms')"
   ]
  },
  {
   "cell_type": "markdown",
   "metadata": {},
   "source": [
    "The distributions of the three voiceless stops are below."
   ]
  },
  {
   "cell_type": "code",
   "execution_count": 18,
   "metadata": {},
   "outputs": [
    {
     "data": {
      "text/plain": [
       "<matplotlib.text.Text at 0x11558e278>"
      ]
     },
     "execution_count": 18,
     "metadata": {},
     "output_type": "execute_result"
    },
    {
     "data": {
      "image/png": "[encoded data removed]",
      "text/plain": [
       "<matplotlib.figure.Figure at 0x11554beb8>"
      ]
     },
     "metadata": {},
     "output_type": "display_data"
    }
   ],
   "source": [
    "sns.distplot(data['bvot'], kde_kws={\"label\": \"bvot\"})\n",
    "sns.distplot(data['dvot'], kde_kws={\"label\": \"dvot\"})\n",
    "sns.distplot(sorted(list(data['gvot']))[:-1], kde_kws={\"label\": \"gvot\"})\n",
    "\n",
    "plt.xlabel('ms')\n",
    "plt.ylabel('proportion per ms')"
   ]
  },
  {
   "cell_type": "markdown",
   "metadata": {},
   "source": [
    "Below, we will see the number of people who speak each language."
   ]
  },
  {
   "cell_type": "code",
   "execution_count": 19,
   "metadata": {},
   "outputs": [
    {
     "data": {
      "text/plain": [
       "<matplotlib.axes._subplots.AxesSubplot at 0x115862c18>"
      ]
     },
     "execution_count": 19,
     "metadata": {},
     "output_type": "execute_result"
    },
    {
     "data": {
      "image/png": "[encoded data removed]",
      "text/plain": [
       "<matplotlib.figure.Figure at 0x1153ab438>"
      ]
     },
     "metadata": {},
     "output_type": "display_data"
    }
   ],
   "source": [
    "sns.countplot(y=\"language\", data=data)"
   ]
  },
  {
   "cell_type": "markdown",
   "metadata": {},
   "source": [
    "Below, we have a the distribution of height."
   ]
  },
  {
   "cell_type": "code",
   "execution_count": 20,
   "metadata": {},
   "outputs": [
    {
     "data": {
      "text/plain": [
       "<matplotlib.text.Text at 0x1158a3438>"
      ]
     },
     "execution_count": 20,
     "metadata": {},
     "output_type": "execute_result"
    },
    {
     "data": {
      "image/png": "[encoded data removed]",
      "text/plain": [
       "<matplotlib.figure.Figure at 0x1159ab550>"
      ]
     },
     "metadata": {},
     "output_type": "display_data"
    }
   ],
   "source": [
    "sns.distplot(data['height'])\n",
    "\n",
    "plt.xlabel('height (cm)')"
   ]
  },
  {
   "cell_type": "markdown",
   "metadata": {},
   "source": [
    "# 4. Relationships between closures <a id='closures'></a>"
   ]
  },
  {
   "cell_type": "markdown",
   "metadata": {},
   "source": [
    "Now will will shift back away from single column visualizations, and start to compare values between columns, looking specifically at the different closures in our dataframe. Run the cell below that will automate some of plotting for us."
   ]
  },
  {
   "cell_type": "code",
   "execution_count": 32,
   "metadata": {
    "collapsed": true
   },
   "outputs": [],
   "source": [
    "def plot_with_equality_line(xs, ys, best_fit=False):\n",
    "    fig, ax = plt.subplots()\n",
    "    sns.regplot(xs, ys, fit_reg=best_fit, ax=ax)\n",
    "\n",
    "    lims = [np.min([ax.get_xlim(), ax.get_ylim()]), np.max([ax.get_xlim(), ax.get_ylim()])]\n",
    "    ax.plot(lims, lims, '--', alpha=0.75, zorder=0, c='black')\n",
    "    ax.set_xlim(lims)\n",
    "    ax.set_ylim(lims)"
   ]
  },
  {
   "cell_type": "markdown",
   "metadata": {},
   "source": [
    "### 4.1 Using a line where x = y"
   ]
  },
  {
   "cell_type": "markdown",
   "metadata": {},
   "source": [
    "We'll start by making scatter plots. They takes the values (from identified columns) of individual rows, and plots them as a dot on our coordinate plane. So in the plot below, each point will represent a person's `tclo` and `pclo`. We are going to plot a dashed line that marks where the x-values are equal to the y-values, which helps us visualize "
   ]
  },
  {
   "cell_type": "code",
   "execution_count": null,
   "metadata": {
    "collapsed": true
   },
   "outputs": [],
   "source": [
    "TODO: Need to finish this text"
   ]
  },
  {
   "cell_type": "markdown",
   "metadata": {},
   "source": []
  },
  {
   "cell_type": "code",
   "execution_count": 33,
   "metadata": {},
   "outputs": [
    {
     "data": {
      "text/plain": [
       "<matplotlib.text.Text at 0x116d05550>"
      ]
     },
     "execution_count": 33,
     "metadata": {},
     "output_type": "execute_result"
    },
    {
     "data": {
      "image/png": "[encoded data removed]",
      "text/plain": [
       "<matplotlib.figure.Figure at 0x116651e10>"
      ]
     },
     "metadata": {},
     "output_type": "display_data"
    }
   ],
   "source": [
    "plot_with_equality_line(data['tclo'], data['pclo'])\n",
    "\n",
    "plt.xlabel('tclo (ms)')\n",
    "plt.ylabel('pclo (ms)')"
   ]
  },
  {
   "cell_type": "code",
   "execution_count": 34,
   "metadata": {},
   "outputs": [
    {
     "data": {
      "text/plain": [
       "<matplotlib.text.Text at 0x116ce95c0>"
      ]
     },
     "execution_count": 34,
     "metadata": {},
     "output_type": "execute_result"
    },
    {
     "data": {
      "image/png": "[encoded data removed]",
      "text/plain": [
       "<matplotlib.figure.Figure at 0x116e354a8>"
      ]
     },
     "metadata": {},
     "output_type": "display_data"
    }
   ],
   "source": [
    "plot_with_equality_line(data['kclo'], data['pclo'])\n",
    "\n",
    "plt.xlabel('kclo (ms)')\n",
    "plt.ylabel('pclo (ms)')"
   ]
  },
  {
   "cell_type": "code",
   "execution_count": 35,
   "metadata": {},
   "outputs": [
    {
     "data": {
      "text/plain": [
       "<matplotlib.text.Text at 0x116e389e8>"
      ]
     },
     "execution_count": 35,
     "metadata": {},
     "output_type": "execute_result"
    },
    {
     "data": {
      "image/png": "[encoded data removed]",
      "text/plain": [
       "<matplotlib.figure.Figure at 0x116e90cf8>"
      ]
     },
     "metadata": {},
     "output_type": "display_data"
    }
   ],
   "source": [
    "plot_with_equality_line(data['kclo'], data['tclo'])\n",
    "\n",
    "plt.xlabel('kclo (ms)')\n",
    "plt.ylabel('tclo (ms)')"
   ]
  },
  {
   "cell_type": "code",
   "execution_count": 36,
   "metadata": {},
   "outputs": [
    {
     "data": {
      "text/plain": [
       "<matplotlib.text.Text at 0x116eaad68>"
      ]
     },
     "execution_count": 36,
     "metadata": {},
     "output_type": "execute_result"
    },
    {
     "data": {
      "image/png": "[encoded data removed]",
      "text/plain": [
       "<matplotlib.figure.Figure at 0x116ec8dd8>"
      ]
     },
     "metadata": {},
     "output_type": "display_data"
    }
   ],
   "source": [
    "plot_with_equality_line(data['bclo'], data['dclo'])\n",
    "\n",
    "plt.xlabel('bclo (ms)')\n",
    "plt.ylabel('dclo (ms)')"
   ]
  },
  {
   "cell_type": "code",
   "execution_count": 37,
   "metadata": {},
   "outputs": [
    {
     "data": {
      "text/plain": [
       "<matplotlib.text.Text at 0x11731f908>"
      ]
     },
     "execution_count": 37,
     "metadata": {},
     "output_type": "execute_result"
    },
    {
     "data": {
      "image/png": "[encoded data removed]",
      "text/plain": [
       "<matplotlib.figure.Figure at 0x11737e4e0>"
      ]
     },
     "metadata": {},
     "output_type": "display_data"
    }
   ],
   "source": [
    "plot_with_equality_line(data['bclo'], data['gclo'])\n",
    "\n",
    "plt.xlabel('bclo (ms)')\n",
    "plt.ylabel('gclo (ms)')"
   ]
  },
  {
   "cell_type": "code",
   "execution_count": 38,
   "metadata": {},
   "outputs": [
    {
     "data": {
      "text/plain": [
       "<matplotlib.text.Text at 0x116a430b8>"
      ]
     },
     "execution_count": 38,
     "metadata": {},
     "output_type": "execute_result"
    },
    {
     "data": {
      "image/png": "[encoded data removed]",
      "text/plain": [
       "<matplotlib.figure.Figure at 0x1176a96a0>"
      ]
     },
     "metadata": {},
     "output_type": "display_data"
    }
   ],
   "source": [
    "plot_with_equality_line(data['dclo'], data['gclo'])\n",
    "\n",
    "plt.xlabel('dclo (ms)')\n",
    "plt.ylabel('gclo (ms)')"
   ]
  },
  {
   "cell_type": "markdown",
   "metadata": {
    "collapsed": true
   },
   "source": [
    "### 4.2 Using box-and-whisker plots"
   ]
  },
  {
   "cell_type": "code",
   "execution_count": 28,
   "metadata": {},
   "outputs": [
    {
     "data": {
      "text/plain": [
       "<matplotlib.text.Text at 0x11629e6a0>"
      ]
     },
     "execution_count": 28,
     "metadata": {},
     "output_type": "execute_result"
    },
    {
     "data": {
      "image/png": "[encoded data removed]",
      "text/plain": [
       "<matplotlib.figure.Figure at 0x1163d4518>"
      ]
     },
     "metadata": {},
     "output_type": "display_data"
    }
   ],
   "source": [
    "sns.boxplot(data[['pclo', 'tclo', 'kclo']], width=.3, palette=\"Set3\")\n",
    "\n",
    "plt.ylabel('duration (ms)')\n",
    "plt.xlabel('Voiceless Closures')"
   ]
  },
  {
   "cell_type": "code",
   "execution_count": 29,
   "metadata": {},
   "outputs": [
    {
     "data": {
      "text/plain": [
       "<matplotlib.text.Text at 0x116411cf8>"
      ]
     },
     "execution_count": 29,
     "metadata": {},
     "output_type": "execute_result"
    },
    {
     "data": {
      "image/png": "[encoded data removed]",
      "text/plain": [
       "<matplotlib.figure.Figure at 0x116406e48>"
      ]
     },
     "metadata": {},
     "output_type": "display_data"
    }
   ],
   "source": [
    "sns.boxplot(data[['bclo', 'dclo', 'gclo']], width=.3, palette=\"hls\")\n",
    "\n",
    "plt.ylabel('duration (ms)')\n",
    "plt.xlabel('Voiced Closures')"
   ]
  },
  {
   "cell_type": "markdown",
   "metadata": {},
   "source": [
    "# 5. Explore relationships to metadata <a id='metadata'></a>\n",
    "Now let's explore relationships between closure and different characteristics of the persons who delivered those stats, looking at language and height. We'll draw scatter plots to see whether there are linear relationships between them."
   ]
  },
  {
   "cell_type": "markdown",
   "metadata": {},
   "source": [
    "### 5.1 Language\n",
    "Before we look at the actual relationship, it is important to realize any potential limitations of our observations. If you look back up to the bar plot of different native languages, you will see that the majority speak English. \n",
    "\n",
    "Question: if we try to come up with conclusion about people who speak Tagalog/Dutch, would the conclusions be reliable and why?"
   ]
  },
  {
   "cell_type": "markdown",
   "metadata": {},
   "source": [
    "Here, each dot is a person and you can see what language they speak and their respective closure measurement."
   ]
  },
  {
   "cell_type": "code",
   "execution_count": null,
   "metadata": {
    "collapsed": true
   },
   "outputs": [],
   "source": [
    "sns.violinplot(x=\"clo\", y=\"language\", data=data)\n",
    "\n",
    "plt.xlabel('clo (ms)')"
   ]
  },
  {
   "cell_type": "markdown",
   "metadata": {},
   "source": [
    "Compare the distributions. Can you make any meaningful observations?"
   ]
  },
  {
   "cell_type": "markdown",
   "metadata": {},
   "source": [
    "### 5.2 Height"
   ]
  },
  {
   "cell_type": "markdown",
   "metadata": {},
   "source": [
    "Now we'll look at how height influences closure."
   ]
  },
  {
   "cell_type": "code",
   "execution_count": null,
   "metadata": {
    "collapsed": true
   },
   "outputs": [],
   "source": [
    "sns.lmplot('clo', 'height', data=data, fit_reg=False)\n",
    "\n",
    "plt.xlabel('clo (ms)')\n",
    "plt.ylabel('height (cm)')"
   ]
  },
  {
   "cell_type": "markdown",
   "metadata": {},
   "source": [
    "In the scatter plot above, represents an individual, and their corresponding average closure and height. \n",
    "\n",
    "Change \"fit_reg\" to \"True\" in the code above to see the regression line.\n",
    "\n",
    "What does this graph tell about the relationship between height and closure? Regression lines describe a general trend of the data, sometimes referred to as the 'line of best fit'."
   ]
  },
  {
   "cell_type": "markdown",
   "metadata": {},
   "source": [
    "Let's see if there's a different kind of relationship between height and voiced/voiceless."
   ]
  },
  {
   "cell_type": "code",
   "execution_count": null,
   "metadata": {
    "collapsed": true
   },
   "outputs": [],
   "source": [
    "sns.regplot('vclo', 'height', data=data, fit_reg=True)\n",
    "sns.regplot('vlclo', 'height', data=data, fit_reg=True)\n",
    "\n",
    "plt.xlabel('clo (ms)')\n",
    "plt.ylabel('height (cm)')"
   ]
  },
  {
   "cell_type": "markdown",
   "metadata": {},
   "source": [
    "### 5.3 Visualizing Multiple Features"
   ]
  },
  {
   "cell_type": "markdown",
   "metadata": {},
   "source": [
    "So far, we've been presenting two kinds of information in one plot (e.g. language vs. closure). Would presenting more than two at once help us at analyzing? Let's try it."
   ]
  },
  {
   "cell_type": "markdown",
   "metadata": {},
   "source": [
    "**Answer**:"
   ]
  },
  {
   "cell_type": "markdown",
   "metadata": {},
   "source": [
    "Below, the color of the dots will depend on the language that person speaks rather than its gender."
   ]
  },
  {
   "cell_type": "code",
   "execution_count": null,
   "metadata": {
    "collapsed": true
   },
   "outputs": [],
   "source": [
    "sns.lmplot('clo', 'height', data=data, fit_reg=False, hue=\"language\")\n",
    "\n",
    "plt.xlabel('clo (ms)')\n",
    "plt.ylabel('height (cm)')"
   ]
  },
  {
   "cell_type": "markdown",
   "metadata": {},
   "source": [
    "What conclusions can you make from the graph above, if any? Is it easy to analyze this plot? Why?"
   ]
  },
  {
   "cell_type": "markdown",
   "metadata": {},
   "source": [
    "The lesson here is that sometimes less is more."
   ]
  },
  {
   "cell_type": "markdown",
   "metadata": {},
   "source": [
    "# 6. Compare data of entire class <a id='to class'></a>"
   ]
  },
  {
   "cell_type": "markdown",
   "metadata": {},
   "source": [
    "### 6.1 Compare yourself to the rest of the class"
   ]
  },
  {
   "cell_type": "markdown",
   "metadata": {},
   "source": [
    "Let's see where your own data stands in relation with the rest of the class. \n",
    "Run the cell below, and use the slider to scroll through the dataframe, looking for the row that corresponds to the data that you submit. Then change the variable `myRowNumber` in the cell below that to equal index of your row (the __bold number__ in the far left column that does not have a column name)."
   ]
  },
  {
   "cell_type": "code",
   "execution_count": null,
   "metadata": {
    "collapsed": true
   },
   "outputs": [],
   "source": [
    "#scoll = lambda x: data.ix[x:x+10]\n",
    "#interact(scoll, x=(0 , len(data)-11))"
   ]
  },
  {
   "cell_type": "code",
   "execution_count": null,
   "metadata": {
    "collapsed": true
   },
   "outputs": [],
   "source": [
    "myRowNumber = 1 #CHANGE TO ELLIPSIS IN ORIGINAL NOTEBOOK"
   ]
  },
  {
   "cell_type": "markdown",
   "metadata": {},
   "source": [
    "Now we will store some of the features in your row, so that we can compare them to the rest of the class."
   ]
  },
  {
   "cell_type": "code",
   "execution_count": null,
   "metadata": {
    "collapsed": true
   },
   "outputs": [],
   "source": [
    "xAxis = data['clo'].tolist()\n",
    "yAxis = data['height'].tolist()\n",
    "\n",
    "myClosure = xAxis.pop(myRowNumber)\n",
    "myHeight = yAxis.pop(myRowNumber)"
   ]
  },
  {
   "cell_type": "markdown",
   "metadata": {},
   "source": [
    "These next two plots will show you how your characteristics compare to the rest of the class for `clo` and `height`. The dashed line marks where your value is. If your point is in a spot where the density is high (the y-value), it means that larger proportion of the class has values similar to yours."
   ]
  },
  {
   "cell_type": "code",
   "execution_count": null,
   "metadata": {
    "collapsed": true
   },
   "outputs": [],
   "source": [
    "sns.distplot(data['clo'])\n",
    "plt.axvline(myClosure, color='b', linestyle='dashed', linewidth=1)\n",
    "plt.xlabel('clo (ms)')"
   ]
  },
  {
   "cell_type": "code",
   "execution_count": null,
   "metadata": {
    "collapsed": true
   },
   "outputs": [],
   "source": [
    "sns.distplot(data['height'])\n",
    "plt.axvline(myHeight, color='b', linestyle='dashed', linewidth=1)\n",
    "plt.xlabel('height (cm)')"
   ]
  },
  {
   "cell_type": "markdown",
   "metadata": {},
   "source": [
    "This plot is a combination of the two previous plots. It is a bivariate distribution plot. Your value lies at the intersection of the two dashed lines."
   ]
  },
  {
   "cell_type": "code",
   "execution_count": null,
   "metadata": {
    "collapsed": true
   },
   "outputs": [],
   "source": [
    "sns.kdeplot(data['clo'], data['height'], cmap=\"Blues\", shade=True, shade_lowest=False)\n",
    "plt.axvline(myClosure, color='b', linestyle='dashed', linewidth=1)\n",
    "plt.axhline(myHeight, color='b', linestyle='dashed', linewidth=1)\n",
    "\n",
    "plt.xlabel('clo (ms)')\n",
    "plt.ylabel('height (cm)')"
   ]
  },
  {
   "cell_type": "markdown",
   "metadata": {},
   "source": [
    "### 6.2 Compare our data with data from last semester"
   ]
  },
  {
   "cell_type": "markdown",
   "metadata": {},
   "source": [
    "It's often useful to compare current data with past data. Below, we'll explore class data collected from last semester."
   ]
  },
  {
   "cell_type": "code",
   "execution_count": null,
   "metadata": {
    "collapsed": true
   },
   "outputs": [],
   "source": [
    "spring_file = 'data/spring_data.csv'\n",
    "spring = pd.read_csv(spring_file)\n",
    "\n",
    "spring.head()"
   ]
  },
  {
   "cell_type": "markdown",
   "metadata": {},
   "source": [
    "The data from last semester does not have all of the same features (columns) that this semester's data has. So in order to make easy comparisons, we will just select out the columns that are in both dataframes."
   ]
  },
  {
   "cell_type": "code",
   "execution_count": null,
   "metadata": {
    "collapsed": true
   },
   "outputs": [],
   "source": [
    "current_subset = data[spring.columns]\n",
    "current_subset.head()"
   ]
  },
  {
   "cell_type": "markdown",
   "metadata": {},
   "source": [
    "Let's look at the difference between the major statistics of last semester's data and this semester's."
   ]
  },
  {
   "cell_type": "code",
   "execution_count": null,
   "metadata": {
    "collapsed": true
   },
   "outputs": [],
   "source": [
    "difference = spring.describe() - current_subset.describe()\n",
    "difference"
   ]
  },
  {
   "cell_type": "markdown",
   "metadata": {},
   "source": [
    "It's a little unintuitive to tell how large of differences those are, so let's look at the relative difference to this semester's data."
   ]
  },
  {
   "cell_type": "code",
   "execution_count": null,
   "metadata": {
    "collapsed": true
   },
   "outputs": [],
   "source": [
    "relative_difference = difference / current_subset.describe()\n",
    "relative_difference"
   ]
  },
  {
   "cell_type": "markdown",
   "metadata": {},
   "source": [
    "Now, let's add some color to help spot the largest relative changes."
   ]
  },
  {
   "cell_type": "code",
   "execution_count": null,
   "metadata": {
    "collapsed": true
   },
   "outputs": [],
   "source": [
    "cm = ListedColormap(sns.color_palette(\"RdBu_r\", 7))\n",
    "relative_difference.style.background_gradient(cmap=cm)"
   ]
  },
  {
   "cell_type": "markdown",
   "metadata": {},
   "source": [
    "Now that we can see where the biggest differences between last semester and this semester are, let's take a look at them with further visualization."
   ]
  },
  {
   "cell_type": "code",
   "execution_count": null,
   "metadata": {
    "collapsed": true
   },
   "outputs": [],
   "source": []
  },
  {
   "cell_type": "markdown",
   "metadata": {},
   "source": [
    "TODO: WILL ADD WHEN WE GET THIS SEMESTER'S DATA"
   ]
  },
  {
   "cell_type": "code",
   "execution_count": null,
   "metadata": {
    "collapsed": true
   },
   "outputs": [],
   "source": []
  }
 ],
 "metadata": {
  "anaconda-cloud": {},
  "kernelspec": {
   "display_name": "Python [Root]",
   "language": "python",
   "name": "Python [Root]"
  },
  "language_info": {
   "codemirror_mode": {
    "name": "ipython",
    "version": 3
   },
   "file_extension": ".py",
   "mimetype": "text/x-python",
   "name": "python",
   "nbconvert_exporter": "python",
   "pygments_lexer": "ipython3",
   "version": "3.5.2"
  }
 },
 "nbformat": 4,
 "nbformat_minor": 1
}
