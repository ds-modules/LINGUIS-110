{
 "cells": [
  {
   "cell_type": "code",
   "execution_count": 2,
   "metadata": {
    "collapsed": true
   },
   "outputs": [],
   "source": [
    "# imports -- just run this cell\n",
    "import scipy\n",
    "import numpy as np\n",
    "import scipy.stats\n",
    "import pandas as pd\n",
    "import seaborn as sns\n",
    "%matplotlib inline\n",
    "import matplotlib.pyplot as plt\n",
    "\n",
    "import warnings\n",
    "warnings.filterwarnings('ignore')"
   ]
  },
  {
   "cell_type": "code",
   "execution_count": 11,
   "metadata": {},
   "outputs": [
    {
     "data": {
      "text/html": [
       "<div>\n",
       "<table border=\"1\" class=\"dataframe\">\n",
       "  <thead>\n",
       "    <tr style=\"text-align: right;\">\n",
       "      <th></th>\n",
       "      <th>language</th>\n",
       "      <th>height</th>\n",
       "      <th>pclo</th>\n",
       "      <th>tclo</th>\n",
       "      <th>kclo</th>\n",
       "      <th>pvot</th>\n",
       "      <th>tvot</th>\n",
       "      <th>kvot</th>\n",
       "    </tr>\n",
       "  </thead>\n",
       "  <tbody>\n",
       "    <tr>\n",
       "      <th>0</th>\n",
       "      <td>English</td>\n",
       "      <td>162.50</td>\n",
       "      <td>0.022</td>\n",
       "      <td>0.0207</td>\n",
       "      <td>0.0262</td>\n",
       "      <td>0.086985</td>\n",
       "      <td>0.087877</td>\n",
       "      <td>0.091621</td>\n",
       "    </tr>\n",
       "    <tr>\n",
       "      <th>1</th>\n",
       "      <td>English</td>\n",
       "      <td>177.00</td>\n",
       "      <td>0.081</td>\n",
       "      <td>0.0320</td>\n",
       "      <td>0.0390</td>\n",
       "      <td>0.072000</td>\n",
       "      <td>0.049000</td>\n",
       "      <td>0.043000</td>\n",
       "    </tr>\n",
       "    <tr>\n",
       "      <th>2</th>\n",
       "      <td>English</td>\n",
       "      <td>170.18</td>\n",
       "      <td>0.070</td>\n",
       "      <td>0.0700</td>\n",
       "      <td>0.0700</td>\n",
       "      <td>0.150000</td>\n",
       "      <td>0.230000</td>\n",
       "      <td>0.120000</td>\n",
       "    </tr>\n",
       "    <tr>\n",
       "      <th>3</th>\n",
       "      <td>English</td>\n",
       "      <td>178.00</td>\n",
       "      <td>0.034</td>\n",
       "      <td>0.0560</td>\n",
       "      <td>0.0290</td>\n",
       "      <td>0.170000</td>\n",
       "      <td>0.190000</td>\n",
       "      <td>0.077000</td>\n",
       "    </tr>\n",
       "    <tr>\n",
       "      <th>4</th>\n",
       "      <td>English</td>\n",
       "      <td>177.80</td>\n",
       "      <td>0.144</td>\n",
       "      <td>0.0940</td>\n",
       "      <td>0.0630</td>\n",
       "      <td>0.132000</td>\n",
       "      <td>0.153000</td>\n",
       "      <td>0.177000</td>\n",
       "    </tr>\n",
       "  </tbody>\n",
       "</table>\n",
       "</div>"
      ],
      "text/plain": [
       "  language  height   pclo    tclo    kclo      pvot      tvot      kvot\n",
       "0  English  162.50  0.022  0.0207  0.0262  0.086985  0.087877  0.091621\n",
       "1  English  177.00  0.081  0.0320  0.0390  0.072000  0.049000  0.043000\n",
       "2  English  170.18  0.070  0.0700  0.0700  0.150000  0.230000  0.120000\n",
       "3  English  178.00  0.034  0.0560  0.0290  0.170000  0.190000  0.077000\n",
       "4  English  177.80  0.144  0.0940  0.0630  0.132000  0.153000  0.177000"
      ]
     },
     "execution_count": 11,
     "metadata": {},
     "output_type": "execute_result"
    }
   ],
   "source": [
    "init = pd.read_csv('data/vots.csv').drop(['gender', 'closure', 'vot'], axis=1)\n",
    "init.head()"
   ]
  },
  {
   "cell_type": "code",
   "execution_count": 29,
   "metadata": {},
   "outputs": [
    {
     "data": {
      "text/html": [
       "<div>\n",
       "<table border=\"1\" class=\"dataframe\">\n",
       "  <thead>\n",
       "    <tr style=\"text-align: right;\">\n",
       "      <th></th>\n",
       "      <th>bclo</th>\n",
       "      <th>dclo</th>\n",
       "      <th>gclo</th>\n",
       "      <th>bvot</th>\n",
       "      <th>dvot</th>\n",
       "      <th>gvot</th>\n",
       "    </tr>\n",
       "  </thead>\n",
       "  <tbody>\n",
       "    <tr>\n",
       "      <th>0</th>\n",
       "      <td>-0.078</td>\n",
       "      <td>-0.0793</td>\n",
       "      <td>-0.0738</td>\n",
       "      <td>-0.013015</td>\n",
       "      <td>-0.012123</td>\n",
       "      <td>-0.008379</td>\n",
       "    </tr>\n",
       "    <tr>\n",
       "      <th>1</th>\n",
       "      <td>-0.019</td>\n",
       "      <td>-0.0680</td>\n",
       "      <td>-0.0610</td>\n",
       "      <td>-0.028000</td>\n",
       "      <td>-0.051000</td>\n",
       "      <td>-0.057000</td>\n",
       "    </tr>\n",
       "    <tr>\n",
       "      <th>2</th>\n",
       "      <td>-0.030</td>\n",
       "      <td>-0.0300</td>\n",
       "      <td>-0.0300</td>\n",
       "      <td>0.050000</td>\n",
       "      <td>0.130000</td>\n",
       "      <td>0.020000</td>\n",
       "    </tr>\n",
       "    <tr>\n",
       "      <th>3</th>\n",
       "      <td>-0.066</td>\n",
       "      <td>-0.0440</td>\n",
       "      <td>-0.0710</td>\n",
       "      <td>0.070000</td>\n",
       "      <td>0.090000</td>\n",
       "      <td>-0.023000</td>\n",
       "    </tr>\n",
       "    <tr>\n",
       "      <th>4</th>\n",
       "      <td>0.044</td>\n",
       "      <td>-0.0060</td>\n",
       "      <td>-0.0370</td>\n",
       "      <td>0.032000</td>\n",
       "      <td>0.053000</td>\n",
       "      <td>0.077000</td>\n",
       "    </tr>\n",
       "  </tbody>\n",
       "</table>\n",
       "</div>"
      ],
      "text/plain": [
       "    bclo    dclo    gclo      bvot      dvot      gvot\n",
       "0 -0.078 -0.0793 -0.0738 -0.013015 -0.012123 -0.008379\n",
       "1 -0.019 -0.0680 -0.0610 -0.028000 -0.051000 -0.057000\n",
       "2 -0.030 -0.0300 -0.0300  0.050000  0.130000  0.020000\n",
       "3 -0.066 -0.0440 -0.0710  0.070000  0.090000 -0.023000\n",
       "4  0.044 -0.0060 -0.0370  0.032000  0.053000  0.077000"
      ]
     },
     "execution_count": 29,
     "metadata": {},
     "output_type": "execute_result"
    }
   ],
   "source": [
    "faked = pd.read_csv('data/vots.csv').drop(['gender', 'closure', 'vot', 'language', 'height'], axis=1)\n",
    "faked[faked.columns] -= .1\n",
    "faked.columns = ['bclo', 'dclo', 'gclo', 'bvot', 'dvot', 'gvot']\n",
    "faked.head()"
   ]
  },
  {
   "cell_type": "code",
   "execution_count": 34,
   "metadata": {},
   "outputs": [],
   "source": [
    "together = pd.merge(init, faked, left_index=True, right_index=True)\n",
    "together.head()\n",
    "together.to_csv('data/example_data.csv', index=False)"
   ]
  },
  {
   "cell_type": "markdown",
   "metadata": {},
   "source": [
    "# Closure and Voice-Onset Time\n",
    "\n",
    "In this notebook, we will be exploring the relations between the data the class submit, your data, and the data of a past class. "
   ]
  },
  {
   "cell_type": "markdown",
   "metadata": {},
   "source": [
    "## 1. Explore your own data\n",
    "We will start by familiarizing ourselves with the data.\n",
    "\n",
    "To visualize the data, we need to load the file first. Set \"Fall2017_file\" to the name of your data file by replacing the ellipsis (the 3 dots), to the location of the csv file. Then, run the code by pressing \"Shift\" + \"Enter\"."
   ]
  },
  {
   "cell_type": "code",
   "execution_count": null,
   "metadata": {
    "collapsed": true
   },
   "outputs": [],
   "source": [
    "fall2017_file = 'data/vots.csv' #CHANGE TO ELLIPSIS IN ORIGINAL NOTEBOOK \n",
    "fa17 = pd.read_csv(fall2017_file)\n",
    "fa17['Class'] = ['fall 2017'] * len (fa17)\n",
    "fa17.head()"
   ]
  },
  {
   "cell_type": "markdown",
   "metadata": {},
   "source": [
    "### 1.1 Data Visualization\n",
    "Now that we have our information loaded, let's get a picture of the data with some plots."
   ]
  },
  {
   "cell_type": "markdown",
   "metadata": {},
   "source": [
    "#### COUNT: \n",
    "Below, we will see the number of each gender among the data we have."
   ]
  },
  {
   "cell_type": "code",
   "execution_count": null,
   "metadata": {
    "collapsed": true
   },
   "outputs": [],
   "source": [
    "ax = sns.countplot(x=\"gender\", data=fa17)"
   ]
  },
  {
   "cell_type": "markdown",
   "metadata": {},
   "source": [
    "Below, we will see the number of people who speak each language."
   ]
  },
  {
   "cell_type": "code",
   "execution_count": null,
   "metadata": {
    "collapsed": true
   },
   "outputs": [],
   "source": [
    "sns.countplot(y=\"language\", data=fa17)"
   ]
  },
  {
   "cell_type": "markdown",
   "metadata": {},
   "source": [
    "Below, we have a the distribution of height."
   ]
  },
  {
   "cell_type": "code",
   "execution_count": null,
   "metadata": {
    "collapsed": true
   },
   "outputs": [],
   "source": [
    "sns.distplot(fa17['height'])"
   ]
  },
  {
   "cell_type": "markdown",
   "metadata": {},
   "source": [
    "### 1.2 Computing Basic Properties\n",
    "We will compute the mean, median, mode, and range for closure."
   ]
  },
  {
   "cell_type": "code",
   "execution_count": null,
   "metadata": {
    "collapsed": true
   },
   "outputs": [],
   "source": [
    "fa17_closure_mode = scipy.stats.mode(fa17.closure)[0][0]\n",
    "print('Mode: ', fa17_closure_mode)\n",
    "\n",
    "fa17.closure.describe()"
   ]
  },
  {
   "cell_type": "markdown",
   "metadata": {},
   "source": [
    "# 2. Explore relationships to metadata\n",
    "Now let's explore relationships between closure and different characteristics of the persons who delivered those stats, specifically at language, gender, and height. We'll draw scatter plots to see whether there are linear relationships between them."
   ]
  },
  {
   "cell_type": "markdown",
   "metadata": {},
   "source": [
    "### 2.1 Language\n",
    "Here, each dot is a person and you can see what language they speak and their respective closure measurement."
   ]
  },
  {
   "cell_type": "code",
   "execution_count": null,
   "metadata": {
    "collapsed": true
   },
   "outputs": [],
   "source": [
    "sns.stripplot(x=\"closure\", y=\"language\", data=fa17, jitter=True);"
   ]
  },
  {
   "cell_type": "markdown",
   "metadata": {},
   "source": [
    "We can see that the majority speak English.\n",
    "Question: if we try to come up with conclusion about people who speak Tagalog/Dutch, would the conclusions be reliable and why? (Type your answer below)"
   ]
  },
  {
   "cell_type": "markdown",
   "metadata": {},
   "source": [
    "**Answer**:"
   ]
  },
  {
   "cell_type": "markdown",
   "metadata": {},
   "source": [
    "Below, we take the graph above and visualize the mean of the closures of people who speak each language."
   ]
  },
  {
   "cell_type": "code",
   "execution_count": null,
   "metadata": {
    "collapsed": true
   },
   "outputs": [],
   "source": [
    "sns.violinplot(x=\"closure\", y=\"language\", data=fa17);"
   ]
  },
  {
   "cell_type": "markdown",
   "metadata": {},
   "source": [
    "Compare the means. What do they tell you?"
   ]
  },
  {
   "cell_type": "markdown",
   "metadata": {},
   "source": [
    "**Answer**:"
   ]
  },
  {
   "cell_type": "markdown",
   "metadata": {},
   "source": [
    "### 2.2 Gender"
   ]
  },
  {
   "cell_type": "markdown",
   "metadata": {},
   "source": [
    "In this section, we will dig into the relationship between closure and gender."
   ]
  },
  {
   "cell_type": "code",
   "execution_count": null,
   "metadata": {
    "collapsed": true
   },
   "outputs": [],
   "source": [
    "ax = sns.barplot(x=\"gender\", y=\"closure\", data=fa17)"
   ]
  },
  {
   "cell_type": "markdown",
   "metadata": {},
   "source": [
    "What's the graph above showing? Can you analyze it? Type your answer below."
   ]
  },
  {
   "cell_type": "markdown",
   "metadata": {},
   "source": [
    "**Answer**:"
   ]
  },
  {
   "cell_type": "markdown",
   "metadata": {},
   "source": [
    "Below, each dot is defined by gender on the y-axis and closure on the x-axis."
   ]
  },
  {
   "cell_type": "code",
   "execution_count": null,
   "metadata": {
    "collapsed": true
   },
   "outputs": [],
   "source": [
    "sns.stripplot(x=\"closure\", y=\"gender\", data=fa17, jitter=True);"
   ]
  },
  {
   "cell_type": "markdown",
   "metadata": {},
   "source": [
    "How does men's average closure compare with women's? Does your conclusion fron this scatter plot agree with the bar chart we presented before? Type your answer below."
   ]
  },
  {
   "cell_type": "markdown",
   "metadata": {},
   "source": [
    "**Answer**:"
   ]
  },
  {
   "cell_type": "markdown",
   "metadata": {},
   "source": [
    "### 2.3 Height"
   ]
  },
  {
   "cell_type": "markdown",
   "metadata": {},
   "source": [
    "Now we'll look at how height influences closure."
   ]
  },
  {
   "cell_type": "code",
   "execution_count": null,
   "metadata": {
    "collapsed": true
   },
   "outputs": [],
   "source": [
    "sns.lmplot('closure', 'height', data=fa17, fit_reg=False)"
   ]
  },
  {
   "cell_type": "markdown",
   "metadata": {},
   "source": [
    "In the scatter plot above, each dot is defined by closure and height. Change \"fit_reg\" to \"True\" in the code above to see the regression line.\n",
    "\n",
    "What does this graph tell about the relationship between height and closure? Type your answer below."
   ]
  },
  {
   "cell_type": "markdown",
   "metadata": {},
   "source": [
    "**Answer**:"
   ]
  },
  {
   "cell_type": "markdown",
   "metadata": {},
   "source": [
    "### Visualizing Multiple Features"
   ]
  },
  {
   "cell_type": "markdown",
   "metadata": {},
   "source": [
    "So far, we've been presenting two kinds of information in one plot (eg. language vs. closure). Would presenting more than two at once help us at analyzing? Let's try it."
   ]
  },
  {
   "cell_type": "code",
   "execution_count": null,
   "metadata": {
    "collapsed": true,
    "scrolled": false
   },
   "outputs": [],
   "source": [
    "sns.lmplot(fit_reg=False, x=\"closure\", y=\"height\", hue=\"gender\", palette=\"Set1\", data=fa17)"
   ]
  },
  {
   "cell_type": "markdown",
   "metadata": {},
   "source": [
    "Describe in your own words what each dot in the scatter plot above represents. Do you see some general patterns here? Type your answer below."
   ]
  },
  {
   "cell_type": "markdown",
   "metadata": {},
   "source": [
    "**Answer**:"
   ]
  },
  {
   "cell_type": "markdown",
   "metadata": {},
   "source": [
    "Now, change the code `fit_reg=False` to fit_`reg=True` to see the regression line.\n",
    "\n",
    "\n",
    "Regression lines generally describe a general trend of the data. What conclusions can you make by comparing the two regression lines? Type your answer below."
   ]
  },
  {
   "cell_type": "markdown",
   "metadata": {},
   "source": [
    "**Answer**:"
   ]
  },
  {
   "cell_type": "markdown",
   "metadata": {},
   "source": [
    "Below, the color of the dots will depend on the language that person speaks rather than its gender."
   ]
  },
  {
   "cell_type": "code",
   "execution_count": null,
   "metadata": {
    "collapsed": true
   },
   "outputs": [],
   "source": [
    "sns.lmplot('closure', 'height', data=fa17, fit_reg=False, hue=\"language\")"
   ]
  },
  {
   "cell_type": "markdown",
   "metadata": {},
   "source": [
    "What conclusions can you make from the graph above? Is it easier to analyze this plot than the plot before? Why? Type your answer below."
   ]
  },
  {
   "cell_type": "markdown",
   "metadata": {},
   "source": [
    "**Answer**:"
   ]
  },
  {
   "cell_type": "markdown",
   "metadata": {},
   "source": [
    "# 3. Compare data of entire class"
   ]
  },
  {
   "cell_type": "markdown",
   "metadata": {},
   "source": [
    "### 3.1 Compare individual CLOSURE with the rest of class"
   ]
  },
  {
   "cell_type": "markdown",
   "metadata": {},
   "source": [
    "Let's see where your own data stands in relation with the rest of the class. Change \"myRowNumber\" to the number of the row in the table that contains your data and run the cell."
   ]
  },
  {
   "cell_type": "code",
   "execution_count": null,
   "metadata": {
    "collapsed": true
   },
   "outputs": [],
   "source": [
    "myRowNumber = 7 #CHANGE TO ELLIPSIS IN ORIGINAL NOTEBOOK"
   ]
  },
  {
   "cell_type": "code",
   "execution_count": null,
   "metadata": {
    "collapsed": true
   },
   "outputs": [],
   "source": [
    "xAxis = fa17['height'].tolist()\n",
    "yAxis = fa17['closure'].tolist()\n",
    "\n",
    "myHeight = xAxis.pop(myRowNumber)\n",
    "myClosure = yAxis.pop(myRowNumber)\n",
    "\n",
    "plt.plot(xAxis, yAxis, 'co')\n",
    "plt.plot(myHeight, myClosure, \"ro\")\n",
    "\n",
    "plt.show()"
   ]
  },
  {
   "cell_type": "markdown",
   "metadata": {},
   "source": [
    "### 3.2 Compare our data with data from last semester"
   ]
  },
  {
   "cell_type": "markdown",
   "metadata": {},
   "source": [
    "It's often useful to compare current data with past data. Below, we'll explore class data collected from last semester."
   ]
  },
  {
   "cell_type": "code",
   "execution_count": null,
   "metadata": {
    "collapsed": true
   },
   "outputs": [],
   "source": [
    "spring2017_file = 'data/vots.csv'\n",
    "sp17 = pd.read_csv(spring2017_file)\n",
    "sp17['Class'] = ['spring 2017'] * len (sp17)\n",
    "\n",
    "sp17fa17 = sp17.append(fa17)\n",
    "sp17fa17.head()"
   ]
  },
  {
   "cell_type": "markdown",
   "metadata": {},
   "source": [
    "As before, we'll calculate the mean, mode, median, and range of last semester's closure and compare to ours."
   ]
  },
  {
   "cell_type": "code",
   "execution_count": null,
   "metadata": {
    "collapsed": true
   },
   "outputs": [],
   "source": [
    "fa17_closure_mean = np.mean(fa17.closure)\n",
    "fa17_closure_mode = scipy.stats.mode(fa17.closure)[0][0]\n",
    "fa17_closure_median = np.median(fa17.closure)\n",
    "fa17_closure_range = [min(fa17.closure), max(fa17.closure)]\n",
    "\n",
    "sp17_closure_mean = np.mean(sp17.closure)\n",
    "sp17_closure_mode = scipy.stats.mode(sp17.closure)[0][0]\n",
    "sp17_closure_median = np.median(sp17.closure)\n",
    "sp17_closure_range = [min(sp17.closure), max(sp17.closure)]\n",
    "\n",
    "df = pd.DataFrame()\n",
    "df['Closure'] = ['mean', 'mode', 'median', 'range']\n",
    "df['Spring 2017'] = [sp17_closure_mean, sp17_closure_mode, sp17_closure_median, sp17_closure_range]\n",
    "df['Fall 2017'] = [fa17_closure_mean, fa17_closure_mode, fa17_closure_median, fa17_closure_range]\n",
    "df"
   ]
  },
  {
   "cell_type": "markdown",
   "metadata": {},
   "source": [
    "Let's check the closure mean by **gender** of last semester's class and compare to our class."
   ]
  },
  {
   "cell_type": "code",
   "execution_count": null,
   "metadata": {
    "collapsed": true
   },
   "outputs": [],
   "source": [
    "fig, ax = plt.subplots(1,2)\n",
    "fig.set_size_inches(10, 8)\n",
    "sns.barplot(x=\"gender\", y=\"closure\", data=sp17, ax=ax[0])\n",
    "sns.barplot(x=\"gender\", y=\"closure\", data=fa17, ax=ax[1])"
   ]
  },
  {
   "cell_type": "code",
   "execution_count": null,
   "metadata": {
    "collapsed": true
   },
   "outputs": [],
   "source": [
    "fig, ax = plt.subplots(1,2)\n",
    "fig.set_size_inches(10, 4)\n",
    "sns.stripplot(x=\"closure\", y=\"gender\", data=sp17[sp17['gender'] != \"Other / prefer not to answer\"], jitter=True, ax=ax[0]).set_ylabel('')\n",
    "sns.stripplot(x=\"closure\", y=\"gender\", data=fa17[sp17['gender'] != \"Other / prefer not to answer\"], jitter=True, ax=ax[1]).set_ylabel('')"
   ]
  },
  {
   "cell_type": "markdown",
   "metadata": {},
   "source": [
    "Now let's look at their language and closure and compare to ours."
   ]
  },
  {
   "cell_type": "code",
   "execution_count": null,
   "metadata": {
    "collapsed": true
   },
   "outputs": [],
   "source": [
    "fig, ax = plt.subplots(1,2)\n",
    "fig.set_size_inches(10, 4)\n",
    "sns.violinplot(x=\"closure\", y=\"language\", data=fa17, ax=ax[0])\n",
    "sns.violinplot(x=\"closure\", y=\"language\", data=sp17, ax=ax[1]).set_ylabel('')"
   ]
  },
  {
   "cell_type": "markdown",
   "metadata": {},
   "source": [
    "Very interesting. How about the **height**?"
   ]
  },
  {
   "cell_type": "code",
   "execution_count": null,
   "metadata": {
    "collapsed": true,
    "scrolled": false
   },
   "outputs": [],
   "source": [
    "ax = sns.lmplot('closure', 'height', data=sp17fa17, fit_reg=False, hue='Class')"
   ]
  },
  {
   "cell_type": "markdown",
   "metadata": {},
   "source": [
    "Lastly, let's look at the relationship between **height, gender, and closure** and compare."
   ]
  },
  {
   "cell_type": "code",
   "execution_count": null,
   "metadata": {
    "collapsed": true
   },
   "outputs": [],
   "source": [
    "ax = sns.lmplot(x=\"closure\", y=\"height\",hue='gender', col=\"Class\", data=sp17fa17[sp17fa17['gender'] != 'Other / prefer not to answer'])"
   ]
  },
  {
   "cell_type": "markdown",
   "metadata": {},
   "source": [
    "Overall, how does our class data comprare with last semester's? Type your answer below."
   ]
  },
  {
   "cell_type": "markdown",
   "metadata": {},
   "source": [
    "**Answer**:"
   ]
  },
  {
   "cell_type": "markdown",
   "metadata": {},
   "source": [
    "# 4. Place of Articulation"
   ]
  },
  {
   "cell_type": "markdown",
   "metadata": {},
   "source": [
    "## 4.1 Closure"
   ]
  },
  {
   "cell_type": "markdown",
   "metadata": {},
   "source": [
    "Let's see if we can find relationships between closure and places of articulation"
   ]
  },
  {
   "cell_type": "markdown",
   "metadata": {},
   "source": [
    "First, we'll look at the **histogram** of closure, pclo, tclo, and kclo."
   ]
  },
  {
   "cell_type": "code",
   "execution_count": null,
   "metadata": {
    "collapsed": true,
    "scrolled": false
   },
   "outputs": [],
   "source": [
    "fa17.hist('closure', bins=np.arange(0, .225, .025))"
   ]
  },
  {
   "cell_type": "markdown",
   "metadata": {},
   "source": [
    "Let's first visualize the places of articulation below."
   ]
  },
  {
   "cell_type": "code",
   "execution_count": null,
   "metadata": {
    "collapsed": true
   },
   "outputs": [],
   "source": [
    "ax = fa17.hist('pclo', bins=np.arange(0, .25, .025))"
   ]
  },
  {
   "cell_type": "code",
   "execution_count": null,
   "metadata": {
    "collapsed": true
   },
   "outputs": [],
   "source": [
    "ax = fa17.hist('tclo', bins=np.arange(0, .2, .025))"
   ]
  },
  {
   "cell_type": "code",
   "execution_count": null,
   "metadata": {
    "collapsed": true
   },
   "outputs": [],
   "source": [
    "ax = fa17.hist('kclo', bins=np.arange(0, .225, .025))"
   ]
  },
  {
   "cell_type": "markdown",
   "metadata": {},
   "source": [
    "Now we have an idea of the distributions of the data we are exploring. Let's plot and compare each of the places of articulation."
   ]
  },
  {
   "cell_type": "markdown",
   "metadata": {},
   "source": [
    "**tclo and pclo:**"
   ]
  },
  {
   "cell_type": "code",
   "execution_count": null,
   "metadata": {
    "collapsed": true
   },
   "outputs": [],
   "source": [
    "sns.lmplot('pclo', 'tclo', data=fa17)"
   ]
  },
  {
   "cell_type": "markdown",
   "metadata": {},
   "source": [
    "**kclo and pclo:**"
   ]
  },
  {
   "cell_type": "code",
   "execution_count": null,
   "metadata": {
    "collapsed": true
   },
   "outputs": [],
   "source": [
    "sns.lmplot('pclo', 'kclo', data=fa17)"
   ]
  },
  {
   "cell_type": "markdown",
   "metadata": {},
   "source": [
    "**kclo and tclo:**"
   ]
  },
  {
   "cell_type": "code",
   "execution_count": null,
   "metadata": {
    "collapsed": true
   },
   "outputs": [],
   "source": [
    "sns.lmplot('tclo', 'kclo', data=fa17)"
   ]
  },
  {
   "cell_type": "markdown",
   "metadata": {
    "collapsed": true
   },
   "source": [
    "Do you see any interesting relationships? Type your observation below."
   ]
  },
  {
   "cell_type": "markdown",
   "metadata": {},
   "source": [
    "**Answer**:"
   ]
  },
  {
   "cell_type": "markdown",
   "metadata": {},
   "source": [
    "Here's one plot that that has all pclo, tclo, and kclo plotted against height."
   ]
  },
  {
   "cell_type": "code",
   "execution_count": null,
   "metadata": {
    "collapsed": true
   },
   "outputs": [],
   "source": [
    "height_3x = fa17.height.append(fa17.height).append(fa17.height)\n",
    "ptk_closure = fa17.pclo.append(fa17.tclo).append(fa17.kclo)\n",
    "closure_type = ['pclo'] * 87 + ['tclo'] * 87 + ['kclo'] * 87\n",
    "\n",
    "c = {'height': height_3x, 'p/t/k Closure': ptk_closure, 'Closure type' : closure_type}\n",
    "closure = pd.DataFrame(data=c)\n",
    "#closure.head()\n",
    "\n",
    "ax = sns.lmplot('p/t/k Closure', 'height', data=closure, fit_reg=False, hue=\"Closure type\")"
   ]
  },
  {
   "cell_type": "markdown",
   "metadata": {},
   "source": [
    "## 4.2 VOT"
   ]
  },
  {
   "cell_type": "markdown",
   "metadata": {},
   "source": [
    "Let's first check out the numerical distribution of VOT."
   ]
  },
  {
   "cell_type": "code",
   "execution_count": null,
   "metadata": {
    "collapsed": true,
    "scrolled": true
   },
   "outputs": [],
   "source": [
    "ax = fa17.hist('vot', bins=np.arange(0, .3, .05))"
   ]
  },
  {
   "cell_type": "markdown",
   "metadata": {},
   "source": [
    "Let's plot out the distributions of each articulation as well."
   ]
  },
  {
   "cell_type": "code",
   "execution_count": null,
   "metadata": {
    "collapsed": true
   },
   "outputs": [],
   "source": [
    "ax = fa17.hist('pvot', bins=np.arange(0, .2, .025))"
   ]
  },
  {
   "cell_type": "code",
   "execution_count": null,
   "metadata": {
    "collapsed": true
   },
   "outputs": [],
   "source": [
    "ax = fa17.hist('tvot', bins=np.arange(0, .3, .025))"
   ]
  },
  {
   "cell_type": "code",
   "execution_count": null,
   "metadata": {
    "collapsed": true
   },
   "outputs": [],
   "source": [
    "ax = fa17.hist('kvot', bins=np.arange(0, .7, .025))"
   ]
  },
  {
   "cell_type": "markdown",
   "metadata": {},
   "source": [
    "Now we have an idea of the distributions of the data we are exploring. Let's plot and compare each of the places of articulation."
   ]
  },
  {
   "cell_type": "markdown",
   "metadata": {},
   "source": [
    "**tvot and pvot:**"
   ]
  },
  {
   "cell_type": "code",
   "execution_count": null,
   "metadata": {
    "collapsed": true
   },
   "outputs": [],
   "source": [
    "sns.lmplot('pvot', 'tvot', data=fa17)"
   ]
  },
  {
   "cell_type": "markdown",
   "metadata": {},
   "source": [
    "**kvot and pvot:**"
   ]
  },
  {
   "cell_type": "code",
   "execution_count": null,
   "metadata": {
    "collapsed": true
   },
   "outputs": [],
   "source": [
    "sns.lmplot('pvot', 'kvot', data=fa17)"
   ]
  },
  {
   "cell_type": "markdown",
   "metadata": {},
   "source": [
    "**kvot and tvot:**"
   ]
  },
  {
   "cell_type": "code",
   "execution_count": null,
   "metadata": {
    "collapsed": true
   },
   "outputs": [],
   "source": [
    "sns.lmplot('tvot', 'kvot', data=fa17)"
   ]
  },
  {
   "cell_type": "markdown",
   "metadata": {
    "collapsed": true
   },
   "source": [
    "Do you see any interesting relationships? Type your observation below."
   ]
  },
  {
   "cell_type": "markdown",
   "metadata": {},
   "source": [
    "**Answer**:"
   ]
  },
  {
   "cell_type": "markdown",
   "metadata": {},
   "source": [
    "(Optional) If you're interested, here's a scatter plot of height against each of the place of articulation."
   ]
  },
  {
   "cell_type": "code",
   "execution_count": null,
   "metadata": {
    "collapsed": true
   },
   "outputs": [],
   "source": [
    "ptk_vot = fa17.pvot.append(fa17.tvot).append(fa17.kvot)\n",
    "vot_type = ['pvot'] * 87 + ['tvot'] * 87 + ['kvot'] * 87\n",
    "\n",
    "v = {'height': height_3x, 'p/t/k VOT': ptk_vot, 'VOT type' : vot_type}\n",
    "vot = pd.DataFrame(data=v)\n",
    "\n",
    "ax = sns.lmplot('p/t/k VOT', 'height', data=vot, fit_reg=False, hue=\"VOT type\")"
   ]
  },
  {
   "cell_type": "markdown",
   "metadata": {},
   "source": [
    "# 5. Voiced stops (bvot, dvot, gvot)"
   ]
  },
  {
   "cell_type": "code",
   "execution_count": null,
   "metadata": {
    "collapsed": true,
    "scrolled": true
   },
   "outputs": [],
   "source": [
    "# SIMULATING VOICED (bdg) VALUES FROM VOICELESS (ptk)\n",
    "# SHOULD NOT BE PART OF THE NOTEBOOK\n",
    "fa17['bvot'] = fa17.pvot + 0.05\n",
    "fa17['dvot'] = fa17.tvot + 0.05\n",
    "fa17['gvot'] = fa17.kvot + 0.05"
   ]
  },
  {
   "cell_type": "markdown",
   "metadata": {},
   "source": [
    "We will begin by adding a column for average voiced and average voiceless for each person in our table:"
   ]
  },
  {
   "cell_type": "code",
   "execution_count": null,
   "metadata": {
    "collapsed": true
   },
   "outputs": [],
   "source": [
    "fa17.rename(columns={'vot':'vot (ptk)'}, inplace=True)\n",
    "fa17['vot (bdg)'] = fa17[['bvot', 'dvot', 'gvot']].mean(numeric_only=True, axis=1)\n",
    "fa17.head()"
   ]
  },
  {
   "cell_type": "markdown",
   "metadata": {},
   "source": [
    "Now, we will compare our data. First, let's look at the relationship between the average of the voiced (bdg) and the voiceless (ptk) place of articulation:"
   ]
  },
  {
   "cell_type": "code",
   "execution_count": null,
   "metadata": {
    "collapsed": true
   },
   "outputs": [],
   "source": [
    "sns.lmplot('vot (ptk)', 'vot (bdg)', data=fa17, fit_reg=False)"
   ]
  },
  {
   "cell_type": "code",
   "execution_count": null,
   "metadata": {
    "collapsed": true
   },
   "outputs": [],
   "source": [
    "sns.lmplot('vot (ptk)', 'height', data=fa17, fit_reg=False)"
   ]
  },
  {
   "cell_type": "code",
   "execution_count": null,
   "metadata": {
    "collapsed": true
   },
   "outputs": [],
   "source": [
    "sns.lmplot('vot (bdg)', 'height', data=fa17, fit_reg=False)"
   ]
  },
  {
   "cell_type": "markdown",
   "metadata": {},
   "source": [
    "What are some interesting relationships do you observe? Type your answer below:"
   ]
  },
  {
   "cell_type": "markdown",
   "metadata": {},
   "source": [
    "**Answer**: "
   ]
  },
  {
   "cell_type": "markdown",
   "metadata": {},
   "source": [
    "# 6. Overall Observation"
   ]
  },
  {
   "cell_type": "markdown",
   "metadata": {},
   "source": [
    "Share three interesting relationship you observed (ie. the relationship between closure and height, etc.). Explain the significance of each."
   ]
  },
  {
   "cell_type": "markdown",
   "metadata": {},
   "source": [
    "**First observation**:"
   ]
  },
  {
   "cell_type": "markdown",
   "metadata": {},
   "source": [
    "**Second observation**:"
   ]
  },
  {
   "cell_type": "markdown",
   "metadata": {},
   "source": [
    "**Third observation**:"
   ]
  }
 ],
 "metadata": {
  "anaconda-cloud": {},
  "kernelspec": {
   "display_name": "Python [Root]",
   "language": "python",
   "name": "Python [Root]"
  },
  "language_info": {
   "codemirror_mode": {
    "name": "ipython",
    "version": 3
   },
   "file_extension": ".py",
   "mimetype": "text/x-python",
   "name": "python",
   "nbconvert_exporter": "python",
   "pygments_lexer": "ipython3",
   "version": "3.5.2"
  }
 },
 "nbformat": 4,
 "nbformat_minor": 1
}
