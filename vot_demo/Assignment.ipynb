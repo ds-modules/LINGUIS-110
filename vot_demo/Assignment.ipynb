{
 "cells": [
  {
   "cell_type": "markdown",
   "metadata": {},
   "source": [
    "# Linguistics 110: Closure and Voice-Onset Time\n",
    "\n",
    "### Professor Susan Lin\n",
    "\n",
    "This notebook will familiarize you with some of the basic strategies for data analysis that can be useful not only in this course, but possibly for the rest of your time at Cal. We will cover an overview of our computing environment, and then will explore the data on closure and VOT that you submit.\n",
    "\n",
    "## Table of Contents\n",
    "\n",
    "1 - [Computing Environment](#computing environment)\n",
    "\n",
    "2 - [Creating our Dataframe](#dataframe)\n",
    "\n",
    "3 - [Exploring the Data](#exploring data)\n",
    "\n",
    "4 - [Relationships between Closures](#closures)\n",
    "\n",
    "5 - [Exploring Metadata](#metadata)\n",
    "\n",
    "6 - [Comparing to Others](#to class)"
   ]
  },
  {
   "cell_type": "markdown",
   "metadata": {},
   "source": [
    "## 1. Our Computing Environment, Jupyter notebooks  <a id='computing environment'></a>\n",
    "This webpage is called a Jupyter notebook. A notebook is a place to write programs and view their results. \n",
    "\n",
    "### Text cells\n",
    "In a notebook, each rectangle containing text or code is called a *cell*.\n",
    "\n",
    "Text cells (like this one) can be edited by double-clicking on them. They're written in a simple format called [Markdown](http://daringfireball.net/projects/markdown/syntax) to add formatting and section headings.  You don't need to learn Markdown, but you might want to.\n",
    "\n",
    "After you edit a text cell, click the \"run cell\" button at the top that looks like ▶| to confirm any changes. (Try not to delete the instructions of the lab.)"
   ]
  },
  {
   "cell_type": "markdown",
   "metadata": {},
   "source": [
    "**Understanding Check 1** This paragraph is in its own text cell.  Try editing it so that this sentence is the last sentence in the paragraph, and then click the \"run cell\" ▶| button .  This sentence, for example, should be deleted.  So should this one."
   ]
  },
  {
   "cell_type": "markdown",
   "metadata": {},
   "source": [
    "### Code cells\n",
    "Other cells contain code in the Python 3 language. Running a code cell will execute all of the code it contains.\n",
    "\n",
    "To run the code in a code cell, first click on that cell to activate it.  It'll be highlighted with a little green or blue rectangle.  Next, either press ▶| or hold down the `shift` key and press `return` or `enter`.\n",
    "\n",
    "Try running this cell:"
   ]
  },
  {
   "cell_type": "code",
   "execution_count": null,
   "metadata": {
    "collapsed": true
   },
   "outputs": [],
   "source": [
    "print(\"Hello, World!\")"
   ]
  },
  {
   "cell_type": "markdown",
   "metadata": {},
   "source": [
    "The fundamental building block of Python code is an expression. Cells can contain multiple lines with multiple expressions. When you run a cell, the lines of code are executed in the order in which they appear. Every `print` expression prints a line. Run the next cell and notice the order of the output."
   ]
  },
  {
   "cell_type": "code",
   "execution_count": null,
   "metadata": {
    "collapsed": true
   },
   "outputs": [],
   "source": [
    "print(\"First this line is printed,\")\n",
    "print(\"and then this one.\")"
   ]
  },
  {
   "cell_type": "markdown",
   "metadata": {},
   "source": [
    "### Writing Jupyter notebooks\n",
    "You can use Jupyter notebooks for your own projects or documents.  When you make your own notebook, you'll need to create your own cells for text and code.\n",
    "\n",
    "To add a cell, click the + button in the menu bar.  It'll start out as a text cell.  You can change it to a code cell by clicking inside it so it's highlighted, clicking the drop-down box next to the restart (⟳) button in the menu bar, and choosing \"Code\"."
   ]
  },
  {
   "cell_type": "markdown",
   "metadata": {},
   "source": [
    "### Errors\n",
    "Python is a language, and like natural human languages, it has rules.  It differs from natural language in two important ways:\n",
    "1. The rules are *simple*.  You can learn most of them in a few weeks and gain reasonable proficiency with the language in a semester.\n",
    "2. The rules are *rigid*.  If you're proficient in a natural language, you can understand a non-proficient speaker, glossing over small mistakes.  A computer running Python code is not smart enough to do that.\n",
    "\n",
    "Whenever you write code, you'll make mistakes.  When you run a code cell that has errors, Python will sometimes produce error messages to tell you what you did wrong.\n",
    "\n",
    "Errors are okay; even experienced programmers make many errors.  When you make an error, you just have to find the source of the problem, fix it, and move on.\n",
    "\n",
    "We have made an error in the next cell.  Run it and see what happens."
   ]
  },
  {
   "cell_type": "code",
   "execution_count": null,
   "metadata": {
    "collapsed": true
   },
   "outputs": [],
   "source": [
    "print(\"This line is missing something.\""
   ]
  },
  {
   "cell_type": "markdown",
   "metadata": {},
   "source": [
    "The last line of the error output attempts to tell you what went wrong.  The *syntax* of a language is its structure, and this `SyntaxError` tells you that you have created an illegal structure.  \"`EOF`\" means \"end of file,\" so the message is saying Python expected you to write something more (in this case, a right parenthesis) before finishing the cell.\n",
    "\n",
    "There's a lot of terminology in programming languages, but you don't need to know it all in order to program effectively. If you see a cryptic message like this, you can often get by without deciphering it. Add a parenthesis to the end of the line to get rid of the error message.\n",
    "\n",
    "Run the cell below so that we can get started on our module! These are our import statements (and a few other things). \n",
    "\n",
    "Because of the size of the Python community, if there is a function that you want to use, there is a good chance that someone has written one already and been kind enough to share their work in the form of packages. We can start using those packages by writing `import` and then the package name."
   ]
  },
  {
   "cell_type": "markdown",
   "metadata": {},
   "source": [
    "TODO: WRITE ABOUT THE TOOLBAR, SERVER TIME OUT, ETC."
   ]
  },
  {
   "cell_type": "code",
   "execution_count": null,
   "metadata": {
    "collapsed": true
   },
   "outputs": [],
   "source": []
  },
  {
   "cell_type": "code",
   "execution_count": null,
   "metadata": {
    "collapsed": true
   },
   "outputs": [],
   "source": [
    "# imports -- just run this cell\n",
    "import scipy\n",
    "import numpy as np\n",
    "import pandas as pd\n",
    "import seaborn as sns\n",
    "from scipy.stats import mode\n",
    "import matplotlib.pyplot as plt\n",
    "import warnings\n",
    "\n",
    "warnings.filterwarnings('ignore')\n",
    "sns.set_style('darkgrid')\n",
    "%matplotlib inline"
   ]
  },
  {
   "cell_type": "markdown",
   "metadata": {},
   "source": [
    "## 2. Creating our Dataframe <a id='dataframe'></a>\n",
    "We will start by familiarizing ourselves with the data.\n",
    "\n",
    "To visualize the data, we need to load the file first. In the line where we we assign `file_name` to equal the name of our dataset, which is a compilation of the results from the homework you completed last week.\n",
    "\n",
    "Note that we have `data/` in front of the file name, which means that are file `example_data.csv` is in the `data` directory (folder)."
   ]
  },
  {
   "cell_type": "code",
   "execution_count": null,
   "metadata": {
    "collapsed": true
   },
   "outputs": [],
   "source": [
    "file_name = 'data/example_data.csv'\n",
    "data = pd.read_csv(file_name)\n",
    "data.head()"
   ]
  },
  {
   "cell_type": "markdown",
   "metadata": {},
   "source": [
    "### 2.1 Adding features from our data"
   ]
  },
  {
   "cell_type": "markdown",
   "metadata": {},
   "source": [
    "We are going to add several columns to our dataframe. A column for each of the following:\n",
    "+ The semester of this class (called `class`)\n",
    "+ Average of all closure/vot for each individual (called `clo`/`vot`)\n",
    "+ Average voiced closure/vot for each individual (called `vclo`/`vvot`)\n",
    "+ Average voiceless closure/vot for each individual (called `vlclo`/`vlvot`)"
   ]
  },
  {
   "cell_type": "markdown",
   "metadata": {},
   "source": [
    "First we are just going to add the column `class`. We will set it to be equal to `Fall 2017` for each row."
   ]
  },
  {
   "cell_type": "code",
   "execution_count": null,
   "metadata": {
    "collapsed": true
   },
   "outputs": [],
   "source": [
    "data['class'] = 'Fall 2017'\n",
    "data.head()"
   ]
  },
  {
   "cell_type": "markdown",
   "metadata": {},
   "source": [
    "Next we will add the column for the average of all of the closures for each row. First we will pull out just the columns that we want to take the average of."
   ]
  },
  {
   "cell_type": "code",
   "execution_count": null,
   "metadata": {
    "collapsed": true
   },
   "outputs": [],
   "source": [
    "subset = data[['pclo', 'tclo', 'kclo', 'bclo', 'dclo', 'gclo']]\n",
    "subset.head()"
   ]
  },
  {
   "cell_type": "markdown",
   "metadata": {},
   "source": [
    "Then we will take the average across those rows."
   ]
  },
  {
   "cell_type": "code",
   "execution_count": null,
   "metadata": {
    "collapsed": true,
    "scrolled": true
   },
   "outputs": [],
   "source": [
    "clo_avg = subset.mean(axis=1)\n",
    "clo_avg"
   ]
  },
  {
   "cell_type": "markdown",
   "metadata": {},
   "source": [
    "And finally, we will append those values to our dataframe as a column called `clo`."
   ]
  },
  {
   "cell_type": "code",
   "execution_count": null,
   "metadata": {
    "collapsed": true
   },
   "outputs": [],
   "source": [
    "data['clo'] = clo_avg\n",
    "data.head()"
   ]
  },
  {
   "cell_type": "markdown",
   "metadata": {},
   "source": [
    "We then repeat this process for all of the other columns that we want to create."
   ]
  },
  {
   "cell_type": "code",
   "execution_count": null,
   "metadata": {
    "collapsed": true,
    "scrolled": true
   },
   "outputs": [],
   "source": [
    "data['vot'] = data[['pvot', 'tvot', 'kvot', 'bvot', 'dvot', 'gvot']].mean(axis=1)\n",
    "data['vclo'] = data[['pclo', 'tclo', 'kclo']].mean(axis=1)\n",
    "data['vvot'] = data[['pvot', 'tvot', 'kvot']].mean(axis=1)\n",
    "data['vlclo'] = data[['bclo', 'dclo', 'gclo']].mean(axis=1)\n",
    "data['vlvot'] = data[['bvot', 'dvot', 'gvot']].mean(axis=1)\n",
    "data.head()"
   ]
  },
  {
   "cell_type": "markdown",
   "metadata": {},
   "source": [
    "# 3. Exploring the Data <a id='exploring data'></a>"
   ]
  },
  {
   "cell_type": "markdown",
   "metadata": {},
   "source": [
    "### 3.1 Descriptive Statistics\n",
    "Below we compute the some basic properties about the column `clo`."
   ]
  },
  {
   "cell_type": "code",
   "execution_count": null,
   "metadata": {
    "collapsed": true
   },
   "outputs": [],
   "source": [
    "closure_mode = mode(data.clo)[0][0]\n",
    "print('Mode: ', closure_mode)\n",
    "\n",
    "data.clo.describe()"
   ]
  },
  {
   "cell_type": "markdown",
   "metadata": {},
   "source": [
    "### 3.2 Data Visualization\n",
    "Now that we have our data in order, let's get a picture of the data with some plots."
   ]
  },
  {
   "cell_type": "markdown",
   "metadata": {},
   "source": [
    "Let's start by visualizing the distribution of `vot` with a histogram."
   ]
  },
  {
   "cell_type": "code",
   "execution_count": null,
   "metadata": {
    "collapsed": true
   },
   "outputs": [],
   "source": [
    "sns.distplot(data['vot'])"
   ]
  },
  {
   "cell_type": "code",
   "execution_count": null,
   "metadata": {
    "collapsed": true
   },
   "outputs": [],
   "source": [
    "sns.distplot(data['vvot'])\n",
    "sns.distplot(data['vlvot'])\n",
    "plt.xlabel('ms')"
   ]
  },
  {
   "cell_type": "code",
   "execution_count": null,
   "metadata": {
    "collapsed": true
   },
   "outputs": [],
   "source": [
    "# change back the third line before release (outlier was making it look )\n",
    "sns.distplot(data['pvot'])\n",
    "sns.distplot(data['tvot'])\n",
    "sns.distplot(sorted(list(data['kvot']))[:-1])"
   ]
  },
  {
   "cell_type": "code",
   "execution_count": null,
   "metadata": {
    "collapsed": true
   },
   "outputs": [],
   "source": [
    "sns.distplot(data['bvot'])\n",
    "sns.distplot(data['dvot'])\n",
    "sns.distplot(sorted(list(data['gvot']))[:-1])"
   ]
  },
  {
   "cell_type": "markdown",
   "metadata": {},
   "source": [
    "#### COUNT: \n",
    "Below, we will see the number of people who speak each language."
   ]
  },
  {
   "cell_type": "code",
   "execution_count": null,
   "metadata": {
    "collapsed": true
   },
   "outputs": [],
   "source": [
    "sns.countplot(y=\"language\", data=data)"
   ]
  },
  {
   "cell_type": "markdown",
   "metadata": {},
   "source": [
    "Below, we have a the distribution of height."
   ]
  },
  {
   "cell_type": "code",
   "execution_count": null,
   "metadata": {
    "collapsed": true
   },
   "outputs": [],
   "source": [
    "sns.distplot(data['height'])\n",
    "\n",
    "plt.xlabel('height (cm)')"
   ]
  },
  {
   "cell_type": "markdown",
   "metadata": {},
   "source": [
    "# 4. Relationships between closures <a id='closures'></a>"
   ]
  },
  {
   "cell_type": "markdown",
   "metadata": {},
   "source": [
    "TODO: add markdown and explanations to this whole section"
   ]
  },
  {
   "cell_type": "code",
   "execution_count": null,
   "metadata": {
    "collapsed": true
   },
   "outputs": [],
   "source": []
  },
  {
   "cell_type": "markdown",
   "metadata": {},
   "source": [
    "### 4.1 Using x=y line"
   ]
  },
  {
   "cell_type": "code",
   "execution_count": null,
   "metadata": {
    "collapsed": true
   },
   "outputs": [],
   "source": [
    "def plot_with_equality_line(xs, ys, best_fit=False):\n",
    "    fig, ax = plt.subplots()\n",
    "    sns.regplot(xs, ys, fit_reg=best_fit, ax=ax)\n",
    "\n",
    "    lims = [np.min([ax.get_xlim(), ax.get_ylim()]), np.max([ax.get_xlim(), ax.get_ylim()])]\n",
    "    ax.plot(lims, lims, '--', alpha=0.75, zorder=0, c='black')\n",
    "    ax.set_xlim(lims)\n",
    "    ax.set_ylim(lims)"
   ]
  },
  {
   "cell_type": "code",
   "execution_count": null,
   "metadata": {
    "collapsed": true
   },
   "outputs": [],
   "source": [
    "plot_with_equality_line(data['tclo'], data['pclo'])\n",
    "\n",
    "plt.xlabel('tclo (ms)')\n",
    "plt.ylabel('pclo (ms)')"
   ]
  },
  {
   "cell_type": "code",
   "execution_count": null,
   "metadata": {
    "collapsed": true
   },
   "outputs": [],
   "source": [
    "plot_with_equality_line(data['kclo'], data['pclo'])\n",
    "\n",
    "plt.xlabel('kclo (ms)')\n",
    "plt.ylabel('pclo (ms)')"
   ]
  },
  {
   "cell_type": "code",
   "execution_count": null,
   "metadata": {
    "collapsed": true
   },
   "outputs": [],
   "source": [
    "plot_with_equality_line(data['kclo'], data['tclo'])\n",
    "\n",
    "plt.xlabel('kclo (ms)')\n",
    "plt.ylabel('tclo (ms)')"
   ]
  },
  {
   "cell_type": "code",
   "execution_count": null,
   "metadata": {
    "collapsed": true
   },
   "outputs": [],
   "source": [
    "plot_with_equality_line(data['bclo'], data['dclo'])\n",
    "\n",
    "plt.xlabel('bclo (ms)')\n",
    "plt.ylabel('dclo (ms)')"
   ]
  },
  {
   "cell_type": "code",
   "execution_count": null,
   "metadata": {
    "collapsed": true
   },
   "outputs": [],
   "source": [
    "plot_with_equality_line(data['bclo'], data['gclo'])\n",
    "\n",
    "plt.xlabel('bclo (ms)')\n",
    "plt.ylabel('gclo (ms)')"
   ]
  },
  {
   "cell_type": "code",
   "execution_count": null,
   "metadata": {
    "collapsed": true
   },
   "outputs": [],
   "source": [
    "plot_with_equality_line(data['dclo'], data['gclo'])\n",
    "\n",
    "plt.xlabel('dclo (ms)')\n",
    "plt.ylabel('gclo (ms)')"
   ]
  },
  {
   "cell_type": "markdown",
   "metadata": {
    "collapsed": true
   },
   "source": [
    "### 4.2 Using box-and-whisker plots"
   ]
  },
  {
   "cell_type": "code",
   "execution_count": null,
   "metadata": {
    "collapsed": true
   },
   "outputs": [],
   "source": [
    "sns.boxplot(data[['pclo', 'tclo', 'kclo']], width=.3, palette=\"Set3\")\n",
    "\n",
    "plt.ylabel('duration (ms)')\n",
    "plt.xlabel('Voiceless Closures')"
   ]
  },
  {
   "cell_type": "code",
   "execution_count": null,
   "metadata": {
    "collapsed": true
   },
   "outputs": [],
   "source": [
    "sns.boxplot(data[['bclo', 'dclo', 'gclo']], width=.3, palette=\"hls\")\n",
    "\n",
    "plt.ylabel('duration (ms)')\n",
    "plt.xlabel('Voiced Closures')"
   ]
  },
  {
   "cell_type": "markdown",
   "metadata": {},
   "source": [
    "# 5. Explore relationships to metadata <a id='metadata'></a>\n",
    "Now let's explore relationships between closure and different characteristics of the persons who delivered those stats, looking at language and height. We'll draw scatter plots to see whether there are linear relationships between them."
   ]
  },
  {
   "cell_type": "markdown",
   "metadata": {},
   "source": [
    "### 5.1 Language\n",
    "Before we look at the actual relationship, it is important to realize any potential limitations of our observations. If you look back up to the bar plot of different native languages, you will see that the majority speak English. \n",
    "\n",
    "Question: if we try to come up with conclusion about people who speak Tagalog/Dutch, would the conclusions be reliable and why? (Type your answer below)"
   ]
  },
  {
   "cell_type": "markdown",
   "metadata": {},
   "source": [
    "**Answer**:"
   ]
  },
  {
   "cell_type": "markdown",
   "metadata": {},
   "source": [
    "Here, each dot is a person and you can see what language they speak and their respective closure measurement."
   ]
  },
  {
   "cell_type": "code",
   "execution_count": null,
   "metadata": {
    "collapsed": true
   },
   "outputs": [],
   "source": [
    "sns.violinplot(x=\"clo\", y=\"language\", data=data)\n",
    "\n",
    "plt.xlabel('clo (ms)')"
   ]
  },
  {
   "cell_type": "markdown",
   "metadata": {},
   "source": [
    "Compare the distributions. Can you make any meaningful observations?"
   ]
  },
  {
   "cell_type": "markdown",
   "metadata": {},
   "source": [
    "**Answer**:"
   ]
  },
  {
   "cell_type": "markdown",
   "metadata": {},
   "source": [
    "### 5.2 Height"
   ]
  },
  {
   "cell_type": "markdown",
   "metadata": {},
   "source": [
    "Now we'll look at how height influences closure."
   ]
  },
  {
   "cell_type": "code",
   "execution_count": null,
   "metadata": {
    "collapsed": true
   },
   "outputs": [],
   "source": [
    "sns.lmplot('clo', 'height', data=data, fit_reg=False)\n",
    "\n",
    "plt.xlabel('clo (ms)')\n",
    "plt.ylabel('height (cm)')"
   ]
  },
  {
   "cell_type": "markdown",
   "metadata": {},
   "source": [
    "In the scatter plot above, represents an individual, and their corresponding average closure and height. \n",
    "\n",
    "Change \"fit_reg\" to \"True\" in the code above to see the regression line.\n",
    "\n",
    "What does this graph tell about the relationship between height and closure? Regression lines describe a general trend of the data, sometimes refered to as the 'line of best fit'. Type your answer below."
   ]
  },
  {
   "cell_type": "markdown",
   "metadata": {},
   "source": [
    "**Answer**:"
   ]
  },
  {
   "cell_type": "markdown",
   "metadata": {},
   "source": [
    "Let's see if there's a different kind of relationship between height and voiced/voiceless."
   ]
  },
  {
   "cell_type": "code",
   "execution_count": null,
   "metadata": {
    "collapsed": true
   },
   "outputs": [],
   "source": [
    "sns.regplot('vclo', 'height', data=data, fit_reg=True)\n",
    "sns.regplot('vlclo', 'height', data=data, fit_reg=True)\n",
    "\n",
    "plt.xlabel('clo (ms)')\n",
    "plt.ylabel('height (cm)')"
   ]
  },
  {
   "cell_type": "markdown",
   "metadata": {},
   "source": [
    "### 5.3 Visualizing Multiple Features"
   ]
  },
  {
   "cell_type": "markdown",
   "metadata": {},
   "source": [
    "So far, we've been presenting two kinds of information in one plot (eg. language vs. closure). Would presenting more than two at once help us at analyzing? Let's try it."
   ]
  },
  {
   "cell_type": "markdown",
   "metadata": {},
   "source": [
    "**Answer**:"
   ]
  },
  {
   "cell_type": "markdown",
   "metadata": {},
   "source": [
    "Below, the color of the dots will depend on the language that person speaks rather than its gender."
   ]
  },
  {
   "cell_type": "code",
   "execution_count": null,
   "metadata": {
    "collapsed": true
   },
   "outputs": [],
   "source": [
    "sns.lmplot('clo', 'height', data=data, fit_reg=False, hue=\"language\")\n",
    "\n",
    "plt.xlabel('clo (ms)')\n",
    "plt.ylabel('height (cm)')"
   ]
  },
  {
   "cell_type": "markdown",
   "metadata": {},
   "source": [
    "What conclusions can you make from the graph above, if any? Is it easy to analyze this plot? Why? Type your answer below."
   ]
  },
  {
   "cell_type": "markdown",
   "metadata": {},
   "source": [
    "**Answer**:"
   ]
  },
  {
   "cell_type": "markdown",
   "metadata": {},
   "source": [
    "The lesson here is that sometimes less is more."
   ]
  },
  {
   "cell_type": "markdown",
   "metadata": {},
   "source": [
    "# 6. Compare data of entire class <a id='to class'></a>"
   ]
  },
  {
   "cell_type": "markdown",
   "metadata": {},
   "source": [
    "### 6.1 Compare yourself to the rest of the class"
   ]
  },
  {
   "cell_type": "markdown",
   "metadata": {},
   "source": [
    "Let's see where your own data stands in relation with the rest of the class. Change \"myRowNumber\" to the number of the row in the table that contains your data and run the cell."
   ]
  },
  {
   "cell_type": "code",
   "execution_count": null,
   "metadata": {
    "collapsed": true
   },
   "outputs": [],
   "source": [
    "myRowNumber = 1 #CHANGE TO ELLIPSIS IN ORIGINAL NOTEBOOK"
   ]
  },
  {
   "cell_type": "code",
   "execution_count": null,
   "metadata": {
    "collapsed": true
   },
   "outputs": [],
   "source": [
    "xAxis = data['clo'].tolist()\n",
    "yAxis = data['height'].tolist()\n",
    "\n",
    "myClosure = xAxis.pop(myRowNumber)\n",
    "myHeight = yAxis.pop(myRowNumber)"
   ]
  },
  {
   "cell_type": "code",
   "execution_count": null,
   "metadata": {
    "collapsed": true
   },
   "outputs": [],
   "source": [
    "sns.distplot(data['clo'])\n",
    "plt.axvline(myClosure, color='b', linestyle='dashed', linewidth=1)\n",
    "plt.xlabel('clo (ms)')"
   ]
  },
  {
   "cell_type": "code",
   "execution_count": null,
   "metadata": {
    "collapsed": true
   },
   "outputs": [],
   "source": [
    "sns.distplot(data['height'])\n",
    "plt.axvline(myHeight, color='b', linestyle='dashed', linewidth=1)\n",
    "plt.xlabel('height (cm)')"
   ]
  },
  {
   "cell_type": "code",
   "execution_count": null,
   "metadata": {
    "collapsed": true
   },
   "outputs": [],
   "source": [
    "sns.kdeplot(data['clo'], data['height'], cmap=\"Blues\", shade=True, shade_lowest=False)\n",
    "plt.axvline(myClosure, color='b', linestyle='dashed', linewidth=1)\n",
    "plt.axhline(myHeight, color='b', linestyle='dashed', linewidth=1)\n",
    "\n",
    "plt.xlabel('clo (ms)')\n",
    "plt.ylabel('height (cm)')"
   ]
  },
  {
   "cell_type": "markdown",
   "metadata": {},
   "source": [
    "### 6.2 Compare our data with data from last semester"
   ]
  },
  {
   "cell_type": "markdown",
   "metadata": {},
   "source": [
    "It's often useful to compare current data with past data. Below, we'll explore class data collected from last semester."
   ]
  },
  {
   "cell_type": "code",
   "execution_count": null,
   "metadata": {
    "collapsed": true
   },
   "outputs": [],
   "source": [
    "spring2017_file = 'data/vots.csv'\n",
    "sp17 = pd.read_csv(spring2017_file)\n",
    "sp17['Class'] = ['spring 2017'] * len (sp17)\n",
    "\n",
    "sp17data = sp17.append(data)\n",
    "sp17data.head()"
   ]
  },
  {
   "cell_type": "markdown",
   "metadata": {},
   "source": [
    "As before, we'll calculate the mean, mode, median, and range of last semester's closure and compare to ours."
   ]
  },
  {
   "cell_type": "code",
   "execution_count": null,
   "metadata": {
    "collapsed": true
   },
   "outputs": [],
   "source": [
    "data_closure_mean = np.mean(data.closure)\n",
    "data_closure_mode = scipy.stats.mode(data.closure)[0][0]\n",
    "data_closure_median = np.median(data.closure)\n",
    "data_closure_range = [min(data.closure), max(data.closure)]\n",
    "\n",
    "sp17_closure_mean = np.mean(sp17.closure)\n",
    "sp17_closure_mode = scipy.stats.mode(sp17.closure)[0][0]\n",
    "sp17_closure_median = np.median(sp17.closure)\n",
    "sp17_closure_range = [min(sp17.closure), max(sp17.closure)]\n",
    "\n",
    "df = pd.DataFrame()\n",
    "df['Closure'] = ['mean', 'mode', 'median', 'range']\n",
    "df['Spring 2017'] = [sp17_closure_mean, sp17_closure_mode, sp17_closure_median, sp17_closure_range]\n",
    "df['Fall 2017'] = [data_closure_mean, data_closure_mode, data_closure_median, data_closure_range]\n",
    "df"
   ]
  },
  {
   "cell_type": "markdown",
   "metadata": {},
   "source": [
    "Let's check the closure mean by **gender** of last semester's class and compare to our class."
   ]
  },
  {
   "cell_type": "code",
   "execution_count": null,
   "metadata": {
    "collapsed": true
   },
   "outputs": [],
   "source": [
    "fig, ax = plt.subplots(1,2)\n",
    "fig.set_size_inches(10, 8)\n",
    "sns.barplot(x=\"gender\", y=\"closure\", data=sp17, ax=ax[0])\n",
    "sns.barplot(x=\"gender\", y=\"closure\", data=data, ax=ax[1])"
   ]
  },
  {
   "cell_type": "code",
   "execution_count": null,
   "metadata": {
    "collapsed": true
   },
   "outputs": [],
   "source": [
    "fig, ax = plt.subplots(1,2)\n",
    "fig.set_size_inches(10, 4)\n",
    "sns.stripplot(x=\"closure\", y=\"gender\", data=sp17[sp17['gender'] != \"Other / prefer not to answer\"], jitter=True, ax=ax[0]).set_ylabel('')\n",
    "sns.stripplot(x=\"closure\", y=\"gender\", data=data[sp17['gender'] != \"Other / prefer not to answer\"], jitter=True, ax=ax[1]).set_ylabel('')"
   ]
  },
  {
   "cell_type": "markdown",
   "metadata": {},
   "source": [
    "Now let's look at their language and closure and compare to ours."
   ]
  },
  {
   "cell_type": "code",
   "execution_count": null,
   "metadata": {
    "collapsed": true
   },
   "outputs": [],
   "source": [
    "fig, ax = plt.subplots(1,2)\n",
    "fig.set_size_inches(10, 4)\n",
    "sns.violinplot(x=\"closure\", y=\"language\", data=data, ax=ax[0])\n",
    "sns.violinplot(x=\"closure\", y=\"language\", data=sp17, ax=ax[1]).set_ylabel('')"
   ]
  },
  {
   "cell_type": "markdown",
   "metadata": {},
   "source": [
    "Very interesting. How about the **height**?"
   ]
  },
  {
   "cell_type": "code",
   "execution_count": null,
   "metadata": {
    "collapsed": true,
    "scrolled": false
   },
   "outputs": [],
   "source": [
    "sns.lmplot('closure', 'height', data=sp17data, fit_reg=False, hue='Class')"
   ]
  },
  {
   "cell_type": "markdown",
   "metadata": {},
   "source": [
    "Lastly, let's look at the relationship between **height, gender, and closure** and compare."
   ]
  },
  {
   "cell_type": "code",
   "execution_count": null,
   "metadata": {
    "collapsed": true
   },
   "outputs": [],
   "source": [
    "sns.lmplot(x=\"closure\", y=\"height\",hue='gender', col=\"Class\", data=sp17data[sp17data['gender'] != 'Other / prefer not to answer'])"
   ]
  },
  {
   "cell_type": "markdown",
   "metadata": {},
   "source": [
    "Overall, how does our class data comprare with last semester's? Type your answer below."
   ]
  },
  {
   "cell_type": "markdown",
   "metadata": {},
   "source": [
    "**Answer**:"
   ]
  },
  {
   "cell_type": "markdown",
   "metadata": {},
   "source": [
    "(Optional) Here's one plot that that has all pclo, tclo, and kclo plotted against height."
   ]
  },
  {
   "cell_type": "code",
   "execution_count": null,
   "metadata": {
    "collapsed": true
   },
   "outputs": [],
   "source": [
    "height_3x = data.height.append(data.height).append(data.height)\n",
    "ptk_closure = data.pclo.append(data.tclo).append(data.kclo)\n",
    "closure_type = ['pclo'] * 87 + ['tclo'] * 87 + ['kclo'] * 87\n",
    "\n",
    "c = {'height': height_3x, 'p/t/k Closure': ptk_closure, 'Closure type' : closure_type}\n",
    "closure = pd.DataFrame(data=c)\n",
    "#closure.head()\n",
    "\n",
    "sns.lmplot('p/t/k Closure', 'height', data=closure, fit_reg=True, hue=\"Closure type\")"
   ]
  },
  {
   "cell_type": "markdown",
   "metadata": {},
   "source": [
    "(Optional) If you're interested, here's a scatter plot of height against each of the place of articulation."
   ]
  },
  {
   "cell_type": "code",
   "execution_count": null,
   "metadata": {
    "collapsed": true
   },
   "outputs": [],
   "source": [
    "height_3x = list(data['height']) * 3\n",
    "ptk_vot = data.pvot.append(data.tvot).append(data.kvot)\n",
    "vot_type = ['pvot'] * 87 + ['tvot'] * 87 + ['kvot'] * 87\n",
    "\n",
    "v = {'height': height_3x, 'p/t/k VOT': ptk_vot, 'VOT type' : vot_type}\n",
    "vot = pd.DataFrame(data=v)\n",
    "\n",
    "sns.lmplot('p/t/k VOT', 'height', data=vot, fit_reg=False, hue=\"VOT type\")"
   ]
  },
  {
   "cell_type": "code",
   "execution_count": null,
   "metadata": {
    "collapsed": true
   },
   "outputs": [],
   "source": [
    "sns.lmplot('p/t/k VOT', 'height', data=vot, fit_reg=True, hue=\"VOT type\")"
   ]
  }
 ],
 "metadata": {
  "anaconda-cloud": {},
  "kernelspec": {
   "display_name": "Python [Root]",
   "language": "python",
   "name": "Python [Root]"
  },
  "language_info": {
   "codemirror_mode": {
    "name": "ipython",
    "version": 3
   },
   "file_extension": ".py",
   "mimetype": "text/x-python",
   "name": "python",
   "nbconvert_exporter": "python",
   "pygments_lexer": "ipython3",
   "version": "3.5.2"
  }
 },
 "nbformat": 4,
 "nbformat_minor": 1
}
