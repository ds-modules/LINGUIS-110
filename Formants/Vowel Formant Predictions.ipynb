{
 "cells": [
  {
   "cell_type": "code",
   "execution_count": 3,
   "metadata": {
    "collapsed": true
   },
   "outputs": [],
   "source": [
    "#Run this cell\n",
    "\n",
    "import pandas as pd\n",
    "import seaborn as sns\n",
    "import matplotlib.pyplot as plt\n",
    "%matplotlib inline\n",
    "import numpy as np"
   ]
  },
  {
   "cell_type": "markdown",
   "metadata": {},
   "source": [
    "# VOWEL FORMANT PREDICTIONS"
   ]
  },
  {
   "cell_type": "markdown",
   "metadata": {},
   "source": [
    "In the first part to this notebook, you were able to explore the dataset, construct a vowel chart, plot relationships between corner vowels, and draw your own vowel space. The first part of the notebook was intended to provide moer visualization and exploration of your data, but now we will move into making predictions based off the same dataset in a more analytical perspective. \n",
    "\n",
    "\n",
    "You will explore the relationships between different attributes, predict gender/height from the vowel space, evaulate which predicting methods are the most effective, what improvements you can make to better your predictions, and overall find meaning to the models you are creating."
   ]
  },
  {
   "cell_type": "markdown",
   "metadata": {},
   "source": [
    "# 1. Upload your data"
   ]
  },
  {
   "cell_type": "markdown",
   "metadata": {},
   "source": [
    "Prior to being able to work with the data, you must upload your dataset. As you run the cell, take a look at the code and try to figure out what is happening.  The first two lines of code below are what create the dataframe provided. The remainder of the code(excluding the last line) is used to create and add an extra column to the dataframe, called \"IPA\", which transforms the vowels from each row to their correspaonding IPA vowel. The last line of code is what returns the timit dataframe, but instead of printing the whole dataset, which could be huge, it only prints the first 5 rows of the dataframe."
   ]
  },
  {
   "cell_type": "code",
   "execution_count": 10,
   "metadata": {},
   "outputs": [
    {
     "data": {
      "text/html": [
       "<div>\n",
       "<style>\n",
       "    .dataframe thead tr:only-child th {\n",
       "        text-align: right;\n",
       "    }\n",
       "\n",
       "    .dataframe thead th {\n",
       "        text-align: left;\n",
       "    }\n",
       "\n",
       "    .dataframe tbody tr th {\n",
       "        vertical-align: top;\n",
       "    }\n",
       "</style>\n",
       "<table border=\"1\" class=\"dataframe\">\n",
       "  <thead>\n",
       "    <tr style=\"text-align: right;\">\n",
       "      <th></th>\n",
       "      <th>speaker</th>\n",
       "      <th>gender</th>\n",
       "      <th>file</th>\n",
       "      <th>t</th>\n",
       "      <th>word</th>\n",
       "      <th>vowel</th>\n",
       "      <th>stress</th>\n",
       "      <th>duration</th>\n",
       "      <th>f1</th>\n",
       "      <th>f2</th>\n",
       "      <th>f3</th>\n",
       "      <th>f0</th>\n",
       "    </tr>\n",
       "  </thead>\n",
       "  <tbody>\n",
       "    <tr>\n",
       "      <th>0</th>\n",
       "      <td>fcjf0</td>\n",
       "      <td>female</td>\n",
       "      <td>sa1</td>\n",
       "      <td>0.3225</td>\n",
       "      <td>SHE</td>\n",
       "      <td>IY</td>\n",
       "      <td>1</td>\n",
       "      <td>0.08</td>\n",
       "      <td>486.2</td>\n",
       "      <td>2467.9</td>\n",
       "      <td>3185.1</td>\n",
       "      <td>244.9</td>\n",
       "    </tr>\n",
       "    <tr>\n",
       "      <th>1</th>\n",
       "      <td>fcjf0</td>\n",
       "      <td>female</td>\n",
       "      <td>sa1</td>\n",
       "      <td>0.5025</td>\n",
       "      <td>HAD</td>\n",
       "      <td>AE</td>\n",
       "      <td>1</td>\n",
       "      <td>0.10</td>\n",
       "      <td>595.1</td>\n",
       "      <td>2067.0</td>\n",
       "      <td>2976.7</td>\n",
       "      <td>241.6</td>\n",
       "    </tr>\n",
       "    <tr>\n",
       "      <th>2</th>\n",
       "      <td>fcjf0</td>\n",
       "      <td>female</td>\n",
       "      <td>sa1</td>\n",
       "      <td>0.6825</td>\n",
       "      <td>YOUR</td>\n",
       "      <td>UH</td>\n",
       "      <td>1</td>\n",
       "      <td>0.04</td>\n",
       "      <td>468.7</td>\n",
       "      <td>1956.1</td>\n",
       "      <td>3061.4</td>\n",
       "      <td>201.9</td>\n",
       "    </tr>\n",
       "    <tr>\n",
       "      <th>3</th>\n",
       "      <td>fcjf0</td>\n",
       "      <td>female</td>\n",
       "      <td>sa1</td>\n",
       "      <td>0.8525</td>\n",
       "      <td>DARK</td>\n",
       "      <td>AA</td>\n",
       "      <td>1</td>\n",
       "      <td>0.10</td>\n",
       "      <td>740.4</td>\n",
       "      <td>1674.1</td>\n",
       "      <td>2767.3</td>\n",
       "      <td>221.5</td>\n",
       "    </tr>\n",
       "    <tr>\n",
       "      <th>4</th>\n",
       "      <td>fcjf0</td>\n",
       "      <td>female</td>\n",
       "      <td>sa1</td>\n",
       "      <td>1.1975</td>\n",
       "      <td>SUIT</td>\n",
       "      <td>UW</td>\n",
       "      <td>1</td>\n",
       "      <td>0.17</td>\n",
       "      <td>464.0</td>\n",
       "      <td>1698.0</td>\n",
       "      <td>2904.9</td>\n",
       "      <td>232.6</td>\n",
       "    </tr>\n",
       "  </tbody>\n",
       "</table>\n",
       "</div>"
      ],
      "text/plain": [
       "  speaker  gender file       t  word vowel  stress  duration     f1      f2  \\\n",
       "0   fcjf0  female  sa1  0.3225   SHE    IY       1      0.08  486.2  2467.9   \n",
       "1   fcjf0  female  sa1  0.5025   HAD    AE       1      0.10  595.1  2067.0   \n",
       "2   fcjf0  female  sa1  0.6825  YOUR    UH       1      0.04  468.7  1956.1   \n",
       "3   fcjf0  female  sa1  0.8525  DARK    AA       1      0.10  740.4  1674.1   \n",
       "4   fcjf0  female  sa1  1.1975  SUIT    UW       1      0.17  464.0  1698.0   \n",
       "\n",
       "       f3     f0  \n",
       "0  3185.1  244.9  \n",
       "1  2976.7  241.6  \n",
       "2  3061.4  201.9  \n",
       "3  2767.3  221.5  \n",
       "4  2904.9  232.6  "
      ]
     },
     "execution_count": 10,
     "metadata": {},
     "output_type": "execute_result"
    }
   ],
   "source": [
    "#RUN THIS CELL\n",
    "\n",
    "files = ['data/vowel_midpoints_dr' + str(ind) + '.txt' for ind in range(1,9)]\n",
    "timit = pd.concat([pd.read_csv(file, sep='\\t') for file in files]).reset_index(drop=True)\n",
    "\n",
    "#creates and add the \"IPA\" column \n",
    "timit['IPA'] = timit.vowel.map({\"AO\" : \"ɔ\", \"AA\" : \"ɑ\", \"IY\" : \"i\", \"UW\" : \"u\", \"EH\" : \"ɛ\", \"IH\" : \"ɪ\", \"UH\":\"ʊ\", \"AH\": \"ʌ\", \"AX\" : \"ə\", \"AE\":\"æ\", \"EY\" :\"eɪ\", \"AY\": \"aɪ\", \"OW\":\"oʊ\", \"AW\":\"aʊ\", \"OY\" :\"ɔɪ\", \"ER\":\"ɝ\"})\n",
    "\n",
    "#returns the first 5 rows of your data\n",
    "timit.head()"
   ]
  },
  {
   "cell_type": "code",
   "execution_count": 11,
   "metadata": {},
   "outputs": [
    {
     "data": {
      "text/html": [
       "<div>\n",
       "<style>\n",
       "    .dataframe thead tr:only-child th {\n",
       "        text-align: right;\n",
       "    }\n",
       "\n",
       "    .dataframe thead th {\n",
       "        text-align: left;\n",
       "    }\n",
       "\n",
       "    .dataframe tbody tr th {\n",
       "        vertical-align: top;\n",
       "    }\n",
       "</style>\n",
       "<table border=\"1\" class=\"dataframe\">\n",
       "  <thead>\n",
       "    <tr style=\"text-align: right;\">\n",
       "      <th></th>\n",
       "      <th>speaker</th>\n",
       "      <th>gender</th>\n",
       "      <th>file</th>\n",
       "      <th>t</th>\n",
       "      <th>word</th>\n",
       "      <th>vowel</th>\n",
       "      <th>stress</th>\n",
       "      <th>duration</th>\n",
       "      <th>f1</th>\n",
       "      <th>f2</th>\n",
       "      <th>f3</th>\n",
       "      <th>f0</th>\n",
       "      <th>IPA</th>\n",
       "    </tr>\n",
       "  </thead>\n",
       "  <tbody>\n",
       "    <tr>\n",
       "      <th>0</th>\n",
       "      <td>fcjf0</td>\n",
       "      <td>female</td>\n",
       "      <td>sa1</td>\n",
       "      <td>0.3225</td>\n",
       "      <td>SHE</td>\n",
       "      <td>IY</td>\n",
       "      <td>1</td>\n",
       "      <td>0.08</td>\n",
       "      <td>486.2</td>\n",
       "      <td>2467.9</td>\n",
       "      <td>3185.1</td>\n",
       "      <td>244.9</td>\n",
       "      <td>i</td>\n",
       "    </tr>\n",
       "    <tr>\n",
       "      <th>1</th>\n",
       "      <td>fcjf0</td>\n",
       "      <td>female</td>\n",
       "      <td>sa1</td>\n",
       "      <td>0.5025</td>\n",
       "      <td>HAD</td>\n",
       "      <td>AE</td>\n",
       "      <td>1</td>\n",
       "      <td>0.10</td>\n",
       "      <td>595.1</td>\n",
       "      <td>2067.0</td>\n",
       "      <td>2976.7</td>\n",
       "      <td>241.6</td>\n",
       "      <td>æ</td>\n",
       "    </tr>\n",
       "    <tr>\n",
       "      <th>2</th>\n",
       "      <td>fcjf0</td>\n",
       "      <td>female</td>\n",
       "      <td>sa1</td>\n",
       "      <td>0.6825</td>\n",
       "      <td>YOUR</td>\n",
       "      <td>UH</td>\n",
       "      <td>1</td>\n",
       "      <td>0.04</td>\n",
       "      <td>468.7</td>\n",
       "      <td>1956.1</td>\n",
       "      <td>3061.4</td>\n",
       "      <td>201.9</td>\n",
       "      <td>ʊ</td>\n",
       "    </tr>\n",
       "    <tr>\n",
       "      <th>3</th>\n",
       "      <td>fcjf0</td>\n",
       "      <td>female</td>\n",
       "      <td>sa1</td>\n",
       "      <td>0.8525</td>\n",
       "      <td>DARK</td>\n",
       "      <td>AA</td>\n",
       "      <td>1</td>\n",
       "      <td>0.10</td>\n",
       "      <td>740.4</td>\n",
       "      <td>1674.1</td>\n",
       "      <td>2767.3</td>\n",
       "      <td>221.5</td>\n",
       "      <td>ɑ</td>\n",
       "    </tr>\n",
       "    <tr>\n",
       "      <th>4</th>\n",
       "      <td>fcjf0</td>\n",
       "      <td>female</td>\n",
       "      <td>sa1</td>\n",
       "      <td>1.1975</td>\n",
       "      <td>SUIT</td>\n",
       "      <td>UW</td>\n",
       "      <td>1</td>\n",
       "      <td>0.17</td>\n",
       "      <td>464.0</td>\n",
       "      <td>1698.0</td>\n",
       "      <td>2904.9</td>\n",
       "      <td>232.6</td>\n",
       "      <td>u</td>\n",
       "    </tr>\n",
       "  </tbody>\n",
       "</table>\n",
       "</div>"
      ],
      "text/plain": [
       "  speaker  gender file       t  word vowel  stress  duration     f1      f2  \\\n",
       "0   fcjf0  female  sa1  0.3225   SHE    IY       1      0.08  486.2  2467.9   \n",
       "1   fcjf0  female  sa1  0.5025   HAD    AE       1      0.10  595.1  2067.0   \n",
       "2   fcjf0  female  sa1  0.6825  YOUR    UH       1      0.04  468.7  1956.1   \n",
       "3   fcjf0  female  sa1  0.8525  DARK    AA       1      0.10  740.4  1674.1   \n",
       "4   fcjf0  female  sa1  1.1975  SUIT    UW       1      0.17  464.0  1698.0   \n",
       "\n",
       "       f3     f0 IPA  \n",
       "0  3185.1  244.9   i  \n",
       "1  2976.7  241.6   æ  \n",
       "2  3061.4  201.9   ʊ  \n",
       "3  2767.3  221.5   ɑ  \n",
       "4  2904.9  232.6   u  "
      ]
     },
     "execution_count": 11,
     "metadata": {},
     "output_type": "execute_result"
    }
   ],
   "source": [
    "timit['IPA'] = timit.vowel.map({\"AO\" : \"ɔ\", \"AA\" : \"ɑ\", \"IY\" : \"i\", \"UW\" : \"u\", \"EH\" : \"ɛ\", \"IH\" : \"ɪ\", \"UH\":\"ʊ\", \"AH\": \"ʌ\", \"AX\" : \"ə\", \"AE\":\"æ\", \"EY\" :\"eɪ\", \"AY\": \"aɪ\", \"OW\":\"oʊ\", \"AW\":\"aʊ\", \"OY\" :\"ɔɪ\", \"ER\":\"ɝ\"})\n",
    "timit.head()"
   ]
  },
  {
   "cell_type": "markdown",
   "metadata": {},
   "source": [
    "# 2. Clean Your Data"
   ]
  },
  {
   "cell_type": "markdown",
   "metadata": {},
   "source": [
    "## 2.1 Drop Columns"
   ]
  },
  {
   "cell_type": "markdown",
   "metadata": {},
   "source": [
    "Many times we are given datasets with more information than we need. Sometimes the datasets have empty values or columns that can actually make your data messier or harder to interpret. Before jumping into analyzing your data it is important to clean you data. "
   ]
  },
  {
   "cell_type": "code",
   "execution_count": 214,
   "metadata": {},
   "outputs": [
    {
     "data": {
      "text/html": [
       "<div>\n",
       "<style>\n",
       "    .dataframe thead tr:only-child th {\n",
       "        text-align: right;\n",
       "    }\n",
       "\n",
       "    .dataframe thead th {\n",
       "        text-align: left;\n",
       "    }\n",
       "\n",
       "    .dataframe tbody tr th {\n",
       "        vertical-align: top;\n",
       "    }\n",
       "</style>\n",
       "<table border=\"1\" class=\"dataframe\">\n",
       "  <thead>\n",
       "    <tr style=\"text-align: right;\">\n",
       "      <th></th>\n",
       "      <th>gender</th>\n",
       "      <th>t</th>\n",
       "      <th>vowel</th>\n",
       "      <th>stress</th>\n",
       "      <th>duration</th>\n",
       "      <th>f1</th>\n",
       "      <th>f2</th>\n",
       "      <th>f3</th>\n",
       "      <th>f0</th>\n",
       "      <th>IPA</th>\n",
       "    </tr>\n",
       "  </thead>\n",
       "  <tbody>\n",
       "    <tr>\n",
       "      <th>0</th>\n",
       "      <td>female</td>\n",
       "      <td>0.3225</td>\n",
       "      <td>IY</td>\n",
       "      <td>1</td>\n",
       "      <td>0.08</td>\n",
       "      <td>486.2</td>\n",
       "      <td>2467.9</td>\n",
       "      <td>3185.1</td>\n",
       "      <td>244.9</td>\n",
       "      <td>i</td>\n",
       "    </tr>\n",
       "    <tr>\n",
       "      <th>1</th>\n",
       "      <td>female</td>\n",
       "      <td>0.5025</td>\n",
       "      <td>AE</td>\n",
       "      <td>1</td>\n",
       "      <td>0.10</td>\n",
       "      <td>595.1</td>\n",
       "      <td>2067.0</td>\n",
       "      <td>2976.7</td>\n",
       "      <td>241.6</td>\n",
       "      <td>æ</td>\n",
       "    </tr>\n",
       "    <tr>\n",
       "      <th>2</th>\n",
       "      <td>female</td>\n",
       "      <td>0.6825</td>\n",
       "      <td>UH</td>\n",
       "      <td>1</td>\n",
       "      <td>0.04</td>\n",
       "      <td>468.7</td>\n",
       "      <td>1956.1</td>\n",
       "      <td>3061.4</td>\n",
       "      <td>201.9</td>\n",
       "      <td>ʊ</td>\n",
       "    </tr>\n",
       "    <tr>\n",
       "      <th>3</th>\n",
       "      <td>female</td>\n",
       "      <td>0.8525</td>\n",
       "      <td>AA</td>\n",
       "      <td>1</td>\n",
       "      <td>0.10</td>\n",
       "      <td>740.4</td>\n",
       "      <td>1674.1</td>\n",
       "      <td>2767.3</td>\n",
       "      <td>221.5</td>\n",
       "      <td>ɑ</td>\n",
       "    </tr>\n",
       "    <tr>\n",
       "      <th>4</th>\n",
       "      <td>female</td>\n",
       "      <td>1.1975</td>\n",
       "      <td>UW</td>\n",
       "      <td>1</td>\n",
       "      <td>0.17</td>\n",
       "      <td>464.0</td>\n",
       "      <td>1698.0</td>\n",
       "      <td>2904.9</td>\n",
       "      <td>232.6</td>\n",
       "      <td>u</td>\n",
       "    </tr>\n",
       "  </tbody>\n",
       "</table>\n",
       "</div>"
      ],
      "text/plain": [
       "   gender       t vowel  stress  duration     f1      f2      f3     f0 IPA\n",
       "0  female  0.3225    IY       1      0.08  486.2  2467.9  3185.1  244.9   i\n",
       "1  female  0.5025    AE       1      0.10  595.1  2067.0  2976.7  241.6   æ\n",
       "2  female  0.6825    UH       1      0.04  468.7  1956.1  3061.4  201.9   ʊ\n",
       "3  female  0.8525    AA       1      0.10  740.4  1674.1  2767.3  221.5   ɑ\n",
       "4  female  1.1975    UW       1      0.17  464.0  1698.0  2904.9  232.6   u"
      ]
     },
     "execution_count": 214,
     "metadata": {},
     "output_type": "execute_result"
    }
   ],
   "source": [
    "#RUN THIS CELL\n",
    "\n",
    "timit.drop([\"speaker\", \"file\", \"word\"], axis = 1, inplace = True)\n",
    "timit.head()"
   ]
  },
  {
   "cell_type": "markdown",
   "metadata": {},
   "source": [
    "## <font color = \"red\"> EXERCISE #1 </font>"
   ]
  },
  {
   "cell_type": "markdown",
   "metadata": {},
   "source": [
    "For this exercise you are going to drop two more columns we are not going to use for this specific notebook. For this analysis we are focusing on F1 and F2, which means we do not need <b>F0</b> and <b>F3</b>. For your first excercise drop the two columns we do not need in the cell below. If your columns were dropped successfully then you should no longer see them when you run the cell below.\n",
    "\n",
    "<b>HINT:</b> Replace what is inbetween the square brackets with the names of the columns you want to drop."
   ]
  },
  {
   "cell_type": "code",
   "execution_count": 15,
   "metadata": {},
   "outputs": [
    {
     "data": {
      "text/html": [
       "<div>\n",
       "<style>\n",
       "    .dataframe thead tr:only-child th {\n",
       "        text-align: right;\n",
       "    }\n",
       "\n",
       "    .dataframe thead th {\n",
       "        text-align: left;\n",
       "    }\n",
       "\n",
       "    .dataframe tbody tr th {\n",
       "        vertical-align: top;\n",
       "    }\n",
       "</style>\n",
       "<table border=\"1\" class=\"dataframe\">\n",
       "  <thead>\n",
       "    <tr style=\"text-align: right;\">\n",
       "      <th></th>\n",
       "      <th>gender</th>\n",
       "      <th>t</th>\n",
       "      <th>vowel</th>\n",
       "      <th>stress</th>\n",
       "      <th>duration</th>\n",
       "      <th>f1</th>\n",
       "      <th>f2</th>\n",
       "      <th>IPA</th>\n",
       "    </tr>\n",
       "  </thead>\n",
       "  <tbody>\n",
       "    <tr>\n",
       "      <th>0</th>\n",
       "      <td>female</td>\n",
       "      <td>0.3225</td>\n",
       "      <td>IY</td>\n",
       "      <td>1</td>\n",
       "      <td>0.08</td>\n",
       "      <td>486.2</td>\n",
       "      <td>2467.9</td>\n",
       "      <td>i</td>\n",
       "    </tr>\n",
       "    <tr>\n",
       "      <th>1</th>\n",
       "      <td>female</td>\n",
       "      <td>0.5025</td>\n",
       "      <td>AE</td>\n",
       "      <td>1</td>\n",
       "      <td>0.10</td>\n",
       "      <td>595.1</td>\n",
       "      <td>2067.0</td>\n",
       "      <td>æ</td>\n",
       "    </tr>\n",
       "    <tr>\n",
       "      <th>2</th>\n",
       "      <td>female</td>\n",
       "      <td>0.6825</td>\n",
       "      <td>UH</td>\n",
       "      <td>1</td>\n",
       "      <td>0.04</td>\n",
       "      <td>468.7</td>\n",
       "      <td>1956.1</td>\n",
       "      <td>ʊ</td>\n",
       "    </tr>\n",
       "    <tr>\n",
       "      <th>3</th>\n",
       "      <td>female</td>\n",
       "      <td>0.8525</td>\n",
       "      <td>AA</td>\n",
       "      <td>1</td>\n",
       "      <td>0.10</td>\n",
       "      <td>740.4</td>\n",
       "      <td>1674.1</td>\n",
       "      <td>ɑ</td>\n",
       "    </tr>\n",
       "    <tr>\n",
       "      <th>4</th>\n",
       "      <td>female</td>\n",
       "      <td>1.1975</td>\n",
       "      <td>UW</td>\n",
       "      <td>1</td>\n",
       "      <td>0.17</td>\n",
       "      <td>464.0</td>\n",
       "      <td>1698.0</td>\n",
       "      <td>u</td>\n",
       "    </tr>\n",
       "  </tbody>\n",
       "</table>\n",
       "</div>"
      ],
      "text/plain": [
       "   gender       t vowel  stress  duration     f1      f2 IPA\n",
       "0  female  0.3225    IY       1      0.08  486.2  2467.9   i\n",
       "1  female  0.5025    AE       1      0.10  595.1  2067.0   æ\n",
       "2  female  0.6825    UH       1      0.04  468.7  1956.1   ʊ\n",
       "3  female  0.8525    AA       1      0.10  740.4  1674.1   ɑ\n",
       "4  female  1.1975    UW       1      0.17  464.0  1698.0   u"
      ]
     },
     "execution_count": 15,
     "metadata": {},
     "output_type": "execute_result"
    }
   ],
   "source": [
    "#RUN THIS CELL\n",
    "\n",
    "timit.drop([\"NAME_OF_COLUMN1\", \"NAME_OF_COLUMN2\"], axis = 1, inplace = True)\n",
    "timit.head()"
   ]
  },
  {
   "cell_type": "markdown",
   "metadata": {},
   "source": [
    "## 2.2 Splitting/Subsetting the Data"
   ]
  },
  {
   "cell_type": "markdown",
   "metadata": {},
   "source": [
    "There are many different ways to split your data to better analyze it in a more organized manner. Below I have provided a couple options for you to chose from in which you could split your data. Such as gender, vowels, etc. When it comes to analyzing your own data this option is optional to what you think would be the most effective."
   ]
  },
  {
   "cell_type": "markdown",
   "metadata": {},
   "source": [
    "### a. By Gender"
   ]
  },
  {
   "cell_type": "markdown",
   "metadata": {},
   "source": [
    "Using the same dataframe we created above, called <i>timit</i>, we are going to subset another dataframe. The first split will be by gender. To acknowledge all the types of genders listed under the gender column you can use the function provided below. If you run the cell below you could see that for this specific dataset there are only \"female\" and \"male\" unique values under gender. Given that information, you can create two subsets dataframes based off of gender. "
   ]
  },
  {
   "cell_type": "code",
   "execution_count": 1,
   "metadata": {},
   "outputs": [
    {
     "ename": "NameError",
     "evalue": "name 'timit' is not defined",
     "output_type": "error",
     "traceback": [
      "\u001b[0;31m---------------------------------------------------------------------------\u001b[0m",
      "\u001b[0;31mNameError\u001b[0m                                 Traceback (most recent call last)",
      "\u001b[0;32m<ipython-input-1-05d79a4dbd29>\u001b[0m in \u001b[0;36m<module>\u001b[0;34m()\u001b[0m\n\u001b[1;32m      1\u001b[0m \u001b[0;31m#RUN THIS CELL\u001b[0m\u001b[0;34m\u001b[0m\u001b[0;34m\u001b[0m\u001b[0m\n\u001b[0;32m----> 2\u001b[0;31m \u001b[0mtimit\u001b[0m\u001b[0;34m.\u001b[0m\u001b[0mgender\u001b[0m\u001b[0;34m.\u001b[0m\u001b[0munique\u001b[0m\u001b[0;34m(\u001b[0m\u001b[0;34m)\u001b[0m\u001b[0;34m\u001b[0m\u001b[0m\n\u001b[0m",
      "\u001b[0;31mNameError\u001b[0m: name 'timit' is not defined"
     ]
    }
   ],
   "source": [
    "#RUN THIS CELL \n",
    "timit.gender.unique()"
   ]
  },
  {
   "cell_type": "markdown",
   "metadata": {},
   "source": [
    "The first subset dataframe you create will be called <b>fem_data</b> and that includes all the data for those that identify as \"female\". You will create another subset dataframe, but this one will be called <b>male_data</b>. This includes all the data for those who identify as \"male\". Creating these subset dataframes does not affect the original <i>timit</i> dataframe."
   ]
  },
  {
   "cell_type": "code",
   "execution_count": 216,
   "metadata": {},
   "outputs": [
    {
     "data": {
      "text/html": [
       "<div>\n",
       "<style>\n",
       "    .dataframe thead tr:only-child th {\n",
       "        text-align: right;\n",
       "    }\n",
       "\n",
       "    .dataframe thead th {\n",
       "        text-align: left;\n",
       "    }\n",
       "\n",
       "    .dataframe tbody tr th {\n",
       "        vertical-align: top;\n",
       "    }\n",
       "</style>\n",
       "<table border=\"1\" class=\"dataframe\">\n",
       "  <thead>\n",
       "    <tr style=\"text-align: right;\">\n",
       "      <th></th>\n",
       "      <th>gender</th>\n",
       "      <th>t</th>\n",
       "      <th>vowel</th>\n",
       "      <th>stress</th>\n",
       "      <th>duration</th>\n",
       "      <th>f1</th>\n",
       "      <th>f2</th>\n",
       "      <th>f3</th>\n",
       "      <th>f0</th>\n",
       "      <th>IPA</th>\n",
       "    </tr>\n",
       "  </thead>\n",
       "  <tbody>\n",
       "    <tr>\n",
       "      <th>0</th>\n",
       "      <td>female</td>\n",
       "      <td>0.3225</td>\n",
       "      <td>IY</td>\n",
       "      <td>1</td>\n",
       "      <td>0.08</td>\n",
       "      <td>486.2</td>\n",
       "      <td>2467.9</td>\n",
       "      <td>3185.1</td>\n",
       "      <td>244.9</td>\n",
       "      <td>i</td>\n",
       "    </tr>\n",
       "    <tr>\n",
       "      <th>1</th>\n",
       "      <td>female</td>\n",
       "      <td>0.5025</td>\n",
       "      <td>AE</td>\n",
       "      <td>1</td>\n",
       "      <td>0.10</td>\n",
       "      <td>595.1</td>\n",
       "      <td>2067.0</td>\n",
       "      <td>2976.7</td>\n",
       "      <td>241.6</td>\n",
       "      <td>æ</td>\n",
       "    </tr>\n",
       "    <tr>\n",
       "      <th>2</th>\n",
       "      <td>female</td>\n",
       "      <td>0.6825</td>\n",
       "      <td>UH</td>\n",
       "      <td>1</td>\n",
       "      <td>0.04</td>\n",
       "      <td>468.7</td>\n",
       "      <td>1956.1</td>\n",
       "      <td>3061.4</td>\n",
       "      <td>201.9</td>\n",
       "      <td>ʊ</td>\n",
       "    </tr>\n",
       "    <tr>\n",
       "      <th>3</th>\n",
       "      <td>female</td>\n",
       "      <td>0.8525</td>\n",
       "      <td>AA</td>\n",
       "      <td>1</td>\n",
       "      <td>0.10</td>\n",
       "      <td>740.4</td>\n",
       "      <td>1674.1</td>\n",
       "      <td>2767.3</td>\n",
       "      <td>221.5</td>\n",
       "      <td>ɑ</td>\n",
       "    </tr>\n",
       "    <tr>\n",
       "      <th>4</th>\n",
       "      <td>female</td>\n",
       "      <td>1.1975</td>\n",
       "      <td>UW</td>\n",
       "      <td>1</td>\n",
       "      <td>0.17</td>\n",
       "      <td>464.0</td>\n",
       "      <td>1698.0</td>\n",
       "      <td>2904.9</td>\n",
       "      <td>232.6</td>\n",
       "      <td>u</td>\n",
       "    </tr>\n",
       "  </tbody>\n",
       "</table>\n",
       "</div>"
      ],
      "text/plain": [
       "   gender       t vowel  stress  duration     f1      f2      f3     f0 IPA\n",
       "0  female  0.3225    IY       1      0.08  486.2  2467.9  3185.1  244.9   i\n",
       "1  female  0.5025    AE       1      0.10  595.1  2067.0  2976.7  241.6   æ\n",
       "2  female  0.6825    UH       1      0.04  468.7  1956.1  3061.4  201.9   ʊ\n",
       "3  female  0.8525    AA       1      0.10  740.4  1674.1  2767.3  221.5   ɑ\n",
       "4  female  1.1975    UW       1      0.17  464.0  1698.0  2904.9  232.6   u"
      ]
     },
     "execution_count": 216,
     "metadata": {},
     "output_type": "execute_result"
    }
   ],
   "source": [
    "fem_data = timit[timit.gender == \"female\"]\n",
    "fem_data.head()"
   ]
  },
  {
   "cell_type": "code",
   "execution_count": 217,
   "metadata": {},
   "outputs": [
    {
     "data": {
      "text/html": [
       "<div>\n",
       "<style>\n",
       "    .dataframe thead tr:only-child th {\n",
       "        text-align: right;\n",
       "    }\n",
       "\n",
       "    .dataframe thead th {\n",
       "        text-align: left;\n",
       "    }\n",
       "\n",
       "    .dataframe tbody tr th {\n",
       "        vertical-align: top;\n",
       "    }\n",
       "</style>\n",
       "<table border=\"1\" class=\"dataframe\">\n",
       "  <thead>\n",
       "    <tr style=\"text-align: right;\">\n",
       "      <th></th>\n",
       "      <th>gender</th>\n",
       "      <th>t</th>\n",
       "      <th>vowel</th>\n",
       "      <th>stress</th>\n",
       "      <th>duration</th>\n",
       "      <th>f1</th>\n",
       "      <th>f2</th>\n",
       "      <th>f3</th>\n",
       "      <th>f0</th>\n",
       "      <th>IPA</th>\n",
       "    </tr>\n",
       "  </thead>\n",
       "  <tbody>\n",
       "    <tr>\n",
       "      <th>1761</th>\n",
       "      <td>male</td>\n",
       "      <td>0.2775</td>\n",
       "      <td>IY</td>\n",
       "      <td>1</td>\n",
       "      <td>0.07</td>\n",
       "      <td>473.1</td>\n",
       "      <td>2134.7</td>\n",
       "      <td>2778.2</td>\n",
       "      <td>75.2</td>\n",
       "      <td>i</td>\n",
       "    </tr>\n",
       "    <tr>\n",
       "      <th>1762</th>\n",
       "      <td>male</td>\n",
       "      <td>0.4225</td>\n",
       "      <td>AE</td>\n",
       "      <td>1</td>\n",
       "      <td>0.08</td>\n",
       "      <td>453.0</td>\n",
       "      <td>1959.1</td>\n",
       "      <td>2613.8</td>\n",
       "      <td>158.8</td>\n",
       "      <td>æ</td>\n",
       "    </tr>\n",
       "    <tr>\n",
       "      <th>1763</th>\n",
       "      <td>male</td>\n",
       "      <td>0.5575</td>\n",
       "      <td>UH</td>\n",
       "      <td>1</td>\n",
       "      <td>0.03</td>\n",
       "      <td>356.3</td>\n",
       "      <td>1890.3</td>\n",
       "      <td>2723.1</td>\n",
       "      <td>164.4</td>\n",
       "      <td>ʊ</td>\n",
       "    </tr>\n",
       "    <tr>\n",
       "      <th>1764</th>\n",
       "      <td>male</td>\n",
       "      <td>0.7025</td>\n",
       "      <td>AA</td>\n",
       "      <td>1</td>\n",
       "      <td>0.10</td>\n",
       "      <td>684.3</td>\n",
       "      <td>1291.6</td>\n",
       "      <td>2288.3</td>\n",
       "      <td>70.9</td>\n",
       "      <td>ɑ</td>\n",
       "    </tr>\n",
       "    <tr>\n",
       "      <th>1765</th>\n",
       "      <td>male</td>\n",
       "      <td>1.1925</td>\n",
       "      <td>UW</td>\n",
       "      <td>1</td>\n",
       "      <td>0.18</td>\n",
       "      <td>418.7</td>\n",
       "      <td>1329.3</td>\n",
       "      <td>2439.9</td>\n",
       "      <td>140.7</td>\n",
       "      <td>u</td>\n",
       "    </tr>\n",
       "  </tbody>\n",
       "</table>\n",
       "</div>"
      ],
      "text/plain": [
       "     gender       t vowel  stress  duration     f1      f2      f3     f0 IPA\n",
       "1761   male  0.2775    IY       1      0.07  473.1  2134.7  2778.2   75.2   i\n",
       "1762   male  0.4225    AE       1      0.08  453.0  1959.1  2613.8  158.8   æ\n",
       "1763   male  0.5575    UH       1      0.03  356.3  1890.3  2723.1  164.4   ʊ\n",
       "1764   male  0.7025    AA       1      0.10  684.3  1291.6  2288.3   70.9   ɑ\n",
       "1765   male  1.1925    UW       1      0.18  418.7  1329.3  2439.9  140.7   u"
      ]
     },
     "execution_count": 217,
     "metadata": {},
     "output_type": "execute_result"
    }
   ],
   "source": [
    "male_data = timit[timit.gender == \"male\"]\n",
    "male_data.head()"
   ]
  },
  {
   "cell_type": "markdown",
   "metadata": {},
   "source": [
    "### b. By Vowels"
   ]
  },
  {
   "cell_type": "markdown",
   "metadata": {},
   "source": [
    "You could pick specific vowels to create a subset for using the <i>timit</i> dataframe. For the example provided below, we used the \"aʊ\" vowel, but you could subset on a vowel of your choice."
   ]
  },
  {
   "cell_type": "code",
   "execution_count": 218,
   "metadata": {},
   "outputs": [
    {
     "data": {
      "text/html": [
       "<div>\n",
       "<style>\n",
       "    .dataframe thead tr:only-child th {\n",
       "        text-align: right;\n",
       "    }\n",
       "\n",
       "    .dataframe thead th {\n",
       "        text-align: left;\n",
       "    }\n",
       "\n",
       "    .dataframe tbody tr th {\n",
       "        vertical-align: top;\n",
       "    }\n",
       "</style>\n",
       "<table border=\"1\" class=\"dataframe\">\n",
       "  <thead>\n",
       "    <tr style=\"text-align: right;\">\n",
       "      <th></th>\n",
       "      <th>gender</th>\n",
       "      <th>t</th>\n",
       "      <th>vowel</th>\n",
       "      <th>stress</th>\n",
       "      <th>duration</th>\n",
       "      <th>f1</th>\n",
       "      <th>f2</th>\n",
       "      <th>f3</th>\n",
       "      <th>f0</th>\n",
       "      <th>IPA</th>\n",
       "    </tr>\n",
       "  </thead>\n",
       "  <tbody>\n",
       "    <tr>\n",
       "      <th>81</th>\n",
       "      <td>female</td>\n",
       "      <td>0.2775</td>\n",
       "      <td>AW</td>\n",
       "      <td>1</td>\n",
       "      <td>0.07</td>\n",
       "      <td>710.2</td>\n",
       "      <td>1322.1</td>\n",
       "      <td>2672.0</td>\n",
       "      <td>248.5</td>\n",
       "      <td>aʊ</td>\n",
       "    </tr>\n",
       "    <tr>\n",
       "      <th>93</th>\n",
       "      <td>female</td>\n",
       "      <td>0.7775</td>\n",
       "      <td>AW</td>\n",
       "      <td>1</td>\n",
       "      <td>0.15</td>\n",
       "      <td>781.2</td>\n",
       "      <td>1340.9</td>\n",
       "      <td>2884.3</td>\n",
       "      <td>197.0</td>\n",
       "      <td>aʊ</td>\n",
       "    </tr>\n",
       "    <tr>\n",
       "      <th>229</th>\n",
       "      <td>female</td>\n",
       "      <td>0.8275</td>\n",
       "      <td>AW</td>\n",
       "      <td>1</td>\n",
       "      <td>0.17</td>\n",
       "      <td>772.8</td>\n",
       "      <td>1412.4</td>\n",
       "      <td>2467.0</td>\n",
       "      <td>209.8</td>\n",
       "      <td>aʊ</td>\n",
       "    </tr>\n",
       "    <tr>\n",
       "      <th>231</th>\n",
       "      <td>female</td>\n",
       "      <td>1.0675</td>\n",
       "      <td>AW</td>\n",
       "      <td>1</td>\n",
       "      <td>0.19</td>\n",
       "      <td>847.9</td>\n",
       "      <td>1530.6</td>\n",
       "      <td>2543.6</td>\n",
       "      <td>196.0</td>\n",
       "      <td>aʊ</td>\n",
       "    </tr>\n",
       "    <tr>\n",
       "      <th>304</th>\n",
       "      <td>female</td>\n",
       "      <td>2.1325</td>\n",
       "      <td>AW</td>\n",
       "      <td>1</td>\n",
       "      <td>0.16</td>\n",
       "      <td>726.8</td>\n",
       "      <td>1469.4</td>\n",
       "      <td>2456.5</td>\n",
       "      <td>185.0</td>\n",
       "      <td>aʊ</td>\n",
       "    </tr>\n",
       "  </tbody>\n",
       "</table>\n",
       "</div>"
      ],
      "text/plain": [
       "     gender       t vowel  stress  duration     f1      f2      f3     f0 IPA\n",
       "81   female  0.2775    AW       1      0.07  710.2  1322.1  2672.0  248.5  aʊ\n",
       "93   female  0.7775    AW       1      0.15  781.2  1340.9  2884.3  197.0  aʊ\n",
       "229  female  0.8275    AW       1      0.17  772.8  1412.4  2467.0  209.8  aʊ\n",
       "231  female  1.0675    AW       1      0.19  847.9  1530.6  2543.6  196.0  aʊ\n",
       "304  female  2.1325    AW       1      0.16  726.8  1469.4  2456.5  185.0  aʊ"
      ]
     },
     "execution_count": 218,
     "metadata": {},
     "output_type": "execute_result"
    }
   ],
   "source": [
    "aw = timit[timit.IPA == \"aʊ\"]\n",
    "aw.head()"
   ]
  },
  {
   "cell_type": "markdown",
   "metadata": {},
   "source": [
    "You could also subset the <b>fem_data</b> and <b>male_data</b> dataframes you created and subset again on specific vowels. For the examples provided below, we also used the \"aʊ\" IPA vowel to subset."
   ]
  },
  {
   "cell_type": "code",
   "execution_count": 219,
   "metadata": {},
   "outputs": [
    {
     "data": {
      "text/html": [
       "<div>\n",
       "<style>\n",
       "    .dataframe thead tr:only-child th {\n",
       "        text-align: right;\n",
       "    }\n",
       "\n",
       "    .dataframe thead th {\n",
       "        text-align: left;\n",
       "    }\n",
       "\n",
       "    .dataframe tbody tr th {\n",
       "        vertical-align: top;\n",
       "    }\n",
       "</style>\n",
       "<table border=\"1\" class=\"dataframe\">\n",
       "  <thead>\n",
       "    <tr style=\"text-align: right;\">\n",
       "      <th></th>\n",
       "      <th>gender</th>\n",
       "      <th>t</th>\n",
       "      <th>vowel</th>\n",
       "      <th>stress</th>\n",
       "      <th>duration</th>\n",
       "      <th>f1</th>\n",
       "      <th>f2</th>\n",
       "      <th>f3</th>\n",
       "      <th>f0</th>\n",
       "      <th>IPA</th>\n",
       "    </tr>\n",
       "  </thead>\n",
       "  <tbody>\n",
       "    <tr>\n",
       "      <th>81</th>\n",
       "      <td>female</td>\n",
       "      <td>0.2775</td>\n",
       "      <td>AW</td>\n",
       "      <td>1</td>\n",
       "      <td>0.07</td>\n",
       "      <td>710.2</td>\n",
       "      <td>1322.1</td>\n",
       "      <td>2672.0</td>\n",
       "      <td>248.5</td>\n",
       "      <td>aʊ</td>\n",
       "    </tr>\n",
       "    <tr>\n",
       "      <th>93</th>\n",
       "      <td>female</td>\n",
       "      <td>0.7775</td>\n",
       "      <td>AW</td>\n",
       "      <td>1</td>\n",
       "      <td>0.15</td>\n",
       "      <td>781.2</td>\n",
       "      <td>1340.9</td>\n",
       "      <td>2884.3</td>\n",
       "      <td>197.0</td>\n",
       "      <td>aʊ</td>\n",
       "    </tr>\n",
       "    <tr>\n",
       "      <th>229</th>\n",
       "      <td>female</td>\n",
       "      <td>0.8275</td>\n",
       "      <td>AW</td>\n",
       "      <td>1</td>\n",
       "      <td>0.17</td>\n",
       "      <td>772.8</td>\n",
       "      <td>1412.4</td>\n",
       "      <td>2467.0</td>\n",
       "      <td>209.8</td>\n",
       "      <td>aʊ</td>\n",
       "    </tr>\n",
       "    <tr>\n",
       "      <th>231</th>\n",
       "      <td>female</td>\n",
       "      <td>1.0675</td>\n",
       "      <td>AW</td>\n",
       "      <td>1</td>\n",
       "      <td>0.19</td>\n",
       "      <td>847.9</td>\n",
       "      <td>1530.6</td>\n",
       "      <td>2543.6</td>\n",
       "      <td>196.0</td>\n",
       "      <td>aʊ</td>\n",
       "    </tr>\n",
       "    <tr>\n",
       "      <th>304</th>\n",
       "      <td>female</td>\n",
       "      <td>2.1325</td>\n",
       "      <td>AW</td>\n",
       "      <td>1</td>\n",
       "      <td>0.16</td>\n",
       "      <td>726.8</td>\n",
       "      <td>1469.4</td>\n",
       "      <td>2456.5</td>\n",
       "      <td>185.0</td>\n",
       "      <td>aʊ</td>\n",
       "    </tr>\n",
       "  </tbody>\n",
       "</table>\n",
       "</div>"
      ],
      "text/plain": [
       "     gender       t vowel  stress  duration     f1      f2      f3     f0 IPA\n",
       "81   female  0.2775    AW       1      0.07  710.2  1322.1  2672.0  248.5  aʊ\n",
       "93   female  0.7775    AW       1      0.15  781.2  1340.9  2884.3  197.0  aʊ\n",
       "229  female  0.8275    AW       1      0.17  772.8  1412.4  2467.0  209.8  aʊ\n",
       "231  female  1.0675    AW       1      0.19  847.9  1530.6  2543.6  196.0  aʊ\n",
       "304  female  2.1325    AW       1      0.16  726.8  1469.4  2456.5  185.0  aʊ"
      ]
     },
     "execution_count": 219,
     "metadata": {},
     "output_type": "execute_result"
    }
   ],
   "source": [
    "aw_fem = fem_data[fem_data.IPA == \"aʊ\"]\n",
    "aw_fem.head()"
   ]
  },
  {
   "cell_type": "code",
   "execution_count": 220,
   "metadata": {},
   "outputs": [
    {
     "data": {
      "text/html": [
       "<div>\n",
       "<style>\n",
       "    .dataframe thead tr:only-child th {\n",
       "        text-align: right;\n",
       "    }\n",
       "\n",
       "    .dataframe thead th {\n",
       "        text-align: left;\n",
       "    }\n",
       "\n",
       "    .dataframe tbody tr th {\n",
       "        vertical-align: top;\n",
       "    }\n",
       "</style>\n",
       "<table border=\"1\" class=\"dataframe\">\n",
       "  <thead>\n",
       "    <tr style=\"text-align: right;\">\n",
       "      <th></th>\n",
       "      <th>gender</th>\n",
       "      <th>t</th>\n",
       "      <th>vowel</th>\n",
       "      <th>stress</th>\n",
       "      <th>duration</th>\n",
       "      <th>f1</th>\n",
       "      <th>f2</th>\n",
       "      <th>f3</th>\n",
       "      <th>f0</th>\n",
       "      <th>IPA</th>\n",
       "    </tr>\n",
       "  </thead>\n",
       "  <tbody>\n",
       "    <tr>\n",
       "      <th>1825</th>\n",
       "      <td>male</td>\n",
       "      <td>1.6925</td>\n",
       "      <td>AW</td>\n",
       "      <td>1</td>\n",
       "      <td>0.14</td>\n",
       "      <td>669.3</td>\n",
       "      <td>1223.7</td>\n",
       "      <td>2896.8</td>\n",
       "      <td>133.1</td>\n",
       "      <td>aʊ</td>\n",
       "    </tr>\n",
       "    <tr>\n",
       "      <th>1967</th>\n",
       "      <td>male</td>\n",
       "      <td>1.0575</td>\n",
       "      <td>AW</td>\n",
       "      <td>1</td>\n",
       "      <td>0.11</td>\n",
       "      <td>684.4</td>\n",
       "      <td>1270.4</td>\n",
       "      <td>2443.1</td>\n",
       "      <td>106.1</td>\n",
       "      <td>aʊ</td>\n",
       "    </tr>\n",
       "    <tr>\n",
       "      <th>1971</th>\n",
       "      <td>male</td>\n",
       "      <td>1.7425</td>\n",
       "      <td>AW</td>\n",
       "      <td>1</td>\n",
       "      <td>0.14</td>\n",
       "      <td>624.3</td>\n",
       "      <td>1158.4</td>\n",
       "      <td>2374.1</td>\n",
       "      <td>96.7</td>\n",
       "      <td>aʊ</td>\n",
       "    </tr>\n",
       "    <tr>\n",
       "      <th>2296</th>\n",
       "      <td>male</td>\n",
       "      <td>1.7075</td>\n",
       "      <td>AW</td>\n",
       "      <td>1</td>\n",
       "      <td>0.11</td>\n",
       "      <td>547.0</td>\n",
       "      <td>1103.4</td>\n",
       "      <td>2234.7</td>\n",
       "      <td>123.7</td>\n",
       "      <td>aʊ</td>\n",
       "    </tr>\n",
       "    <tr>\n",
       "      <th>2388</th>\n",
       "      <td>male</td>\n",
       "      <td>0.3925</td>\n",
       "      <td>AW</td>\n",
       "      <td>1</td>\n",
       "      <td>0.04</td>\n",
       "      <td>520.4</td>\n",
       "      <td>1016.2</td>\n",
       "      <td>2630.9</td>\n",
       "      <td>175.8</td>\n",
       "      <td>aʊ</td>\n",
       "    </tr>\n",
       "  </tbody>\n",
       "</table>\n",
       "</div>"
      ],
      "text/plain": [
       "     gender       t vowel  stress  duration     f1      f2      f3     f0 IPA\n",
       "1825   male  1.6925    AW       1      0.14  669.3  1223.7  2896.8  133.1  aʊ\n",
       "1967   male  1.0575    AW       1      0.11  684.4  1270.4  2443.1  106.1  aʊ\n",
       "1971   male  1.7425    AW       1      0.14  624.3  1158.4  2374.1   96.7  aʊ\n",
       "2296   male  1.7075    AW       1      0.11  547.0  1103.4  2234.7  123.7  aʊ\n",
       "2388   male  0.3925    AW       1      0.04  520.4  1016.2  2630.9  175.8  aʊ"
      ]
     },
     "execution_count": 220,
     "metadata": {},
     "output_type": "execute_result"
    }
   ],
   "source": [
    "aw_male = male_data[male_data.IPA == \"aʊ\"]\n",
    "aw_male.head()"
   ]
  },
  {
   "cell_type": "markdown",
   "metadata": {},
   "source": [
    "## <font color = \"red\"> EXERCISE #2 </font>"
   ]
  },
  {
   "cell_type": "markdown",
   "metadata": {},
   "source": [
    "All of section 2.2 was based on subsetting dataframes. Using the examples provided above as resources, create a subset dataframe on the vowel of your choice. You can either use the <b>timit</b> dataframe to subset from or the <b>fem_data/male_data</b> to subset from. This vowel subset does not have to be used for your analysis, but it does serve as good practice. \n",
    "\n",
    "<b>HINT:</b> Replace everything that is capitalized according to your vowel and dataframe choice. The only capitalized section you don't need to change in the <b>\".IPA\"</b> portion."
   ]
  },
  {
   "cell_type": "code",
   "execution_count": null,
   "metadata": {
    "collapsed": true
   },
   "outputs": [],
   "source": [
    "YOUR_SUBSET = DATAFRAME_NAME[DATAFRAME_NAME.IPA == \"IPA_VOWEL\"]\n",
    "YOUR_SUBSET.head()"
   ]
  },
  {
   "cell_type": "markdown",
   "metadata": {},
   "source": [
    "# 3. Exploring the Descriptive Data"
   ]
  },
  {
   "cell_type": "markdown",
   "metadata": {},
   "source": [
    "To start off visualizing our data we have provided a bar chart showing the percentage of each vowel per gender. For this first visualization just counting the occurences of each vowel would not have worked because there were more male subjects as opposed to female subjects which could have affected the data. Instead for this bar chart we used percentage."
   ]
  },
  {
   "cell_type": "markdown",
   "metadata": {},
   "source": [
    "## 3.1 Vowels Most Used by Gender"
   ]
  },
  {
   "cell_type": "code",
   "execution_count": 302,
   "metadata": {},
   "outputs": [
    {
     "data": {
      "image/png": "[encoded data removed]",
      "text/plain": [
       "<matplotlib.figure.Figure at 0x11f81da90>"
      ]
     },
     "metadata": {},
     "output_type": "display_data"
    }
   ],
   "source": [
    "vowel_perc = (100 * fem_data.vowel.value_counts() / len(fem_data)).to_frame(name = \"fem_vowel%\")\n",
    "vowel_perc[\"male_vowel%\"] = (100 * male_data.vowel.value_counts()/len(male_data))\n",
    "vowel_perc.plot(kind = \"bar\", figsize =(10,10), title = \"Vowel Percentage per Gender\", fontsize = 16, rot = 0);"
   ]
  },
  {
   "cell_type": "markdown",
   "metadata": {},
   "source": [
    "## <font color = \"blue\"> QUESTION #1 </font>"
   ]
  },
  {
   "cell_type": "markdown",
   "metadata": {},
   "source": [
    "After analyzing the results from the bar chart, would you agree that the results coincide with what you had anticipated? Were the vowels for which women or men used more often something you had already predicted? Why do you think women scored higher in the \"IY\" vowel, but lower on the \"IH\" vowel? Explain your thoughts with the results from the first visualization."
   ]
  },
  {
   "cell_type": "markdown",
   "metadata": {},
   "source": [
    "~ ANSWER HERE ~"
   ]
  },
  {
   "cell_type": "markdown",
   "metadata": {},
   "source": [
    "## 3.2 Understanding Vowel Formants"
   ]
  },
  {
   "cell_type": "markdown",
   "metadata": {},
   "source": [
    "\" The frequency of the first formant <b>(F1)</b> is mostly determined by the height of the tongue body:<br>\n",
    "\n",
    "<ul>high F1 = <i>low</i> vowel (i.e., high frequency F1 = low tongue body)<br>\n",
    "low F1 = <i>high</i> vowel (i.e., low frequency F1 = high tongue body)</ul>\n",
    "\n",
    "\n",
    "The frequency of the second formant <b>(F2)</b> is mostly determined by the frontness/backness of the tongue body:\n",
    "<br><ul>\n",
    "high F2 = <i>front</i> vowel<br>\n",
    "low F2 = <i>back</i> vowel \"</ul>\n",
    "\n",
    "LINK : https://home.cc.umanitoba.ca/~krussll/phonetics/acoustic/formants.html"
   ]
  },
  {
   "cell_type": "markdown",
   "metadata": {},
   "source": [
    "Below we grouped the data by each vowel and then found the mean of all its values. For the first cell below, we just printed it's results from F1 and put it in descending order. For the second cell we did very similar code, but instead focusing on F2.\n",
    "\n",
    "Look at the brief definitions of F1 and F2 provided above this cell. Do you notice any trends in regards to the vowels that appeared most in specific genders and their characteristics of being high/low or front/back vowels? Are there any relationships?"
   ]
  },
  {
   "cell_type": "code",
   "execution_count": 293,
   "metadata": {},
   "outputs": [
    {
     "data": {
      "text/plain": [
       "IPA\n",
       "aʊ    715.092608\n",
       "ɑ     702.291314\n",
       "aɪ    681.465885\n",
       "æ     652.258700\n",
       "ɔ     634.867838\n",
       "ɛ     588.080265\n",
       "ɔɪ    575.986430\n",
       "oʊ    553.662717\n",
       "ʌ     519.944476\n",
       "ɝ     514.742700\n",
       "eɪ    491.265252\n",
       "ɪ     486.798266\n",
       "ʊ     449.893593\n",
       "i     427.340202\n",
       "u     422.325870\n",
       "Name: f1, dtype: float64"
      ]
     },
     "execution_count": 293,
     "metadata": {},
     "output_type": "execute_result"
    }
   ],
   "source": [
    "F1 = timit.groupby(\"IPA\").mean().f1.sort_values(ascending = False)\n",
    "F1"
   ]
  },
  {
   "cell_type": "code",
   "execution_count": 294,
   "metadata": {},
   "outputs": [
    {
     "data": {
      "text/plain": [
       "IPA\n",
       "i     2043.482354\n",
       "eɪ    2032.372756\n",
       "ɪ     1843.402023\n",
       "æ     1761.430284\n",
       "ɛ     1669.534859\n",
       "aɪ    1617.320331\n",
       "ʊ     1589.082730\n",
       "u     1556.944049\n",
       "ʌ     1522.298740\n",
       "ɝ     1432.745745\n",
       "aʊ    1347.778226\n",
       "ɑ     1273.200030\n",
       "ɔɪ    1261.274572\n",
       "oʊ    1155.284637\n",
       "ɔ     1095.295097\n",
       "Name: f2, dtype: float64"
      ]
     },
     "execution_count": 294,
     "metadata": {},
     "output_type": "execute_result"
    }
   ],
   "source": [
    "F2 = timit.groupby(\"IPA\").mean().f2.sort_values(ascending = False)\n",
    "F2"
   ]
  },
  {
   "cell_type": "markdown",
   "metadata": {},
   "source": [
    "## 3.3 Is there a linear relationship?"
   ]
  },
  {
   "cell_type": "markdown",
   "metadata": {},
   "source": [
    "Below, we have plotted the vowels in accordance to the mean of their F2/F1. The simplest statistical test we can perform on our data is the linear regression test. From the cell provided below do you think the vowels could be categorized as having a linear relationship?"
   ]
  },
  {
   "cell_type": "code",
   "execution_count": 309,
   "metadata": {},
   "outputs": [
    {
     "data": {
      "image/png": "[encoded data removed]",
      "text/plain": [
       "<matplotlib.figure.Figure at 0x1241b3450>"
      ]
     },
     "metadata": {},
     "output_type": "display_data"
    }
   ],
   "source": [
    "vow_mean = timit.groupby(\"vowel\").mean()\n",
    "sns.lmplot(x = 'f2', y = 'f1', data = vow_mean, size = 8);"
   ]
  },
  {
   "cell_type": "markdown",
   "metadata": {},
   "source": [
    "## <font color = \"blue\"> QUESTION #2 </font>"
   ]
  },
  {
   "cell_type": "markdown",
   "metadata": {},
   "source": [
    "<img src =\"https://www.happyhourspanish.com/wp-content/uploads/2016/08/IPA-chart-vowels-768x576.png\" width=\"50%\" height=\"50%\" >"
   ]
  },
  {
   "cell_type": "markdown",
   "metadata": {},
   "source": [
    "If the linear relationship was not the best fit, what regression model do you think fits the vowel space the most? Above this cell there is a IPA vowel chart to serve as a visual representation of where the vowels are placed in comparison to your model?\n"
   ]
  },
  {
   "cell_type": "markdown",
   "metadata": {},
   "source": [
    "~ ANSWER HERE ~"
   ]
  },
  {
   "cell_type": "markdown",
   "metadata": {},
   "source": [
    "# 4. More Data Visualizations"
   ]
  },
  {
   "cell_type": "markdown",
   "metadata": {},
   "source": [
    "## 4.1  Comparing F2 VS F1 color coded by gender"
   ]
  },
  {
   "cell_type": "code",
   "execution_count": 136,
   "metadata": {},
   "outputs": [
    {
     "data": {
      "text/plain": [
       "<matplotlib.axes._subplots.AxesSubplot at 0x1226578d0>"
      ]
     },
     "execution_count": 136,
     "metadata": {},
     "output_type": "execute_result"
    },
    {
     "data": {
      "image/png": "[encoded data removed]",
      "text/plain": [
       "<matplotlib.figure.Figure at 0x124b42ed0>"
      ]
     },
     "metadata": {},
     "output_type": "display_data"
    }
   ],
   "source": [
    "timit.plot(kind = 'scatter', x = 'f2', y = 'f1', c = timit.gender.map({\"female\": 'yellow', \"male\": 'blue'}), s = 100, figsize = (7, 7))"
   ]
  },
  {
   "cell_type": "markdown",
   "metadata": {},
   "source": [
    "As you can see with the cell above, there is some distinction with F2 and F1 based off of gender. The higher the F2, the higher the probability of it being a female. A higher F2 means that it is a front vowel.\n",
    "\n",
    "\n",
    "Due to the fact that there are so many data points, this scatter plot is not the best visual representation to use. Below I have included density maps which show the same type of information as the plot above, but instead of resembling blobs, the more dense the area the darker the shade. This is a way of representing your data in an easier way to interpret for others who are unfamiliar with the analysis."
   ]
  },
  {
   "cell_type": "code",
   "execution_count": 190,
   "metadata": {},
   "outputs": [
    {
     "data": {
      "text/plain": [
       "<seaborn.axisgrid.JointGrid at 0x13463abd0>"
      ]
     },
     "execution_count": 190,
     "metadata": {},
     "output_type": "execute_result"
    },
    {
     "data": {
      "image/png": "[encoded data removed]",
      "text/plain": [
       "<matplotlib.figure.Figure at 0x1355d0290>"
      ]
     },
     "metadata": {},
     "output_type": "display_data"
    }
   ],
   "source": [
    "sns.jointplot(\"f2\", \"f1\", data=fem_data, kind='kde')"
   ]
  },
  {
   "cell_type": "code",
   "execution_count": 187,
   "metadata": {},
   "outputs": [
    {
     "data": {
      "text/plain": [
       "<seaborn.axisgrid.JointGrid at 0x134862c90>"
      ]
     },
     "execution_count": 187,
     "metadata": {},
     "output_type": "execute_result"
    },
    {
     "data": {
      "image/png": "[encoded data removed]",
      "text/plain": [
       "<matplotlib.figure.Figure at 0x133b1f710>"
      ]
     },
     "metadata": {},
     "output_type": "display_data"
    }
   ],
   "source": [
    "sns.jointplot(\"f2\", \"f1\", data=male_data, kind='kde')"
   ]
  },
  {
   "cell_type": "markdown",
   "metadata": {
    "collapsed": true
   },
   "source": [
    "## <font color = \"green\"> BONUS QUESTION:"
   ]
  },
  {
   "cell_type": "markdown",
   "metadata": {},
   "source": [
    "What other techniques and improvements would you make to further the predictions to today's analysis? Try some in the cell below."
   ]
  },
  {
   "cell_type": "code",
   "execution_count": 338,
   "metadata": {
    "collapsed": true
   },
   "outputs": [],
   "source": [
    "#TRY HERE"
   ]
  },
  {
   "cell_type": "code",
   "execution_count": null,
   "metadata": {
    "collapsed": true
   },
   "outputs": [],
   "source": []
  }
 ],
 "metadata": {
  "anaconda-cloud": {},
  "kernelspec": {
   "display_name": "Python 2",
   "language": "python",
   "name": "python2"
  },
  "language_info": {
   "codemirror_mode": {
    "name": "ipython",
    "version": 2
   },
   "file_extension": ".py",
   "mimetype": "text/x-python",
   "name": "python",
   "nbconvert_exporter": "python",
   "pygments_lexer": "ipython2",
   "version": "2.7.13"
  }
 },
 "nbformat": 4,
 "nbformat_minor": 1
}
