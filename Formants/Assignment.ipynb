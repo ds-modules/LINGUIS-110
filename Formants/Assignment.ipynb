{
 "cells": [
  {
   "cell_type": "markdown",
   "metadata": {},
   "source": [
    "# VOWEL FORMANTS EXPLORATION"
   ]
  },
  {
   "cell_type": "code",
   "execution_count": null,
   "metadata": {},
   "outputs": [],
   "source": [
    "import math\n",
    "import pandas as pd\n",
    "import seaborn as sns\n",
    "import datascience as ds\n",
    "import matplotlib.pyplot as plt\n",
    "from sklearn.linear_model import LinearRegression\n",
    "\n",
    "%matplotlib inline\n",
    "\n",
    "import warnings\n",
    "warnings.filterwarnings('ignore')"
   ]
  },
  {
   "cell_type": "markdown",
   "metadata": {},
   "source": [
    "# 1. Exploring TIMIT Data"
   ]
  },
  {
   "cell_type": "markdown",
   "metadata": {},
   "source": [
    "We will start off by exploring and analyze real TIMIT data taken from 8 different regions of the TIMIT corpus. These measurements are taken at the midpoint of vowels, and vowel boundaries were determined automatically using forced alignment (Penn FA)."
   ]
  },
  {
   "cell_type": "markdown",
   "metadata": {},
   "source": [
    "## 1.1 Uploading the data"
   ]
  },
  {
   "cell_type": "markdown",
   "metadata": {},
   "source": [
    "Prior to being able to work with the data, we have to upload our dataset. As you run the cell, take a look at the code, but don't worry yourselves with the details. The first two lines of code below are what create the dataframe provided. The data is spread over several text files, so it takes a little bit more finesse to read than other datasets we have seen. The last line of code is what prints the `timit` dataframe, but instead of printing the whole dataframe, by using the method `.head`, it only prints the first 5 rows."
   ]
  },
  {
   "cell_type": "code",
   "execution_count": null,
   "metadata": {},
   "outputs": [],
   "source": [
    "files = ['data/vowel_midpoints_dr' + str(ind) + '.txt' for ind in range(1,9)]\n",
    "timit = pd.concat([pd.read_csv(file, sep='\\t') for file in files]).reset_index(drop=True)\n",
    "\n",
    "timit.head()"
   ]
  },
  {
   "cell_type": "markdown",
   "metadata": {},
   "source": [
    "Look at the dataframe you created and try to conceptualize what each column measures. Each column represents a different attribute and that explained in the table below:\n",
    "\n",
    "|Column Name|Details|\n",
    "|---|---|\n",
    "|speaker|unique speaker ID|\n",
    "|gender|speaker’s self-reported gender|\n",
    "|file|the filename — each sentence is recorded to a different file|\n",
    "|t|time in the file measurements made (seconds)|\n",
    "|word|lexical item (according to sentence prompt, not necessarily accurate)|\n",
    "|vowel/stress|vowel ID in ARPABET (via CMU dictionary within Penn FA; not necessarily accurate)|\n",
    "|duration|vowel duration given boundaries determined by Penn FA (seconds)|\n",
    "|f0/f1/f2/f3|f0 and F1-F3 via ifcformant in BPM (Hz)|"
   ]
  },
  {
   "cell_type": "markdown",
   "metadata": {},
   "source": [
    "## 1.2 Visualize Your Data"
   ]
  },
  {
   "cell_type": "markdown",
   "metadata": {},
   "source": [
    "Now that we have organized all our data in a dataframe, let's draw some plots to visualize them better. By visualizing your data you are able to get more acquainted with possible trends or relationships. \n",
    "\n",
    "Run the cell below to see the distribution of `f1`."
   ]
  },
  {
   "cell_type": "code",
   "execution_count": null,
   "metadata": {},
   "outputs": [],
   "source": [
    "sns.distplot(timit[\"f1\"])"
   ]
  },
  {
   "cell_type": "markdown",
   "metadata": {},
   "source": [
    "### <font color = \"blue\"> QUESTION #1 </font>"
   ]
  },
  {
   "cell_type": "markdown",
   "metadata": {},
   "source": [
    "Can you estimate the mean of the distribution above? Edit the text in the cell below to enter your response by double clicking on the text box."
   ]
  },
  {
   "cell_type": "markdown",
   "metadata": {},
   "source": [
    "__Answer:__"
   ]
  },
  {
   "cell_type": "markdown",
   "metadata": {},
   "source": [
    "Let's try visualizing the plots for `f1`, `f2`, `f3` along the same axis. Try running the cell below."
   ]
  },
  {
   "cell_type": "code",
   "execution_count": null,
   "metadata": {},
   "outputs": [],
   "source": [
    "sns.distplot(timit[\"f1\"]) ##In Blue\n",
    "sns.distplot(timit[\"f2\"]) ##In Green\n",
    "sns.distplot(timit[\"f3\"]) ##In Red"
   ]
  },
  {
   "cell_type": "markdown",
   "metadata": {},
   "source": [
    "The blue color represents the distribution of f1, the green color represents the distribution of f2, and the red color represents the distribution of f3."
   ]
  },
  {
   "cell_type": "markdown",
   "metadata": {},
   "source": [
    "### <font color = \"blue\"> QUESTION #2 </font>"
   ]
  },
  {
   "cell_type": "markdown",
   "metadata": {},
   "source": [
    "Write 2-3 sentences describing what you see in the visualization."
   ]
  },
  {
   "cell_type": "markdown",
   "metadata": {},
   "source": [
    "__Answer:__"
   ]
  },
  {
   "cell_type": "markdown",
   "metadata": {},
   "source": [
    "Now we will be taking a look at differences based on gender. Try running the cell below."
   ]
  },
  {
   "cell_type": "code",
   "execution_count": null,
   "metadata": {},
   "outputs": [],
   "source": [
    "timit['f1'].hist(by=timit['gender']);"
   ]
  },
  {
   "cell_type": "markdown",
   "metadata": {},
   "source": [
    "### <font color = \"blue\"> QUESTION #3 </font>"
   ]
  },
  {
   "cell_type": "markdown",
   "metadata": {},
   "source": [
    "Does there seem to be a notable difference between male and female distributions of f1? Remember to pay close attention to the y-axis!"
   ]
  },
  {
   "cell_type": "markdown",
   "metadata": {},
   "source": [
    "__Answer:__"
   ]
  },
  {
   "cell_type": "markdown",
   "metadata": {},
   "source": [
    "Running the cells below we can compare the distribution of f0, f2, f2 based on gender using the same plot. Is there a noticebale difference between the two genders?"
   ]
  },
  {
   "cell_type": "code",
   "execution_count": null,
   "metadata": {},
   "outputs": [],
   "source": [
    "table = ds.Table.from_df(timit)\n",
    "table.select(['f3', 'gender']).hist(group='gender', bins=range(1300, 4400, 100))"
   ]
  },
  {
   "cell_type": "code",
   "execution_count": null,
   "metadata": {},
   "outputs": [],
   "source": [
    "table.select(['f0', 'gender']).hist(group='gender', bins=range(0, 550, 10))"
   ]
  },
  {
   "cell_type": "code",
   "execution_count": null,
   "metadata": {},
   "outputs": [],
   "source": [
    "table.select(['f2', 'gender']).hist(group='gender', bins=range(500, 3000, 80))"
   ]
  },
  {
   "cell_type": "markdown",
   "metadata": {},
   "source": [
    "# 2. Clean Your Data"
   ]
  },
  {
   "cell_type": "markdown",
   "metadata": {},
   "source": [
    "## 2.1 Drop Columns"
   ]
  },
  {
   "cell_type": "markdown",
   "metadata": {},
   "source": [
    "Many times we are given datasets with more information than we need. Sometimes the datasets have empty values or columns that can actually make your data messier or harder to interpret. Before jumping into analyzing your data it is important to clean you data. In the cell below, we have dropped 3 columns that we do not need for the analysis."
   ]
  },
  {
   "cell_type": "code",
   "execution_count": null,
   "metadata": {},
   "outputs": [],
   "source": [
    "#RUN THIS CELL\n",
    "timit.drop([\"speaker\", \"file\", \"word\"], axis = 1, inplace = True)\n",
    "timit.head()"
   ]
  },
  {
   "cell_type": "markdown",
   "metadata": {},
   "source": [
    "### <font color = \"blue\"> EXERCISE #1 </font>"
   ]
  },
  {
   "cell_type": "markdown",
   "metadata": {},
   "source": [
    "For this exercise you are going to drop two more columns we are not going to use for this specific notebook. For this analysis we are focusing on F1 and F2, which means we do not need <b>F0</b> and <b>F3</b>. For your first excercise drop the two columns we do not need in the cell below. If your columns were dropped successfully then you should no longer see them when you run the cell below.\n",
    "\n",
    "<b>HINT:</b> Replace what is inbetween the square brackets with the names of the columns you want to drop."
   ]
  },
  {
   "cell_type": "code",
   "execution_count": null,
   "metadata": {},
   "outputs": [],
   "source": [
    "#RUN THIS CELL\n",
    "\n",
    "timit.drop([\"NAME_OF_COLUMN1\", \"NAME_OF_COLUMN2\"], axis = 1, inplace = True)\n",
    "timit.head()"
   ]
  },
  {
   "cell_type": "markdown",
   "metadata": {},
   "source": [
    "## 2.2 Add Columns"
   ]
  },
  {
   "cell_type": "markdown",
   "metadata": {},
   "source": [
    "### a. Transforming Variables"
   ]
  },
  {
   "cell_type": "markdown",
   "metadata": {},
   "source": [
    "We need to convert our ARPABET symbols into the IPA conventions. The code below transforms the vowels to IPA and then adds a new column to the end of the dataframe."
   ]
  },
  {
   "cell_type": "code",
   "execution_count": null,
   "metadata": {},
   "outputs": [],
   "source": [
    "timit['IPA'] = timit.vowel.map({\"AO\" : \"ɔ\", \"AA\" : \"ɑ\", \"IY\" : \"i\", \"UW\" : \"u\", \"EH\" : \"ɛ\", \"IH\" : \"ɪ\", \"UH\":\"ʊ\", \"AH\": \"ʌ\", \"AX\" : \"ə\", \"AE\":\"æ\", \"EY\" :\"eɪ\", \"AY\": \"aɪ\", \"OW\":\"oʊ\", \"AW\":\"aʊ\", \"OY\" :\"ɔɪ\", \"ER\":\"ɝ\"})\n",
    "timit.head()"
   ]
  },
  {
   "cell_type": "markdown",
   "metadata": {},
   "source": [
    "## 2.3 Splitting/Subsetting the Data"
   ]
  },
  {
   "cell_type": "markdown",
   "metadata": {},
   "source": [
    "There are many different ways to split your data to better analyze it in a more organized manner. Below I have provided a couple options for you to chose from in which you could split your data. Such as gender, vowels, etc. When it comes to analyzing your own data this option is optional to what you think would be the most effective."
   ]
  },
  {
   "cell_type": "markdown",
   "metadata": {},
   "source": [
    "### a. By Gender"
   ]
  },
  {
   "cell_type": "markdown",
   "metadata": {},
   "source": [
    "Using the same dataframe we created above, called <i>timit</i>, we are going to subset another dataframe. The first split will be by gender. To acknowledge all the types of genders listed under the gender column you can use the function provided below. If you run the cell below you could see that for this specific dataset there are only \"female\" and \"male\" unique values under gender. Given that information, you can create two subsets dataframes based off of gender. "
   ]
  },
  {
   "cell_type": "code",
   "execution_count": null,
   "metadata": {},
   "outputs": [],
   "source": [
    "#RUN THIS CELL \n",
    "timit.gender.unique()"
   ]
  },
  {
   "cell_type": "markdown",
   "metadata": {},
   "source": [
    "The first subset dataframe you create will be called <b>fem_data</b> and that includes all the data for those that identify as \"female\". You will create another subset dataframe, but this one will be called <b>male_data</b>. This includes all the data for those who identify as \"male\". Creating these subset dataframes does not affect the original <i>timit</i> dataframe."
   ]
  },
  {
   "cell_type": "code",
   "execution_count": null,
   "metadata": {},
   "outputs": [],
   "source": [
    "fem_data = timit[timit.gender == \"female\"]\n",
    "fem_data.head()"
   ]
  },
  {
   "cell_type": "code",
   "execution_count": null,
   "metadata": {},
   "outputs": [],
   "source": [
    "male_data = timit[timit.gender == \"male\"]\n",
    "male_data.head()"
   ]
  },
  {
   "cell_type": "markdown",
   "metadata": {},
   "source": [
    "### b. By Vowels"
   ]
  },
  {
   "cell_type": "markdown",
   "metadata": {},
   "source": [
    "You could pick specific vowels to create a subset for using the <i>timit</i> dataframe. For the example provided below, we used the \"aʊ\" vowel, but you could subset on a vowel of your choice."
   ]
  },
  {
   "cell_type": "code",
   "execution_count": null,
   "metadata": {},
   "outputs": [],
   "source": [
    "aw = timit[timit.IPA == \"aʊ\"]\n",
    "aw.head()"
   ]
  },
  {
   "cell_type": "markdown",
   "metadata": {},
   "source": [
    "You could also subset the <b>fem_data</b> and <b>male_data</b> dataframes you created and subset again on specific vowels. For the examples provided below, we also used the \"aʊ\" IPA vowel to subset."
   ]
  },
  {
   "cell_type": "code",
   "execution_count": null,
   "metadata": {},
   "outputs": [],
   "source": [
    "aw_fem = fem_data[fem_data.IPA == \"aʊ\"]\n",
    "aw_fem.head()"
   ]
  },
  {
   "cell_type": "code",
   "execution_count": null,
   "metadata": {},
   "outputs": [],
   "source": [
    "aw_male = male_data[male_data.IPA == \"aʊ\"]\n",
    "aw_male.head()"
   ]
  },
  {
   "cell_type": "markdown",
   "metadata": {},
   "source": [
    "### <font color = \"blue\"> EXERCISE #2 </font>"
   ]
  },
  {
   "cell_type": "markdown",
   "metadata": {},
   "source": [
    "All of section 2.2 was based on subsetting dataframes. Using the examples provided above as resources, create a subset dataframe on the vowel of your choice. You can either use the <b>timit</b> dataframe to subset from or the <b>fem_data/male_data</b> to subset from. This vowel subset does not have to be used for your analysis, but it does serve as good practice. \n",
    "\n",
    "<b>HINT:</b> Replace everything that is capitalized according to your vowel and dataframe choice. The only capitalized section you don't need to change in the <b>\".IPA\"</b> portion."
   ]
  },
  {
   "cell_type": "code",
   "execution_count": null,
   "metadata": {},
   "outputs": [],
   "source": [
    "#TRY THIS\n",
    "\n",
    "YOUR_SUBSET = DATAFRAME_NAME[DATAFRAME_NAME.IPA == \"IPA_VOWEL\"]\n",
    "YOUR_SUBSET.head()"
   ]
  },
  {
   "cell_type": "markdown",
   "metadata": {},
   "source": [
    "# 3. More In-Depth Exploration of Data"
   ]
  },
  {
   "cell_type": "markdown",
   "metadata": {},
   "source": [
    "To start off visualizing our data we have provided a bar chart showing the percentage of each vowel per gender. For this first visualization just counting the occurences of each vowel would not have worked because there were more male subjects as opposed to female subjects which could have affected the data. Instead, for this bar chart, we used percentage."
   ]
  },
  {
   "cell_type": "markdown",
   "metadata": {},
   "source": [
    "## 3.1 Vowels Most Used by Gender"
   ]
  },
  {
   "cell_type": "code",
   "execution_count": null,
   "metadata": {},
   "outputs": [],
   "source": [
    "vowel_perc = (100 * fem_data.vowel.value_counts() / len(fem_data)).to_frame(name = \"fem_vowel%\")\n",
    "vowel_perc[\"male_vowel%\"] = (100 * male_data.vowel.value_counts()/len(male_data))\n",
    "vowel_perc.plot(kind = \"bar\", figsize =(10,10), title = \"Vowel Percentage per Gender\", fontsize = 16, rot = 0);"
   ]
  },
  {
   "cell_type": "markdown",
   "metadata": {},
   "source": [
    "### a. Comparing  Vowel Means Based on Gender"
   ]
  },
  {
   "cell_type": "code",
   "execution_count": null,
   "metadata": {},
   "outputs": [],
   "source": [
    "fem_data.groupby(\"IPA\").mean().head()"
   ]
  },
  {
   "cell_type": "code",
   "execution_count": null,
   "metadata": {
    "scrolled": true
   },
   "outputs": [],
   "source": [
    "male_data.groupby(\"IPA\").mean().head()"
   ]
  },
  {
   "cell_type": "markdown",
   "metadata": {},
   "source": [
    "### <font color = \"blue\"> QUESTION #4 </font>"
   ]
  },
  {
   "cell_type": "markdown",
   "metadata": {},
   "source": [
    "After analyzing the results from the bar chart, would you agree that the results coincide with what you had anticipated? Were the vowels for which women or men used more often something you had already predicted? Why do you think women scored higher in the \"IY\" vowel, but lower on the \"IH\" vowel? Explain your thoughts with the results from the first visualization."
   ]
  },
  {
   "cell_type": "markdown",
   "metadata": {},
   "source": [
    "__Answer:__"
   ]
  },
  {
   "cell_type": "markdown",
   "metadata": {},
   "source": [
    "## 3.2 Understanding Vowel Formants"
   ]
  },
  {
   "cell_type": "markdown",
   "metadata": {},
   "source": [
    "\" The frequency of the first formant <b>(F1)</b> is mostly determined by the height of the tongue body:<br>\n",
    "\n",
    "<ul>high F1 = <i>low</i> vowel (i.e., high frequency F1 = low tongue body)<br>\n",
    "low F1 = <i>high</i> vowel (i.e., low frequency F1 = high tongue body)</ul>\n",
    "\n",
    "\n",
    "The frequency of the second formant <b>(F2)</b> is mostly determined by the frontness/backness of the tongue body:\n",
    "<br><ul>\n",
    "high F2 = <i>front</i> vowel<br>\n",
    "low F2 = <i>back</i> vowel \"</ul>\n",
    "\n",
    "LINK : https://home.cc.umanitoba.ca/~krussll/phonetics/acoustic/formants.html"
   ]
  },
  {
   "cell_type": "markdown",
   "metadata": {},
   "source": [
    "Below we grouped the data by each vowel and then found the mean of all its values. For the first cell below, we just printed it's results from F1 and put it in descending order. For the second cell we did very similar code, but instead focusing on F2.\n",
    "\n",
    "Look at the brief definitions of F1 and F2 provided above this cell. Do you notice any trends in regards to the vowels that appeared most in specific genders and their characteristics of being high/low or front/back vowels? Are there any relationships?"
   ]
  },
  {
   "cell_type": "code",
   "execution_count": null,
   "metadata": {},
   "outputs": [],
   "source": [
    "F1 = timit.groupby(\"IPA\").mean().f1.sort_values(ascending = False)\n",
    "F1"
   ]
  },
  {
   "cell_type": "code",
   "execution_count": null,
   "metadata": {},
   "outputs": [],
   "source": [
    "F2 = timit.groupby(\"IPA\").mean().f2.sort_values(ascending = False)\n",
    "F2"
   ]
  },
  {
   "cell_type": "markdown",
   "metadata": {},
   "source": [
    "### a. F2 and F1 (by Gender)"
   ]
  },
  {
   "cell_type": "markdown",
   "metadata": {},
   "source": [
    "Lets take a look at our F1 vs F2 relationship color coded by gender. The yellow points symbolize females and the blue points symbolize males. Do u see a notable difference?"
   ]
  },
  {
   "cell_type": "code",
   "execution_count": null,
   "metadata": {
    "scrolled": false
   },
   "outputs": [],
   "source": [
    "timit.plot(kind = 'scatter', x = 'f2', y = 'f1', c = timit.gender.map({\"female\": 'yellow', \"male\": 'blue'}), s = 100, figsize = (7, 7), alpha=0.7);"
   ]
  },
  {
   "cell_type": "markdown",
   "metadata": {},
   "source": [
    "As you can see with the cell above, there is some distinction with F2 and F1 based off of gender. The higher the F2, the higher the probability of it being a female. A higher F2 means that it is a front vowel.\n",
    "\n",
    "\n",
    "Due to the fact that there are so many data points, this scatter plot is not the best visual representation to use. Below I have included density maps which show the same type of information as the plot above, but instead of resembling blobs, the more dense the area the darker the shade. This is a way of representing your data in an easier way to interpret for others who are unfamiliar with the analysis."
   ]
  },
  {
   "cell_type": "code",
   "execution_count": null,
   "metadata": {
    "scrolled": false
   },
   "outputs": [],
   "source": [
    "sns.jointplot(\"f2\", \"f1\", data=fem_data, kind='kde')"
   ]
  },
  {
   "cell_type": "code",
   "execution_count": null,
   "metadata": {
    "scrolled": false
   },
   "outputs": [],
   "source": [
    "sns.jointplot(\"f2\", \"f1\", data=male_data, kind='kde')"
   ]
  },
  {
   "cell_type": "markdown",
   "metadata": {},
   "source": [
    "## 3.3 Is there a linear relationship?"
   ]
  },
  {
   "cell_type": "markdown",
   "metadata": {},
   "source": [
    "Below, we have plotted the vowels in accordance to the mean of their F2/F1. The simplest statistical test we can perform on our data is the linear regression test. From the cell provided below do you think the vowels could be categorized as having a linear relationship?"
   ]
  },
  {
   "cell_type": "code",
   "execution_count": null,
   "metadata": {},
   "outputs": [],
   "source": [
    "vow_mean = timit.groupby(\"vowel\").mean()\n",
    "sns.lmplot(x = 'f2', y = 'f1', data = vow_mean, size = 7)"
   ]
  },
  {
   "cell_type": "markdown",
   "metadata": {},
   "source": [
    "### <font color = \"blue\"> QUESTION #5 </font>"
   ]
  },
  {
   "cell_type": "markdown",
   "metadata": {},
   "source": [
    "<img src =\"https://www.happyhourspanish.com/wp-content/uploads/2016/08/IPA-chart-vowels-768x576.png\" width=\"50%\" height=\"50%\" >"
   ]
  },
  {
   "cell_type": "markdown",
   "metadata": {},
   "source": [
    "If the linear relationship was not the best fit, what regression model do you think fits the vowel space the most? Above this cell there is a IPA vowel chart to serve as a visual representation of where the vowels are placed in comparison to your model?"
   ]
  },
  {
   "cell_type": "markdown",
   "metadata": {},
   "source": [
    "__Answer:__"
   ]
  },
  {
   "cell_type": "markdown",
   "metadata": {},
   "source": [
    "# 4. Vowel Spaces"
   ]
  },
  {
   "cell_type": "markdown",
   "metadata": {},
   "source": [
    "We start of by grouping all the rows by their vowel and calculating the mean for each column attribute for each vowel."
   ]
  },
  {
   "cell_type": "code",
   "execution_count": null,
   "metadata": {},
   "outputs": [],
   "source": [
    "avgs = timit.groupby('IPA').mean()\n",
    "avgs.head()"
   ]
  },
  {
   "cell_type": "markdown",
   "metadata": {},
   "source": [
    "## 4.1 Constructing a Vowel Space"
   ]
  },
  {
   "cell_type": "markdown",
   "metadata": {},
   "source": [
    "Let's construct a vowel space! Run the cell below to view the vowel space of f1 vs f2."
   ]
  },
  {
   "cell_type": "code",
   "execution_count": null,
   "metadata": {},
   "outputs": [],
   "source": [
    "plt.gca().invert_yaxis()\n",
    "plt.gca().invert_xaxis()\n",
    "\n",
    "for i in range(len(avgs)):\n",
    "    plt.scatter(avgs.f2[i], avgs.f1[i], marker=r\"$ {} $\".format(avgs.index[i]), s=1000)\n",
    "    \n",
    "plt.ylabel('f1')\n",
    "plt.xlabel('f2')"
   ]
  },
  {
   "cell_type": "markdown",
   "metadata": {},
   "source": [
    "## 4.3 Using Logarithmic Axes"
   ]
  },
  {
   "cell_type": "markdown",
   "metadata": {},
   "source": [
    "In the visualization above we use linear axes in order to construct our vowel space. Lets observe how the vowel space would change using logarithmic axes. The cell below will take the log of all values in our f1 and f2 columns and add them as new columns of our TIMIT table."
   ]
  },
  {
   "cell_type": "code",
   "execution_count": null,
   "metadata": {},
   "outputs": [],
   "source": [
    "logf1 = []\n",
    "logf2 = []\n",
    "for i in timit[\"f1\"]:\n",
    "    logf1 += [math.log(i)]\n",
    "for j in timit[\"f2\"]:\n",
    "    logf2 += [math.log(j)]\n",
    "timit[\"logf1\"] = logf1\n",
    "timit[\"logf2\"] = logf2\n",
    "newavgs = timit.groupby('IPA').mean()\n",
    "newavgs.head()"
   ]
  },
  {
   "cell_type": "markdown",
   "metadata": {},
   "source": [
    "Let's plot the new vowel space using these new columns\n"
   ]
  },
  {
   "cell_type": "code",
   "execution_count": null,
   "metadata": {},
   "outputs": [],
   "source": [
    "plt.gca().invert_yaxis()\n",
    "plt.gca().invert_xaxis()\n",
    "\n",
    "for i in range(len(avgs)):\n",
    "    plt.scatter(newavgs.logf2[i], newavgs.logf1[i], marker=r\"$ {} $\".format(newavgs.index[i]), s=1000)\n",
    "    \n",
    "plt.ylabel('log(f1)')\n",
    "plt.xlabel('log(f2)')"
   ]
  },
  {
   "cell_type": "markdown",
   "metadata": {},
   "source": [
    "### <font color = \"blue\"> QUESTION #6 </font>"
   ]
  },
  {
   "cell_type": "markdown",
   "metadata": {},
   "source": [
    "How would you describe the vowel space above?"
   ]
  },
  {
   "cell_type": "markdown",
   "metadata": {},
   "source": [
    "__Answer:__"
   ]
  },
  {
   "cell_type": "markdown",
   "metadata": {},
   "source": [
    "## 4.4 Further Visualizations"
   ]
  },
  {
   "cell_type": "markdown",
   "metadata": {},
   "source": [
    "Run the cells below to see more visualizations of the vowel space created from our TIMIT data\n"
   ]
  },
  {
   "cell_type": "code",
   "execution_count": null,
   "metadata": {},
   "outputs": [],
   "source": [
    "plt.figure(figsize=(8, 10))\n",
    "\n",
    "plt.gca().invert_yaxis()\n",
    "plt.gca().invert_xaxis()\n",
    "\n",
    "for i in range(len(newavgs)):\n",
    "    plt.scatter(newavgs.logf2[i], newavgs.logf1[i], marker=r\"$ {} $\".format(newavgs.index[i]), s=1000)\n",
    "    \n",
    "plt.ylabel('log(f1)')\n",
    "plt.xlabel('log(f2)')\n",
    "\n",
    "im = plt.imread('images/blankvowel.png')\n",
    "ax = plt.imshow(im, extent=(plt.xlim()[0], plt.xlim()[1], plt.ylim()[0], plt.ylim()[1]))"
   ]
  },
  {
   "cell_type": "code",
   "execution_count": null,
   "metadata": {},
   "outputs": [],
   "source": [
    "plt.figure(figsize=(10,4))\n",
    "\n",
    "plt.gca().invert_yaxis()\n",
    "plt.gca().invert_xaxis()\n",
    "\n",
    "for i in range(len(avgs)):\n",
    "    plt.scatter(newavgs.logf2[i], newavgs.logf1[i], marker=r\"$ {} $\".format(newavgs.index[i]), s=500)\n",
    "    \n",
    "plt.ylabel('log(f1)')\n",
    "plt.xlabel('log(f2)')\n",
    "\n",
    "im = plt.imread('images/notblank.png')\n",
    "ax = plt.imshow(im, extent=(7.7, 6.9, 6.7, 5.9))"
   ]
  },
  {
   "cell_type": "markdown",
   "metadata": {},
   "source": [
    "# 5. Corner Vowels"
   ]
  },
  {
   "cell_type": "markdown",
   "metadata": {},
   "source": [
    "Our next step is to plot the relationship between corner vowels. Lets compare the F1 vs F2 corner vowels. Run the cell below to select the corner vowels."
   ]
  },
  {
   "cell_type": "code",
   "execution_count": null,
   "metadata": {
    "collapsed": true
   },
   "outputs": [],
   "source": [
    "IPAtable = ds.Table.from_df(timit)\n",
    "\n",
    "pick_vowel = lambda vowel: table.where(IPAtable['IPA'] == vowel)\n",
    "\n",
    "i = pick_vowel('i')\n",
    "ar = pick_vowel('aɪ')\n",
    "a = pick_vowel('ɑ')\n",
    "u = pick_vowel('u')\n",
    "\n",
    "corners = [i,ar,a,u]"
   ]
  },
  {
   "cell_type": "markdown",
   "metadata": {},
   "source": [
    "Now that we have collected all the corner vowels, lets start comparing them! Run the cell below to plot the \"a\" (in blue)and \"i\" (in red) corner vowels from f1 and f2. Take note of the differences in distribution."
   ]
  },
  {
   "cell_type": "code",
   "execution_count": null,
   "metadata": {},
   "outputs": [],
   "source": [
    "plt.scatter(a['f1'], a['f2'], alpha=.05)\n",
    "plt.scatter(i['f1'], i['f2'], alpha=.05, color='r')"
   ]
  },
  {
   "cell_type": "code",
   "execution_count": null,
   "metadata": {},
   "outputs": [],
   "source": [
    "ax = sns.kdeplot(a['f1'], a['f2'], cmap=\"Reds\", shade=True, shade_lowest=False)\n",
    "ax = sns.kdeplot(i['f1'], i['f2'], cmap=\"Blues\", shade=True, shade_lowest=False)"
   ]
  },
  {
   "cell_type": "markdown",
   "metadata": {},
   "source": [
    "Every colored dot in the first graph represents a data point, and the second graph highlights the relative density of each dataset at certain areas."
   ]
  },
  {
   "cell_type": "markdown",
   "metadata": {},
   "source": [
    "### <font color = \"blue\"> QUESTION #7 </font>\n",
    "\n",
    "Describe and compare the distribution of the two vowels. What seems to be the average value of each vowel? Whats the min and max?"
   ]
  },
  {
   "cell_type": "markdown",
   "metadata": {},
   "source": [
    "__Answer:__"
   ]
  },
  {
   "cell_type": "markdown",
   "metadata": {},
   "source": [
    "Lets try to create similar visualizations for the \"ar\" and \"u\" vowels in F1 and F2."
   ]
  },
  {
   "cell_type": "code",
   "execution_count": null,
   "metadata": {},
   "outputs": [],
   "source": [
    "plt.scatter(ar['f1'], ar['f2'], alpha=.05)\n",
    "plt.scatter(u['f1'], u['f2'], alpha=.05, color='r')"
   ]
  },
  {
   "cell_type": "code",
   "execution_count": null,
   "metadata": {},
   "outputs": [],
   "source": [
    "ax = sns.kdeplot(ar['f1'], ar['f2'], cmap=\"Reds\", shade=True, shade_lowest=False)\n",
    "ax = sns.kdeplot(u['f1'], u['f2'], cmap=\"Blues\", shade=True, shade_lowest=False)"
   ]
  },
  {
   "cell_type": "markdown",
   "metadata": {},
   "source": [
    "### <font color = \"blue\"> QUESTION #8 </font>\n",
    "\n",
    "Describe and compare the distribution of the two vowels. What seems to be the average value of each vowel? Whats the min and max?"
   ]
  },
  {
   "cell_type": "markdown",
   "metadata": {},
   "source": [
    "__Answer:__"
   ]
  },
  {
   "cell_type": "markdown",
   "metadata": {},
   "source": [
    "Bringing it all together, we can see the distributions of various corner vowels in the following plot. Run the cell below!\n"
   ]
  },
  {
   "cell_type": "code",
   "execution_count": null,
   "metadata": {},
   "outputs": [],
   "source": [
    "plt.ylim(920, 200)\n",
    "plt.xlim(2800, 750)\n",
    "\n",
    "ax = sns.kdeplot(ar['f2'], ar['f1'], cmap=\"Reds\")\n",
    "ax = sns.kdeplot(i['f2'], i['f1'], cmap=\"Blues\")\n",
    "ax = sns.kdeplot(a['f2'], a['f1'], cmap=\"Greens\")\n",
    "ax = sns.kdeplot(u['f2'], u['f1'], cmap=\"Greys\")\n",
    "\n",
    "plt.ylabel('f1')\n",
    "plt.xlabel('f2')"
   ]
  },
  {
   "cell_type": "markdown",
   "metadata": {},
   "source": [
    "# <font color = red> 6. Drawing Our Own Vowel Space!"
   ]
  },
  {
   "cell_type": "markdown",
   "metadata": {},
   "source": [
    "##### NOTE: WE'RE ASSUMING THAT THE FILE UPLOADED BY THE 2017 CLASS WILL FOLLOW THE IPA FORMAT BUT FOR THE SAKE OF A PLACEHOLDER WE WILL USE A FILE FROM THE TIMIT DATA AND CONVERT IT TO IPA FORMAT. THOSE CELLS CAN BE DELETED LATER ON\n",
    "\n",
    "(DELETE THIS CELL LATER ON)"
   ]
  },
  {
   "cell_type": "markdown",
   "metadata": {},
   "source": [
    "## 6.1 Loading the Data"
   ]
  },
  {
   "cell_type": "markdown",
   "metadata": {},
   "source": [
    "Now that we have analyzed the TIMIT data, its time for us to make our own vowel space! First load our data file by replacing the ellipses, with the file name."
   ]
  },
  {
   "cell_type": "code",
   "execution_count": null,
   "metadata": {},
   "outputs": [],
   "source": [
    "Fall2017_file = 'data/vowel_midpoints_dr1.txt' #CHANGE TO elipses\n",
    "Fa17 = pd.read_csv(Fall2017_file, sep= \"\\t\").reset_index(drop=True)\n",
    "Fa17.head(10)"
   ]
  },
  {
   "cell_type": "code",
   "execution_count": null,
   "metadata": {
    "collapsed": true
   },
   "outputs": [],
   "source": [
    "##Delte this cell later\n",
    "vows = Fa17[\"vowel\"]\n",
    "IPAdict = {\"AO\" : \"ɔ\", \"AA\" : \"ɑ\", \"IY\" : \"i\", \"UW\" : \"u\", \"EH\" : \"ɛ\", \"IH\" : \"ɪ\", \"UH\":\"ʊ\", \"AH\": \"ʌ\", \"AX\" : \"ə\", \"AE\":\"æ\", \"EY\" :\"eɪ\", \"AY\": \"aɪ\", \"OW\":\"oʊ\", \"AW\":\"aʊ\", \"OY\" :\"ɔɪ\", \"ER\":\"ɝ\"}\n",
    "newVows = []\n",
    "for i in vows:\n",
    "    newVows += [IPAdict[i]]\n",
    "Fa17['IPA'] = newVows"
   ]
  },
  {
   "cell_type": "markdown",
   "metadata": {},
   "source": [
    "As before, we group all the rows by their vowel and calculate the mean for each column attribute for each vowel.\n"
   ]
  },
  {
   "cell_type": "code",
   "execution_count": null,
   "metadata": {},
   "outputs": [],
   "source": [
    "Fa17avgs = Fa17.groupby('IPA').mean()\n",
    "Fa17avgs.head()\n",
    "\n",
    "logf1 = []\n",
    "logf2 = []\n",
    "for i in Fa17avgs[\"f1\"]:\n",
    "    logf1 += [math.log(i)]\n",
    "for j in Fa17avgs[\"f2\"]:\n",
    "    logf2 += [math.log(j)]\n",
    "Fa17avgs[\"logf1\"] = logf1\n",
    "Fa17avgs[\"logf2\"] = logf2\n",
    "newavgs = timit.groupby('IPA').mean()\n",
    "newavgs.head()"
   ]
  },
  {
   "cell_type": "markdown",
   "metadata": {},
   "source": [
    "## 6.2 Creating Our Vowel Space"
   ]
  },
  {
   "cell_type": "markdown",
   "metadata": {},
   "source": [
    "As we saw before, the visualization of our vowel space looked more accurate using logarithmic axes. Run the cell below to plot our vowel space with logarithmic axes."
   ]
  },
  {
   "cell_type": "code",
   "execution_count": null,
   "metadata": {},
   "outputs": [],
   "source": [
    "plt.gca().invert_yaxis()\n",
    "plt.gca().invert_xaxis()\n",
    "\n",
    "for i in range(len(avgs)):\n",
    "    plt.scatter(newavgs.logf2[i], newavgs.logf1[i], marker=r\"$ {} $\".format(newavgs.index[i]), s=1000)\n",
    "    \n",
    "plt.ylabel('log(f1)')\n",
    "plt.xlabel('log(f2)')"
   ]
  },
  {
   "cell_type": "markdown",
   "metadata": {},
   "source": [
    "### <font color = \"blue\"> QUESTION #9 </font>\n",
    "\n",
    "Describe the resulting vowel space. How does it compare with the vowel space from the TIMIT data?"
   ]
  },
  {
   "cell_type": "markdown",
   "metadata": {},
   "source": [
    "__Answer:__"
   ]
  },
  {
   "cell_type": "markdown",
   "metadata": {},
   "source": [
    "### <font color = \"blue\"> QUESTION #10 </font>\n",
    "\n",
    "What may be the cause for any differences between our vowel space and the one constructed using the TIMIT data? Do you notice any outliers or some points that seem off?"
   ]
  },
  {
   "cell_type": "markdown",
   "metadata": {},
   "source": [
    "__Answer:__"
   ]
  }
 ],
 "metadata": {
  "anaconda-cloud": {},
  "kernelspec": {
   "display_name": "Python [Root]",
   "language": "python",
   "name": "Python [Root]"
  },
  "language_info": {
   "codemirror_mode": {
    "name": "ipython",
    "version": 3
   },
   "file_extension": ".py",
   "mimetype": "text/x-python",
   "name": "python",
   "nbconvert_exporter": "python",
   "pygments_lexer": "ipython3",
   "version": "3.5.2"
  }
 },
 "nbformat": 4,
 "nbformat_minor": 1
}
