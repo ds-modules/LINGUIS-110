{
 "cells": [
  {
   "cell_type": "markdown",
   "metadata": {},
   "source": [
    "# Linguistics 110: Vowel Formants\n",
    "\n",
    "### Professor Susan Lin\n",
    "\n",
    "_short description of the notebook?_\n",
    "\n",
    "## Table of Contents\n",
    "\n",
    "1 - [Exploring TIMIT Data](#timit)\n",
    "\n",
    "2 - [Using the Class's Data](#cls)\n",
    "\n",
    "3 - [Formants vs Height](#fvh)\n",
    "\n",
    "4 - [Vowel Spaces](#vs)\n",
    "\n",
    "5 - [Not sure what to call this section](#not sure)\n",
    "\n",
    "Remember that to run a cell, you can either click the play button in the toolbar, or you can press `shift` and `enter` on your keyboard. To get a quick review of Jupyter notebooks, you can look at the [VOT Notebook](http://datahub.berkeley.edu/user-redirect/interact?account=ds-modules&repo=LINGUIS-110&branch=master&path=VOT). __Make sure to run the following cell before you get started.__"
   ]
  },
  {
   "cell_type": "code",
   "execution_count": null,
   "metadata": {},
   "outputs": [],
   "source": [
    "# DON'T FORGET TO RUN THIS CELL\n",
    "import math\n",
    "import numpy as np\n",
    "import pandas as pd\n",
    "import seaborn as sns\n",
    "import datascience as ds\n",
    "import matplotlib.pyplot as plt\n",
    "sns.set_style('darkgrid')\n",
    "\n",
    "%matplotlib inline\n",
    "\n",
    "import warnings\n",
    "warnings.filterwarnings('ignore')"
   ]
  },
  {
   "cell_type": "markdown",
   "metadata": {},
   "source": [
    "## Exploring TIMIT Data <a id='timit'></a>\n",
    "\n",
    "We will start off by exploring [TIMIT](https://en.wikipedia.org/wiki/TIMIT) data taken from 8 different regions. These measurements are taken at the midpoint of vowels, where vowel boundaries were determined automatically using forced alignment.\n",
    "\n",
    "### Uploading the data\n",
    "\n",
    "Prior to being able to work with the data, we have to upload our dataset. The following two lines of code will read in our data and create a dataframe. The last line of code prints the `timit` dataframe, but instead of printing the whole dataframe, by using the method `.head`, it only prints the first 5 rows."
   ]
  },
  {
   "cell_type": "code",
   "execution_count": null,
   "metadata": {},
   "outputs": [],
   "source": [
    "timit = pd.read_csv('data/timitvowels.csv')\n",
    "timit.head()"
   ]
  },
  {
   "cell_type": "markdown",
   "metadata": {},
   "source": [
    "Look at the dataframe you created and try to figure out what each column measures. Each column represents a different attribute, see the following table for more information.\n",
    "\n",
    "|Column Name|Details|\n",
    "|---|---|\n",
    "|speaker|unique speaker ID|\n",
    "|gender|Speaker’s self-reported gender|\n",
    "|region|Speaker dialect region number|\n",
    "|word|Lexical item (from sentence prompt)|\n",
    "|vowel|Vowel ID|\n",
    "|duration|Vowel duration (seconds)|\n",
    "|F1/F2/F3/f0|f0 and F1-F3 in BPM (Hz)|\n",
    "\n",
    "Sometimes data is encoded with with an identifier, or key, to save space and simplify calculations. Each of those keys corresponds to a specific value. If you look at the `region` column, you will notice that all of the values are numbers. Each of those numbers corresponds to a region, for example, in our first row the speaker, `cjf0`, is from region `1`. That corresponds to New England. Below is a table with all of the keys for `region`.\n",
    "\n",
    "|Key|Region|\n",
    "|---|---|\n",
    "|1|New England|\n",
    "|2|Northern|\n",
    "|3|North Midland|\n",
    "|4|South Midland|\n",
    "|5|Southern|\n",
    "|6|New York City|\n",
    "|7|Western|\n",
    "|8|Army Brat|\n",
    "\n",
    "### Transformations\n",
    "\n",
    "When inspecting data, you may realize that there are changes to be made -- possibly due to the representation to the data or errors in the recording. Before jumping into analysis, it is important to clean the data. \n",
    "\n",
    "One thing to notice about `timit` is that the column `vowel` contains ARPABET identifiers for the vowels. We want to convert the vowel column to be IPA characters, and will do so in the cell below."
   ]
  },
  {
   "cell_type": "code",
   "execution_count": null,
   "metadata": {},
   "outputs": [],
   "source": [
    "IPAdict = {\"AO\" : \"ɔ\", \"AA\" : \"ɑ\", \"IY\" : \"i\", \"UW\" : \"u\", \"EH\" : \"ɛ\", \"IH\" : \"ɪ\", \"UH\":\"ʊ\", \"AH\": \"ʌ\", \"AX\" : \"ə\", \"AE\":\"æ\", \"EY\" :\"eɪ\", \"AY\": \"aɪ\", \"OW\":\"oʊ\", \"AW\":\"aʊ\", \"OY\" :\"ɔɪ\", \"ER\":\"ɚ\"}\n",
    "timit['vowel'] = [IPAdict[x] for x in timit['vowel']]\n",
    "timit.head()"
   ]
  },
  {
   "cell_type": "markdown",
   "metadata": {},
   "source": [
    "Most of the speakers will say the same vowel multiple times, so we are going to average those values together. The end result will be a dataframe where each row represents the average values for each vowel for each speaker."
   ]
  },
  {
   "cell_type": "code",
   "execution_count": null,
   "metadata": {},
   "outputs": [],
   "source": [
    "timit_avg = timit.groupby(['speaker', 'vowel', 'gender', 'region']).mean().reset_index()\n",
    "timit_avg.head()"
   ]
  },
  {
   "cell_type": "markdown",
   "metadata": {},
   "source": [
    "### Splitting on Gender"
   ]
  },
  {
   "cell_type": "markdown",
   "metadata": {},
   "source": [
    "Using the same dataframe from above, `timit_avg`, we are going to split into dataframes grouped by gender. To identify the possible values of gender in the `gender` column, we can use the method `.unique` on the column."
   ]
  },
  {
   "cell_type": "code",
   "execution_count": null,
   "metadata": {},
   "outputs": [],
   "source": [
    "timit_avg.gender.unique()"
   ]
  },
  {
   "cell_type": "markdown",
   "metadata": {},
   "source": [
    "You could see that for this specific dataset there are only \"female\" and \"male\" values in the column. Given that information, we'll create two subsets based off of gender. \n",
    "\n",
    "We'll split `timit_avg` into two separate dataframes, one for females, `timit_female`, and one for males, `timit_male`. Creating these subset dataframes does not affect the original `timit_avg` dataframe."
   ]
  },
  {
   "cell_type": "code",
   "execution_count": null,
   "metadata": {},
   "outputs": [],
   "source": [
    "timit_female = timit_avg[timit_avg['gender'] == 'female']\n",
    "timit_male = timit_avg[timit_avg['gender'] == 'male']"
   ]
  },
  {
   "cell_type": "markdown",
   "metadata": {},
   "source": [
    "### Distribution of Formants"
   ]
  },
  {
   "cell_type": "markdown",
   "metadata": {},
   "source": [
    "We want to inspect the distributions of F1, F2, and F3 for those that self-report as male and those that self-report as female to identify possible trends or relationships. Having our two split dataframes, `timit_female` and `timit_male`, eases the plotting process. \n",
    "\n",
    "Run the cell below to see the distribution of `F1`."
   ]
  },
  {
   "cell_type": "code",
   "execution_count": null,
   "metadata": {},
   "outputs": [],
   "source": [
    "sns.distplot(timit_female['F1'], kde_kws={\"label\": \"female\"})\n",
    "sns.distplot(timit_male['F1'], kde_kws={\"label\": \"male\"})\n",
    "plt.title('F1')\n",
    "plt.xlabel(\"Hz\")\n",
    "plt.ylabel('Proportion per Hz');"
   ]
  },
  {
   "cell_type": "markdown",
   "metadata": {},
   "source": [
    "Does there seem to be a notable difference between male and female distributions of F1?\n",
    "\n",
    "Next, we plot F2."
   ]
  },
  {
   "cell_type": "code",
   "execution_count": null,
   "metadata": {},
   "outputs": [],
   "source": [
    "sns.distplot(timit_female['F2'], kde_kws={\"label\": \"female\"})\n",
    "sns.distplot(timit_male['F2'], kde_kws={\"label\": \"male\"})\n",
    "plt.title('F2')\n",
    "plt.xlabel(\"Hz\")\n",
    "plt.ylabel('Proportion per Hz');"
   ]
  },
  {
   "cell_type": "markdown",
   "metadata": {},
   "source": [
    "Finally, we create the same visualization, but for F3."
   ]
  },
  {
   "cell_type": "code",
   "execution_count": null,
   "metadata": {},
   "outputs": [],
   "source": [
    "sns.distplot(timit_female['F3'], kde_kws={\"label\": \"female\"})\n",
    "sns.distplot(timit_male['F3'], kde_kws={\"label\": \"male\"})\n",
    "plt.title('F3')\n",
    "plt.xlabel(\"Hz\")\n",
    "plt.ylabel('Proportion per Hz');"
   ]
  },
  {
   "cell_type": "markdown",
   "metadata": {
    "collapsed": true
   },
   "source": [
    "Do you see a more pronounced difference across the the different F values? Are they the same throughout? Can we make any meaningful assumptions from these visualizations?\n",
    "\n",
    "An additional question: How do you think the fact that we average each vowel together first for each individual affects the shape of the histograms?"
   ]
  },
  {
   "cell_type": "markdown",
   "metadata": {},
   "source": [
    "## Using the Class's Data <a id='cls'></a>"
   ]
  },
  {
   "cell_type": "markdown",
   "metadata": {},
   "source": [
    "This portion of the notebook will rely on the data that was submit for HW5. Just like we did for the TIMIT data, we are going to read it into a dataframe and modify the column `vowel` to reflect the corresponding IPA translation. We will name the dataframe `class_data`."
   ]
  },
  {
   "cell_type": "code",
   "execution_count": null,
   "metadata": {},
   "outputs": [],
   "source": [
    "# reading in the data\n",
    "class_data = pd.read_csv('data/110_formants.csv')\n",
    "class_data.head()"
   ]
  },
  {
   "cell_type": "markdown",
   "metadata": {},
   "source": [
    "The `ID` column contains a unique value for each individual. Each individual has a row for each of the different vowels they measured."
   ]
  },
  {
   "cell_type": "code",
   "execution_count": null,
   "metadata": {},
   "outputs": [],
   "source": [
    "# translating the vowel column\n",
    "class_data['vowel'] = [IPAdict[x] for x in class_data['vowel']]\n",
    "class_data.head()"
   ]
  },
  {
   "cell_type": "markdown",
   "metadata": {},
   "source": [
    "### Splitting on Gender"
   ]
  },
  {
   "cell_type": "markdown",
   "metadata": {},
   "source": [
    "As we did with the TIMIT data, we are going to split `class_data` based on self-reported gender. We need to figure out what the possible responses for the column were."
   ]
  },
  {
   "cell_type": "code",
   "execution_count": null,
   "metadata": {},
   "outputs": [],
   "source": [
    "class_data['Gender'].unique()"
   ]
  },
  {
   "cell_type": "markdown",
   "metadata": {},
   "source": [
    "Notice that there are three possible values for the column. We do not have a large enough sample size to responsibly come to conclusions for `Prefer not to answer`, so for now we'll compare `Male` and `Female`. We'll call our new split dataframes `class_female` and `class_male`."
   ]
  },
  {
   "cell_type": "code",
   "execution_count": null,
   "metadata": {},
   "outputs": [],
   "source": [
    "class_female = class_data[class_data['Gender'] == 'Female']\n",
    "class_male = class_data[class_data['Gender'] == 'Male']"
   ]
  },
  {
   "cell_type": "markdown",
   "metadata": {},
   "source": [
    "### Comparing Distributions"
   ]
  },
  {
   "cell_type": "markdown",
   "metadata": {},
   "source": [
    "The following visualizations compare the the distribution of formants for males and females, like we did for the TIMIT data.\n",
    "\n",
    "First, we'll start with `F1`."
   ]
  },
  {
   "cell_type": "code",
   "execution_count": null,
   "metadata": {},
   "outputs": [],
   "source": [
    "sns.distplot(class_female['F1'], kde_kws={\"label\": \"female\"})\n",
    "sns.distplot(class_male['F1'], kde_kws={\"label\": \"male\"})\n",
    "plt.title('F1')\n",
    "plt.xlabel(\"Hz\")\n",
    "plt.ylabel('Proportion per Hz');"
   ]
  },
  {
   "cell_type": "markdown",
   "metadata": {},
   "source": [
    "Next is `F2`."
   ]
  },
  {
   "cell_type": "code",
   "execution_count": null,
   "metadata": {},
   "outputs": [],
   "source": [
    "sns.distplot(class_female['F2'], kde_kws={\"label\": \"female\"})\n",
    "sns.distplot(class_male['F2'], kde_kws={\"label\": \"male\"})\n",
    "plt.title('F2')\n",
    "plt.xlabel(\"Hz\")\n",
    "plt.ylabel('Proportion per Hz');"
   ]
  },
  {
   "cell_type": "markdown",
   "metadata": {},
   "source": [
    "And finally `F3`."
   ]
  },
  {
   "cell_type": "code",
   "execution_count": null,
   "metadata": {},
   "outputs": [],
   "source": [
    "sns.distplot(class_female['F3'], kde_kws={\"label\": \"female\"})\n",
    "sns.distplot(class_male['F3'], kde_kws={\"label\": \"male\"})\n",
    "plt.title('F3')\n",
    "plt.xlabel(\"Hz\")\n",
    "plt.ylabel('Proportion per Hz');"
   ]
  },
  {
   "cell_type": "markdown",
   "metadata": {},
   "source": [
    "Do the spread of values appear to be the same for females and males? Do the same patterns that occur in the TIMIT data appear in the class's data?"
   ]
  },
  {
   "cell_type": "markdown",
   "metadata": {},
   "source": [
    "## Formants vs Height <a id='fvh'></a>\n",
    "\n",
    "We are going to compare each of the formants and height to see if there is a relationship between the two. To help visualize that, we are going to plot a regression line, which is also referred to as the line of best fit.\n",
    "\n",
    "We are going to use the _maximum_ of each formant to compare to height. So for each speaker, we will calculate their greatest `F1`, `F2`, and `F3` across all vowels, then compare one of those to their height. We create the necessary dataframe in the cell below using the class's data."
   ]
  },
  {
   "cell_type": "code",
   "execution_count": null,
   "metadata": {},
   "outputs": [],
   "source": [
    "genders = class_data['Gender']\n",
    "plotting_data = class_data.drop('vowel', axis=1)[np.logical_or(genders == 'Male', genders == 'Female')]\n",
    "maxes = plotting_data.groupby(['ID', 'Gender']).max().reset_index()\n",
    "maxes.columns = ['ID', 'Gender', 'Language', 'Height', 'Max F1', 'Max F2', 'Max F3']\n",
    "maxes_female = maxes[maxes['Gender'] == 'Female']\n",
    "maxes_male = maxes[maxes['Gender'] == 'Male']\n",
    "maxes.head()"
   ]
  },
  {
   "cell_type": "markdown",
   "metadata": {},
   "source": [
    "First we will plot `Max F1` against `Height`.\n",
    "\n",
    "_Note: Each gender has a different color dot, but the line represents the line of best fit for ALL points._"
   ]
  },
  {
   "cell_type": "code",
   "execution_count": null,
   "metadata": {},
   "outputs": [],
   "source": [
    "sns.regplot('Height', 'Max F1', data=maxes)\n",
    "sns.regplot('Height', 'Max F1', data=maxes_male, fit_reg=False)\n",
    "sns.regplot('Height', 'Max F1', data=maxes_female, fit_reg=False)\n",
    "plt.xlabel('Height (cm)')\n",
    "plt.ylabel('Max F1 (Hz)')\n",
    "print('female: green')\n",
    "print('male: orange')"
   ]
  },
  {
   "cell_type": "markdown",
   "metadata": {},
   "source": [
    "Is there a general trend for the data that you notice? What do you notice about the different color dots?\n",
    "\n",
    "Next, we plot `Max F2` on `Height`."
   ]
  },
  {
   "cell_type": "code",
   "execution_count": null,
   "metadata": {},
   "outputs": [],
   "source": [
    "sns.regplot('Height', 'Max F2', data=maxes)\n",
    "sns.regplot('Height', 'Max F2', data=maxes_male, fit_reg=False)\n",
    "sns.regplot('Height', 'Max F2', data=maxes_female, fit_reg=False)\n",
    "plt.xlabel('Height (cm)')\n",
    "plt.ylabel('Max F2 (Hz)')\n",
    "print('female: green')\n",
    "print('male: orange')"
   ]
  },
  {
   "cell_type": "markdown",
   "metadata": {},
   "source": [
    "Finally, `Max F3` vs `Height`."
   ]
  },
  {
   "cell_type": "code",
   "execution_count": null,
   "metadata": {},
   "outputs": [],
   "source": [
    "sns.regplot('Height', 'Max F3', data=maxes)\n",
    "sns.regplot('Height', 'Max F3', data=maxes_male, fit_reg=False)\n",
    "sns.regplot('Height', 'Max F3', data=maxes_female, fit_reg=False)\n",
    "plt.xlabel('Height (cm)')\n",
    "plt.ylabel('Max F3 (Hz)')\n",
    "print('female: green')\n",
    "print('male: orange')"
   ]
  },
  {
   "cell_type": "markdown",
   "metadata": {},
   "source": [
    "Do you notice a difference between the trends for the three formants?\n",
    "\n",
    "Now we are going to plot two lines of best fit -- one for males, one for females. Before we plotted one line for all of the values, but now we are separating by gender to see if gender explains some of the difference in formants values. \n",
    "\n",
    "For now, we're going deal with just `Max F1`."
   ]
  },
  {
   "cell_type": "code",
   "execution_count": null,
   "metadata": {},
   "outputs": [],
   "source": [
    "sns.lmplot('Height', 'Max F1', data=maxes, hue='Gender')\n",
    "plt.xlabel('Height (cm)')\n",
    "plt.ylabel('Max F1 (Hz)');"
   ]
  },
  {
   "cell_type": "markdown",
   "metadata": {},
   "source": [
    "Is there a noticeable difference between the two? Did you expect this result?\n",
    "\n",
    "We're going to repeat the above graph, plotting a different regression line for males and females, but this time, using `timit` -- having a larger sample size may help expose patterns. Before we do that, we have to repeat the process of calulating the maximum value for each formants for each speaker. Run the cell below to do that and generate the plot."
   ]
  },
  {
   "cell_type": "code",
   "execution_count": null,
   "metadata": {},
   "outputs": [],
   "source": [
    "timit_maxes = timit.groupby(['speaker', 'gender']).max().reset_index()\n",
    "timit_maxes.columns = ['speaker', 'gender', 'region', 'height', 'word', 'vowel', 'Max duration', 'Max F1', 'Max F2', 'Max F3', 'Max f0']\n",
    "sns.lmplot('height', 'Max F1', data=timit_maxes, hue='gender', scatter_kws={'alpha':0.3})\n",
    "plt.xlabel('Height (cm)')\n",
    "plt.ylabel('Max F1 (Hz)');"
   ]
  },
  {
   "cell_type": "markdown",
   "metadata": {},
   "source": [
    "Does this graph differ from the one based on `class_data`? If it does, what are some possible explanations for this? From the visualization, what can you say about height as a predictor of `Max F1`? Do you think gender plays a role in the value of `Max F1`?\n",
    "\n",
    "Do you think similar patterns would emerge for `Max F2` and `Max F3`? We only used `Max F1`, but consider trying to plot them by copying some of the code from above and making slight alterations (remember that to insert a code cell below, you can either press `esc + b` or click `Insert > Insert Cell Below` on the toolbar)."
   ]
  },
  {
   "cell_type": "markdown",
   "metadata": {},
   "source": [
    "## Vowel Diagrams <a id='vs'></a>"
   ]
  },
  {
   "cell_type": "markdown",
   "metadata": {},
   "source": [
    "Run the cell below to define some functions that we will be using."
   ]
  },
  {
   "cell_type": "code",
   "execution_count": null,
   "metadata": {},
   "outputs": [],
   "source": [
    "def plot_blank_vowel_chart():\n",
    "    im = plt.imread('images/blankvowel.png')\n",
    "    plt.imshow(im, extent=(plt.xlim()[0], plt.xlim()[1], plt.ylim()[0], plt.ylim()[1]))\n",
    "\n",
    "def plot_vowel_space(avgs_df):\n",
    "    plt.figure(figsize=(10, 8))\n",
    "    plt.gca().invert_yaxis()\n",
    "    plt.gca().invert_xaxis()\n",
    "    \n",
    "    for i in range(len(avgs_df)):\n",
    "        plt.scatter(avgs_df['F2'][i], avgs_df['F1'][i], marker=r\"$ {} $\".format(avgs_df.index[i]), s=1000)\n",
    "        \n",
    "    plt.ylabel('F1')\n",
    "    plt.xlabel('F2')"
   ]
  },
  {
   "cell_type": "markdown",
   "metadata": {},
   "source": [
    "We are going to be recreating the following graphic."
   ]
  },
  {
   "cell_type": "markdown",
   "metadata": {},
   "source": [
    "![](images/notblank.png)"
   ]
  },
  {
   "cell_type": "markdown",
   "metadata": {},
   "source": [
    "Before we can get to creating, we need to get a singular value for each column for each of the vowels (so we can create coordinate pairs). To do this, we are going to find the average formant values for each of the vowels in our dataframes. We'll do this for both `timit` and `class_data`."
   ]
  },
  {
   "cell_type": "code",
   "execution_count": null,
   "metadata": {},
   "outputs": [],
   "source": [
    "class_vowel_avgs = class_data.groupby('vowel').mean()\n",
    "class_vowel_avgs.head()"
   ]
  },
  {
   "cell_type": "code",
   "execution_count": null,
   "metadata": {},
   "outputs": [],
   "source": [
    "timit_vowel_avgs = timit.groupby('vowel').mean()\n",
    "timit_vowel_avgs.head()"
   ]
  },
  {
   "cell_type": "markdown",
   "metadata": {},
   "source": [
    "Each of these new tables has a row for each vowel, which comprisises of the averaged values across all speakers."
   ]
  },
  {
   "cell_type": "markdown",
   "metadata": {},
   "source": [
    "### Plotting the Vowel Space"
   ]
  },
  {
   "cell_type": "markdown",
   "metadata": {},
   "source": [
    "Run the cell below to construct a vowel space for the class's data, in which we plot `F1` on `F2`.\n",
    "\n",
    "_Note that both axes are descending._"
   ]
  },
  {
   "cell_type": "code",
   "execution_count": null,
   "metadata": {},
   "outputs": [],
   "source": [
    "plot_vowel_space(class_vowel_avgs)\n",
    "plt.xlabel('F2 (Hz)')\n",
    "plt.ylabel('F1 (Hz)');"
   ]
  },
  {
   "cell_type": "markdown",
   "metadata": {},
   "source": [
    "### Using Logarithmic Axes\n",
    "\n",
    "In our visualization above, we use linear axes in order to construct our vowel space. The chart we are trying to recreate has logged axes (though the picture does not indicate it). Below we log-transform all of the values in our dataframes."
   ]
  },
  {
   "cell_type": "code",
   "execution_count": null,
   "metadata": {},
   "outputs": [],
   "source": [
    "log_timit_vowels = timit_vowel_avgs.apply(np.log)\n",
    "log_class_vowels = class_vowel_avgs.apply(np.log)\n",
    "log_class_vowels.head()"
   ]
  },
  {
   "cell_type": "markdown",
   "metadata": {},
   "source": [
    "Below we plot the vowel space using these new values."
   ]
  },
  {
   "cell_type": "code",
   "execution_count": null,
   "metadata": {},
   "outputs": [],
   "source": [
    "plot_vowel_space(log_class_vowels)\n",
    "plt.xlabel('log(F2) (Hz)')\n",
    "plt.ylabel('log(F1) (Hz)');"
   ]
  },
  {
   "cell_type": "markdown",
   "metadata": {},
   "source": [
    "What effect does using the logged values have, if any? What advantages does using these values have? Are there any negatives? [This paper](https://www.ncbi.nlm.nih.gov/pmc/articles/PMC4120293/) might give some ideas."
   ]
  },
  {
   "cell_type": "markdown",
   "metadata": {},
   "source": [
    "### Overlaying a Vowel Space Chart\n",
    "\n",
    "Finally, we are going to overlay a blank vowel space chart outline to see how close our data reflects the theoretical vowel chart."
   ]
  },
  {
   "cell_type": "code",
   "execution_count": null,
   "metadata": {
    "scrolled": false
   },
   "outputs": [],
   "source": [
    "plot_vowel_space(log_class_vowels)\n",
    "plot_blank_vowel_chart()\n",
    "plt.xlabel('log(F2) (Hz)')\n",
    "plt.ylabel('log(F1) (Hz)');"
   ]
  },
  {
   "cell_type": "markdown",
   "metadata": {},
   "source": [
    "How well does it match the original?\n",
    "\n",
    "Below we generate the same graph, except using the information from the TIMIT dataset."
   ]
  },
  {
   "cell_type": "code",
   "execution_count": null,
   "metadata": {},
   "outputs": [],
   "source": [
    "plot_vowel_space(log_timit_vowels)\n",
    "plot_blank_vowel_chart()\n",
    "plt.xlabel('log(F2) (Hz)')\n",
    "plt.ylabel('log(F1) (Hz)');"
   ]
  },
  {
   "cell_type": "markdown",
   "metadata": {},
   "source": [
    "How does the TIMIT vowel space compare to the vowel space from our class data? What may be the cause for any differences between our vowel space and the one constructed using the TIMIT data? Do you notice any outliers or do any points that seem off?"
   ]
  },
  {
   "cell_type": "markdown",
   "metadata": {},
   "source": [
    "## Not sure what to call this section <a id='not sure'></a>\n",
    "\n",
    "Possibly include link to paper Susan mentioned :)\n",
    "\n",
    "timit data below"
   ]
  },
  {
   "cell_type": "code",
   "execution_count": null,
   "metadata": {},
   "outputs": [],
   "source": [
    "plt.figure(figsize=(8, 10))\n",
    "pick_vowel = lambda v: timit_avg[timit_avg['vowel'] == v]\n",
    "colors = ['Greys', 'Purples', 'Blues', 'Greens', 'Oranges', \\\n",
    "          'Reds', 'GnBu', 'PuRd', 'winter', 'YlOrBr', 'pink', 'copper']\n",
    "\n",
    "for vowel, color in list(zip(timit_avg.vowel.unique(), colors)):\n",
    "    vowel_subset = pick_vowel(vowel)\n",
    "    sns.kdeplot(vowel_subset['F2'].apply(np.log), vowel_subset['F1'].apply(np.log), n_levels=1, cmap=color, shade=True, shade_lowest=False)\n",
    "    \n",
    "plt.xlim(7.7, 6.8)\n",
    "plt.ylim(6.6, 5.8)\n",
    "plt.xlabel('log(F2)')\n",
    "plt.ylabel('log(F1)')"
   ]
  },
  {
   "cell_type": "markdown",
   "metadata": {},
   "source": [
    "class data below\n",
    "\n",
    "needed to expand the axes to capture the class data"
   ]
  },
  {
   "cell_type": "code",
   "execution_count": null,
   "metadata": {},
   "outputs": [],
   "source": [
    "plt.figure(figsize=(8, 10))\n",
    "pick_vowel = lambda v: class_data[class_data['vowel'] == v]\n",
    "colors = ['Greys', 'Purples', 'Blues', 'Greens', 'Oranges', \\\n",
    "          'Reds', 'GnBu', 'PuRd', 'winter', 'YlOrBr', 'pink', 'copper']\n",
    "\n",
    "for vowel, color in list(zip(class_data.vowel.unique(), colors)):\n",
    "    vowel_subset = pick_vowel(vowel)\n",
    "    sns.kdeplot(vowel_subset['F2'].apply(np.log), vowel_subset['F1'].apply(np.log), n_levels=1, cmap=color, shade=True, shade_lowest=False)\n",
    "    \n",
    "plt.xlim(8.1, 6.8)\n",
    "plt.ylim(6.9, 5.8)\n",
    "plt.xlabel('log(F2)')\n",
    "plt.ylabel('log(F1)')"
   ]
  },
  {
   "cell_type": "markdown",
   "metadata": {},
   "source": [
    "---\n",
    "\n",
    "***Please fill out our [feedback form](https://goo.gl/forms/PR1OQvX3bMIfype62)!***"
   ]
  }
 ],
 "metadata": {
  "anaconda-cloud": {},
  "kernelspec": {
   "display_name": "Python [default]",
   "language": "python",
   "name": "python3"
  },
  "language_info": {
   "codemirror_mode": {
    "name": "ipython",
    "version": 3
   },
   "file_extension": ".py",
   "mimetype": "text/x-python",
   "name": "python",
   "nbconvert_exporter": "python",
   "pygments_lexer": "ipython3",
   "version": "3.5.2"
  }
 },
 "nbformat": 4,
 "nbformat_minor": 2
}
