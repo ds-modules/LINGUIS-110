{
 "cells": [
  {
   "cell_type": "markdown",
   "metadata": {},
   "source": [
    "# VOWEL FORMANTS EXPLORATION"
   ]
  },
  {
   "cell_type": "code",
   "execution_count": 134,
   "metadata": {
    "collapsed": true
   },
   "outputs": [],
   "source": [
    "import math\n",
    "import pandas as pd\n",
    "import seaborn as sns\n",
    "# import datascience as ds\n",
    "import matplotlib.pyplot as plt\n",
    "\n",
    "%matplotlib inline\n",
    "\n",
    "import warnings\n",
    "warnings.filterwarnings('ignore')"
   ]
  },
  {
   "cell_type": "markdown",
   "metadata": {},
   "source": [
    "# 1. Exploring TIMIT Data"
   ]
  },
  {
   "cell_type": "markdown",
   "metadata": {},
   "source": [
    "We will start off by exploring and analyze real TIMIT data taken from 8 different regions of the TIMIT corpus. These measurements are taken at the midpoint of vowels, and vowel boundaries were determined automatically using forced alignment (Penn FA)."
   ]
  },
  {
   "cell_type": "markdown",
   "metadata": {},
   "source": [
    "## 1.1 Uploading the data"
   ]
  },
  {
   "cell_type": "markdown",
   "metadata": {},
   "source": [
    "Prior to being able to work with the data, we have to upload our dataset. As you run the cell, take a look at the code, but don't worry yourselves with the details. The first two lines of code below are what create the dataframe provided. The data is spread over several text files, so it takes a little bit more finesse to read than other datasets we have seen. The last line of code is what prints the `timit` dataframe, but instead of printing the whole dataframe, by using the method `.head`, it only prints the first 5 rows."
   ]
  },
  {
   "cell_type": "code",
   "execution_count": 226,
   "metadata": {},
   "outputs": [
    {
     "data": {
      "text/html": [
       "<div>\n",
       "<style>\n",
       "    .dataframe thead tr:only-child th {\n",
       "        text-align: right;\n",
       "    }\n",
       "\n",
       "    .dataframe thead th {\n",
       "        text-align: left;\n",
       "    }\n",
       "\n",
       "    .dataframe tbody tr th {\n",
       "        vertical-align: top;\n",
       "    }\n",
       "</style>\n",
       "<table border=\"1\" class=\"dataframe\">\n",
       "  <thead>\n",
       "    <tr style=\"text-align: right;\">\n",
       "      <th></th>\n",
       "      <th>speaker</th>\n",
       "      <th>gender</th>\n",
       "      <th>file</th>\n",
       "      <th>t</th>\n",
       "      <th>word</th>\n",
       "      <th>vowel</th>\n",
       "      <th>stress</th>\n",
       "      <th>duration</th>\n",
       "      <th>f1</th>\n",
       "      <th>f2</th>\n",
       "      <th>f3</th>\n",
       "      <th>f0</th>\n",
       "    </tr>\n",
       "  </thead>\n",
       "  <tbody>\n",
       "    <tr>\n",
       "      <th>0</th>\n",
       "      <td>fcjf0</td>\n",
       "      <td>female</td>\n",
       "      <td>sa1</td>\n",
       "      <td>0.3225</td>\n",
       "      <td>SHE</td>\n",
       "      <td>IY</td>\n",
       "      <td>1</td>\n",
       "      <td>0.08</td>\n",
       "      <td>486.2</td>\n",
       "      <td>2467.9</td>\n",
       "      <td>3185.1</td>\n",
       "      <td>244.9</td>\n",
       "    </tr>\n",
       "    <tr>\n",
       "      <th>1</th>\n",
       "      <td>fcjf0</td>\n",
       "      <td>female</td>\n",
       "      <td>sa1</td>\n",
       "      <td>0.5025</td>\n",
       "      <td>HAD</td>\n",
       "      <td>AE</td>\n",
       "      <td>1</td>\n",
       "      <td>0.10</td>\n",
       "      <td>595.1</td>\n",
       "      <td>2067.0</td>\n",
       "      <td>2976.7</td>\n",
       "      <td>241.6</td>\n",
       "    </tr>\n",
       "    <tr>\n",
       "      <th>2</th>\n",
       "      <td>fcjf0</td>\n",
       "      <td>female</td>\n",
       "      <td>sa1</td>\n",
       "      <td>0.6825</td>\n",
       "      <td>YOUR</td>\n",
       "      <td>UH</td>\n",
       "      <td>1</td>\n",
       "      <td>0.04</td>\n",
       "      <td>468.7</td>\n",
       "      <td>1956.1</td>\n",
       "      <td>3061.4</td>\n",
       "      <td>201.9</td>\n",
       "    </tr>\n",
       "    <tr>\n",
       "      <th>3</th>\n",
       "      <td>fcjf0</td>\n",
       "      <td>female</td>\n",
       "      <td>sa1</td>\n",
       "      <td>0.8525</td>\n",
       "      <td>DARK</td>\n",
       "      <td>AA</td>\n",
       "      <td>1</td>\n",
       "      <td>0.10</td>\n",
       "      <td>740.4</td>\n",
       "      <td>1674.1</td>\n",
       "      <td>2767.3</td>\n",
       "      <td>221.5</td>\n",
       "    </tr>\n",
       "    <tr>\n",
       "      <th>4</th>\n",
       "      <td>fcjf0</td>\n",
       "      <td>female</td>\n",
       "      <td>sa1</td>\n",
       "      <td>1.1975</td>\n",
       "      <td>SUIT</td>\n",
       "      <td>UW</td>\n",
       "      <td>1</td>\n",
       "      <td>0.17</td>\n",
       "      <td>464.0</td>\n",
       "      <td>1698.0</td>\n",
       "      <td>2904.9</td>\n",
       "      <td>232.6</td>\n",
       "    </tr>\n",
       "  </tbody>\n",
       "</table>\n",
       "</div>"
      ],
      "text/plain": [
       "  speaker  gender file       t  word vowel  stress  duration     f1      f2  \\\n",
       "0   fcjf0  female  sa1  0.3225   SHE    IY       1      0.08  486.2  2467.9   \n",
       "1   fcjf0  female  sa1  0.5025   HAD    AE       1      0.10  595.1  2067.0   \n",
       "2   fcjf0  female  sa1  0.6825  YOUR    UH       1      0.04  468.7  1956.1   \n",
       "3   fcjf0  female  sa1  0.8525  DARK    AA       1      0.10  740.4  1674.1   \n",
       "4   fcjf0  female  sa1  1.1975  SUIT    UW       1      0.17  464.0  1698.0   \n",
       "\n",
       "       f3     f0  \n",
       "0  3185.1  244.9  \n",
       "1  2976.7  241.6  \n",
       "2  3061.4  201.9  \n",
       "3  2767.3  221.5  \n",
       "4  2904.9  232.6  "
      ]
     },
     "execution_count": 226,
     "metadata": {},
     "output_type": "execute_result"
    }
   ],
   "source": [
    "files = ['data/vowel_midpoints_dr' + str(ind) + '.txt' for ind in range(1,9)]\n",
    "timit = pd.concat([pd.read_csv(file, sep='\\t') for file in files]).reset_index(drop=True)\n",
    "\n",
    "timit.head()"
   ]
  },
  {
   "cell_type": "markdown",
   "metadata": {},
   "source": [
    "Look at the dataframe you created and try to conceptualize what each column measures. Each column represents a different attribute and that explained in the table below:\n",
    "\n",
    "|Column Name|Details|\n",
    "|---|---|\n",
    "|speaker|unique speaker ID|\n",
    "|gender|speaker’s self-reported gender|\n",
    "|file|the filename — each sentence is recorded to a different file|\n",
    "|t|time in the file measurements made (seconds)|\n",
    "|word|lexical item (according to sentence prompt, not necessarily accurate)|\n",
    "|vowel/stress|vowel ID in ARPABET (via CMU dictionary within Penn FA; not necessarily accurate)|\n",
    "|duration|vowel duration given boundaries determined by Penn FA (seconds)|\n",
    "|f0/f1/f2/f3|f0 and F1-F3 via ifcformant in BPM (Hz)|"
   ]
  },
  {
   "cell_type": "markdown",
   "metadata": {},
   "source": [
    "## 1.2 Visualize Your Data"
   ]
  },
  {
   "cell_type": "markdown",
   "metadata": {},
   "source": [
    "Now that we have organized all our data in a dataframe, let's draw some plots to visualize them better. By visualizing your data you are able to get more acquainted with possible trends or relationships. \n",
    "\n",
    "Run the cell below to see the distribution of `f1`."
   ]
  },
  {
   "cell_type": "code",
   "execution_count": 227,
   "metadata": {},
   "outputs": [
    {
     "data": {
      "text/plain": [
       "<matplotlib.text.Text at 0x12037a5c0>"
      ]
     },
     "execution_count": 227,
     "metadata": {},
     "output_type": "execute_result"
    },
    {
     "data": {
      "image/png": "[encoded data removed]",
      "text/plain": [
       "<matplotlib.figure.Figure at 0x11ce4e278>"
      ]
     },
     "metadata": {},
     "output_type": "display_data"
    }
   ],
   "source": [
    "plot = sns.distplot(timit[\"f1\"])\n",
    "plot.set_ylabel(\"BPM (Hz)\")"
   ]
  },
  {
   "cell_type": "markdown",
   "metadata": {},
   "source": [
    "### <font color = \"blue\"> QUESTION #1 </font>"
   ]
  },
  {
   "cell_type": "markdown",
   "metadata": {},
   "source": [
    "Can you estimate the mean of the distribution above? Write your answer in the cell below to by double clicking on it."
   ]
  },
  {
   "cell_type": "markdown",
   "metadata": {},
   "source": [
    "__Answer:__"
   ]
  },
  {
   "cell_type": "markdown",
   "metadata": {},
   "source": [
    "Let's try visualizing the plots for `f1`, `f2`, `f3` along the same axis. Try running the cell below."
   ]
  },
  {
   "cell_type": "code",
   "execution_count": 228,
   "metadata": {},
   "outputs": [
    {
     "data": {
      "text/plain": [
       "<matplotlib.text.Text at 0x11b3d08d0>"
      ]
     },
     "execution_count": 228,
     "metadata": {},
     "output_type": "execute_result"
    },
    {
     "data": {
      "image/png": "[encoded data removed]",
      "text/plain": [
       "<matplotlib.figure.Figure at 0x12144cdd8>"
      ]
     },
     "metadata": {},
     "output_type": "display_data"
    }
   ],
   "source": [
    "plot2 = sns.distplot(timit[\"f1\"]) ##In Blue\n",
    "plot2 = sns.distplot(timit[\"f2\"]) ##In Green\n",
    "plot2 = sns.distplot(timit[\"f3\"]) ##In Red\n",
    "plot2.set_ylabel(\"BPM (Hz)\")"
   ]
  },
  {
   "cell_type": "markdown",
   "metadata": {},
   "source": [
    "The blue color represents the distribution of f1, the green color represents the distribution of f2, and the red color represents the distribution of f3."
   ]
  },
  {
   "cell_type": "markdown",
   "metadata": {},
   "source": [
    "### <font color = \"blue\"> QUESTION #2 </font>"
   ]
  },
  {
   "cell_type": "markdown",
   "metadata": {},
   "source": [
    "Write 2-3 sentences describing what you see in the visualization."
   ]
  },
  {
   "cell_type": "markdown",
   "metadata": {},
   "source": [
    "__Answer:__"
   ]
  },
  {
   "cell_type": "markdown",
   "metadata": {},
   "source": [
    "Now we will be taking a look at differences based on gender. Try running the cell below."
   ]
  },
  {
   "cell_type": "code",
   "execution_count": 229,
   "metadata": {},
   "outputs": [
    {
     "data": {
      "image/png": "[encoded data removed]",
      "text/plain": [
       "<matplotlib.figure.Figure at 0x11b3d6fd0>"
      ]
     },
     "metadata": {},
     "output_type": "display_data"
    }
   ],
   "source": [
    "plots = timit['f1'].hist(by=timit['gender'])\n",
    "for i in plots:\n",
    "    i.set_ylabel(\"BPM (Hz)\")"
   ]
  },
  {
   "cell_type": "markdown",
   "metadata": {},
   "source": [
    "### <font color = \"blue\"> QUESTION #3 </font>"
   ]
  },
  {
   "cell_type": "markdown",
   "metadata": {},
   "source": [
    "Does there seem to be a notable difference between male and female distributions of f1? Remember to pay close attention to the y-axis!"
   ]
  },
  {
   "cell_type": "markdown",
   "metadata": {},
   "source": [
    "__Answer:__"
   ]
  },
  {
   "cell_type": "markdown",
   "metadata": {},
   "source": [
    "Running the cells below we can compare the distribution of f0, f2, f2 based on gender using the same plot. Is there a noticebale difference between the two genders?"
   ]
  },
  {
   "cell_type": "code",
   "execution_count": 230,
   "metadata": {},
   "outputs": [
    {
     "ename": "NameError",
     "evalue": "name 'ds' is not defined",
     "output_type": "error",
     "traceback": [
      "\u001b[0;31m---------------------------------------------------------------------------\u001b[0m",
      "\u001b[0;31mNameError\u001b[0m                                 Traceback (most recent call last)",
      "\u001b[0;32m<ipython-input-230-7b1c59baa196>\u001b[0m in \u001b[0;36m<module>\u001b[0;34m()\u001b[0m\n\u001b[0;32m----> 1\u001b[0;31m \u001b[0mtable\u001b[0m \u001b[0;34m=\u001b[0m \u001b[0mds\u001b[0m\u001b[0;34m.\u001b[0m\u001b[0mTable\u001b[0m\u001b[0;34m.\u001b[0m\u001b[0mfrom_df\u001b[0m\u001b[0;34m(\u001b[0m\u001b[0mtimit\u001b[0m\u001b[0;34m)\u001b[0m\u001b[0;34m\u001b[0m\u001b[0m\n\u001b[0m\u001b[1;32m      2\u001b[0m \u001b[0mtable\u001b[0m\u001b[0;34m.\u001b[0m\u001b[0mselect\u001b[0m\u001b[0;34m(\u001b[0m\u001b[0;34m[\u001b[0m\u001b[0;34m'f3'\u001b[0m\u001b[0;34m,\u001b[0m \u001b[0;34m'gender'\u001b[0m\u001b[0;34m]\u001b[0m\u001b[0;34m)\u001b[0m\u001b[0;34m.\u001b[0m\u001b[0mhist\u001b[0m\u001b[0;34m(\u001b[0m\u001b[0mgroup\u001b[0m\u001b[0;34m=\u001b[0m\u001b[0;34m'gender'\u001b[0m\u001b[0;34m,\u001b[0m \u001b[0mbins\u001b[0m\u001b[0;34m=\u001b[0m\u001b[0mrange\u001b[0m\u001b[0;34m(\u001b[0m\u001b[0;36m1300\u001b[0m\u001b[0;34m,\u001b[0m \u001b[0;36m4400\u001b[0m\u001b[0;34m,\u001b[0m \u001b[0;36m100\u001b[0m\u001b[0;34m)\u001b[0m\u001b[0;34m)\u001b[0m\u001b[0;34m\u001b[0m\u001b[0m\n",
      "\u001b[0;31mNameError\u001b[0m: name 'ds' is not defined"
     ]
    }
   ],
   "source": [
    "table = ds.Table.from_df(timit)\n",
    "table.select(['f3', 'gender']).hist(group='gender', bins=range(1300, 4400, 100))"
   ]
  },
  {
   "cell_type": "code",
   "execution_count": 231,
   "metadata": {},
   "outputs": [
    {
     "ename": "NameError",
     "evalue": "name 'table' is not defined",
     "output_type": "error",
     "traceback": [
      "\u001b[0;31m---------------------------------------------------------------------------\u001b[0m",
      "\u001b[0;31mNameError\u001b[0m                                 Traceback (most recent call last)",
      "\u001b[0;32m<ipython-input-231-b97dc50f038d>\u001b[0m in \u001b[0;36m<module>\u001b[0;34m()\u001b[0m\n\u001b[0;32m----> 1\u001b[0;31m \u001b[0mtable\u001b[0m\u001b[0;34m.\u001b[0m\u001b[0mselect\u001b[0m\u001b[0;34m(\u001b[0m\u001b[0;34m[\u001b[0m\u001b[0;34m'f0'\u001b[0m\u001b[0;34m,\u001b[0m \u001b[0;34m'gender'\u001b[0m\u001b[0;34m]\u001b[0m\u001b[0;34m)\u001b[0m\u001b[0;34m.\u001b[0m\u001b[0mhist\u001b[0m\u001b[0;34m(\u001b[0m\u001b[0mgroup\u001b[0m\u001b[0;34m=\u001b[0m\u001b[0;34m'gender'\u001b[0m\u001b[0;34m,\u001b[0m \u001b[0mbins\u001b[0m\u001b[0;34m=\u001b[0m\u001b[0mrange\u001b[0m\u001b[0;34m(\u001b[0m\u001b[0;36m0\u001b[0m\u001b[0;34m,\u001b[0m \u001b[0;36m550\u001b[0m\u001b[0;34m,\u001b[0m \u001b[0;36m10\u001b[0m\u001b[0;34m)\u001b[0m\u001b[0;34m)\u001b[0m\u001b[0;34m\u001b[0m\u001b[0m\n\u001b[0m",
      "\u001b[0;31mNameError\u001b[0m: name 'table' is not defined"
     ]
    }
   ],
   "source": [
    "table.select(['f0', 'gender']).hist(group='gender', bins=range(0, 550, 10))"
   ]
  },
  {
   "cell_type": "code",
   "execution_count": 232,
   "metadata": {},
   "outputs": [
    {
     "ename": "NameError",
     "evalue": "name 'table' is not defined",
     "output_type": "error",
     "traceback": [
      "\u001b[0;31m---------------------------------------------------------------------------\u001b[0m",
      "\u001b[0;31mNameError\u001b[0m                                 Traceback (most recent call last)",
      "\u001b[0;32m<ipython-input-232-9fd862cf4550>\u001b[0m in \u001b[0;36m<module>\u001b[0;34m()\u001b[0m\n\u001b[0;32m----> 1\u001b[0;31m \u001b[0mtable\u001b[0m\u001b[0;34m.\u001b[0m\u001b[0mselect\u001b[0m\u001b[0;34m(\u001b[0m\u001b[0;34m[\u001b[0m\u001b[0;34m'f2'\u001b[0m\u001b[0;34m,\u001b[0m \u001b[0;34m'gender'\u001b[0m\u001b[0;34m]\u001b[0m\u001b[0;34m)\u001b[0m\u001b[0;34m.\u001b[0m\u001b[0mhist\u001b[0m\u001b[0;34m(\u001b[0m\u001b[0mgroup\u001b[0m\u001b[0;34m=\u001b[0m\u001b[0;34m'gender'\u001b[0m\u001b[0;34m,\u001b[0m \u001b[0mbins\u001b[0m\u001b[0;34m=\u001b[0m\u001b[0mrange\u001b[0m\u001b[0;34m(\u001b[0m\u001b[0;36m500\u001b[0m\u001b[0;34m,\u001b[0m \u001b[0;36m3000\u001b[0m\u001b[0;34m,\u001b[0m \u001b[0;36m80\u001b[0m\u001b[0;34m)\u001b[0m\u001b[0;34m)\u001b[0m\u001b[0;34m\u001b[0m\u001b[0m\n\u001b[0m",
      "\u001b[0;31mNameError\u001b[0m: name 'table' is not defined"
     ]
    }
   ],
   "source": [
    "table.select(['f2', 'gender']).hist(group='gender', bins=range(500, 3000, 80))"
   ]
  },
  {
   "cell_type": "markdown",
   "metadata": {},
   "source": [
    "# 2. Clean Your Data"
   ]
  },
  {
   "cell_type": "markdown",
   "metadata": {},
   "source": [
    "## 2.1 Drop Columns"
   ]
  },
  {
   "cell_type": "markdown",
   "metadata": {},
   "source": [
    "Many times we are given datasets with more information than we need. Sometimes the datasets have empty values or columns that can actually make your data messier or harder to interpret. Before jumping into analyzing your data it is important to clean you data. In the cell below, we have dropped 3 columns that we do not need for the analysis."
   ]
  },
  {
   "cell_type": "code",
   "execution_count": 233,
   "metadata": {},
   "outputs": [
    {
     "data": {
      "text/html": [
       "<div>\n",
       "<style>\n",
       "    .dataframe thead tr:only-child th {\n",
       "        text-align: right;\n",
       "    }\n",
       "\n",
       "    .dataframe thead th {\n",
       "        text-align: left;\n",
       "    }\n",
       "\n",
       "    .dataframe tbody tr th {\n",
       "        vertical-align: top;\n",
       "    }\n",
       "</style>\n",
       "<table border=\"1\" class=\"dataframe\">\n",
       "  <thead>\n",
       "    <tr style=\"text-align: right;\">\n",
       "      <th></th>\n",
       "      <th>gender</th>\n",
       "      <th>t</th>\n",
       "      <th>vowel</th>\n",
       "      <th>stress</th>\n",
       "      <th>duration</th>\n",
       "      <th>f1</th>\n",
       "      <th>f2</th>\n",
       "      <th>f3</th>\n",
       "      <th>f0</th>\n",
       "    </tr>\n",
       "  </thead>\n",
       "  <tbody>\n",
       "    <tr>\n",
       "      <th>0</th>\n",
       "      <td>female</td>\n",
       "      <td>0.3225</td>\n",
       "      <td>IY</td>\n",
       "      <td>1</td>\n",
       "      <td>0.08</td>\n",
       "      <td>486.2</td>\n",
       "      <td>2467.9</td>\n",
       "      <td>3185.1</td>\n",
       "      <td>244.9</td>\n",
       "    </tr>\n",
       "    <tr>\n",
       "      <th>1</th>\n",
       "      <td>female</td>\n",
       "      <td>0.5025</td>\n",
       "      <td>AE</td>\n",
       "      <td>1</td>\n",
       "      <td>0.10</td>\n",
       "      <td>595.1</td>\n",
       "      <td>2067.0</td>\n",
       "      <td>2976.7</td>\n",
       "      <td>241.6</td>\n",
       "    </tr>\n",
       "    <tr>\n",
       "      <th>2</th>\n",
       "      <td>female</td>\n",
       "      <td>0.6825</td>\n",
       "      <td>UH</td>\n",
       "      <td>1</td>\n",
       "      <td>0.04</td>\n",
       "      <td>468.7</td>\n",
       "      <td>1956.1</td>\n",
       "      <td>3061.4</td>\n",
       "      <td>201.9</td>\n",
       "    </tr>\n",
       "    <tr>\n",
       "      <th>3</th>\n",
       "      <td>female</td>\n",
       "      <td>0.8525</td>\n",
       "      <td>AA</td>\n",
       "      <td>1</td>\n",
       "      <td>0.10</td>\n",
       "      <td>740.4</td>\n",
       "      <td>1674.1</td>\n",
       "      <td>2767.3</td>\n",
       "      <td>221.5</td>\n",
       "    </tr>\n",
       "    <tr>\n",
       "      <th>4</th>\n",
       "      <td>female</td>\n",
       "      <td>1.1975</td>\n",
       "      <td>UW</td>\n",
       "      <td>1</td>\n",
       "      <td>0.17</td>\n",
       "      <td>464.0</td>\n",
       "      <td>1698.0</td>\n",
       "      <td>2904.9</td>\n",
       "      <td>232.6</td>\n",
       "    </tr>\n",
       "  </tbody>\n",
       "</table>\n",
       "</div>"
      ],
      "text/plain": [
       "   gender       t vowel  stress  duration     f1      f2      f3     f0\n",
       "0  female  0.3225    IY       1      0.08  486.2  2467.9  3185.1  244.9\n",
       "1  female  0.5025    AE       1      0.10  595.1  2067.0  2976.7  241.6\n",
       "2  female  0.6825    UH       1      0.04  468.7  1956.1  3061.4  201.9\n",
       "3  female  0.8525    AA       1      0.10  740.4  1674.1  2767.3  221.5\n",
       "4  female  1.1975    UW       1      0.17  464.0  1698.0  2904.9  232.6"
      ]
     },
     "execution_count": 233,
     "metadata": {},
     "output_type": "execute_result"
    }
   ],
   "source": [
    "#RUN THIS CELL\n",
    "timit.drop([\"speaker\", \"file\", \"word\"], axis = 1, inplace = True)\n",
    "timit.head()"
   ]
  },
  {
   "cell_type": "markdown",
   "metadata": {},
   "source": [
    "### <font color = \"blue\"> EXERCISE #1 </font>"
   ]
  },
  {
   "cell_type": "markdown",
   "metadata": {},
   "source": [
    "For this exercise you are going to drop two more columns we are not going to use for this specific exercise. For this analysis we are focusing on F1 and F2, which means we do not need <b>F0</b> and <b>F3</b>. For your first excercise drop the two columns we do not need in the cell below. If your columns were dropped successfully then you should no longer see them when you run the cell below.\n",
    "\n",
    "<b>HINT:</b> Replace what is inbetween the square brackets with the names of the columns you want to drop."
   ]
  },
  {
   "cell_type": "code",
   "execution_count": 234,
   "metadata": {},
   "outputs": [
    {
     "ename": "ValueError",
     "evalue": "labels ['NAME_OF_COLUMN1' 'NAME_OF_COLUMN2'] not contained in axis",
     "output_type": "error",
     "traceback": [
      "\u001b[0;31m---------------------------------------------------------------------------\u001b[0m",
      "\u001b[0;31mValueError\u001b[0m                                Traceback (most recent call last)",
      "\u001b[0;32m<ipython-input-234-7dc91344e880>\u001b[0m in \u001b[0;36m<module>\u001b[0;34m()\u001b[0m\n\u001b[1;32m      1\u001b[0m \u001b[0;31m#RUN THIS CELL\u001b[0m\u001b[0;34m\u001b[0m\u001b[0;34m\u001b[0m\u001b[0m\n\u001b[1;32m      2\u001b[0m \u001b[0;34m\u001b[0m\u001b[0m\n\u001b[0;32m----> 3\u001b[0;31m \u001b[0mtimit\u001b[0m\u001b[0;34m.\u001b[0m\u001b[0mdrop\u001b[0m\u001b[0;34m(\u001b[0m\u001b[0;34m[\u001b[0m\u001b[0;34m\"NAME_OF_COLUMN1\"\u001b[0m\u001b[0;34m,\u001b[0m \u001b[0;34m\"NAME_OF_COLUMN2\"\u001b[0m\u001b[0;34m]\u001b[0m\u001b[0;34m,\u001b[0m \u001b[0maxis\u001b[0m \u001b[0;34m=\u001b[0m \u001b[0;36m1\u001b[0m\u001b[0;34m,\u001b[0m \u001b[0minplace\u001b[0m \u001b[0;34m=\u001b[0m \u001b[0;32mTrue\u001b[0m\u001b[0;34m)\u001b[0m\u001b[0;34m\u001b[0m\u001b[0m\n\u001b[0m\u001b[1;32m      4\u001b[0m \u001b[0mtimit\u001b[0m\u001b[0;34m.\u001b[0m\u001b[0mhead\u001b[0m\u001b[0;34m(\u001b[0m\u001b[0;34m)\u001b[0m\u001b[0;34m\u001b[0m\u001b[0m\n",
      "\u001b[0;32m/Users/angelicarojas/anaconda3/lib/python3.6/site-packages/pandas/core/generic.py\u001b[0m in \u001b[0;36mdrop\u001b[0;34m(self, labels, axis, level, inplace, errors)\u001b[0m\n\u001b[1;32m   2048\u001b[0m                 \u001b[0mnew_axis\u001b[0m \u001b[0;34m=\u001b[0m \u001b[0maxis\u001b[0m\u001b[0;34m.\u001b[0m\u001b[0mdrop\u001b[0m\u001b[0;34m(\u001b[0m\u001b[0mlabels\u001b[0m\u001b[0;34m,\u001b[0m \u001b[0mlevel\u001b[0m\u001b[0;34m=\u001b[0m\u001b[0mlevel\u001b[0m\u001b[0;34m,\u001b[0m \u001b[0merrors\u001b[0m\u001b[0;34m=\u001b[0m\u001b[0merrors\u001b[0m\u001b[0;34m)\u001b[0m\u001b[0;34m\u001b[0m\u001b[0m\n\u001b[1;32m   2049\u001b[0m             \u001b[0;32melse\u001b[0m\u001b[0;34m:\u001b[0m\u001b[0;34m\u001b[0m\u001b[0m\n\u001b[0;32m-> 2050\u001b[0;31m                 \u001b[0mnew_axis\u001b[0m \u001b[0;34m=\u001b[0m \u001b[0maxis\u001b[0m\u001b[0;34m.\u001b[0m\u001b[0mdrop\u001b[0m\u001b[0;34m(\u001b[0m\u001b[0mlabels\u001b[0m\u001b[0;34m,\u001b[0m \u001b[0merrors\u001b[0m\u001b[0;34m=\u001b[0m\u001b[0merrors\u001b[0m\u001b[0;34m)\u001b[0m\u001b[0;34m\u001b[0m\u001b[0m\n\u001b[0m\u001b[1;32m   2051\u001b[0m             \u001b[0mdropped\u001b[0m \u001b[0;34m=\u001b[0m \u001b[0mself\u001b[0m\u001b[0;34m.\u001b[0m\u001b[0mreindex\u001b[0m\u001b[0;34m(\u001b[0m\u001b[0;34m**\u001b[0m\u001b[0;34m{\u001b[0m\u001b[0maxis_name\u001b[0m\u001b[0;34m:\u001b[0m \u001b[0mnew_axis\u001b[0m\u001b[0;34m}\u001b[0m\u001b[0;34m)\u001b[0m\u001b[0;34m\u001b[0m\u001b[0m\n\u001b[1;32m   2052\u001b[0m             \u001b[0;32mtry\u001b[0m\u001b[0;34m:\u001b[0m\u001b[0;34m\u001b[0m\u001b[0m\n",
      "\u001b[0;32m/Users/angelicarojas/anaconda3/lib/python3.6/site-packages/pandas/core/indexes/base.py\u001b[0m in \u001b[0;36mdrop\u001b[0;34m(self, labels, errors)\u001b[0m\n\u001b[1;32m   3573\u001b[0m             \u001b[0;32mif\u001b[0m \u001b[0merrors\u001b[0m \u001b[0;34m!=\u001b[0m \u001b[0;34m'ignore'\u001b[0m\u001b[0;34m:\u001b[0m\u001b[0;34m\u001b[0m\u001b[0m\n\u001b[1;32m   3574\u001b[0m                 raise ValueError('labels %s not contained in axis' %\n\u001b[0;32m-> 3575\u001b[0;31m                                  labels[mask])\n\u001b[0m\u001b[1;32m   3576\u001b[0m             \u001b[0mindexer\u001b[0m \u001b[0;34m=\u001b[0m \u001b[0mindexer\u001b[0m\u001b[0;34m[\u001b[0m\u001b[0;34m~\u001b[0m\u001b[0mmask\u001b[0m\u001b[0;34m]\u001b[0m\u001b[0;34m\u001b[0m\u001b[0m\n\u001b[1;32m   3577\u001b[0m         \u001b[0;32mreturn\u001b[0m \u001b[0mself\u001b[0m\u001b[0;34m.\u001b[0m\u001b[0mdelete\u001b[0m\u001b[0;34m(\u001b[0m\u001b[0mindexer\u001b[0m\u001b[0;34m)\u001b[0m\u001b[0;34m\u001b[0m\u001b[0m\n",
      "\u001b[0;31mValueError\u001b[0m: labels ['NAME_OF_COLUMN1' 'NAME_OF_COLUMN2'] not contained in axis"
     ]
    }
   ],
   "source": [
    "#RUN THIS CELL\n",
    "\n",
    "timit.drop([\"NAME_OF_COLUMN1\", \"NAME_OF_COLUMN2\"], axis = 1, inplace = True)\n",
    "timit.head()"
   ]
  },
  {
   "cell_type": "markdown",
   "metadata": {},
   "source": [
    "## 2.2 Add Columns"
   ]
  },
  {
   "cell_type": "markdown",
   "metadata": {},
   "source": [
    "### a. Transforming Variables"
   ]
  },
  {
   "cell_type": "markdown",
   "metadata": {},
   "source": [
    "We need to convert our ARPABET symbols into the IPA conventions. The code below transforms the vowels to IPA and then adds a new column to the end of the dataframe."
   ]
  },
  {
   "cell_type": "code",
   "execution_count": 235,
   "metadata": {},
   "outputs": [
    {
     "data": {
      "text/html": [
       "<div>\n",
       "<style>\n",
       "    .dataframe thead tr:only-child th {\n",
       "        text-align: right;\n",
       "    }\n",
       "\n",
       "    .dataframe thead th {\n",
       "        text-align: left;\n",
       "    }\n",
       "\n",
       "    .dataframe tbody tr th {\n",
       "        vertical-align: top;\n",
       "    }\n",
       "</style>\n",
       "<table border=\"1\" class=\"dataframe\">\n",
       "  <thead>\n",
       "    <tr style=\"text-align: right;\">\n",
       "      <th></th>\n",
       "      <th>gender</th>\n",
       "      <th>t</th>\n",
       "      <th>vowel</th>\n",
       "      <th>stress</th>\n",
       "      <th>duration</th>\n",
       "      <th>f1</th>\n",
       "      <th>f2</th>\n",
       "      <th>f3</th>\n",
       "      <th>f0</th>\n",
       "      <th>IPA</th>\n",
       "    </tr>\n",
       "  </thead>\n",
       "  <tbody>\n",
       "    <tr>\n",
       "      <th>0</th>\n",
       "      <td>female</td>\n",
       "      <td>0.3225</td>\n",
       "      <td>IY</td>\n",
       "      <td>1</td>\n",
       "      <td>0.08</td>\n",
       "      <td>486.2</td>\n",
       "      <td>2467.9</td>\n",
       "      <td>3185.1</td>\n",
       "      <td>244.9</td>\n",
       "      <td>i</td>\n",
       "    </tr>\n",
       "    <tr>\n",
       "      <th>1</th>\n",
       "      <td>female</td>\n",
       "      <td>0.5025</td>\n",
       "      <td>AE</td>\n",
       "      <td>1</td>\n",
       "      <td>0.10</td>\n",
       "      <td>595.1</td>\n",
       "      <td>2067.0</td>\n",
       "      <td>2976.7</td>\n",
       "      <td>241.6</td>\n",
       "      <td>æ</td>\n",
       "    </tr>\n",
       "    <tr>\n",
       "      <th>2</th>\n",
       "      <td>female</td>\n",
       "      <td>0.6825</td>\n",
       "      <td>UH</td>\n",
       "      <td>1</td>\n",
       "      <td>0.04</td>\n",
       "      <td>468.7</td>\n",
       "      <td>1956.1</td>\n",
       "      <td>3061.4</td>\n",
       "      <td>201.9</td>\n",
       "      <td>ʊ</td>\n",
       "    </tr>\n",
       "    <tr>\n",
       "      <th>3</th>\n",
       "      <td>female</td>\n",
       "      <td>0.8525</td>\n",
       "      <td>AA</td>\n",
       "      <td>1</td>\n",
       "      <td>0.10</td>\n",
       "      <td>740.4</td>\n",
       "      <td>1674.1</td>\n",
       "      <td>2767.3</td>\n",
       "      <td>221.5</td>\n",
       "      <td>ɑ</td>\n",
       "    </tr>\n",
       "    <tr>\n",
       "      <th>4</th>\n",
       "      <td>female</td>\n",
       "      <td>1.1975</td>\n",
       "      <td>UW</td>\n",
       "      <td>1</td>\n",
       "      <td>0.17</td>\n",
       "      <td>464.0</td>\n",
       "      <td>1698.0</td>\n",
       "      <td>2904.9</td>\n",
       "      <td>232.6</td>\n",
       "      <td>u</td>\n",
       "    </tr>\n",
       "  </tbody>\n",
       "</table>\n",
       "</div>"
      ],
      "text/plain": [
       "   gender       t vowel  stress  duration     f1      f2      f3     f0 IPA\n",
       "0  female  0.3225    IY       1      0.08  486.2  2467.9  3185.1  244.9   i\n",
       "1  female  0.5025    AE       1      0.10  595.1  2067.0  2976.7  241.6   æ\n",
       "2  female  0.6825    UH       1      0.04  468.7  1956.1  3061.4  201.9   ʊ\n",
       "3  female  0.8525    AA       1      0.10  740.4  1674.1  2767.3  221.5   ɑ\n",
       "4  female  1.1975    UW       1      0.17  464.0  1698.0  2904.9  232.6   u"
      ]
     },
     "execution_count": 235,
     "metadata": {},
     "output_type": "execute_result"
    }
   ],
   "source": [
    "timit['IPA'] = timit.vowel.map({\"AO\" : \"ɔ\", \"AA\" : \"ɑ\", \"IY\" : \"i\", \"UW\" : \"u\", \"EH\" : \"ɛ\", \"IH\" : \"ɪ\", \"UH\":\"ʊ\", \"AH\": \"ʌ\", \"AX\" : \"ə\", \"AE\":\"æ\", \"EY\" :\"eɪ\", \"AY\": \"aɪ\", \"OW\":\"oʊ\", \"AW\":\"aʊ\", \"OY\" :\"ɔɪ\", \"ER\":\"ɝ\"})\n",
    "timit.head()"
   ]
  },
  {
   "cell_type": "markdown",
   "metadata": {},
   "source": [
    "## 2.3 Splitting/Subsetting the Data"
   ]
  },
  {
   "cell_type": "markdown",
   "metadata": {},
   "source": [
    "There are many different ways to split your data to better analyze it in a more organized manner. Below we've provided several ways in which you can split your data -- such as gender and vowels. When it comes to analyzing your own data you can do this based on what you think would be the most effective."
   ]
  },
  {
   "cell_type": "markdown",
   "metadata": {},
   "source": [
    "### a. By Gender"
   ]
  },
  {
   "cell_type": "markdown",
   "metadata": {},
   "source": [
    "Using the same dataframe we created above, `timit`, we are going to subset another dataframe. The first split will be by gender. To acknowledge all the types of genders listed under the gender column you can use the function provided below. If you run the cell below you could see that for this specific dataset there are only \"female\" and \"male\" unique values under gender. Given that information, you can create two subsets dataframes based off of gender. "
   ]
  },
  {
   "cell_type": "code",
   "execution_count": 145,
   "metadata": {},
   "outputs": [
    {
     "data": {
      "text/plain": [
       "array(['female', 'male'], dtype=object)"
      ]
     },
     "execution_count": 145,
     "metadata": {},
     "output_type": "execute_result"
    }
   ],
   "source": [
    "#RUN THIS CELL \n",
    "timit.gender.unique()"
   ]
  },
  {
   "cell_type": "markdown",
   "metadata": {},
   "source": [
    "The first subset dataframe you create will be called <b>fem_data</b> and that includes all the data for those that identify as \"female\". You will create another subset dataframe, but this one will be called <b>male_data</b>. This includes all the data for those who identify as \"male\". Creating these subset dataframes does not affect the original <i>timit</i> dataframe."
   ]
  },
  {
   "cell_type": "code",
   "execution_count": 146,
   "metadata": {},
   "outputs": [
    {
     "data": {
      "text/html": [
       "<div>\n",
       "<style>\n",
       "    .dataframe thead tr:only-child th {\n",
       "        text-align: right;\n",
       "    }\n",
       "\n",
       "    .dataframe thead th {\n",
       "        text-align: left;\n",
       "    }\n",
       "\n",
       "    .dataframe tbody tr th {\n",
       "        vertical-align: top;\n",
       "    }\n",
       "</style>\n",
       "<table border=\"1\" class=\"dataframe\">\n",
       "  <thead>\n",
       "    <tr style=\"text-align: right;\">\n",
       "      <th></th>\n",
       "      <th>gender</th>\n",
       "      <th>t</th>\n",
       "      <th>vowel</th>\n",
       "      <th>stress</th>\n",
       "      <th>duration</th>\n",
       "      <th>f1</th>\n",
       "      <th>f2</th>\n",
       "      <th>f3</th>\n",
       "      <th>f0</th>\n",
       "      <th>IPA</th>\n",
       "    </tr>\n",
       "  </thead>\n",
       "  <tbody>\n",
       "    <tr>\n",
       "      <th>0</th>\n",
       "      <td>female</td>\n",
       "      <td>0.3225</td>\n",
       "      <td>IY</td>\n",
       "      <td>1</td>\n",
       "      <td>0.08</td>\n",
       "      <td>486.2</td>\n",
       "      <td>2467.9</td>\n",
       "      <td>3185.1</td>\n",
       "      <td>244.9</td>\n",
       "      <td>i</td>\n",
       "    </tr>\n",
       "    <tr>\n",
       "      <th>1</th>\n",
       "      <td>female</td>\n",
       "      <td>0.5025</td>\n",
       "      <td>AE</td>\n",
       "      <td>1</td>\n",
       "      <td>0.10</td>\n",
       "      <td>595.1</td>\n",
       "      <td>2067.0</td>\n",
       "      <td>2976.7</td>\n",
       "      <td>241.6</td>\n",
       "      <td>æ</td>\n",
       "    </tr>\n",
       "    <tr>\n",
       "      <th>2</th>\n",
       "      <td>female</td>\n",
       "      <td>0.6825</td>\n",
       "      <td>UH</td>\n",
       "      <td>1</td>\n",
       "      <td>0.04</td>\n",
       "      <td>468.7</td>\n",
       "      <td>1956.1</td>\n",
       "      <td>3061.4</td>\n",
       "      <td>201.9</td>\n",
       "      <td>ʊ</td>\n",
       "    </tr>\n",
       "    <tr>\n",
       "      <th>3</th>\n",
       "      <td>female</td>\n",
       "      <td>0.8525</td>\n",
       "      <td>AA</td>\n",
       "      <td>1</td>\n",
       "      <td>0.10</td>\n",
       "      <td>740.4</td>\n",
       "      <td>1674.1</td>\n",
       "      <td>2767.3</td>\n",
       "      <td>221.5</td>\n",
       "      <td>ɑ</td>\n",
       "    </tr>\n",
       "    <tr>\n",
       "      <th>4</th>\n",
       "      <td>female</td>\n",
       "      <td>1.1975</td>\n",
       "      <td>UW</td>\n",
       "      <td>1</td>\n",
       "      <td>0.17</td>\n",
       "      <td>464.0</td>\n",
       "      <td>1698.0</td>\n",
       "      <td>2904.9</td>\n",
       "      <td>232.6</td>\n",
       "      <td>u</td>\n",
       "    </tr>\n",
       "  </tbody>\n",
       "</table>\n",
       "</div>"
      ],
      "text/plain": [
       "   gender       t vowel  stress  duration     f1      f2      f3     f0 IPA\n",
       "0  female  0.3225    IY       1      0.08  486.2  2467.9  3185.1  244.9   i\n",
       "1  female  0.5025    AE       1      0.10  595.1  2067.0  2976.7  241.6   æ\n",
       "2  female  0.6825    UH       1      0.04  468.7  1956.1  3061.4  201.9   ʊ\n",
       "3  female  0.8525    AA       1      0.10  740.4  1674.1  2767.3  221.5   ɑ\n",
       "4  female  1.1975    UW       1      0.17  464.0  1698.0  2904.9  232.6   u"
      ]
     },
     "execution_count": 146,
     "metadata": {},
     "output_type": "execute_result"
    }
   ],
   "source": [
    "fem_data = timit[timit.gender == \"female\"]\n",
    "fem_data.head()"
   ]
  },
  {
   "cell_type": "code",
   "execution_count": 147,
   "metadata": {},
   "outputs": [
    {
     "data": {
      "text/html": [
       "<div>\n",
       "<style>\n",
       "    .dataframe thead tr:only-child th {\n",
       "        text-align: right;\n",
       "    }\n",
       "\n",
       "    .dataframe thead th {\n",
       "        text-align: left;\n",
       "    }\n",
       "\n",
       "    .dataframe tbody tr th {\n",
       "        vertical-align: top;\n",
       "    }\n",
       "</style>\n",
       "<table border=\"1\" class=\"dataframe\">\n",
       "  <thead>\n",
       "    <tr style=\"text-align: right;\">\n",
       "      <th></th>\n",
       "      <th>gender</th>\n",
       "      <th>t</th>\n",
       "      <th>vowel</th>\n",
       "      <th>stress</th>\n",
       "      <th>duration</th>\n",
       "      <th>f1</th>\n",
       "      <th>f2</th>\n",
       "      <th>f3</th>\n",
       "      <th>f0</th>\n",
       "      <th>IPA</th>\n",
       "    </tr>\n",
       "  </thead>\n",
       "  <tbody>\n",
       "    <tr>\n",
       "      <th>1761</th>\n",
       "      <td>male</td>\n",
       "      <td>0.2775</td>\n",
       "      <td>IY</td>\n",
       "      <td>1</td>\n",
       "      <td>0.07</td>\n",
       "      <td>473.1</td>\n",
       "      <td>2134.7</td>\n",
       "      <td>2778.2</td>\n",
       "      <td>75.2</td>\n",
       "      <td>i</td>\n",
       "    </tr>\n",
       "    <tr>\n",
       "      <th>1762</th>\n",
       "      <td>male</td>\n",
       "      <td>0.4225</td>\n",
       "      <td>AE</td>\n",
       "      <td>1</td>\n",
       "      <td>0.08</td>\n",
       "      <td>453.0</td>\n",
       "      <td>1959.1</td>\n",
       "      <td>2613.8</td>\n",
       "      <td>158.8</td>\n",
       "      <td>æ</td>\n",
       "    </tr>\n",
       "    <tr>\n",
       "      <th>1763</th>\n",
       "      <td>male</td>\n",
       "      <td>0.5575</td>\n",
       "      <td>UH</td>\n",
       "      <td>1</td>\n",
       "      <td>0.03</td>\n",
       "      <td>356.3</td>\n",
       "      <td>1890.3</td>\n",
       "      <td>2723.1</td>\n",
       "      <td>164.4</td>\n",
       "      <td>ʊ</td>\n",
       "    </tr>\n",
       "    <tr>\n",
       "      <th>1764</th>\n",
       "      <td>male</td>\n",
       "      <td>0.7025</td>\n",
       "      <td>AA</td>\n",
       "      <td>1</td>\n",
       "      <td>0.10</td>\n",
       "      <td>684.3</td>\n",
       "      <td>1291.6</td>\n",
       "      <td>2288.3</td>\n",
       "      <td>70.9</td>\n",
       "      <td>ɑ</td>\n",
       "    </tr>\n",
       "    <tr>\n",
       "      <th>1765</th>\n",
       "      <td>male</td>\n",
       "      <td>1.1925</td>\n",
       "      <td>UW</td>\n",
       "      <td>1</td>\n",
       "      <td>0.18</td>\n",
       "      <td>418.7</td>\n",
       "      <td>1329.3</td>\n",
       "      <td>2439.9</td>\n",
       "      <td>140.7</td>\n",
       "      <td>u</td>\n",
       "    </tr>\n",
       "  </tbody>\n",
       "</table>\n",
       "</div>"
      ],
      "text/plain": [
       "     gender       t vowel  stress  duration     f1      f2      f3     f0 IPA\n",
       "1761   male  0.2775    IY       1      0.07  473.1  2134.7  2778.2   75.2   i\n",
       "1762   male  0.4225    AE       1      0.08  453.0  1959.1  2613.8  158.8   æ\n",
       "1763   male  0.5575    UH       1      0.03  356.3  1890.3  2723.1  164.4   ʊ\n",
       "1764   male  0.7025    AA       1      0.10  684.3  1291.6  2288.3   70.9   ɑ\n",
       "1765   male  1.1925    UW       1      0.18  418.7  1329.3  2439.9  140.7   u"
      ]
     },
     "execution_count": 147,
     "metadata": {},
     "output_type": "execute_result"
    }
   ],
   "source": [
    "male_data = timit[timit.gender == \"male\"]\n",
    "male_data.head()"
   ]
  },
  {
   "cell_type": "markdown",
   "metadata": {},
   "source": [
    "### b. By Vowels"
   ]
  },
  {
   "cell_type": "markdown",
   "metadata": {},
   "source": [
    "You could pick specific vowels to create a subset for using the <i>timit</i> dataframe. For the example provided below, we used the \"aʊ\" vowel, but you could subset on a vowel of your choice."
   ]
  },
  {
   "cell_type": "code",
   "execution_count": 148,
   "metadata": {},
   "outputs": [
    {
     "data": {
      "text/html": [
       "<div>\n",
       "<style>\n",
       "    .dataframe thead tr:only-child th {\n",
       "        text-align: right;\n",
       "    }\n",
       "\n",
       "    .dataframe thead th {\n",
       "        text-align: left;\n",
       "    }\n",
       "\n",
       "    .dataframe tbody tr th {\n",
       "        vertical-align: top;\n",
       "    }\n",
       "</style>\n",
       "<table border=\"1\" class=\"dataframe\">\n",
       "  <thead>\n",
       "    <tr style=\"text-align: right;\">\n",
       "      <th></th>\n",
       "      <th>gender</th>\n",
       "      <th>t</th>\n",
       "      <th>vowel</th>\n",
       "      <th>stress</th>\n",
       "      <th>duration</th>\n",
       "      <th>f1</th>\n",
       "      <th>f2</th>\n",
       "      <th>f3</th>\n",
       "      <th>f0</th>\n",
       "      <th>IPA</th>\n",
       "    </tr>\n",
       "  </thead>\n",
       "  <tbody>\n",
       "    <tr>\n",
       "      <th>81</th>\n",
       "      <td>female</td>\n",
       "      <td>0.2775</td>\n",
       "      <td>AW</td>\n",
       "      <td>1</td>\n",
       "      <td>0.07</td>\n",
       "      <td>710.2</td>\n",
       "      <td>1322.1</td>\n",
       "      <td>2672.0</td>\n",
       "      <td>248.5</td>\n",
       "      <td>aʊ</td>\n",
       "    </tr>\n",
       "    <tr>\n",
       "      <th>93</th>\n",
       "      <td>female</td>\n",
       "      <td>0.7775</td>\n",
       "      <td>AW</td>\n",
       "      <td>1</td>\n",
       "      <td>0.15</td>\n",
       "      <td>781.2</td>\n",
       "      <td>1340.9</td>\n",
       "      <td>2884.3</td>\n",
       "      <td>197.0</td>\n",
       "      <td>aʊ</td>\n",
       "    </tr>\n",
       "    <tr>\n",
       "      <th>229</th>\n",
       "      <td>female</td>\n",
       "      <td>0.8275</td>\n",
       "      <td>AW</td>\n",
       "      <td>1</td>\n",
       "      <td>0.17</td>\n",
       "      <td>772.8</td>\n",
       "      <td>1412.4</td>\n",
       "      <td>2467.0</td>\n",
       "      <td>209.8</td>\n",
       "      <td>aʊ</td>\n",
       "    </tr>\n",
       "    <tr>\n",
       "      <th>231</th>\n",
       "      <td>female</td>\n",
       "      <td>1.0675</td>\n",
       "      <td>AW</td>\n",
       "      <td>1</td>\n",
       "      <td>0.19</td>\n",
       "      <td>847.9</td>\n",
       "      <td>1530.6</td>\n",
       "      <td>2543.6</td>\n",
       "      <td>196.0</td>\n",
       "      <td>aʊ</td>\n",
       "    </tr>\n",
       "    <tr>\n",
       "      <th>304</th>\n",
       "      <td>female</td>\n",
       "      <td>2.1325</td>\n",
       "      <td>AW</td>\n",
       "      <td>1</td>\n",
       "      <td>0.16</td>\n",
       "      <td>726.8</td>\n",
       "      <td>1469.4</td>\n",
       "      <td>2456.5</td>\n",
       "      <td>185.0</td>\n",
       "      <td>aʊ</td>\n",
       "    </tr>\n",
       "  </tbody>\n",
       "</table>\n",
       "</div>"
      ],
      "text/plain": [
       "     gender       t vowel  stress  duration     f1      f2      f3     f0 IPA\n",
       "81   female  0.2775    AW       1      0.07  710.2  1322.1  2672.0  248.5  aʊ\n",
       "93   female  0.7775    AW       1      0.15  781.2  1340.9  2884.3  197.0  aʊ\n",
       "229  female  0.8275    AW       1      0.17  772.8  1412.4  2467.0  209.8  aʊ\n",
       "231  female  1.0675    AW       1      0.19  847.9  1530.6  2543.6  196.0  aʊ\n",
       "304  female  2.1325    AW       1      0.16  726.8  1469.4  2456.5  185.0  aʊ"
      ]
     },
     "execution_count": 148,
     "metadata": {},
     "output_type": "execute_result"
    }
   ],
   "source": [
    "aw = timit[timit.IPA == \"aʊ\"]\n",
    "aw.head()"
   ]
  },
  {
   "cell_type": "markdown",
   "metadata": {},
   "source": [
    "You could also subset the <b>fem_data</b> and <b>male_data</b> dataframes you created and subset again on specific vowels. For the examples provided below, we also used the \"aʊ\" IPA vowel to subset."
   ]
  },
  {
   "cell_type": "code",
   "execution_count": 149,
   "metadata": {},
   "outputs": [
    {
     "data": {
      "text/html": [
       "<div>\n",
       "<style>\n",
       "    .dataframe thead tr:only-child th {\n",
       "        text-align: right;\n",
       "    }\n",
       "\n",
       "    .dataframe thead th {\n",
       "        text-align: left;\n",
       "    }\n",
       "\n",
       "    .dataframe tbody tr th {\n",
       "        vertical-align: top;\n",
       "    }\n",
       "</style>\n",
       "<table border=\"1\" class=\"dataframe\">\n",
       "  <thead>\n",
       "    <tr style=\"text-align: right;\">\n",
       "      <th></th>\n",
       "      <th>gender</th>\n",
       "      <th>t</th>\n",
       "      <th>vowel</th>\n",
       "      <th>stress</th>\n",
       "      <th>duration</th>\n",
       "      <th>f1</th>\n",
       "      <th>f2</th>\n",
       "      <th>f3</th>\n",
       "      <th>f0</th>\n",
       "      <th>IPA</th>\n",
       "    </tr>\n",
       "  </thead>\n",
       "  <tbody>\n",
       "    <tr>\n",
       "      <th>81</th>\n",
       "      <td>female</td>\n",
       "      <td>0.2775</td>\n",
       "      <td>AW</td>\n",
       "      <td>1</td>\n",
       "      <td>0.07</td>\n",
       "      <td>710.2</td>\n",
       "      <td>1322.1</td>\n",
       "      <td>2672.0</td>\n",
       "      <td>248.5</td>\n",
       "      <td>aʊ</td>\n",
       "    </tr>\n",
       "    <tr>\n",
       "      <th>93</th>\n",
       "      <td>female</td>\n",
       "      <td>0.7775</td>\n",
       "      <td>AW</td>\n",
       "      <td>1</td>\n",
       "      <td>0.15</td>\n",
       "      <td>781.2</td>\n",
       "      <td>1340.9</td>\n",
       "      <td>2884.3</td>\n",
       "      <td>197.0</td>\n",
       "      <td>aʊ</td>\n",
       "    </tr>\n",
       "    <tr>\n",
       "      <th>229</th>\n",
       "      <td>female</td>\n",
       "      <td>0.8275</td>\n",
       "      <td>AW</td>\n",
       "      <td>1</td>\n",
       "      <td>0.17</td>\n",
       "      <td>772.8</td>\n",
       "      <td>1412.4</td>\n",
       "      <td>2467.0</td>\n",
       "      <td>209.8</td>\n",
       "      <td>aʊ</td>\n",
       "    </tr>\n",
       "    <tr>\n",
       "      <th>231</th>\n",
       "      <td>female</td>\n",
       "      <td>1.0675</td>\n",
       "      <td>AW</td>\n",
       "      <td>1</td>\n",
       "      <td>0.19</td>\n",
       "      <td>847.9</td>\n",
       "      <td>1530.6</td>\n",
       "      <td>2543.6</td>\n",
       "      <td>196.0</td>\n",
       "      <td>aʊ</td>\n",
       "    </tr>\n",
       "    <tr>\n",
       "      <th>304</th>\n",
       "      <td>female</td>\n",
       "      <td>2.1325</td>\n",
       "      <td>AW</td>\n",
       "      <td>1</td>\n",
       "      <td>0.16</td>\n",
       "      <td>726.8</td>\n",
       "      <td>1469.4</td>\n",
       "      <td>2456.5</td>\n",
       "      <td>185.0</td>\n",
       "      <td>aʊ</td>\n",
       "    </tr>\n",
       "  </tbody>\n",
       "</table>\n",
       "</div>"
      ],
      "text/plain": [
       "     gender       t vowel  stress  duration     f1      f2      f3     f0 IPA\n",
       "81   female  0.2775    AW       1      0.07  710.2  1322.1  2672.0  248.5  aʊ\n",
       "93   female  0.7775    AW       1      0.15  781.2  1340.9  2884.3  197.0  aʊ\n",
       "229  female  0.8275    AW       1      0.17  772.8  1412.4  2467.0  209.8  aʊ\n",
       "231  female  1.0675    AW       1      0.19  847.9  1530.6  2543.6  196.0  aʊ\n",
       "304  female  2.1325    AW       1      0.16  726.8  1469.4  2456.5  185.0  aʊ"
      ]
     },
     "execution_count": 149,
     "metadata": {},
     "output_type": "execute_result"
    }
   ],
   "source": [
    "aw_fem = fem_data[fem_data.IPA == \"aʊ\"]\n",
    "aw_fem.head()"
   ]
  },
  {
   "cell_type": "code",
   "execution_count": 150,
   "metadata": {},
   "outputs": [
    {
     "data": {
      "text/html": [
       "<div>\n",
       "<style>\n",
       "    .dataframe thead tr:only-child th {\n",
       "        text-align: right;\n",
       "    }\n",
       "\n",
       "    .dataframe thead th {\n",
       "        text-align: left;\n",
       "    }\n",
       "\n",
       "    .dataframe tbody tr th {\n",
       "        vertical-align: top;\n",
       "    }\n",
       "</style>\n",
       "<table border=\"1\" class=\"dataframe\">\n",
       "  <thead>\n",
       "    <tr style=\"text-align: right;\">\n",
       "      <th></th>\n",
       "      <th>gender</th>\n",
       "      <th>t</th>\n",
       "      <th>vowel</th>\n",
       "      <th>stress</th>\n",
       "      <th>duration</th>\n",
       "      <th>f1</th>\n",
       "      <th>f2</th>\n",
       "      <th>f3</th>\n",
       "      <th>f0</th>\n",
       "      <th>IPA</th>\n",
       "    </tr>\n",
       "  </thead>\n",
       "  <tbody>\n",
       "    <tr>\n",
       "      <th>1825</th>\n",
       "      <td>male</td>\n",
       "      <td>1.6925</td>\n",
       "      <td>AW</td>\n",
       "      <td>1</td>\n",
       "      <td>0.14</td>\n",
       "      <td>669.3</td>\n",
       "      <td>1223.7</td>\n",
       "      <td>2896.8</td>\n",
       "      <td>133.1</td>\n",
       "      <td>aʊ</td>\n",
       "    </tr>\n",
       "    <tr>\n",
       "      <th>1967</th>\n",
       "      <td>male</td>\n",
       "      <td>1.0575</td>\n",
       "      <td>AW</td>\n",
       "      <td>1</td>\n",
       "      <td>0.11</td>\n",
       "      <td>684.4</td>\n",
       "      <td>1270.4</td>\n",
       "      <td>2443.1</td>\n",
       "      <td>106.1</td>\n",
       "      <td>aʊ</td>\n",
       "    </tr>\n",
       "    <tr>\n",
       "      <th>1971</th>\n",
       "      <td>male</td>\n",
       "      <td>1.7425</td>\n",
       "      <td>AW</td>\n",
       "      <td>1</td>\n",
       "      <td>0.14</td>\n",
       "      <td>624.3</td>\n",
       "      <td>1158.4</td>\n",
       "      <td>2374.1</td>\n",
       "      <td>96.7</td>\n",
       "      <td>aʊ</td>\n",
       "    </tr>\n",
       "    <tr>\n",
       "      <th>2296</th>\n",
       "      <td>male</td>\n",
       "      <td>1.7075</td>\n",
       "      <td>AW</td>\n",
       "      <td>1</td>\n",
       "      <td>0.11</td>\n",
       "      <td>547.0</td>\n",
       "      <td>1103.4</td>\n",
       "      <td>2234.7</td>\n",
       "      <td>123.7</td>\n",
       "      <td>aʊ</td>\n",
       "    </tr>\n",
       "    <tr>\n",
       "      <th>2388</th>\n",
       "      <td>male</td>\n",
       "      <td>0.3925</td>\n",
       "      <td>AW</td>\n",
       "      <td>1</td>\n",
       "      <td>0.04</td>\n",
       "      <td>520.4</td>\n",
       "      <td>1016.2</td>\n",
       "      <td>2630.9</td>\n",
       "      <td>175.8</td>\n",
       "      <td>aʊ</td>\n",
       "    </tr>\n",
       "  </tbody>\n",
       "</table>\n",
       "</div>"
      ],
      "text/plain": [
       "     gender       t vowel  stress  duration     f1      f2      f3     f0 IPA\n",
       "1825   male  1.6925    AW       1      0.14  669.3  1223.7  2896.8  133.1  aʊ\n",
       "1967   male  1.0575    AW       1      0.11  684.4  1270.4  2443.1  106.1  aʊ\n",
       "1971   male  1.7425    AW       1      0.14  624.3  1158.4  2374.1   96.7  aʊ\n",
       "2296   male  1.7075    AW       1      0.11  547.0  1103.4  2234.7  123.7  aʊ\n",
       "2388   male  0.3925    AW       1      0.04  520.4  1016.2  2630.9  175.8  aʊ"
      ]
     },
     "execution_count": 150,
     "metadata": {},
     "output_type": "execute_result"
    }
   ],
   "source": [
    "aw_male = male_data[male_data.IPA == \"aʊ\"]\n",
    "aw_male.head()"
   ]
  },
  {
   "cell_type": "markdown",
   "metadata": {},
   "source": [
    "### <font color = \"blue\"> EXERCISE #2 </font>"
   ]
  },
  {
   "cell_type": "markdown",
   "metadata": {},
   "source": [
    "All of section 2.2 was based on subsetting dataframes. Using the examples provided above as resources, create a subset dataframe on the vowel of your choice. You can either use the <b>timit</b> dataframe to subset from or the <b>fem_data/male_data</b> to subset from. This vowel subset does not have to be used for your analysis, but it does serve as good practice. \n",
    "\n",
    "<b>HINT:</b> Replace everything that is capitalized according to your vowel and dataframe choice. The only capitalized section you don't need to change in the <b>\".IPA\"</b> portion."
   ]
  },
  {
   "cell_type": "code",
   "execution_count": 151,
   "metadata": {},
   "outputs": [
    {
     "ename": "NameError",
     "evalue": "name 'DATAFRAME_NAME' is not defined",
     "output_type": "error",
     "traceback": [
      "\u001b[0;31m---------------------------------------------------------------------------\u001b[0m",
      "\u001b[0;31mNameError\u001b[0m                                 Traceback (most recent call last)",
      "\u001b[0;32m<ipython-input-151-89a86d85b5de>\u001b[0m in \u001b[0;36m<module>\u001b[0;34m()\u001b[0m\n\u001b[1;32m      1\u001b[0m \u001b[0;31m#TRY THIS\u001b[0m\u001b[0;34m\u001b[0m\u001b[0;34m\u001b[0m\u001b[0m\n\u001b[1;32m      2\u001b[0m \u001b[0;34m\u001b[0m\u001b[0m\n\u001b[0;32m----> 3\u001b[0;31m \u001b[0mYOUR_SUBSET\u001b[0m \u001b[0;34m=\u001b[0m \u001b[0mDATAFRAME_NAME\u001b[0m\u001b[0;34m[\u001b[0m\u001b[0mDATAFRAME_NAME\u001b[0m\u001b[0;34m.\u001b[0m\u001b[0mIPA\u001b[0m \u001b[0;34m==\u001b[0m \u001b[0;34m\"IPA_VOWEL\"\u001b[0m\u001b[0;34m]\u001b[0m\u001b[0;34m\u001b[0m\u001b[0m\n\u001b[0m\u001b[1;32m      4\u001b[0m \u001b[0mYOUR_SUBSET\u001b[0m\u001b[0;34m.\u001b[0m\u001b[0mhead\u001b[0m\u001b[0;34m(\u001b[0m\u001b[0;34m)\u001b[0m\u001b[0;34m\u001b[0m\u001b[0m\n",
      "\u001b[0;31mNameError\u001b[0m: name 'DATAFRAME_NAME' is not defined"
     ]
    }
   ],
   "source": [
    "#TRY THIS\n",
    "\n",
    "YOUR_SUBSET = DATAFRAME_NAME[DATAFRAME_NAME.IPA == \"IPA_VOWEL\"]\n",
    "YOUR_SUBSET.head()"
   ]
  },
  {
   "cell_type": "markdown",
   "metadata": {},
   "source": [
    "# 3. More In-Depth Exploration of Data"
   ]
  },
  {
   "cell_type": "markdown",
   "metadata": {},
   "source": [
    "## 3.1 Comparing  Vowel Means Based on Gender"
   ]
  },
  {
   "cell_type": "markdown",
   "metadata": {},
   "source": [
    "To start off visualizing our data we have provided a bar chart showing the differences between average male f1 and average female f1 for each IPA character."
   ]
  },
  {
   "cell_type": "code",
   "execution_count": 152,
   "metadata": {},
   "outputs": [
    {
     "data": {
      "text/plain": [
       "<seaborn.axisgrid.FacetGrid at 0x11ee8bfd0>"
      ]
     },
     "execution_count": 152,
     "metadata": {},
     "output_type": "execute_result"
    },
    {
     "data": {
      "image/png": "[encoded data removed]",
      "text/plain": [
       "<matplotlib.figure.Figure at 0x11eea64a8>"
      ]
     },
     "metadata": {},
     "output_type": "display_data"
    }
   ],
   "source": [
    "gendered_averages = timit.groupby([\"gender\", 'IPA']).mean().reset_index()\n",
    "\n",
    "sns.factorplot(x=\"IPA\", y=\"f1\", hue=\"gender\", data=gendered_averages,\n",
    "                   size=6, kind=\"bar\", palette=\"muted\")"
   ]
  },
  {
   "cell_type": "markdown",
   "metadata": {},
   "source": [
    "### <font color = \"blue\"> QUESTION #4 </font>"
   ]
  },
  {
   "cell_type": "markdown",
   "metadata": {},
   "source": [
    "After analyzing the results from the bar chart, would you agree that the results coincide with what you had anticipated? Were the differences between women or men used more often something you had already predicted? Explain your thoughts with the results from the first visualization. Try changing parameters in the code cell to look at other vowel formants."
   ]
  },
  {
   "cell_type": "markdown",
   "metadata": {},
   "source": [
    "__Answer:__"
   ]
  },
  {
   "cell_type": "markdown",
   "metadata": {},
   "source": [
    "## 3.2 Understanding Vowel Formants"
   ]
  },
  {
   "cell_type": "markdown",
   "metadata": {},
   "source": [
    "\" The frequency of the first formant <b>(F1)</b> is mostly determined by the height of the tongue body:<br>\n",
    "\n",
    "<ul>high F1 = <i>low</i> vowel (i.e., high frequency F1 = low tongue body)<br>\n",
    "low F1 = <i>high</i> vowel (i.e., low frequency F1 = high tongue body)</ul>\n",
    "\n",
    "\n",
    "The frequency of the second formant <b>(F2)</b> is mostly determined by the frontness/backness of the tongue body:\n",
    "<br><ul>\n",
    "high F2 = <i>front</i> vowel<br>\n",
    "low F2 = <i>back</i> vowel \"</ul>\n",
    "\n",
    "LINK : https://home.cc.umanitoba.ca/~krussll/phonetics/acoustic/formants.html"
   ]
  },
  {
   "cell_type": "markdown",
   "metadata": {},
   "source": [
    "Below we grouped the data by each vowel and then found the mean of all its values. For the first cell below, we just printed it's results from F1 and put it in descending order. For the second cell we did very similar code, but instead focusing on F2.\n",
    "\n",
    "Look at the brief definitions of F1 and F2 provided above this cell. Do you notice any trends in regards to the vowels that appeared most in specific genders and their characteristics of being high/low or front/back vowels? Are there any relationships?"
   ]
  },
  {
   "cell_type": "code",
   "execution_count": 153,
   "metadata": {},
   "outputs": [
    {
     "data": {
      "text/plain": [
       "IPA\n",
       "aʊ    715.092608\n",
       "ɑ     702.291314\n",
       "aɪ    681.465885\n",
       "æ     652.258700\n",
       "ɔ     634.867838\n",
       "ɛ     588.080265\n",
       "ɔɪ    575.986430\n",
       "oʊ    553.662717\n",
       "ʌ     519.944476\n",
       "ɝ     514.742700\n",
       "eɪ    491.265252\n",
       "ɪ     486.798266\n",
       "ʊ     449.893593\n",
       "i     427.340202\n",
       "u     422.325870\n",
       "Name: f1, dtype: float64"
      ]
     },
     "execution_count": 153,
     "metadata": {},
     "output_type": "execute_result"
    }
   ],
   "source": [
    "F1 = timit.groupby(\"IPA\").mean().f1.sort_values(ascending = False)\n",
    "F1"
   ]
  },
  {
   "cell_type": "code",
   "execution_count": 154,
   "metadata": {},
   "outputs": [
    {
     "data": {
      "text/plain": [
       "IPA\n",
       "i     2043.482354\n",
       "eɪ    2032.372756\n",
       "ɪ     1843.402023\n",
       "æ     1761.430284\n",
       "ɛ     1669.534859\n",
       "aɪ    1617.320331\n",
       "ʊ     1589.082730\n",
       "u     1556.944049\n",
       "ʌ     1522.298740\n",
       "ɝ     1432.745745\n",
       "aʊ    1347.778226\n",
       "ɑ     1273.200030\n",
       "ɔɪ    1261.274572\n",
       "oʊ    1155.284637\n",
       "ɔ     1095.295097\n",
       "Name: f2, dtype: float64"
      ]
     },
     "execution_count": 154,
     "metadata": {},
     "output_type": "execute_result"
    }
   ],
   "source": [
    "F2 = timit.groupby(\"IPA\").mean().f2.sort_values(ascending = False)\n",
    "F2"
   ]
  },
  {
   "cell_type": "markdown",
   "metadata": {},
   "source": [
    "### a. F2 and F1 (by Gender)"
   ]
  },
  {
   "cell_type": "markdown",
   "metadata": {},
   "source": [
    "Lets take a look at our F1 vs F2 relationship color coded by gender. The yellow points symbolize females and the blue points symbolize males. Do u see a notable difference?"
   ]
  },
  {
   "cell_type": "code",
   "execution_count": 155,
   "metadata": {
    "scrolled": false
   },
   "outputs": [
    {
     "data": {
      "image/png": "[encoded data removed]",
      "text/plain": [
       "<matplotlib.figure.Figure at 0x11a88fb70>"
      ]
     },
     "metadata": {},
     "output_type": "display_data"
    }
   ],
   "source": [
    "timit.plot(kind = 'scatter', x = 'f2', y = 'f1', c = timit.gender.map({\"female\": 'yellow', \"male\": 'blue'}), s = 100, figsize = (7, 7), alpha=0.1);"
   ]
  },
  {
   "cell_type": "markdown",
   "metadata": {},
   "source": [
    "As you can see with the cell above, there is some distinction with F2 and F1 based off of gender. The higher the F2, the higher the probability of it being a female. A higher F2 means that it is a front vowel.\n",
    "\n",
    "\n",
    "Due to the fact that there are so many data points, this scatter plot is not the best visual representation to use. Below are density maps which show the same type of information as the plot above, but instead of resembling blobs, the more dense the area the darker the shade."
   ]
  },
  {
   "cell_type": "code",
   "execution_count": 160,
   "metadata": {
    "scrolled": false
   },
   "outputs": [
    {
     "data": {
      "text/plain": [
       "<seaborn.axisgrid.JointGrid at 0x11ecda588>"
      ]
     },
     "execution_count": 160,
     "metadata": {},
     "output_type": "execute_result"
    },
    {
     "data": {
      "image/png": "[encoded data removed]",
      "text/plain": [
       "<matplotlib.figure.Figure at 0x1219becf8>"
      ]
     },
     "metadata": {},
     "output_type": "display_data"
    }
   ],
   "source": [
    "sns.jointplot(\"f2\", \"f1\", data=fem_data, kind='kde')"
   ]
  },
  {
   "cell_type": "code",
   "execution_count": 157,
   "metadata": {
    "scrolled": false
   },
   "outputs": [
    {
     "data": {
      "text/plain": [
       "<seaborn.axisgrid.JointGrid at 0x120fc1860>"
      ]
     },
     "execution_count": 157,
     "metadata": {},
     "output_type": "execute_result"
    },
    {
     "data": {
      "image/png": "[encoded data removed]",
      "text/plain": [
       "<matplotlib.figure.Figure at 0x120fc1898>"
      ]
     },
     "metadata": {},
     "output_type": "display_data"
    }
   ],
   "source": [
    "sns.jointplot(\"f2\", \"f1\", data=male_data, kind='kde')"
   ]
  },
  {
   "cell_type": "markdown",
   "metadata": {},
   "source": [
    "## 3.3 Is there a linear relationship?"
   ]
  },
  {
   "cell_type": "markdown",
   "metadata": {},
   "source": [
    "Below, we have plotted the vowels in accordance to the mean of their F2/F1. The simplest statistical test we can perform on our data is the linear regression test. From the cell provided below do you think the vowels could be categorized as having a linear relationship?"
   ]
  },
  {
   "cell_type": "code",
   "execution_count": 158,
   "metadata": {},
   "outputs": [
    {
     "data": {
      "text/plain": [
       "<seaborn.axisgrid.FacetGrid at 0x120631400>"
      ]
     },
     "execution_count": 158,
     "metadata": {},
     "output_type": "execute_result"
    },
    {
     "data": {
      "image/png": "[encoded data removed]",
      "text/plain": [
       "<matplotlib.figure.Figure at 0x120631c50>"
      ]
     },
     "metadata": {},
     "output_type": "display_data"
    }
   ],
   "source": [
    "vow_mean = timit.groupby(\"vowel\").mean()\n",
    "sns.lmplot(x = 'f2', y = 'f1', data = vow_mean, size = 7, )"
   ]
  },
  {
   "cell_type": "markdown",
   "metadata": {},
   "source": [
    "### <font color = \"blue\"> QUESTION #5 </font>"
   ]
  },
  {
   "cell_type": "markdown",
   "metadata": {},
   "source": [
    "<img src =\"https://www.happyhourspanish.com/wp-content/uploads/2016/08/IPA-chart-vowels-768x576.png\" width=\"50%\" height=\"50%\" >"
   ]
  },
  {
   "cell_type": "markdown",
   "metadata": {},
   "source": [
    "If the linear relationship was not the best fit, what regression model do you think fits the vowel space the most? Above this cell there is a IPA vowel chart to serve as a visual representation of where the vowels are placed in comparison to your model?"
   ]
  },
  {
   "cell_type": "markdown",
   "metadata": {},
   "source": [
    "__Answer:__"
   ]
  },
  {
   "cell_type": "markdown",
   "metadata": {},
   "source": [
    "# 4. Vowel Spaces"
   ]
  },
  {
   "cell_type": "markdown",
   "metadata": {},
   "source": [
    "We start of by grouping all the rows by their vowel and calculating the mean for each column attribute for each vowel."
   ]
  },
  {
   "cell_type": "code",
   "execution_count": 133,
   "metadata": {},
   "outputs": [
    {
     "ename": "KeyError",
     "evalue": "'IPA'",
     "output_type": "error",
     "traceback": [
      "\u001b[0;31m---------------------------------------------------------------------------\u001b[0m",
      "\u001b[0;31mKeyError\u001b[0m                                  Traceback (most recent call last)",
      "\u001b[0;32m<ipython-input-133-8cee8cc32ba5>\u001b[0m in \u001b[0;36m<module>\u001b[0;34m()\u001b[0m\n\u001b[0;32m----> 1\u001b[0;31m \u001b[0mavgs\u001b[0m \u001b[0;34m=\u001b[0m \u001b[0mtimit\u001b[0m\u001b[0;34m.\u001b[0m\u001b[0mgroupby\u001b[0m\u001b[0;34m(\u001b[0m\u001b[0;34m'IPA'\u001b[0m\u001b[0;34m)\u001b[0m\u001b[0;34m.\u001b[0m\u001b[0mmean\u001b[0m\u001b[0;34m(\u001b[0m\u001b[0;34m)\u001b[0m\u001b[0;34m\u001b[0m\u001b[0m\n\u001b[0m\u001b[1;32m      2\u001b[0m \u001b[0mavgs\u001b[0m\u001b[0;34m.\u001b[0m\u001b[0mhead\u001b[0m\u001b[0;34m(\u001b[0m\u001b[0;34m)\u001b[0m\u001b[0;34m\u001b[0m\u001b[0m\n",
      "\u001b[0;32m/Users/angelicarojas/anaconda3/lib/python3.6/site-packages/pandas/core/generic.py\u001b[0m in \u001b[0;36mgroupby\u001b[0;34m(self, by, axis, level, as_index, sort, group_keys, squeeze, **kwargs)\u001b[0m\n\u001b[1;32m   4269\u001b[0m         return groupby(self, by=by, axis=axis, level=level, as_index=as_index,\n\u001b[1;32m   4270\u001b[0m                        \u001b[0msort\u001b[0m\u001b[0;34m=\u001b[0m\u001b[0msort\u001b[0m\u001b[0;34m,\u001b[0m \u001b[0mgroup_keys\u001b[0m\u001b[0;34m=\u001b[0m\u001b[0mgroup_keys\u001b[0m\u001b[0;34m,\u001b[0m \u001b[0msqueeze\u001b[0m\u001b[0;34m=\u001b[0m\u001b[0msqueeze\u001b[0m\u001b[0;34m,\u001b[0m\u001b[0;34m\u001b[0m\u001b[0m\n\u001b[0;32m-> 4271\u001b[0;31m                        **kwargs)\n\u001b[0m\u001b[1;32m   4272\u001b[0m \u001b[0;34m\u001b[0m\u001b[0m\n\u001b[1;32m   4273\u001b[0m     def asfreq(self, freq, method=None, how=None, normalize=False,\n",
      "\u001b[0;32m/Users/angelicarojas/anaconda3/lib/python3.6/site-packages/pandas/core/groupby.py\u001b[0m in \u001b[0;36mgroupby\u001b[0;34m(obj, by, **kwds)\u001b[0m\n\u001b[1;32m   1624\u001b[0m         \u001b[0;32mraise\u001b[0m \u001b[0mTypeError\u001b[0m\u001b[0;34m(\u001b[0m\u001b[0;34m'invalid type: %s'\u001b[0m \u001b[0;34m%\u001b[0m \u001b[0mtype\u001b[0m\u001b[0;34m(\u001b[0m\u001b[0mobj\u001b[0m\u001b[0;34m)\u001b[0m\u001b[0;34m)\u001b[0m\u001b[0;34m\u001b[0m\u001b[0m\n\u001b[1;32m   1625\u001b[0m \u001b[0;34m\u001b[0m\u001b[0m\n\u001b[0;32m-> 1626\u001b[0;31m     \u001b[0;32mreturn\u001b[0m \u001b[0mklass\u001b[0m\u001b[0;34m(\u001b[0m\u001b[0mobj\u001b[0m\u001b[0;34m,\u001b[0m \u001b[0mby\u001b[0m\u001b[0;34m,\u001b[0m \u001b[0;34m**\u001b[0m\u001b[0mkwds\u001b[0m\u001b[0;34m)\u001b[0m\u001b[0;34m\u001b[0m\u001b[0m\n\u001b[0m\u001b[1;32m   1627\u001b[0m \u001b[0;34m\u001b[0m\u001b[0m\n\u001b[1;32m   1628\u001b[0m \u001b[0;34m\u001b[0m\u001b[0m\n",
      "\u001b[0;32m/Users/angelicarojas/anaconda3/lib/python3.6/site-packages/pandas/core/groupby.py\u001b[0m in \u001b[0;36m__init__\u001b[0;34m(self, obj, keys, axis, level, grouper, exclusions, selection, as_index, sort, group_keys, squeeze, **kwargs)\u001b[0m\n\u001b[1;32m    390\u001b[0m                                                     \u001b[0mlevel\u001b[0m\u001b[0;34m=\u001b[0m\u001b[0mlevel\u001b[0m\u001b[0;34m,\u001b[0m\u001b[0;34m\u001b[0m\u001b[0m\n\u001b[1;32m    391\u001b[0m                                                     \u001b[0msort\u001b[0m\u001b[0;34m=\u001b[0m\u001b[0msort\u001b[0m\u001b[0;34m,\u001b[0m\u001b[0;34m\u001b[0m\u001b[0m\n\u001b[0;32m--> 392\u001b[0;31m                                                     mutated=self.mutated)\n\u001b[0m\u001b[1;32m    393\u001b[0m \u001b[0;34m\u001b[0m\u001b[0m\n\u001b[1;32m    394\u001b[0m         \u001b[0mself\u001b[0m\u001b[0;34m.\u001b[0m\u001b[0mobj\u001b[0m \u001b[0;34m=\u001b[0m \u001b[0mobj\u001b[0m\u001b[0;34m\u001b[0m\u001b[0m\n",
      "\u001b[0;32m/Users/angelicarojas/anaconda3/lib/python3.6/site-packages/pandas/core/groupby.py\u001b[0m in \u001b[0;36m_get_grouper\u001b[0;34m(obj, key, axis, level, sort, mutated)\u001b[0m\n\u001b[1;32m   2615\u001b[0m                 \u001b[0min_axis\u001b[0m\u001b[0;34m,\u001b[0m \u001b[0mname\u001b[0m\u001b[0;34m,\u001b[0m \u001b[0mlevel\u001b[0m\u001b[0;34m,\u001b[0m \u001b[0mgpr\u001b[0m \u001b[0;34m=\u001b[0m \u001b[0;32mFalse\u001b[0m\u001b[0;34m,\u001b[0m \u001b[0;32mNone\u001b[0m\u001b[0;34m,\u001b[0m \u001b[0mgpr\u001b[0m\u001b[0;34m,\u001b[0m \u001b[0;32mNone\u001b[0m\u001b[0;34m\u001b[0m\u001b[0m\n\u001b[1;32m   2616\u001b[0m             \u001b[0;32melse\u001b[0m\u001b[0;34m:\u001b[0m\u001b[0;34m\u001b[0m\u001b[0m\n\u001b[0;32m-> 2617\u001b[0;31m                 \u001b[0;32mraise\u001b[0m \u001b[0mKeyError\u001b[0m\u001b[0;34m(\u001b[0m\u001b[0mgpr\u001b[0m\u001b[0;34m)\u001b[0m\u001b[0;34m\u001b[0m\u001b[0m\n\u001b[0m\u001b[1;32m   2618\u001b[0m         \u001b[0;32melif\u001b[0m \u001b[0misinstance\u001b[0m\u001b[0;34m(\u001b[0m\u001b[0mgpr\u001b[0m\u001b[0;34m,\u001b[0m \u001b[0mGrouper\u001b[0m\u001b[0;34m)\u001b[0m \u001b[0;32mand\u001b[0m \u001b[0mgpr\u001b[0m\u001b[0;34m.\u001b[0m\u001b[0mkey\u001b[0m \u001b[0;32mis\u001b[0m \u001b[0;32mnot\u001b[0m \u001b[0;32mNone\u001b[0m\u001b[0;34m:\u001b[0m\u001b[0;34m\u001b[0m\u001b[0m\n\u001b[1;32m   2619\u001b[0m             \u001b[0;31m# Add key to exclusions\u001b[0m\u001b[0;34m\u001b[0m\u001b[0;34m\u001b[0m\u001b[0m\n",
      "\u001b[0;31mKeyError\u001b[0m: 'IPA'"
     ]
    }
   ],
   "source": [
    "avgs = timit.groupby('IPA').mean()\n",
    "avgs.head()"
   ]
  },
  {
   "cell_type": "markdown",
   "metadata": {},
   "source": [
    "## 4.1 Constructing a Vowel Space"
   ]
  },
  {
   "cell_type": "markdown",
   "metadata": {},
   "source": [
    "Let's construct a vowel space! Run the cell below to view the vowel space of f1 vs f2."
   ]
  },
  {
   "cell_type": "code",
   "execution_count": 162,
   "metadata": {},
   "outputs": [
    {
     "data": {
      "image/png": "[encoded data removed]",
      "text/plain": [
       "<matplotlib.figure.Figure at 0x1219be8d0>"
      ]
     },
     "metadata": {},
     "output_type": "display_data"
    }
   ],
   "source": [
    "plt.gca().invert_yaxis()\n",
    "plt.gca().invert_xaxis()\n",
    "\n",
    "for i in range(len(avgs)):\n",
    "    plt.scatter(avgs.f2[i], avgs.f1[i], marker=r\"$ {} $\".format(avgs.index[i]), s=1000)\n",
    "    \n",
    "plt.ylabel('f1')\n",
    "plt.xlabel('f2');"
   ]
  },
  {
   "cell_type": "markdown",
   "metadata": {},
   "source": [
    "## 4.3 Using Logarithmic Axes"
   ]
  },
  {
   "cell_type": "markdown",
   "metadata": {},
   "source": [
    "In the visualization above we use linear axes in order to construct our vowel space. Lets observe how the vowel space would change using logarithmic axes. The cell below will take the log of all values in our f1 and f2 columns and add them as new columns of our TIMIT table."
   ]
  },
  {
   "cell_type": "code",
   "execution_count": 163,
   "metadata": {},
   "outputs": [
    {
     "data": {
      "text/html": [
       "<div>\n",
       "<style>\n",
       "    .dataframe thead tr:only-child th {\n",
       "        text-align: right;\n",
       "    }\n",
       "\n",
       "    .dataframe thead th {\n",
       "        text-align: left;\n",
       "    }\n",
       "\n",
       "    .dataframe tbody tr th {\n",
       "        vertical-align: top;\n",
       "    }\n",
       "</style>\n",
       "<table border=\"1\" class=\"dataframe\">\n",
       "  <thead>\n",
       "    <tr style=\"text-align: right;\">\n",
       "      <th></th>\n",
       "      <th>t</th>\n",
       "      <th>stress</th>\n",
       "      <th>duration</th>\n",
       "      <th>f1</th>\n",
       "      <th>f2</th>\n",
       "      <th>f3</th>\n",
       "      <th>f0</th>\n",
       "      <th>logf1</th>\n",
       "      <th>logf2</th>\n",
       "    </tr>\n",
       "    <tr>\n",
       "      <th>IPA</th>\n",
       "      <th></th>\n",
       "      <th></th>\n",
       "      <th></th>\n",
       "      <th></th>\n",
       "      <th></th>\n",
       "      <th></th>\n",
       "      <th></th>\n",
       "      <th></th>\n",
       "      <th></th>\n",
       "    </tr>\n",
       "  </thead>\n",
       "  <tbody>\n",
       "    <tr>\n",
       "      <th>aɪ</th>\n",
       "      <td>1.635594</td>\n",
       "      <td>1.054163</td>\n",
       "      <td>0.134256</td>\n",
       "      <td>681.465885</td>\n",
       "      <td>1617.320331</td>\n",
       "      <td>2499.876960</td>\n",
       "      <td>135.767785</td>\n",
       "      <td>6.510240</td>\n",
       "      <td>7.378111</td>\n",
       "    </tr>\n",
       "    <tr>\n",
       "      <th>aʊ</th>\n",
       "      <td>1.448535</td>\n",
       "      <td>1.048387</td>\n",
       "      <td>0.156129</td>\n",
       "      <td>715.092608</td>\n",
       "      <td>1347.778226</td>\n",
       "      <td>2545.013978</td>\n",
       "      <td>144.840457</td>\n",
       "      <td>6.564378</td>\n",
       "      <td>7.195039</td>\n",
       "    </tr>\n",
       "    <tr>\n",
       "      <th>eɪ</th>\n",
       "      <td>1.555879</td>\n",
       "      <td>1.144261</td>\n",
       "      <td>0.113957</td>\n",
       "      <td>491.265252</td>\n",
       "      <td>2032.372756</td>\n",
       "      <td>2625.841760</td>\n",
       "      <td>140.674900</td>\n",
       "      <td>6.185279</td>\n",
       "      <td>7.608959</td>\n",
       "    </tr>\n",
       "    <tr>\n",
       "      <th>i</th>\n",
       "      <td>1.464642</td>\n",
       "      <td>0.495423</td>\n",
       "      <td>0.092407</td>\n",
       "      <td>427.340202</td>\n",
       "      <td>2043.482354</td>\n",
       "      <td>2617.781014</td>\n",
       "      <td>146.176357</td>\n",
       "      <td>6.036894</td>\n",
       "      <td>7.608724</td>\n",
       "    </tr>\n",
       "    <tr>\n",
       "      <th>oʊ</th>\n",
       "      <td>1.234788</td>\n",
       "      <td>1.009368</td>\n",
       "      <td>0.116923</td>\n",
       "      <td>553.662717</td>\n",
       "      <td>1155.284637</td>\n",
       "      <td>2557.553349</td>\n",
       "      <td>148.857471</td>\n",
       "      <td>6.303124</td>\n",
       "      <td>7.031348</td>\n",
       "    </tr>\n",
       "  </tbody>\n",
       "</table>\n",
       "</div>"
      ],
      "text/plain": [
       "            t    stress  duration          f1           f2           f3  \\\n",
       "IPA                                                                       \n",
       "aɪ   1.635594  1.054163  0.134256  681.465885  1617.320331  2499.876960   \n",
       "aʊ   1.448535  1.048387  0.156129  715.092608  1347.778226  2545.013978   \n",
       "eɪ   1.555879  1.144261  0.113957  491.265252  2032.372756  2625.841760   \n",
       "i    1.464642  0.495423  0.092407  427.340202  2043.482354  2617.781014   \n",
       "oʊ   1.234788  1.009368  0.116923  553.662717  1155.284637  2557.553349   \n",
       "\n",
       "             f0     logf1     logf2  \n",
       "IPA                                  \n",
       "aɪ   135.767785  6.510240  7.378111  \n",
       "aʊ   144.840457  6.564378  7.195039  \n",
       "eɪ   140.674900  6.185279  7.608959  \n",
       "i    146.176357  6.036894  7.608724  \n",
       "oʊ   148.857471  6.303124  7.031348  "
      ]
     },
     "execution_count": 163,
     "metadata": {},
     "output_type": "execute_result"
    }
   ],
   "source": [
    "logf1 = []\n",
    "logf2 = []\n",
    "for i in timit[\"f1\"]:\n",
    "    logf1 += [math.log(i)]\n",
    "for j in timit[\"f2\"]:\n",
    "    logf2 += [math.log(j)]\n",
    "timit[\"logf1\"] = logf1\n",
    "timit[\"logf2\"] = logf2\n",
    "newavgs = timit.groupby('IPA').mean()\n",
    "newavgs.head()"
   ]
  },
  {
   "cell_type": "markdown",
   "metadata": {},
   "source": [
    "Let's plot the new vowel space using these new columns\n"
   ]
  },
  {
   "cell_type": "code",
   "execution_count": 164,
   "metadata": {},
   "outputs": [
    {
     "data": {
      "text/plain": [
       "<matplotlib.text.Text at 0x121cd0f28>"
      ]
     },
     "execution_count": 164,
     "metadata": {},
     "output_type": "execute_result"
    },
    {
     "data": {
      "image/png": "[encoded data removed]",
      "text/plain": [
       "<matplotlib.figure.Figure at 0x11c2ab860>"
      ]
     },
     "metadata": {},
     "output_type": "display_data"
    }
   ],
   "source": [
    "plt.gca().invert_yaxis()\n",
    "plt.gca().invert_xaxis()\n",
    "\n",
    "for i in range(len(avgs)):\n",
    "    plt.scatter(newavgs.logf2[i], newavgs.logf1[i], marker=r\"$ {} $\".format(newavgs.index[i]), s=1000)\n",
    "    \n",
    "plt.ylabel('log(f1)')\n",
    "plt.xlabel('log(f2)')"
   ]
  },
  {
   "cell_type": "markdown",
   "metadata": {},
   "source": [
    "### <font color = \"blue\"> QUESTION #6 </font>"
   ]
  },
  {
   "cell_type": "markdown",
   "metadata": {},
   "source": [
    "How would you describe the vowel space above?"
   ]
  },
  {
   "cell_type": "markdown",
   "metadata": {},
   "source": [
    "__Answer:__"
   ]
  },
  {
   "cell_type": "markdown",
   "metadata": {},
   "source": [
    "## 4.4 Further Visualizations"
   ]
  },
  {
   "cell_type": "markdown",
   "metadata": {},
   "source": [
    "Run the cells below to see more visualizations of the vowel space created from our TIMIT data\n"
   ]
  },
  {
   "cell_type": "code",
   "execution_count": 165,
   "metadata": {},
   "outputs": [
    {
     "data": {
      "image/png": "[encoded data removed]",
      "text/plain": [
       "<matplotlib.figure.Figure at 0x1213c24a8>"
      ]
     },
     "metadata": {},
     "output_type": "display_data"
    }
   ],
   "source": [
    "plt.figure(figsize=(8, 10))\n",
    "\n",
    "plt.gca().invert_yaxis()\n",
    "plt.gca().invert_xaxis()\n",
    "\n",
    "for i in range(len(newavgs)):\n",
    "    plt.scatter(newavgs.logf2[i], newavgs.logf1[i], marker=r\"$ {} $\".format(newavgs.index[i]), s=1000)\n",
    "    \n",
    "plt.ylabel('log(f1)')\n",
    "plt.xlabel('log(f2)')\n",
    "\n",
    "im = plt.imread('images/blankvowel.png')\n",
    "ax = plt.imshow(im, extent=(plt.xlim()[0], plt.xlim()[1], plt.ylim()[0], plt.ylim()[1]))"
   ]
  },
  {
   "cell_type": "code",
   "execution_count": 166,
   "metadata": {},
   "outputs": [
    {
     "data": {
      "image/png": "[encoded data removed]",
      "text/plain": [
       "<matplotlib.figure.Figure at 0x1213d50b8>"
      ]
     },
     "metadata": {},
     "output_type": "display_data"
    }
   ],
   "source": [
    "plt.figure(figsize=(10,4))\n",
    "\n",
    "plt.gca().invert_yaxis()\n",
    "plt.gca().invert_xaxis()\n",
    "\n",
    "for i in range(len(avgs)):\n",
    "    plt.scatter(newavgs.logf2[i], newavgs.logf1[i], marker=r\"$ {} $\".format(newavgs.index[i]), s=500)\n",
    "    \n",
    "plt.ylabel('log(f1)')\n",
    "plt.xlabel('log(f2)')\n",
    "\n",
    "im = plt.imread('images/notblank.png')\n",
    "ax = plt.imshow(im, extent=(7.7, 6.9, 6.7, 5.9))"
   ]
  },
  {
   "cell_type": "markdown",
   "metadata": {},
   "source": [
    "# 5. Corner Vowels"
   ]
  },
  {
   "cell_type": "markdown",
   "metadata": {},
   "source": [
    "Our next step is to plot the relationship between corner vowels. Lets compare the F1 vs F2 corner vowels. Run the cell below to select the corner vowels."
   ]
  },
  {
   "cell_type": "code",
   "execution_count": 167,
   "metadata": {},
   "outputs": [
    {
     "ename": "NameError",
     "evalue": "name 'ds' is not defined",
     "output_type": "error",
     "traceback": [
      "\u001b[0;31m---------------------------------------------------------------------------\u001b[0m",
      "\u001b[0;31mNameError\u001b[0m                                 Traceback (most recent call last)",
      "\u001b[0;32m<ipython-input-167-7c2bb83c806e>\u001b[0m in \u001b[0;36m<module>\u001b[0;34m()\u001b[0m\n\u001b[0;32m----> 1\u001b[0;31m \u001b[0mIPAtable\u001b[0m \u001b[0;34m=\u001b[0m \u001b[0mds\u001b[0m\u001b[0;34m.\u001b[0m\u001b[0mTable\u001b[0m\u001b[0;34m.\u001b[0m\u001b[0mfrom_df\u001b[0m\u001b[0;34m(\u001b[0m\u001b[0mtimit\u001b[0m\u001b[0;34m)\u001b[0m\u001b[0;34m\u001b[0m\u001b[0m\n\u001b[0m\u001b[1;32m      2\u001b[0m \u001b[0;34m\u001b[0m\u001b[0m\n\u001b[1;32m      3\u001b[0m \u001b[0mpick_vowel\u001b[0m \u001b[0;34m=\u001b[0m \u001b[0;32mlambda\u001b[0m \u001b[0mvowel\u001b[0m\u001b[0;34m:\u001b[0m \u001b[0mtable\u001b[0m\u001b[0;34m.\u001b[0m\u001b[0mwhere\u001b[0m\u001b[0;34m(\u001b[0m\u001b[0mIPAtable\u001b[0m\u001b[0;34m[\u001b[0m\u001b[0;34m'IPA'\u001b[0m\u001b[0;34m]\u001b[0m \u001b[0;34m==\u001b[0m \u001b[0mvowel\u001b[0m\u001b[0;34m)\u001b[0m\u001b[0;34m\u001b[0m\u001b[0m\n\u001b[1;32m      4\u001b[0m \u001b[0;34m\u001b[0m\u001b[0m\n\u001b[1;32m      5\u001b[0m \u001b[0mi\u001b[0m \u001b[0;34m=\u001b[0m \u001b[0mpick_vowel\u001b[0m\u001b[0;34m(\u001b[0m\u001b[0;34m'i'\u001b[0m\u001b[0;34m)\u001b[0m\u001b[0;34m\u001b[0m\u001b[0m\n",
      "\u001b[0;31mNameError\u001b[0m: name 'ds' is not defined"
     ]
    }
   ],
   "source": [
    "IPAtable = ds.Table.from_df(timit)\n",
    "\n",
    "pick_vowel = lambda vowel: table.where(IPAtable['IPA'] == vowel)\n",
    "\n",
    "i = pick_vowel('i')\n",
    "ar = pick_vowel('aɪ')\n",
    "a = pick_vowel('ɑ')\n",
    "u = pick_vowel('u')\n",
    "\n",
    "corners = [i,ar,a,u]"
   ]
  },
  {
   "cell_type": "markdown",
   "metadata": {},
   "source": [
    "Now that we have collected all the corner vowels, lets start comparing them! Run the cell below to plot the \"a\" (in blue)and \"i\" (in red) corner vowels from f1 and f2. Take note of the differences in distribution."
   ]
  },
  {
   "cell_type": "code",
   "execution_count": 168,
   "metadata": {},
   "outputs": [
    {
     "ename": "NameError",
     "evalue": "name 'a' is not defined",
     "output_type": "error",
     "traceback": [
      "\u001b[0;31m---------------------------------------------------------------------------\u001b[0m",
      "\u001b[0;31mNameError\u001b[0m                                 Traceback (most recent call last)",
      "\u001b[0;32m<ipython-input-168-0369873b96ad>\u001b[0m in \u001b[0;36m<module>\u001b[0;34m()\u001b[0m\n\u001b[0;32m----> 1\u001b[0;31m \u001b[0mplt\u001b[0m\u001b[0;34m.\u001b[0m\u001b[0mscatter\u001b[0m\u001b[0;34m(\u001b[0m\u001b[0ma\u001b[0m\u001b[0;34m[\u001b[0m\u001b[0;34m'f1'\u001b[0m\u001b[0;34m]\u001b[0m\u001b[0;34m,\u001b[0m \u001b[0ma\u001b[0m\u001b[0;34m[\u001b[0m\u001b[0;34m'f2'\u001b[0m\u001b[0;34m]\u001b[0m\u001b[0;34m,\u001b[0m \u001b[0malpha\u001b[0m\u001b[0;34m=\u001b[0m\u001b[0;36m.05\u001b[0m\u001b[0;34m)\u001b[0m\u001b[0;34m\u001b[0m\u001b[0m\n\u001b[0m\u001b[1;32m      2\u001b[0m \u001b[0mplt\u001b[0m\u001b[0;34m.\u001b[0m\u001b[0mylabel\u001b[0m\u001b[0;34m(\u001b[0m\u001b[0;34m\"BPM (Hz)\"\u001b[0m\u001b[0;34m)\u001b[0m\u001b[0;34m\u001b[0m\u001b[0m\n\u001b[1;32m      3\u001b[0m \u001b[0mplt\u001b[0m\u001b[0;34m.\u001b[0m\u001b[0mxlabel\u001b[0m\u001b[0;34m(\u001b[0m\u001b[0;34m\"BPM (Hz)\"\u001b[0m\u001b[0;34m)\u001b[0m\u001b[0;34m\u001b[0m\u001b[0m\n\u001b[1;32m      4\u001b[0m \u001b[0mplt\u001b[0m\u001b[0;34m.\u001b[0m\u001b[0mscatter\u001b[0m\u001b[0;34m(\u001b[0m\u001b[0mi\u001b[0m\u001b[0;34m[\u001b[0m\u001b[0;34m'f1'\u001b[0m\u001b[0;34m]\u001b[0m\u001b[0;34m,\u001b[0m \u001b[0mi\u001b[0m\u001b[0;34m[\u001b[0m\u001b[0;34m'f2'\u001b[0m\u001b[0;34m]\u001b[0m\u001b[0;34m,\u001b[0m \u001b[0malpha\u001b[0m\u001b[0;34m=\u001b[0m\u001b[0;36m.05\u001b[0m\u001b[0;34m,\u001b[0m \u001b[0mcolor\u001b[0m\u001b[0;34m=\u001b[0m\u001b[0;34m'r'\u001b[0m\u001b[0;34m)\u001b[0m\u001b[0;34m\u001b[0m\u001b[0m\n",
      "\u001b[0;31mNameError\u001b[0m: name 'a' is not defined"
     ]
    }
   ],
   "source": [
    "plt.scatter(a['f1'], a['f2'], alpha=.05)\n",
    "plt.ylabel(\"BPM (Hz)\")\n",
    "plt.xlabel(\"BPM (Hz)\")\n",
    "plt.scatter(i['f1'], i['f2'], alpha=.05, color='r')"
   ]
  },
  {
   "cell_type": "code",
   "execution_count": 169,
   "metadata": {},
   "outputs": [
    {
     "ename": "NameError",
     "evalue": "name 'a' is not defined",
     "output_type": "error",
     "traceback": [
      "\u001b[0;31m---------------------------------------------------------------------------\u001b[0m",
      "\u001b[0;31mNameError\u001b[0m                                 Traceback (most recent call last)",
      "\u001b[0;32m<ipython-input-169-378c7ed5b5cb>\u001b[0m in \u001b[0;36m<module>\u001b[0;34m()\u001b[0m\n\u001b[0;32m----> 1\u001b[0;31m \u001b[0max\u001b[0m \u001b[0;34m=\u001b[0m \u001b[0msns\u001b[0m\u001b[0;34m.\u001b[0m\u001b[0mkdeplot\u001b[0m\u001b[0;34m(\u001b[0m\u001b[0ma\u001b[0m\u001b[0;34m[\u001b[0m\u001b[0;34m'f1'\u001b[0m\u001b[0;34m]\u001b[0m\u001b[0;34m,\u001b[0m \u001b[0ma\u001b[0m\u001b[0;34m[\u001b[0m\u001b[0;34m'f2'\u001b[0m\u001b[0;34m]\u001b[0m\u001b[0;34m,\u001b[0m \u001b[0mcmap\u001b[0m\u001b[0;34m=\u001b[0m\u001b[0;34m\"Reds\"\u001b[0m\u001b[0;34m,\u001b[0m \u001b[0mshade\u001b[0m\u001b[0;34m=\u001b[0m\u001b[0;32mTrue\u001b[0m\u001b[0;34m,\u001b[0m \u001b[0mshade_lowest\u001b[0m\u001b[0;34m=\u001b[0m\u001b[0;32mFalse\u001b[0m\u001b[0;34m)\u001b[0m\u001b[0;34m\u001b[0m\u001b[0m\n\u001b[0m\u001b[1;32m      2\u001b[0m \u001b[0mplt\u001b[0m\u001b[0;34m.\u001b[0m\u001b[0mylabel\u001b[0m\u001b[0;34m(\u001b[0m\u001b[0;34m\"BPM (Hz)\"\u001b[0m\u001b[0;34m)\u001b[0m\u001b[0;34m\u001b[0m\u001b[0m\n\u001b[1;32m      3\u001b[0m \u001b[0mplt\u001b[0m\u001b[0;34m.\u001b[0m\u001b[0mxlabel\u001b[0m\u001b[0;34m(\u001b[0m\u001b[0;34m\"BPM (Hz)\"\u001b[0m\u001b[0;34m)\u001b[0m\u001b[0;34m\u001b[0m\u001b[0m\n\u001b[1;32m      4\u001b[0m \u001b[0max\u001b[0m \u001b[0;34m=\u001b[0m \u001b[0msns\u001b[0m\u001b[0;34m.\u001b[0m\u001b[0mkdeplot\u001b[0m\u001b[0;34m(\u001b[0m\u001b[0mi\u001b[0m\u001b[0;34m[\u001b[0m\u001b[0;34m'f1'\u001b[0m\u001b[0;34m]\u001b[0m\u001b[0;34m,\u001b[0m \u001b[0mi\u001b[0m\u001b[0;34m[\u001b[0m\u001b[0;34m'f2'\u001b[0m\u001b[0;34m]\u001b[0m\u001b[0;34m,\u001b[0m \u001b[0mcmap\u001b[0m\u001b[0;34m=\u001b[0m\u001b[0;34m\"Blues\"\u001b[0m\u001b[0;34m,\u001b[0m \u001b[0mshade\u001b[0m\u001b[0;34m=\u001b[0m\u001b[0;32mTrue\u001b[0m\u001b[0;34m,\u001b[0m \u001b[0mshade_lowest\u001b[0m\u001b[0;34m=\u001b[0m\u001b[0;32mFalse\u001b[0m\u001b[0;34m)\u001b[0m\u001b[0;34m\u001b[0m\u001b[0m\n",
      "\u001b[0;31mNameError\u001b[0m: name 'a' is not defined"
     ]
    }
   ],
   "source": [
    "ax = sns.kdeplot(a['f1'], a['f2'], cmap=\"Reds\", shade=True, shade_lowest=False)\n",
    "plt.ylabel(\"BPM (Hz)\")\n",
    "plt.xlabel(\"BPM (Hz)\")\n",
    "ax = sns.kdeplot(i['f1'], i['f2'], cmap=\"Blues\", shade=True, shade_lowest=False)"
   ]
  },
  {
   "cell_type": "markdown",
   "metadata": {},
   "source": [
    "Every colored dot in the first graph represents a data point, and the second graph highlights the relative density of each dataset at certain areas."
   ]
  },
  {
   "cell_type": "markdown",
   "metadata": {},
   "source": [
    "### <font color = \"blue\"> QUESTION #7 </font>\n",
    "\n",
    "Describe and compare the distribution of the two vowels. What seems to be the average value of each vowel? Whats the min and max?"
   ]
  },
  {
   "cell_type": "markdown",
   "metadata": {},
   "source": [
    "__Answer:__"
   ]
  },
  {
   "cell_type": "markdown",
   "metadata": {},
   "source": [
    "Lets try to create similar visualizations for the \"ar\" and \"u\" vowels in F1 and F2."
   ]
  },
  {
   "cell_type": "code",
   "execution_count": 170,
   "metadata": {},
   "outputs": [
    {
     "ename": "NameError",
     "evalue": "name 'ar' is not defined",
     "output_type": "error",
     "traceback": [
      "\u001b[0;31m---------------------------------------------------------------------------\u001b[0m",
      "\u001b[0;31mNameError\u001b[0m                                 Traceback (most recent call last)",
      "\u001b[0;32m<ipython-input-170-3c7dab9ec83b>\u001b[0m in \u001b[0;36m<module>\u001b[0;34m()\u001b[0m\n\u001b[0;32m----> 1\u001b[0;31m \u001b[0mplt\u001b[0m\u001b[0;34m.\u001b[0m\u001b[0mscatter\u001b[0m\u001b[0;34m(\u001b[0m\u001b[0mar\u001b[0m\u001b[0;34m[\u001b[0m\u001b[0;34m'f1'\u001b[0m\u001b[0;34m]\u001b[0m\u001b[0;34m,\u001b[0m \u001b[0mar\u001b[0m\u001b[0;34m[\u001b[0m\u001b[0;34m'f2'\u001b[0m\u001b[0;34m]\u001b[0m\u001b[0;34m,\u001b[0m \u001b[0malpha\u001b[0m\u001b[0;34m=\u001b[0m\u001b[0;36m.05\u001b[0m\u001b[0;34m)\u001b[0m\u001b[0;34m\u001b[0m\u001b[0m\n\u001b[0m\u001b[1;32m      2\u001b[0m \u001b[0mplt\u001b[0m\u001b[0;34m.\u001b[0m\u001b[0mylabel\u001b[0m\u001b[0;34m(\u001b[0m\u001b[0;34m\"BPM (Hz)\"\u001b[0m\u001b[0;34m)\u001b[0m\u001b[0;34m\u001b[0m\u001b[0m\n\u001b[1;32m      3\u001b[0m \u001b[0mplt\u001b[0m\u001b[0;34m.\u001b[0m\u001b[0mxlabel\u001b[0m\u001b[0;34m(\u001b[0m\u001b[0;34m\"BPM (Hz)\"\u001b[0m\u001b[0;34m)\u001b[0m\u001b[0;34m\u001b[0m\u001b[0m\n\u001b[1;32m      4\u001b[0m \u001b[0mplt\u001b[0m\u001b[0;34m.\u001b[0m\u001b[0mscatter\u001b[0m\u001b[0;34m(\u001b[0m\u001b[0mu\u001b[0m\u001b[0;34m[\u001b[0m\u001b[0;34m'f1'\u001b[0m\u001b[0;34m]\u001b[0m\u001b[0;34m,\u001b[0m \u001b[0mu\u001b[0m\u001b[0;34m[\u001b[0m\u001b[0;34m'f2'\u001b[0m\u001b[0;34m]\u001b[0m\u001b[0;34m,\u001b[0m \u001b[0malpha\u001b[0m\u001b[0;34m=\u001b[0m\u001b[0;36m.05\u001b[0m\u001b[0;34m,\u001b[0m \u001b[0mcolor\u001b[0m\u001b[0;34m=\u001b[0m\u001b[0;34m'r'\u001b[0m\u001b[0;34m)\u001b[0m\u001b[0;34m\u001b[0m\u001b[0m\n",
      "\u001b[0;31mNameError\u001b[0m: name 'ar' is not defined"
     ]
    }
   ],
   "source": [
    "plt.scatter(ar['f1'], ar['f2'], alpha=.05)\n",
    "plt.ylabel(\"BPM (Hz)\")\n",
    "plt.xlabel(\"BPM (Hz)\")\n",
    "plt.scatter(u['f1'], u['f2'], alpha=.05, color='r')"
   ]
  },
  {
   "cell_type": "code",
   "execution_count": 171,
   "metadata": {},
   "outputs": [
    {
     "ename": "NameError",
     "evalue": "name 'ar' is not defined",
     "output_type": "error",
     "traceback": [
      "\u001b[0;31m---------------------------------------------------------------------------\u001b[0m",
      "\u001b[0;31mNameError\u001b[0m                                 Traceback (most recent call last)",
      "\u001b[0;32m<ipython-input-171-4b8ef26d1872>\u001b[0m in \u001b[0;36m<module>\u001b[0;34m()\u001b[0m\n\u001b[0;32m----> 1\u001b[0;31m \u001b[0max\u001b[0m \u001b[0;34m=\u001b[0m \u001b[0msns\u001b[0m\u001b[0;34m.\u001b[0m\u001b[0mkdeplot\u001b[0m\u001b[0;34m(\u001b[0m\u001b[0mar\u001b[0m\u001b[0;34m[\u001b[0m\u001b[0;34m'f1'\u001b[0m\u001b[0;34m]\u001b[0m\u001b[0;34m,\u001b[0m \u001b[0mar\u001b[0m\u001b[0;34m[\u001b[0m\u001b[0;34m'f2'\u001b[0m\u001b[0;34m]\u001b[0m\u001b[0;34m,\u001b[0m \u001b[0mcmap\u001b[0m\u001b[0;34m=\u001b[0m\u001b[0;34m\"Reds\"\u001b[0m\u001b[0;34m,\u001b[0m \u001b[0mshade\u001b[0m\u001b[0;34m=\u001b[0m\u001b[0;32mTrue\u001b[0m\u001b[0;34m,\u001b[0m \u001b[0mshade_lowest\u001b[0m\u001b[0;34m=\u001b[0m\u001b[0;32mFalse\u001b[0m\u001b[0;34m)\u001b[0m\u001b[0;34m\u001b[0m\u001b[0m\n\u001b[0m\u001b[1;32m      2\u001b[0m \u001b[0mplt\u001b[0m\u001b[0;34m.\u001b[0m\u001b[0mylabel\u001b[0m\u001b[0;34m(\u001b[0m\u001b[0;34m\"BPM (Hz)\"\u001b[0m\u001b[0;34m)\u001b[0m\u001b[0;34m\u001b[0m\u001b[0m\n\u001b[1;32m      3\u001b[0m \u001b[0mplt\u001b[0m\u001b[0;34m.\u001b[0m\u001b[0mxlabel\u001b[0m\u001b[0;34m(\u001b[0m\u001b[0;34m\"BPM (Hz)\"\u001b[0m\u001b[0;34m)\u001b[0m\u001b[0;34m\u001b[0m\u001b[0m\n\u001b[1;32m      4\u001b[0m \u001b[0max\u001b[0m \u001b[0;34m=\u001b[0m \u001b[0msns\u001b[0m\u001b[0;34m.\u001b[0m\u001b[0mkdeplot\u001b[0m\u001b[0;34m(\u001b[0m\u001b[0mu\u001b[0m\u001b[0;34m[\u001b[0m\u001b[0;34m'f1'\u001b[0m\u001b[0;34m]\u001b[0m\u001b[0;34m,\u001b[0m \u001b[0mu\u001b[0m\u001b[0;34m[\u001b[0m\u001b[0;34m'f2'\u001b[0m\u001b[0;34m]\u001b[0m\u001b[0;34m,\u001b[0m \u001b[0mcmap\u001b[0m\u001b[0;34m=\u001b[0m\u001b[0;34m\"Blues\"\u001b[0m\u001b[0;34m,\u001b[0m \u001b[0mshade\u001b[0m\u001b[0;34m=\u001b[0m\u001b[0;32mTrue\u001b[0m\u001b[0;34m,\u001b[0m \u001b[0mshade_lowest\u001b[0m\u001b[0;34m=\u001b[0m\u001b[0;32mFalse\u001b[0m\u001b[0;34m)\u001b[0m\u001b[0;34m\u001b[0m\u001b[0m\n",
      "\u001b[0;31mNameError\u001b[0m: name 'ar' is not defined"
     ]
    }
   ],
   "source": [
    "ax = sns.kdeplot(ar['f1'], ar['f2'], cmap=\"Reds\", shade=True, shade_lowest=False)\n",
    "plt.ylabel(\"BPM (Hz)\")\n",
    "plt.xlabel(\"BPM (Hz)\")\n",
    "ax = sns.kdeplot(u['f1'], u['f2'], cmap=\"Blues\", shade=True, shade_lowest=False)"
   ]
  },
  {
   "cell_type": "markdown",
   "metadata": {},
   "source": [
    "### <font color = \"blue\"> QUESTION #8 </font>\n",
    "\n",
    "Describe and compare the distribution of the two vowels. What seems to be the average value of each vowel? Whats the min and max?"
   ]
  },
  {
   "cell_type": "markdown",
   "metadata": {},
   "source": [
    "__Answer:__"
   ]
  },
  {
   "cell_type": "markdown",
   "metadata": {},
   "source": [
    "Bringing it all together, we can see the distributions of various corner vowels in the following plot. Run the cell below!\n"
   ]
  },
  {
   "cell_type": "code",
   "execution_count": 172,
   "metadata": {},
   "outputs": [
    {
     "ename": "NameError",
     "evalue": "name 'ar' is not defined",
     "output_type": "error",
     "traceback": [
      "\u001b[0;31m---------------------------------------------------------------------------\u001b[0m",
      "\u001b[0;31mNameError\u001b[0m                                 Traceback (most recent call last)",
      "\u001b[0;32m<ipython-input-172-87f079e0964a>\u001b[0m in \u001b[0;36m<module>\u001b[0;34m()\u001b[0m\n\u001b[1;32m      2\u001b[0m \u001b[0mplt\u001b[0m\u001b[0;34m.\u001b[0m\u001b[0mxlim\u001b[0m\u001b[0;34m(\u001b[0m\u001b[0;36m2800\u001b[0m\u001b[0;34m,\u001b[0m \u001b[0;36m750\u001b[0m\u001b[0;34m)\u001b[0m\u001b[0;34m\u001b[0m\u001b[0m\n\u001b[1;32m      3\u001b[0m \u001b[0;34m\u001b[0m\u001b[0m\n\u001b[0;32m----> 4\u001b[0;31m \u001b[0max\u001b[0m \u001b[0;34m=\u001b[0m \u001b[0msns\u001b[0m\u001b[0;34m.\u001b[0m\u001b[0mkdeplot\u001b[0m\u001b[0;34m(\u001b[0m\u001b[0mar\u001b[0m\u001b[0;34m[\u001b[0m\u001b[0;34m'f2'\u001b[0m\u001b[0;34m]\u001b[0m\u001b[0;34m,\u001b[0m \u001b[0mar\u001b[0m\u001b[0;34m[\u001b[0m\u001b[0;34m'f1'\u001b[0m\u001b[0;34m]\u001b[0m\u001b[0;34m,\u001b[0m \u001b[0mcmap\u001b[0m\u001b[0;34m=\u001b[0m\u001b[0;34m\"Reds\"\u001b[0m\u001b[0;34m)\u001b[0m\u001b[0;34m\u001b[0m\u001b[0m\n\u001b[0m\u001b[1;32m      5\u001b[0m \u001b[0max\u001b[0m \u001b[0;34m=\u001b[0m \u001b[0msns\u001b[0m\u001b[0;34m.\u001b[0m\u001b[0mkdeplot\u001b[0m\u001b[0;34m(\u001b[0m\u001b[0mi\u001b[0m\u001b[0;34m[\u001b[0m\u001b[0;34m'f2'\u001b[0m\u001b[0;34m]\u001b[0m\u001b[0;34m,\u001b[0m \u001b[0mi\u001b[0m\u001b[0;34m[\u001b[0m\u001b[0;34m'f1'\u001b[0m\u001b[0;34m]\u001b[0m\u001b[0;34m,\u001b[0m \u001b[0mcmap\u001b[0m\u001b[0;34m=\u001b[0m\u001b[0;34m\"Blues\"\u001b[0m\u001b[0;34m)\u001b[0m\u001b[0;34m\u001b[0m\u001b[0m\n\u001b[1;32m      6\u001b[0m \u001b[0max\u001b[0m \u001b[0;34m=\u001b[0m \u001b[0msns\u001b[0m\u001b[0;34m.\u001b[0m\u001b[0mkdeplot\u001b[0m\u001b[0;34m(\u001b[0m\u001b[0ma\u001b[0m\u001b[0;34m[\u001b[0m\u001b[0;34m'f2'\u001b[0m\u001b[0;34m]\u001b[0m\u001b[0;34m,\u001b[0m \u001b[0ma\u001b[0m\u001b[0;34m[\u001b[0m\u001b[0;34m'f1'\u001b[0m\u001b[0;34m]\u001b[0m\u001b[0;34m,\u001b[0m \u001b[0mcmap\u001b[0m\u001b[0;34m=\u001b[0m\u001b[0;34m\"Greens\"\u001b[0m\u001b[0;34m)\u001b[0m\u001b[0;34m\u001b[0m\u001b[0m\n",
      "\u001b[0;31mNameError\u001b[0m: name 'ar' is not defined"
     ]
    },
    {
     "data": {
      "image/png": "[encoded data removed]",
      "text/plain": [
       "<matplotlib.figure.Figure at 0x11d566cf8>"
      ]
     },
     "metadata": {},
     "output_type": "display_data"
    }
   ],
   "source": [
    "plt.ylim(920, 200)\n",
    "plt.xlim(2800, 750)\n",
    "\n",
    "ax = sns.kdeplot(ar['f2'], ar['f1'], cmap=\"Reds\")\n",
    "ax = sns.kdeplot(i['f2'], i['f1'], cmap=\"Blues\")\n",
    "ax = sns.kdeplot(a['f2'], a['f1'], cmap=\"Greens\")\n",
    "ax = sns.kdeplot(u['f2'], u['f1'], cmap=\"Greys\")\n",
    "\n",
    "plt.ylabel('f1')\n",
    "plt.xlabel('f2')"
   ]
  },
  {
   "cell_type": "markdown",
   "metadata": {},
   "source": [
    "# <font color = red> 6. Drawing Our Own Vowel Space!"
   ]
  },
  {
   "cell_type": "markdown",
   "metadata": {},
   "source": [
    "##### NOTE: WE'RE ASSUMING THAT THE FILE UPLOADED BY THE 2017 CLASS WILL FOLLOW THE IPA FORMAT BUT FOR THE SAKE OF A PLACEHOLDER WE WILL USE A FILE FROM THE TIMIT DATA AND CONVERT IT TO IPA FORMAT. THOSE CELLS CAN BE DELETED LATER ON\n",
    "\n",
    "(DELETE THIS CELL LATER ON)"
   ]
  },
  {
   "cell_type": "markdown",
   "metadata": {},
   "source": [
    "## 6.1 Loading the Data"
   ]
  },
  {
   "cell_type": "markdown",
   "metadata": {},
   "source": [
    "Now that we have analyzed the TIMIT data, its time for us to make our own vowel space! First load our data file by replacing the ellipses, with the file name."
   ]
  },
  {
   "cell_type": "code",
   "execution_count": 173,
   "metadata": {},
   "outputs": [
    {
     "data": {
      "text/html": [
       "<div>\n",
       "<style>\n",
       "    .dataframe thead tr:only-child th {\n",
       "        text-align: right;\n",
       "    }\n",
       "\n",
       "    .dataframe thead th {\n",
       "        text-align: left;\n",
       "    }\n",
       "\n",
       "    .dataframe tbody tr th {\n",
       "        vertical-align: top;\n",
       "    }\n",
       "</style>\n",
       "<table border=\"1\" class=\"dataframe\">\n",
       "  <thead>\n",
       "    <tr style=\"text-align: right;\">\n",
       "      <th></th>\n",
       "      <th>speaker</th>\n",
       "      <th>gender</th>\n",
       "      <th>file</th>\n",
       "      <th>t</th>\n",
       "      <th>word</th>\n",
       "      <th>vowel</th>\n",
       "      <th>stress</th>\n",
       "      <th>duration</th>\n",
       "      <th>f1</th>\n",
       "      <th>f2</th>\n",
       "      <th>f3</th>\n",
       "      <th>f0</th>\n",
       "    </tr>\n",
       "  </thead>\n",
       "  <tbody>\n",
       "    <tr>\n",
       "      <th>0</th>\n",
       "      <td>fcjf0</td>\n",
       "      <td>female</td>\n",
       "      <td>sa1</td>\n",
       "      <td>0.3225</td>\n",
       "      <td>SHE</td>\n",
       "      <td>IY</td>\n",
       "      <td>1</td>\n",
       "      <td>0.08</td>\n",
       "      <td>486.2</td>\n",
       "      <td>2467.9</td>\n",
       "      <td>3185.1</td>\n",
       "      <td>244.9</td>\n",
       "    </tr>\n",
       "    <tr>\n",
       "      <th>1</th>\n",
       "      <td>fcjf0</td>\n",
       "      <td>female</td>\n",
       "      <td>sa1</td>\n",
       "      <td>0.5025</td>\n",
       "      <td>HAD</td>\n",
       "      <td>AE</td>\n",
       "      <td>1</td>\n",
       "      <td>0.10</td>\n",
       "      <td>595.1</td>\n",
       "      <td>2067.0</td>\n",
       "      <td>2976.7</td>\n",
       "      <td>241.6</td>\n",
       "    </tr>\n",
       "    <tr>\n",
       "      <th>2</th>\n",
       "      <td>fcjf0</td>\n",
       "      <td>female</td>\n",
       "      <td>sa1</td>\n",
       "      <td>0.6825</td>\n",
       "      <td>YOUR</td>\n",
       "      <td>UH</td>\n",
       "      <td>1</td>\n",
       "      <td>0.04</td>\n",
       "      <td>468.7</td>\n",
       "      <td>1956.1</td>\n",
       "      <td>3061.4</td>\n",
       "      <td>201.9</td>\n",
       "    </tr>\n",
       "    <tr>\n",
       "      <th>3</th>\n",
       "      <td>fcjf0</td>\n",
       "      <td>female</td>\n",
       "      <td>sa1</td>\n",
       "      <td>0.8525</td>\n",
       "      <td>DARK</td>\n",
       "      <td>AA</td>\n",
       "      <td>1</td>\n",
       "      <td>0.10</td>\n",
       "      <td>740.4</td>\n",
       "      <td>1674.1</td>\n",
       "      <td>2767.3</td>\n",
       "      <td>221.5</td>\n",
       "    </tr>\n",
       "    <tr>\n",
       "      <th>4</th>\n",
       "      <td>fcjf0</td>\n",
       "      <td>female</td>\n",
       "      <td>sa1</td>\n",
       "      <td>1.1975</td>\n",
       "      <td>SUIT</td>\n",
       "      <td>UW</td>\n",
       "      <td>1</td>\n",
       "      <td>0.17</td>\n",
       "      <td>464.0</td>\n",
       "      <td>1698.0</td>\n",
       "      <td>2904.9</td>\n",
       "      <td>232.6</td>\n",
       "    </tr>\n",
       "    <tr>\n",
       "      <th>5</th>\n",
       "      <td>fcjf0</td>\n",
       "      <td>female</td>\n",
       "      <td>sa1</td>\n",
       "      <td>1.3275</td>\n",
       "      <td>IN</td>\n",
       "      <td>AH</td>\n",
       "      <td>0</td>\n",
       "      <td>0.03</td>\n",
       "      <td>501.4</td>\n",
       "      <td>1929.1</td>\n",
       "      <td>2874.8</td>\n",
       "      <td>269.0</td>\n",
       "    </tr>\n",
       "    <tr>\n",
       "      <th>6</th>\n",
       "      <td>fcjf0</td>\n",
       "      <td>female</td>\n",
       "      <td>sa1</td>\n",
       "      <td>1.5525</td>\n",
       "      <td>GREASY</td>\n",
       "      <td>IY</td>\n",
       "      <td>1</td>\n",
       "      <td>0.04</td>\n",
       "      <td>431.5</td>\n",
       "      <td>2186.3</td>\n",
       "      <td>2858.7</td>\n",
       "      <td>207.8</td>\n",
       "    </tr>\n",
       "    <tr>\n",
       "      <th>7</th>\n",
       "      <td>fcjf0</td>\n",
       "      <td>female</td>\n",
       "      <td>sa1</td>\n",
       "      <td>1.7325</td>\n",
       "      <td>GREASY</td>\n",
       "      <td>IY</td>\n",
       "      <td>0</td>\n",
       "      <td>0.06</td>\n",
       "      <td>431.1</td>\n",
       "      <td>1368.3</td>\n",
       "      <td>2896.4</td>\n",
       "      <td>223.5</td>\n",
       "    </tr>\n",
       "    <tr>\n",
       "      <th>8</th>\n",
       "      <td>fcjf0</td>\n",
       "      <td>female</td>\n",
       "      <td>sa1</td>\n",
       "      <td>1.9175</td>\n",
       "      <td>WASH</td>\n",
       "      <td>AA</td>\n",
       "      <td>1</td>\n",
       "      <td>0.11</td>\n",
       "      <td>687.4</td>\n",
       "      <td>1309.6</td>\n",
       "      <td>2681.4</td>\n",
       "      <td>191.7</td>\n",
       "    </tr>\n",
       "    <tr>\n",
       "      <th>9</th>\n",
       "      <td>fcjf0</td>\n",
       "      <td>female</td>\n",
       "      <td>sa1</td>\n",
       "      <td>2.1775</td>\n",
       "      <td>WATER</td>\n",
       "      <td>AO</td>\n",
       "      <td>1</td>\n",
       "      <td>0.09</td>\n",
       "      <td>568.0</td>\n",
       "      <td>1105.9</td>\n",
       "      <td>2852.3</td>\n",
       "      <td>182.3</td>\n",
       "    </tr>\n",
       "  </tbody>\n",
       "</table>\n",
       "</div>"
      ],
      "text/plain": [
       "  speaker  gender file       t    word vowel  stress  duration     f1      f2  \\\n",
       "0   fcjf0  female  sa1  0.3225     SHE    IY       1      0.08  486.2  2467.9   \n",
       "1   fcjf0  female  sa1  0.5025     HAD    AE       1      0.10  595.1  2067.0   \n",
       "2   fcjf0  female  sa1  0.6825    YOUR    UH       1      0.04  468.7  1956.1   \n",
       "3   fcjf0  female  sa1  0.8525    DARK    AA       1      0.10  740.4  1674.1   \n",
       "4   fcjf0  female  sa1  1.1975    SUIT    UW       1      0.17  464.0  1698.0   \n",
       "5   fcjf0  female  sa1  1.3275      IN    AH       0      0.03  501.4  1929.1   \n",
       "6   fcjf0  female  sa1  1.5525  GREASY    IY       1      0.04  431.5  2186.3   \n",
       "7   fcjf0  female  sa1  1.7325  GREASY    IY       0      0.06  431.1  1368.3   \n",
       "8   fcjf0  female  sa1  1.9175    WASH    AA       1      0.11  687.4  1309.6   \n",
       "9   fcjf0  female  sa1  2.1775   WATER    AO       1      0.09  568.0  1105.9   \n",
       "\n",
       "       f3     f0  \n",
       "0  3185.1  244.9  \n",
       "1  2976.7  241.6  \n",
       "2  3061.4  201.9  \n",
       "3  2767.3  221.5  \n",
       "4  2904.9  232.6  \n",
       "5  2874.8  269.0  \n",
       "6  2858.7  207.8  \n",
       "7  2896.4  223.5  \n",
       "8  2681.4  191.7  \n",
       "9  2852.3  182.3  "
      ]
     },
     "execution_count": 173,
     "metadata": {},
     "output_type": "execute_result"
    }
   ],
   "source": [
    "Fall2017_file = 'data/vowel_midpoints_dr1.txt' #CHANGE TO elipses\n",
    "Fa17 = pd.read_csv(Fall2017_file, sep= \"\\t\").reset_index(drop=True)\n",
    "Fa17.head(10)"
   ]
  },
  {
   "cell_type": "code",
   "execution_count": 174,
   "metadata": {
    "collapsed": true
   },
   "outputs": [],
   "source": [
    "##Delte this cell later\n",
    "vows = Fa17[\"vowel\"]\n",
    "IPAdict = {\"AO\" : \"ɔ\", \"AA\" : \"ɑ\", \"IY\" : \"i\", \"UW\" : \"u\", \"EH\" : \"ɛ\", \"IH\" : \"ɪ\", \"UH\":\"ʊ\", \"AH\": \"ʌ\", \"AX\" : \"ə\", \"AE\":\"æ\", \"EY\" :\"eɪ\", \"AY\": \"aɪ\", \"OW\":\"oʊ\", \"AW\":\"aʊ\", \"OY\" :\"ɔɪ\", \"ER\":\"ɝ\"}\n",
    "newVows = []\n",
    "for i in vows:\n",
    "    newVows += [IPAdict[i]]\n",
    "Fa17['IPA'] = newVows"
   ]
  },
  {
   "cell_type": "markdown",
   "metadata": {},
   "source": [
    "As before, we group all the rows by their vowel and calculate the mean for each column attribute for each vowel.\n"
   ]
  },
  {
   "cell_type": "code",
   "execution_count": 175,
   "metadata": {},
   "outputs": [
    {
     "data": {
      "text/html": [
       "<div>\n",
       "<style>\n",
       "    .dataframe thead tr:only-child th {\n",
       "        text-align: right;\n",
       "    }\n",
       "\n",
       "    .dataframe thead th {\n",
       "        text-align: left;\n",
       "    }\n",
       "\n",
       "    .dataframe tbody tr th {\n",
       "        vertical-align: top;\n",
       "    }\n",
       "</style>\n",
       "<table border=\"1\" class=\"dataframe\">\n",
       "  <thead>\n",
       "    <tr style=\"text-align: right;\">\n",
       "      <th></th>\n",
       "      <th>t</th>\n",
       "      <th>stress</th>\n",
       "      <th>duration</th>\n",
       "      <th>f1</th>\n",
       "      <th>f2</th>\n",
       "      <th>f3</th>\n",
       "      <th>f0</th>\n",
       "      <th>logf1</th>\n",
       "      <th>logf2</th>\n",
       "    </tr>\n",
       "    <tr>\n",
       "      <th>IPA</th>\n",
       "      <th></th>\n",
       "      <th></th>\n",
       "      <th></th>\n",
       "      <th></th>\n",
       "      <th></th>\n",
       "      <th></th>\n",
       "      <th></th>\n",
       "      <th></th>\n",
       "      <th></th>\n",
       "    </tr>\n",
       "  </thead>\n",
       "  <tbody>\n",
       "    <tr>\n",
       "      <th>aɪ</th>\n",
       "      <td>1.635594</td>\n",
       "      <td>1.054163</td>\n",
       "      <td>0.134256</td>\n",
       "      <td>681.465885</td>\n",
       "      <td>1617.320331</td>\n",
       "      <td>2499.876960</td>\n",
       "      <td>135.767785</td>\n",
       "      <td>6.510240</td>\n",
       "      <td>7.378111</td>\n",
       "    </tr>\n",
       "    <tr>\n",
       "      <th>aʊ</th>\n",
       "      <td>1.448535</td>\n",
       "      <td>1.048387</td>\n",
       "      <td>0.156129</td>\n",
       "      <td>715.092608</td>\n",
       "      <td>1347.778226</td>\n",
       "      <td>2545.013978</td>\n",
       "      <td>144.840457</td>\n",
       "      <td>6.564378</td>\n",
       "      <td>7.195039</td>\n",
       "    </tr>\n",
       "    <tr>\n",
       "      <th>eɪ</th>\n",
       "      <td>1.555879</td>\n",
       "      <td>1.144261</td>\n",
       "      <td>0.113957</td>\n",
       "      <td>491.265252</td>\n",
       "      <td>2032.372756</td>\n",
       "      <td>2625.841760</td>\n",
       "      <td>140.674900</td>\n",
       "      <td>6.185279</td>\n",
       "      <td>7.608959</td>\n",
       "    </tr>\n",
       "    <tr>\n",
       "      <th>i</th>\n",
       "      <td>1.464642</td>\n",
       "      <td>0.495423</td>\n",
       "      <td>0.092407</td>\n",
       "      <td>427.340202</td>\n",
       "      <td>2043.482354</td>\n",
       "      <td>2617.781014</td>\n",
       "      <td>146.176357</td>\n",
       "      <td>6.036894</td>\n",
       "      <td>7.608724</td>\n",
       "    </tr>\n",
       "    <tr>\n",
       "      <th>oʊ</th>\n",
       "      <td>1.234788</td>\n",
       "      <td>1.009368</td>\n",
       "      <td>0.116923</td>\n",
       "      <td>553.662717</td>\n",
       "      <td>1155.284637</td>\n",
       "      <td>2557.553349</td>\n",
       "      <td>148.857471</td>\n",
       "      <td>6.303124</td>\n",
       "      <td>7.031348</td>\n",
       "    </tr>\n",
       "  </tbody>\n",
       "</table>\n",
       "</div>"
      ],
      "text/plain": [
       "            t    stress  duration          f1           f2           f3  \\\n",
       "IPA                                                                       \n",
       "aɪ   1.635594  1.054163  0.134256  681.465885  1617.320331  2499.876960   \n",
       "aʊ   1.448535  1.048387  0.156129  715.092608  1347.778226  2545.013978   \n",
       "eɪ   1.555879  1.144261  0.113957  491.265252  2032.372756  2625.841760   \n",
       "i    1.464642  0.495423  0.092407  427.340202  2043.482354  2617.781014   \n",
       "oʊ   1.234788  1.009368  0.116923  553.662717  1155.284637  2557.553349   \n",
       "\n",
       "             f0     logf1     logf2  \n",
       "IPA                                  \n",
       "aɪ   135.767785  6.510240  7.378111  \n",
       "aʊ   144.840457  6.564378  7.195039  \n",
       "eɪ   140.674900  6.185279  7.608959  \n",
       "i    146.176357  6.036894  7.608724  \n",
       "oʊ   148.857471  6.303124  7.031348  "
      ]
     },
     "execution_count": 175,
     "metadata": {},
     "output_type": "execute_result"
    }
   ],
   "source": [
    "Fa17avgs = Fa17.groupby('IPA').mean()\n",
    "Fa17avgs.head()\n",
    "\n",
    "logf1 = []\n",
    "logf2 = []\n",
    "for i in Fa17avgs[\"f1\"]:\n",
    "    logf1 += [math.log(i)]\n",
    "for j in Fa17avgs[\"f2\"]:\n",
    "    logf2 += [math.log(j)]\n",
    "Fa17avgs[\"logf1\"] = logf1\n",
    "Fa17avgs[\"logf2\"] = logf2\n",
    "newavgs = timit.groupby('IPA').mean()\n",
    "newavgs.head()"
   ]
  },
  {
   "cell_type": "markdown",
   "metadata": {},
   "source": [
    "## 6.2 Creating Our Vowel Space"
   ]
  },
  {
   "cell_type": "markdown",
   "metadata": {},
   "source": [
    "As we saw before, the visualization of our vowel space looked more accurate using logarithmic axes. Run the cell below to plot our vowel space with logarithmic axes."
   ]
  },
  {
   "cell_type": "code",
   "execution_count": 176,
   "metadata": {},
   "outputs": [
    {
     "data": {
      "text/plain": [
       "<matplotlib.text.Text at 0x11c0a1240>"
      ]
     },
     "execution_count": 176,
     "metadata": {},
     "output_type": "execute_result"
    },
    {
     "data": {
      "image/png": "[encoded data removed]",
      "text/plain": [
       "<matplotlib.figure.Figure at 0x11d6d5dd8>"
      ]
     },
     "metadata": {},
     "output_type": "display_data"
    }
   ],
   "source": [
    "plt.gca().invert_yaxis()\n",
    "plt.gca().invert_xaxis()\n",
    "\n",
    "for i in range(len(avgs)):\n",
    "    plt.scatter(newavgs.logf2[i], newavgs.logf1[i], marker=r\"$ {} $\".format(newavgs.index[i]), s=1000)\n",
    "    \n",
    "plt.ylabel('log(f1)')\n",
    "plt.xlabel('log(f2)')"
   ]
  },
  {
   "cell_type": "markdown",
   "metadata": {},
   "source": [
    "### <font color = \"blue\"> QUESTION #9 </font>\n",
    "\n",
    "Describe the resulting vowel space. How does it compare with the vowel space from the TIMIT data?"
   ]
  },
  {
   "cell_type": "markdown",
   "metadata": {},
   "source": [
    "__Answer:__"
   ]
  },
  {
   "cell_type": "markdown",
   "metadata": {},
   "source": [
    "### <font color = \"blue\"> QUESTION #10 </font>\n",
    "\n",
    "What may be the cause for any differences between our vowel space and the one constructed using the TIMIT data? Do you notice any outliers or some points that seem off?"
   ]
  },
  {
   "cell_type": "markdown",
   "metadata": {},
   "source": [
    "__Answer:__"
   ]
  },
  {
   "cell_type": "markdown",
   "metadata": {},
   "source": [
    "# 7. Making Your Own Predictions"
   ]
  },
  {
   "cell_type": "markdown",
   "metadata": {},
   "source": [
    "You have created your own vowel space and explored the dataset in the examples above. Now, it is time to make your own predictions based off of the information learned."
   ]
  },
  {
   "cell_type": "markdown",
   "metadata": {},
   "source": [
    "## 7.1 Predict the Vowel based off Gender + Height"
   ]
  },
  {
   "cell_type": "markdown",
   "metadata": {},
   "source": [
    "The function below is intended to output the closest vowel based off of the gender and vowel heights you input into the parenthesis."
   ]
  },
  {
   "cell_type": "code",
   "execution_count": 307,
   "metadata": {},
   "outputs": [],
   "source": [
    "def vowel_predictor(str_gender, f2, f1):\n",
    "    if str_gender == \"female\":\n",
    "        fem_DF = timit[timit[\"gender\"]==\"female\"]\n",
    "        closest_f2 = min(timit[\"f2\"], key=lambda x:abs(x-f2))\n",
    "        fem_row = fem_DF[fem_DF[\"f2\"] == closest_f2]\n",
    "        closest_f1 = min(fem_row[\"f1\"], key=lambda x:abs(x-f1))\n",
    "        pred = fem_row[fem_row[\"f1\"] == closest_f1]\n",
    "        return pred.IPA\n",
    "    if str_gender == \"male\":\n",
    "        male_DF = timit[timit[\"gender\"]==\"male\"]\n",
    "        closest_f2 = min(timit[\"f2\"], key=lambda x:abs(x-f2))\n",
    "        male_row = male_DF[male_DF[\"f2\"] == closest_f2]\n",
    "        closest_f1 = min(male_row[\"f1\"], key=lambda x:abs(x-f1))\n",
    "        pred = male_row[male_row[\"f1\"] == closest_f1]\n",
    "        return pred.IPA      "
   ]
  },
  {
   "cell_type": "markdown",
   "metadata": {},
   "source": [
    "## Try the function with your own data, here!\n",
    "\n",
    "HINT: Don't forget to input the gender as a string"
   ]
  },
  {
   "cell_type": "code",
   "execution_count": 309,
   "metadata": {},
   "outputs": [
    {
     "ename": "NameError",
     "evalue": "name 'str_gender' is not defined",
     "output_type": "error",
     "traceback": [
      "\u001b[0;31m---------------------------------------------------------------------------\u001b[0m",
      "\u001b[0;31mNameError\u001b[0m                                 Traceback (most recent call last)",
      "\u001b[0;32m<ipython-input-309-5610c5114b4f>\u001b[0m in \u001b[0;36m<module>\u001b[0;34m()\u001b[0m\n\u001b[0;32m----> 1\u001b[0;31m \u001b[0mvowel_predictor\u001b[0m\u001b[0;34m(\u001b[0m\u001b[0mstr_gender\u001b[0m\u001b[0;34m,\u001b[0m \u001b[0mf2\u001b[0m\u001b[0;34m,\u001b[0m \u001b[0mf1\u001b[0m\u001b[0;34m)\u001b[0m\u001b[0;34m\u001b[0m\u001b[0m\n\u001b[0m",
      "\u001b[0;31mNameError\u001b[0m: name 'str_gender' is not defined"
     ]
    }
   ],
   "source": [
    "vowel_predictor(str_gender, f2, f1)"
   ]
  },
  {
   "cell_type": "code",
   "execution_count": null,
   "metadata": {
    "collapsed": true
   },
   "outputs": [],
   "source": []
  }
 ],
 "metadata": {
  "anaconda-cloud": {},
  "kernelspec": {
   "display_name": "Python 3",
   "language": "python",
   "name": "python3"
  },
  "language_info": {
   "codemirror_mode": {
    "name": "ipython",
    "version": 3
   },
   "file_extension": ".py",
   "mimetype": "text/x-python",
   "name": "python",
   "nbconvert_exporter": "python",
   "pygments_lexer": "ipython3",
   "version": "3.6.2"
  }
 },
 "nbformat": 4,
 "nbformat_minor": 1
}
